{
 "cells": [
  {
   "cell_type": "markdown",
   "metadata": {},
   "source": [
    "![Logo EHTP](ehtplogo.jpg)\n",
    "\n",
    "# <div style=\"text-align:center\"> EHTP <font color='green'> -  </font>  Master Spécialisé Data Engineering 2019/2020 </div>\n",
    "# <div style=\"text-align:center\"> Module <font color='green'> 3 </font>  : Python for Data Science </div>\n",
    "\n",
    "### <div style=\"text-align:center\"> <font color='green'> Author </font>  : El Missaoui Issam </div>"
   ]
  },
  {
   "cell_type": "markdown",
   "metadata": {},
   "source": [
    "# <br> <font color='green'> -  Capstone Project Introduction    -  </font>                    "
   ]
  },
  {
   "cell_type": "markdown",
   "metadata": {},
   "source": [
    "The present project consists in processing and analyzing a dataset from the 2004 population and housing census of the Marrakech Tansift Al Haouz region containing the demographic characteristics for the communes, using the Python language and Web Dynamic Scarping and Crawling to collect 2014 data and compare to 2004 data."
   ]
  },
  {
   "cell_type": "markdown",
   "metadata": {},
   "source": [
    "For this, we will use the following libraries: \n",
    "\n",
    "- Numpy: Processing\n",
    "- Pandas: DataFrame and Series Processing\n",
    "- Matplotlib: Visualization\n",
    "- Seaborn (optional): Visualization\n",
    "- Plotly & Cufflinks : Interactive Visualization\n",
    "- Selenium : Web Scraping and automation."
   ]
  },
  {
   "cell_type": "markdown",
   "metadata": {},
   "source": [
    "We have two files in hand; the first is our main dataset and the second is an auxiliary giving the code and names of the provinces: \n",
    "    1. Recensement_RGPH2004_RegionMTA.xlsx\n",
    "    2. Code_Nom_Province.csv\n",
    "    "
   ]
  },
  {
   "cell_type": "markdown",
   "metadata": {},
   "source": [
    "Our dataset contains the following fields: "
   ]
  },
  {
   "cell_type": "markdown",
   "metadata": {},
   "source": [
    "- <B> ID </B> : Numerical identifier assigned to the commune\n",
    "- <B>  Nom_Commune </B> \t: Name of the commune\n",
    "- <B>  Code_Commune </B> \t: Code of the commune\n",
    "- <B> Type_Commune </B> \t: Type of the commune (urban or rural)\n",
    "- <B> Surface_ha </B> \t: Surface of the commune in hectare\n",
    "- <B> Population </B> \t: Population of the commune \n",
    "- <B> Pop_inf6_pc </B> \t: Percentage of the population under 6 years of age\n",
    "- <B> Pop_615_pc </B> \t: Percentage of the population between 6 and 15 years old\n",
    "- <B> Pop_1560_pc </B> \t: Percentage of the population between 15 and 60 years old\n",
    "- <B> Pop_sup60_pc </B> \t:  Percentage of the population over 60 years of age\n",
    "- <B>  Celebataire_pc </B> \t: Percentage of the population with a single marital status\n",
    "- <B> Marie_pc\t</B> :  Percentage of population with married status\n",
    "- <B> Mrge_Autre_pc </B> \t: Percentage of population with other marital status\n",
    "- <B> Age_Moyen_1marriage </B> \t: Average age at first marriage\n",
    "- <B> Taux_Analphabetisme </B> \t: Illiteracy rate of the commune's population\n",
    "- <B> Taux_activite </B> \t: Activity rate of the population of the commune"
   ]
  },
  {
   "cell_type": "markdown",
   "metadata": {},
   "source": [
    "The remainder of this notebook is presented in a question-and-answer format."
   ]
  },
  {
   "cell_type": "markdown",
   "metadata": {},
   "source": [
    "# <br> <font color='green'> - Partie 1 -   </font>                    "
   ]
  },
  {
   "cell_type": "markdown",
   "metadata": {},
   "source": [
    "## Question 1"
   ]
  },
  {
   "cell_type": "markdown",
   "metadata": {},
   "source": [
    "####  Data import and configuration"
   ]
  },
  {
   "cell_type": "markdown",
   "metadata": {},
   "source": [
    "import processing and visualization libraries "
   ]
  },
  {
   "cell_type": "code",
   "execution_count": 2,
   "metadata": {},
   "outputs": [
    {
     "data": {
      "text/html": [
       "        <script type=\"text/javascript\">\n",
       "        window.PlotlyConfig = {MathJaxConfig: 'local'};\n",
       "        if (window.MathJax) {MathJax.Hub.Config({SVG: {font: \"STIX-Web\"}});}\n",
       "        if (typeof require !== 'undefined') {\n",
       "        require.undef(\"plotly\");\n",
       "        requirejs.config({\n",
       "            paths: {\n",
       "                'plotly': ['https://cdn.plot.ly/plotly-latest.min']\n",
       "            }\n",
       "        });\n",
       "        require(['plotly'], function(Plotly) {\n",
       "            window._Plotly = Plotly;\n",
       "        });\n",
       "        }\n",
       "        </script>\n",
       "        "
      ]
     },
     "metadata": {},
     "output_type": "display_data"
    },
    {
     "data": {
      "text/html": [
       "        <script type=\"text/javascript\">\n",
       "        window.PlotlyConfig = {MathJaxConfig: 'local'};\n",
       "        if (window.MathJax) {MathJax.Hub.Config({SVG: {font: \"STIX-Web\"}});}\n",
       "        if (typeof require !== 'undefined') {\n",
       "        require.undef(\"plotly\");\n",
       "        requirejs.config({\n",
       "            paths: {\n",
       "                'plotly': ['https://cdn.plot.ly/plotly-latest.min']\n",
       "            }\n",
       "        });\n",
       "        require(['plotly'], function(Plotly) {\n",
       "            window._Plotly = Plotly;\n",
       "        });\n",
       "        }\n",
       "        </script>\n",
       "        "
      ]
     },
     "metadata": {},
     "output_type": "display_data"
    }
   ],
   "source": [
    "import pandas as pd\n",
    "import numpy as np\n",
    "import matplotlib.pyplot as plt \n",
    "\n",
    "import seaborn as sns\n",
    "import requests\n",
    "\n",
    "from plotly import __version__\n",
    "from plotly.offline import download_plotlyjs, init_notebook_mode, plot, iplot\n",
    "\n",
    "import cufflinks as cf\n",
    "import plotly.express as px\n",
    "\n",
    "init_notebook_mode(connected=True)\n",
    "cf.go_offline()"
   ]
  },
  {
   "cell_type": "markdown",
   "metadata": {},
   "source": [
    "set %matplotlib inline"
   ]
  },
  {
   "cell_type": "code",
   "execution_count": 5,
   "metadata": {},
   "outputs": [],
   "source": [
    "%matplotlib inline"
   ]
  },
  {
   "cell_type": "markdown",
   "metadata": {},
   "source": [
    "Load the excel file in a dataframe 'dfc'."
   ]
  },
  {
   "cell_type": "code",
   "execution_count": 6,
   "metadata": {},
   "outputs": [],
   "source": [
    "dfc = pd.read_excel('Recensement_RGPH2004_RegionMTA.xlsx')"
   ]
  },
  {
   "cell_type": "markdown",
   "metadata": {},
   "source": [
    "## Question 2"
   ]
  },
  {
   "cell_type": "markdown",
   "metadata": {},
   "source": [
    "Show the first ten rows."
   ]
  },
  {
   "cell_type": "code",
   "execution_count": 7,
   "metadata": {},
   "outputs": [
    {
     "data": {
      "text/html": [
       "<div>\n",
       "<style scoped>\n",
       "    .dataframe tbody tr th:only-of-type {\n",
       "        vertical-align: middle;\n",
       "    }\n",
       "\n",
       "    .dataframe tbody tr th {\n",
       "        vertical-align: top;\n",
       "    }\n",
       "\n",
       "    .dataframe thead th {\n",
       "        text-align: right;\n",
       "    }\n",
       "</style>\n",
       "<table border=\"1\" class=\"dataframe\">\n",
       "  <thead>\n",
       "    <tr style=\"text-align: right;\">\n",
       "      <th></th>\n",
       "      <th>ID</th>\n",
       "      <th>Nom_Commune</th>\n",
       "      <th>Code_Commune</th>\n",
       "      <th>Type_Commune</th>\n",
       "      <th>Surface_ha</th>\n",
       "      <th>Population</th>\n",
       "      <th>Pop_inf6_pc</th>\n",
       "      <th>Pop_615_pc</th>\n",
       "      <th>Pop_1560_pc</th>\n",
       "      <th>Pop_sup60_pc</th>\n",
       "      <th>Celebataire_pc</th>\n",
       "      <th>Marie_pc</th>\n",
       "      <th>Mrge_Autre_pc</th>\n",
       "      <th>Age_Moyen_1marriage</th>\n",
       "      <th>Taux_Analphabetisme</th>\n",
       "      <th>Taux_activite</th>\n",
       "    </tr>\n",
       "  </thead>\n",
       "  <tbody>\n",
       "    <tr>\n",
       "      <th>0</th>\n",
       "      <td>1</td>\n",
       "      <td>ABADOU</td>\n",
       "      <td>041.03.01</td>\n",
       "      <td>Rural</td>\n",
       "      <td>9504.74</td>\n",
       "      <td>9905</td>\n",
       "      <td>13.6</td>\n",
       "      <td>24.1</td>\n",
       "      <td>53.7</td>\n",
       "      <td>8.6</td>\n",
       "      <td>31.8</td>\n",
       "      <td>61.1</td>\n",
       "      <td>7.1</td>\n",
       "      <td>25.6</td>\n",
       "      <td>58.3</td>\n",
       "      <td>40.6</td>\n",
       "    </tr>\n",
       "    <tr>\n",
       "      <th>1</th>\n",
       "      <td>2</td>\n",
       "      <td>ADAGHAS</td>\n",
       "      <td>211.05.01</td>\n",
       "      <td>Rural</td>\n",
       "      <td>9266.43</td>\n",
       "      <td>3321</td>\n",
       "      <td>17.2</td>\n",
       "      <td>24.3</td>\n",
       "      <td>48.5</td>\n",
       "      <td>10.0</td>\n",
       "      <td>29.3</td>\n",
       "      <td>63.9</td>\n",
       "      <td>6.8</td>\n",
       "      <td>25.3</td>\n",
       "      <td>68.1</td>\n",
       "      <td>37.6</td>\n",
       "    </tr>\n",
       "    <tr>\n",
       "      <th>2</th>\n",
       "      <td>3</td>\n",
       "      <td>ADASSIL</td>\n",
       "      <td>161.07.01</td>\n",
       "      <td>Rural</td>\n",
       "      <td>14560.61</td>\n",
       "      <td>7212</td>\n",
       "      <td>15.4</td>\n",
       "      <td>26.9</td>\n",
       "      <td>49.8</td>\n",
       "      <td>7.9</td>\n",
       "      <td>27.4</td>\n",
       "      <td>65.5</td>\n",
       "      <td>7.1</td>\n",
       "      <td>24.7</td>\n",
       "      <td>78.2</td>\n",
       "      <td>48.0</td>\n",
       "    </tr>\n",
       "    <tr>\n",
       "      <th>3</th>\n",
       "      <td>4</td>\n",
       "      <td>AFALLA ISSEN</td>\n",
       "      <td>161.05.01</td>\n",
       "      <td>Rural</td>\n",
       "      <td>12295.32</td>\n",
       "      <td>7961</td>\n",
       "      <td>15.4</td>\n",
       "      <td>25.5</td>\n",
       "      <td>51.5</td>\n",
       "      <td>7.6</td>\n",
       "      <td>33.5</td>\n",
       "      <td>59.6</td>\n",
       "      <td>6.9</td>\n",
       "      <td>26.8</td>\n",
       "      <td>85.3</td>\n",
       "      <td>35.2</td>\n",
       "    </tr>\n",
       "    <tr>\n",
       "      <th>4</th>\n",
       "      <td>5</td>\n",
       "      <td>AGAFAY</td>\n",
       "      <td>351.05.01</td>\n",
       "      <td>Rural</td>\n",
       "      <td>18889.36</td>\n",
       "      <td>11079</td>\n",
       "      <td>12.7</td>\n",
       "      <td>20.8</td>\n",
       "      <td>59.3</td>\n",
       "      <td>7.2</td>\n",
       "      <td>34.5</td>\n",
       "      <td>59.0</td>\n",
       "      <td>6.6</td>\n",
       "      <td>27.1</td>\n",
       "      <td>59.4</td>\n",
       "      <td>32.1</td>\n",
       "    </tr>\n",
       "    <tr>\n",
       "      <th>5</th>\n",
       "      <td>6</td>\n",
       "      <td>AGHBAR</td>\n",
       "      <td>041.07.01</td>\n",
       "      <td>Rural</td>\n",
       "      <td>24085.94</td>\n",
       "      <td>4608</td>\n",
       "      <td>18.4</td>\n",
       "      <td>25.8</td>\n",
       "      <td>48.4</td>\n",
       "      <td>7.4</td>\n",
       "      <td>22.1</td>\n",
       "      <td>71.3</td>\n",
       "      <td>6.5</td>\n",
       "      <td>22.0</td>\n",
       "      <td>90.1</td>\n",
       "      <td>32.3</td>\n",
       "    </tr>\n",
       "    <tr>\n",
       "      <th>6</th>\n",
       "      <td>7</td>\n",
       "      <td>AGLIF</td>\n",
       "      <td>211.05.03</td>\n",
       "      <td>Rural</td>\n",
       "      <td>19199.77</td>\n",
       "      <td>8934</td>\n",
       "      <td>15.7</td>\n",
       "      <td>25.3</td>\n",
       "      <td>49.0</td>\n",
       "      <td>9.9</td>\n",
       "      <td>30.4</td>\n",
       "      <td>62.4</td>\n",
       "      <td>7.1</td>\n",
       "      <td>25.8</td>\n",
       "      <td>77.4</td>\n",
       "      <td>28.0</td>\n",
       "    </tr>\n",
       "    <tr>\n",
       "      <th>7</th>\n",
       "      <td>8</td>\n",
       "      <td>AGUERD</td>\n",
       "      <td>211.05.05</td>\n",
       "      <td>Rural</td>\n",
       "      <td>8897.58</td>\n",
       "      <td>4917</td>\n",
       "      <td>12.7</td>\n",
       "      <td>20.2</td>\n",
       "      <td>55.2</td>\n",
       "      <td>11.9</td>\n",
       "      <td>32.3</td>\n",
       "      <td>60.7</td>\n",
       "      <td>7.0</td>\n",
       "      <td>26.9</td>\n",
       "      <td>72.2</td>\n",
       "      <td>42.1</td>\n",
       "    </tr>\n",
       "    <tr>\n",
       "      <th>8</th>\n",
       "      <td>9</td>\n",
       "      <td>AHDIL</td>\n",
       "      <td>161.03.01</td>\n",
       "      <td>Rural</td>\n",
       "      <td>45308.68</td>\n",
       "      <td>11764</td>\n",
       "      <td>15.3</td>\n",
       "      <td>25.3</td>\n",
       "      <td>51.9</td>\n",
       "      <td>7.4</td>\n",
       "      <td>35.7</td>\n",
       "      <td>58.8</td>\n",
       "      <td>5.5</td>\n",
       "      <td>26.2</td>\n",
       "      <td>74.0</td>\n",
       "      <td>36.4</td>\n",
       "    </tr>\n",
       "    <tr>\n",
       "      <th>9</th>\n",
       "      <td>10</td>\n",
       "      <td>AIN TAZITOUNTE</td>\n",
       "      <td>161.05.03</td>\n",
       "      <td>Rural</td>\n",
       "      <td>9943.05</td>\n",
       "      <td>5947</td>\n",
       "      <td>15.0</td>\n",
       "      <td>24.6</td>\n",
       "      <td>51.1</td>\n",
       "      <td>9.3</td>\n",
       "      <td>33.9</td>\n",
       "      <td>58.1</td>\n",
       "      <td>8.0</td>\n",
       "      <td>26.5</td>\n",
       "      <td>73.2</td>\n",
       "      <td>31.2</td>\n",
       "    </tr>\n",
       "  </tbody>\n",
       "</table>\n",
       "</div>"
      ],
      "text/plain": [
       "   ID     Nom_Commune Code_Commune Type_Commune  Surface_ha  Population  \\\n",
       "0   1          ABADOU    041.03.01        Rural     9504.74        9905   \n",
       "1   2         ADAGHAS    211.05.01        Rural     9266.43        3321   \n",
       "2   3         ADASSIL    161.07.01        Rural    14560.61        7212   \n",
       "3   4    AFALLA ISSEN    161.05.01        Rural    12295.32        7961   \n",
       "4   5          AGAFAY    351.05.01        Rural    18889.36       11079   \n",
       "5   6          AGHBAR    041.07.01        Rural    24085.94        4608   \n",
       "6   7           AGLIF    211.05.03        Rural    19199.77        8934   \n",
       "7   8          AGUERD    211.05.05        Rural     8897.58        4917   \n",
       "8   9           AHDIL    161.03.01        Rural    45308.68       11764   \n",
       "9  10  AIN TAZITOUNTE    161.05.03        Rural     9943.05        5947   \n",
       "\n",
       "   Pop_inf6_pc  Pop_615_pc  Pop_1560_pc  Pop_sup60_pc  Celebataire_pc  \\\n",
       "0         13.6        24.1         53.7           8.6            31.8   \n",
       "1         17.2        24.3         48.5          10.0            29.3   \n",
       "2         15.4        26.9         49.8           7.9            27.4   \n",
       "3         15.4        25.5         51.5           7.6            33.5   \n",
       "4         12.7        20.8         59.3           7.2            34.5   \n",
       "5         18.4        25.8         48.4           7.4            22.1   \n",
       "6         15.7        25.3         49.0           9.9            30.4   \n",
       "7         12.7        20.2         55.2          11.9            32.3   \n",
       "8         15.3        25.3         51.9           7.4            35.7   \n",
       "9         15.0        24.6         51.1           9.3            33.9   \n",
       "\n",
       "   Marie_pc  Mrge_Autre_pc  Age_Moyen_1marriage  Taux_Analphabetisme  \\\n",
       "0      61.1            7.1                 25.6                 58.3   \n",
       "1      63.9            6.8                 25.3                 68.1   \n",
       "2      65.5            7.1                 24.7                 78.2   \n",
       "3      59.6            6.9                 26.8                 85.3   \n",
       "4      59.0            6.6                 27.1                 59.4   \n",
       "5      71.3            6.5                 22.0                 90.1   \n",
       "6      62.4            7.1                 25.8                 77.4   \n",
       "7      60.7            7.0                 26.9                 72.2   \n",
       "8      58.8            5.5                 26.2                 74.0   \n",
       "9      58.1            8.0                 26.5                 73.2   \n",
       "\n",
       "   Taux_activite  \n",
       "0           40.6  \n",
       "1           37.6  \n",
       "2           48.0  \n",
       "3           35.2  \n",
       "4           32.1  \n",
       "5           32.3  \n",
       "6           28.0  \n",
       "7           42.1  \n",
       "8           36.4  \n",
       "9           31.2  "
      ]
     },
     "execution_count": 7,
     "metadata": {},
     "output_type": "execute_result"
    }
   ],
   "source": [
    "dfc.head(10)"
   ]
  },
  {
   "cell_type": "markdown",
   "metadata": {},
   "source": [
    "Show the last ten rows."
   ]
  },
  {
   "cell_type": "code",
   "execution_count": 8,
   "metadata": {},
   "outputs": [
    {
     "data": {
      "text/html": [
       "<div>\n",
       "<style scoped>\n",
       "    .dataframe tbody tr th:only-of-type {\n",
       "        vertical-align: middle;\n",
       "    }\n",
       "\n",
       "    .dataframe tbody tr th {\n",
       "        vertical-align: top;\n",
       "    }\n",
       "\n",
       "    .dataframe thead th {\n",
       "        text-align: right;\n",
       "    }\n",
       "</style>\n",
       "<table border=\"1\" class=\"dataframe\">\n",
       "  <thead>\n",
       "    <tr style=\"text-align: right;\">\n",
       "      <th></th>\n",
       "      <th>ID</th>\n",
       "      <th>Nom_Commune</th>\n",
       "      <th>Code_Commune</th>\n",
       "      <th>Type_Commune</th>\n",
       "      <th>Surface_ha</th>\n",
       "      <th>Population</th>\n",
       "      <th>Pop_inf6_pc</th>\n",
       "      <th>Pop_615_pc</th>\n",
       "      <th>Pop_1560_pc</th>\n",
       "      <th>Pop_sup60_pc</th>\n",
       "      <th>Celebataire_pc</th>\n",
       "      <th>Marie_pc</th>\n",
       "      <th>Mrge_Autre_pc</th>\n",
       "      <th>Age_Moyen_1marriage</th>\n",
       "      <th>Taux_Analphabetisme</th>\n",
       "      <th>Taux_activite</th>\n",
       "    </tr>\n",
       "  </thead>\n",
       "  <tbody>\n",
       "    <tr>\n",
       "      <th>207</th>\n",
       "      <td>208</td>\n",
       "      <td>TIMLILT</td>\n",
       "      <td>161.09.15</td>\n",
       "      <td>Rural</td>\n",
       "      <td>24948.94</td>\n",
       "      <td>7186</td>\n",
       "      <td>15.8</td>\n",
       "      <td>24.2</td>\n",
       "      <td>51.2</td>\n",
       "      <td>8.8</td>\n",
       "      <td>36.1</td>\n",
       "      <td>58.4</td>\n",
       "      <td>5.5</td>\n",
       "      <td>26.9</td>\n",
       "      <td>77.6</td>\n",
       "      <td>27.9</td>\n",
       "    </tr>\n",
       "    <tr>\n",
       "      <th>208</th>\n",
       "      <td>209</td>\n",
       "      <td>TIZGUINE</td>\n",
       "      <td>041.05.19</td>\n",
       "      <td>Rural</td>\n",
       "      <td>5216.43</td>\n",
       "      <td>3886</td>\n",
       "      <td>11.3</td>\n",
       "      <td>19.7</td>\n",
       "      <td>55.2</td>\n",
       "      <td>13.8</td>\n",
       "      <td>26.4</td>\n",
       "      <td>63.8</td>\n",
       "      <td>9.7</td>\n",
       "      <td>25.5</td>\n",
       "      <td>60.9</td>\n",
       "      <td>29.6</td>\n",
       "    </tr>\n",
       "    <tr>\n",
       "      <th>209</th>\n",
       "      <td>210</td>\n",
       "      <td>TLAUH</td>\n",
       "      <td>191.09.19</td>\n",
       "      <td>Rural</td>\n",
       "      <td>9412.40</td>\n",
       "      <td>9901</td>\n",
       "      <td>13.2</td>\n",
       "      <td>21.2</td>\n",
       "      <td>57.7</td>\n",
       "      <td>7.9</td>\n",
       "      <td>35.0</td>\n",
       "      <td>59.2</td>\n",
       "      <td>5.8</td>\n",
       "      <td>27.0</td>\n",
       "      <td>58.9</td>\n",
       "      <td>34.4</td>\n",
       "    </tr>\n",
       "    <tr>\n",
       "      <th>210</th>\n",
       "      <td>211</td>\n",
       "      <td>TOUAMA</td>\n",
       "      <td>041.03.27</td>\n",
       "      <td>Rural</td>\n",
       "      <td>12115.52</td>\n",
       "      <td>11458</td>\n",
       "      <td>11.5</td>\n",
       "      <td>19.8</td>\n",
       "      <td>58.7</td>\n",
       "      <td>10.0</td>\n",
       "      <td>37.4</td>\n",
       "      <td>55.5</td>\n",
       "      <td>7.1</td>\n",
       "      <td>28.4</td>\n",
       "      <td>63.1</td>\n",
       "      <td>36.7</td>\n",
       "    </tr>\n",
       "    <tr>\n",
       "      <th>211</th>\n",
       "      <td>212</td>\n",
       "      <td>ZAOUIAT ANNAHLIA</td>\n",
       "      <td>161.07.15</td>\n",
       "      <td>Rural</td>\n",
       "      <td>16721.78</td>\n",
       "      <td>15942</td>\n",
       "      <td>15.1</td>\n",
       "      <td>23.7</td>\n",
       "      <td>54.1</td>\n",
       "      <td>7.1</td>\n",
       "      <td>34.4</td>\n",
       "      <td>60.4</td>\n",
       "      <td>5.1</td>\n",
       "      <td>26.2</td>\n",
       "      <td>71.4</td>\n",
       "      <td>35.2</td>\n",
       "    </tr>\n",
       "    <tr>\n",
       "      <th>212</th>\n",
       "      <td>213</td>\n",
       "      <td>ZAOUIAT BEN HMIDA</td>\n",
       "      <td>211.03.51</td>\n",
       "      <td>Rural</td>\n",
       "      <td>6361.56</td>\n",
       "      <td>6395</td>\n",
       "      <td>13.3</td>\n",
       "      <td>20.2</td>\n",
       "      <td>55.9</td>\n",
       "      <td>10.6</td>\n",
       "      <td>35.1</td>\n",
       "      <td>57.5</td>\n",
       "      <td>7.4</td>\n",
       "      <td>26.8</td>\n",
       "      <td>67.2</td>\n",
       "      <td>32.5</td>\n",
       "    </tr>\n",
       "    <tr>\n",
       "      <th>213</th>\n",
       "      <td>214</td>\n",
       "      <td>ZEMRANE</td>\n",
       "      <td>191.05.31</td>\n",
       "      <td>Rural</td>\n",
       "      <td>19353.68</td>\n",
       "      <td>15996</td>\n",
       "      <td>12.7</td>\n",
       "      <td>21.5</td>\n",
       "      <td>57.3</td>\n",
       "      <td>8.4</td>\n",
       "      <td>35.3</td>\n",
       "      <td>59.0</td>\n",
       "      <td>5.8</td>\n",
       "      <td>26.6</td>\n",
       "      <td>61.7</td>\n",
       "      <td>33.0</td>\n",
       "    </tr>\n",
       "    <tr>\n",
       "      <th>214</th>\n",
       "      <td>215</td>\n",
       "      <td>ZEMRANE CHARQIA</td>\n",
       "      <td>191.05.33</td>\n",
       "      <td>Rural</td>\n",
       "      <td>21809.44</td>\n",
       "      <td>27408</td>\n",
       "      <td>11.4</td>\n",
       "      <td>21.0</td>\n",
       "      <td>59.0</td>\n",
       "      <td>8.5</td>\n",
       "      <td>36.9</td>\n",
       "      <td>56.1</td>\n",
       "      <td>7.0</td>\n",
       "      <td>27.6</td>\n",
       "      <td>55.4</td>\n",
       "      <td>34.5</td>\n",
       "    </tr>\n",
       "    <tr>\n",
       "      <th>215</th>\n",
       "      <td>216</td>\n",
       "      <td>ZERKTEN</td>\n",
       "      <td>041.03.29</td>\n",
       "      <td>Rural</td>\n",
       "      <td>39117.49</td>\n",
       "      <td>19124</td>\n",
       "      <td>13.6</td>\n",
       "      <td>24.1</td>\n",
       "      <td>54.4</td>\n",
       "      <td>7.9</td>\n",
       "      <td>33.8</td>\n",
       "      <td>59.4</td>\n",
       "      <td>6.8</td>\n",
       "      <td>25.4</td>\n",
       "      <td>72.9</td>\n",
       "      <td>36.3</td>\n",
       "    </tr>\n",
       "    <tr>\n",
       "      <th>216</th>\n",
       "      <td>217</td>\n",
       "      <td>ZNADA</td>\n",
       "      <td>191.03.41</td>\n",
       "      <td>Rural</td>\n",
       "      <td>4625.65</td>\n",
       "      <td>8830</td>\n",
       "      <td>13.5</td>\n",
       "      <td>22.9</td>\n",
       "      <td>57.5</td>\n",
       "      <td>6.1</td>\n",
       "      <td>32.5</td>\n",
       "      <td>61.3</td>\n",
       "      <td>6.2</td>\n",
       "      <td>25.6</td>\n",
       "      <td>57.5</td>\n",
       "      <td>31.9</td>\n",
       "    </tr>\n",
       "  </tbody>\n",
       "</table>\n",
       "</div>"
      ],
      "text/plain": [
       "      ID        Nom_Commune Code_Commune Type_Commune  Surface_ha  Population  \\\n",
       "207  208            TIMLILT    161.09.15        Rural    24948.94        7186   \n",
       "208  209           TIZGUINE    041.05.19        Rural     5216.43        3886   \n",
       "209  210              TLAUH    191.09.19        Rural     9412.40        9901   \n",
       "210  211             TOUAMA    041.03.27        Rural    12115.52       11458   \n",
       "211  212   ZAOUIAT ANNAHLIA    161.07.15        Rural    16721.78       15942   \n",
       "212  213  ZAOUIAT BEN HMIDA    211.03.51        Rural     6361.56        6395   \n",
       "213  214            ZEMRANE    191.05.31        Rural    19353.68       15996   \n",
       "214  215    ZEMRANE CHARQIA    191.05.33        Rural    21809.44       27408   \n",
       "215  216            ZERKTEN    041.03.29        Rural    39117.49       19124   \n",
       "216  217              ZNADA    191.03.41        Rural     4625.65        8830   \n",
       "\n",
       "     Pop_inf6_pc  Pop_615_pc  Pop_1560_pc  Pop_sup60_pc  Celebataire_pc  \\\n",
       "207         15.8        24.2         51.2           8.8            36.1   \n",
       "208         11.3        19.7         55.2          13.8            26.4   \n",
       "209         13.2        21.2         57.7           7.9            35.0   \n",
       "210         11.5        19.8         58.7          10.0            37.4   \n",
       "211         15.1        23.7         54.1           7.1            34.4   \n",
       "212         13.3        20.2         55.9          10.6            35.1   \n",
       "213         12.7        21.5         57.3           8.4            35.3   \n",
       "214         11.4        21.0         59.0           8.5            36.9   \n",
       "215         13.6        24.1         54.4           7.9            33.8   \n",
       "216         13.5        22.9         57.5           6.1            32.5   \n",
       "\n",
       "     Marie_pc  Mrge_Autre_pc  Age_Moyen_1marriage  Taux_Analphabetisme  \\\n",
       "207      58.4            5.5                 26.9                 77.6   \n",
       "208      63.8            9.7                 25.5                 60.9   \n",
       "209      59.2            5.8                 27.0                 58.9   \n",
       "210      55.5            7.1                 28.4                 63.1   \n",
       "211      60.4            5.1                 26.2                 71.4   \n",
       "212      57.5            7.4                 26.8                 67.2   \n",
       "213      59.0            5.8                 26.6                 61.7   \n",
       "214      56.1            7.0                 27.6                 55.4   \n",
       "215      59.4            6.8                 25.4                 72.9   \n",
       "216      61.3            6.2                 25.6                 57.5   \n",
       "\n",
       "     Taux_activite  \n",
       "207           27.9  \n",
       "208           29.6  \n",
       "209           34.4  \n",
       "210           36.7  \n",
       "211           35.2  \n",
       "212           32.5  \n",
       "213           33.0  \n",
       "214           34.5  \n",
       "215           36.3  \n",
       "216           31.9  "
      ]
     },
     "execution_count": 8,
     "metadata": {},
     "output_type": "execute_result"
    }
   ],
   "source": [
    "dfc.tail(10)"
   ]
  },
  {
   "cell_type": "markdown",
   "metadata": {},
   "source": [
    "Optional '': Display the number of observations and variables as well as their types."
   ]
  },
  {
   "cell_type": "code",
   "execution_count": 9,
   "metadata": {},
   "outputs": [
    {
     "name": "stdout",
     "output_type": "stream",
     "text": [
      "<class 'pandas.core.frame.DataFrame'>\n",
      "RangeIndex: 217 entries, 0 to 216\n",
      "Data columns (total 16 columns):\n",
      "ID                     217 non-null int64\n",
      "Nom_Commune            217 non-null object\n",
      "Code_Commune           217 non-null object\n",
      "Type_Commune           217 non-null object\n",
      "Surface_ha             217 non-null float64\n",
      "Population             217 non-null int64\n",
      "Pop_inf6_pc            217 non-null float64\n",
      "Pop_615_pc             217 non-null float64\n",
      "Pop_1560_pc            217 non-null float64\n",
      "Pop_sup60_pc           217 non-null float64\n",
      "Celebataire_pc         217 non-null float64\n",
      "Marie_pc               217 non-null float64\n",
      "Mrge_Autre_pc          217 non-null float64\n",
      "Age_Moyen_1marriage    217 non-null float64\n",
      "Taux_Analphabetisme    217 non-null float64\n",
      "Taux_activite          217 non-null float64\n",
      "dtypes: float64(11), int64(2), object(3)\n",
      "memory usage: 27.2+ KB\n"
     ]
    }
   ],
   "source": [
    "dfc.info()"
   ]
  },
  {
   "cell_type": "markdown",
   "metadata": {},
   "source": [
    "## Question 3"
   ]
  },
  {
   "cell_type": "markdown",
   "metadata": {},
   "source": [
    "Calculate the statistics (min, max, mean, median, sum and standard deviation) of the variables 'Population' et 'Surface_ha'"
   ]
  },
  {
   "cell_type": "code",
   "execution_count": 10,
   "metadata": {},
   "outputs": [
    {
     "name": "stdout",
     "output_type": "stream",
     "text": [
      "                    mean           std      min        max       50%\n",
      "Population  14231.972350  26408.711418  2497.00  280275.00   8382.00\n",
      "Surface_ha  14780.494194  11086.244348   608.97   73905.83  11335.56\n",
      "Sum of the population :  3088338\n",
      "Sum of the surface :  3207367.24 ha\n"
     ]
    }
   ],
   "source": [
    "print(dfc[['Population', 'Surface_ha']].describe().T[['mean', 'std', 'min', 'max','50%']])\n",
    "print('Sum of the population : ', dfc['Population'].sum())\n",
    "print('Sum of the surface : ', round(dfc['Surface_ha'].sum(),2), 'ha')"
   ]
  },
  {
   "cell_type": "markdown",
   "metadata": {},
   "source": [
    "## Question 4"
   ]
  },
  {
   "cell_type": "markdown",
   "metadata": {},
   "source": [
    "Delete the column 'ID' from the Dataframe."
   ]
  },
  {
   "cell_type": "code",
   "execution_count": 11,
   "metadata": {},
   "outputs": [],
   "source": [
    "dfc.drop('ID', axis=1, inplace=True)"
   ]
  },
  {
   "cell_type": "code",
   "execution_count": 12,
   "metadata": {},
   "outputs": [
    {
     "data": {
      "text/html": [
       "<div>\n",
       "<style scoped>\n",
       "    .dataframe tbody tr th:only-of-type {\n",
       "        vertical-align: middle;\n",
       "    }\n",
       "\n",
       "    .dataframe tbody tr th {\n",
       "        vertical-align: top;\n",
       "    }\n",
       "\n",
       "    .dataframe thead th {\n",
       "        text-align: right;\n",
       "    }\n",
       "</style>\n",
       "<table border=\"1\" class=\"dataframe\">\n",
       "  <thead>\n",
       "    <tr style=\"text-align: right;\">\n",
       "      <th></th>\n",
       "      <th>Nom_Commune</th>\n",
       "      <th>Code_Commune</th>\n",
       "      <th>Type_Commune</th>\n",
       "      <th>Surface_ha</th>\n",
       "      <th>Population</th>\n",
       "      <th>Pop_inf6_pc</th>\n",
       "      <th>Pop_615_pc</th>\n",
       "      <th>Pop_1560_pc</th>\n",
       "      <th>Pop_sup60_pc</th>\n",
       "      <th>Celebataire_pc</th>\n",
       "      <th>Marie_pc</th>\n",
       "      <th>Mrge_Autre_pc</th>\n",
       "      <th>Age_Moyen_1marriage</th>\n",
       "      <th>Taux_Analphabetisme</th>\n",
       "      <th>Taux_activite</th>\n",
       "    </tr>\n",
       "  </thead>\n",
       "  <tbody>\n",
       "    <tr>\n",
       "      <th>0</th>\n",
       "      <td>ABADOU</td>\n",
       "      <td>041.03.01</td>\n",
       "      <td>Rural</td>\n",
       "      <td>9504.74</td>\n",
       "      <td>9905</td>\n",
       "      <td>13.6</td>\n",
       "      <td>24.1</td>\n",
       "      <td>53.7</td>\n",
       "      <td>8.6</td>\n",
       "      <td>31.8</td>\n",
       "      <td>61.1</td>\n",
       "      <td>7.1</td>\n",
       "      <td>25.6</td>\n",
       "      <td>58.3</td>\n",
       "      <td>40.6</td>\n",
       "    </tr>\n",
       "    <tr>\n",
       "      <th>1</th>\n",
       "      <td>ADAGHAS</td>\n",
       "      <td>211.05.01</td>\n",
       "      <td>Rural</td>\n",
       "      <td>9266.43</td>\n",
       "      <td>3321</td>\n",
       "      <td>17.2</td>\n",
       "      <td>24.3</td>\n",
       "      <td>48.5</td>\n",
       "      <td>10.0</td>\n",
       "      <td>29.3</td>\n",
       "      <td>63.9</td>\n",
       "      <td>6.8</td>\n",
       "      <td>25.3</td>\n",
       "      <td>68.1</td>\n",
       "      <td>37.6</td>\n",
       "    </tr>\n",
       "    <tr>\n",
       "      <th>2</th>\n",
       "      <td>ADASSIL</td>\n",
       "      <td>161.07.01</td>\n",
       "      <td>Rural</td>\n",
       "      <td>14560.61</td>\n",
       "      <td>7212</td>\n",
       "      <td>15.4</td>\n",
       "      <td>26.9</td>\n",
       "      <td>49.8</td>\n",
       "      <td>7.9</td>\n",
       "      <td>27.4</td>\n",
       "      <td>65.5</td>\n",
       "      <td>7.1</td>\n",
       "      <td>24.7</td>\n",
       "      <td>78.2</td>\n",
       "      <td>48.0</td>\n",
       "    </tr>\n",
       "    <tr>\n",
       "      <th>3</th>\n",
       "      <td>AFALLA ISSEN</td>\n",
       "      <td>161.05.01</td>\n",
       "      <td>Rural</td>\n",
       "      <td>12295.32</td>\n",
       "      <td>7961</td>\n",
       "      <td>15.4</td>\n",
       "      <td>25.5</td>\n",
       "      <td>51.5</td>\n",
       "      <td>7.6</td>\n",
       "      <td>33.5</td>\n",
       "      <td>59.6</td>\n",
       "      <td>6.9</td>\n",
       "      <td>26.8</td>\n",
       "      <td>85.3</td>\n",
       "      <td>35.2</td>\n",
       "    </tr>\n",
       "    <tr>\n",
       "      <th>4</th>\n",
       "      <td>AGAFAY</td>\n",
       "      <td>351.05.01</td>\n",
       "      <td>Rural</td>\n",
       "      <td>18889.36</td>\n",
       "      <td>11079</td>\n",
       "      <td>12.7</td>\n",
       "      <td>20.8</td>\n",
       "      <td>59.3</td>\n",
       "      <td>7.2</td>\n",
       "      <td>34.5</td>\n",
       "      <td>59.0</td>\n",
       "      <td>6.6</td>\n",
       "      <td>27.1</td>\n",
       "      <td>59.4</td>\n",
       "      <td>32.1</td>\n",
       "    </tr>\n",
       "  </tbody>\n",
       "</table>\n",
       "</div>"
      ],
      "text/plain": [
       "    Nom_Commune Code_Commune Type_Commune  Surface_ha  Population  \\\n",
       "0        ABADOU    041.03.01        Rural     9504.74        9905   \n",
       "1       ADAGHAS    211.05.01        Rural     9266.43        3321   \n",
       "2       ADASSIL    161.07.01        Rural    14560.61        7212   \n",
       "3  AFALLA ISSEN    161.05.01        Rural    12295.32        7961   \n",
       "4        AGAFAY    351.05.01        Rural    18889.36       11079   \n",
       "\n",
       "   Pop_inf6_pc  Pop_615_pc  Pop_1560_pc  Pop_sup60_pc  Celebataire_pc  \\\n",
       "0         13.6        24.1         53.7           8.6            31.8   \n",
       "1         17.2        24.3         48.5          10.0            29.3   \n",
       "2         15.4        26.9         49.8           7.9            27.4   \n",
       "3         15.4        25.5         51.5           7.6            33.5   \n",
       "4         12.7        20.8         59.3           7.2            34.5   \n",
       "\n",
       "   Marie_pc  Mrge_Autre_pc  Age_Moyen_1marriage  Taux_Analphabetisme  \\\n",
       "0      61.1            7.1                 25.6                 58.3   \n",
       "1      63.9            6.8                 25.3                 68.1   \n",
       "2      65.5            7.1                 24.7                 78.2   \n",
       "3      59.6            6.9                 26.8                 85.3   \n",
       "4      59.0            6.6                 27.1                 59.4   \n",
       "\n",
       "   Taux_activite  \n",
       "0           40.6  \n",
       "1           37.6  \n",
       "2           48.0  \n",
       "3           35.2  \n",
       "4           32.1  "
      ]
     },
     "execution_count": 12,
     "metadata": {},
     "output_type": "execute_result"
    }
   ],
   "source": [
    "dfc.head()"
   ]
  },
  {
   "cell_type": "markdown",
   "metadata": {},
   "source": [
    "## Question 5"
   ]
  },
  {
   "cell_type": "markdown",
   "metadata": {},
   "source": [
    "The number of unique values in the column 'Nom_Commune'."
   ]
  },
  {
   "cell_type": "code",
   "execution_count": 13,
   "metadata": {},
   "outputs": [
    {
     "data": {
      "text/plain": [
       "215"
      ]
     },
     "execution_count": 13,
     "metadata": {},
     "output_type": "execute_result"
    }
   ],
   "source": [
    "dfc['Nom_Commune'].nunique()"
   ]
  },
  {
   "cell_type": "markdown",
   "metadata": {},
   "source": [
    "The frequency of the values in the column 'Nom_Commune'."
   ]
  },
  {
   "cell_type": "code",
   "execution_count": 14,
   "metadata": {},
   "outputs": [
    {
     "data": {
      "text/plain": [
       "SIDI GHANEM               3\n",
       "OULAD CHERKI              1\n",
       "SIDI AISSA BEN SLIMANE    1\n",
       "OULAD IMLOUL              1\n",
       "NFIFA                     1\n",
       "Name: Nom_Commune, dtype: int64"
      ]
     },
     "execution_count": 14,
     "metadata": {},
     "output_type": "execute_result"
    }
   ],
   "source": [
    "dfc['Nom_Commune'].value_counts().head(5)"
   ]
  },
  {
   "cell_type": "markdown",
   "metadata": {},
   "source": [
    "## Question 6"
   ]
  },
  {
   "cell_type": "markdown",
   "metadata": {},
   "source": [
    "The commune with the highest activity rate."
   ]
  },
  {
   "cell_type": "code",
   "execution_count": 15,
   "metadata": {},
   "outputs": [
    {
     "data": {
      "text/plain": [
       "168    SIDI HMAD OU MBAREK\n",
       "Name: Nom_Commune, dtype: object"
      ]
     },
     "execution_count": 15,
     "metadata": {},
     "output_type": "execute_result"
    }
   ],
   "source": [
    "dfc[dfc['Taux_activite'] == max(dfc['Taux_activite'])]['Nom_Commune']"
   ]
  },
  {
   "cell_type": "markdown",
   "metadata": {},
   "source": [
    "The commune with the lowest activity rate."
   ]
  },
  {
   "cell_type": "code",
   "execution_count": 16,
   "metadata": {},
   "outputs": [
    {
     "data": {
      "text/plain": [
       "'LALLA AAZIZA'"
      ]
     },
     "execution_count": 16,
     "metadata": {},
     "output_type": "execute_result"
    }
   ],
   "source": [
    "dfc.loc[dfc['Taux_activite'].idxmin()]['Nom_Commune']"
   ]
  },
  {
   "cell_type": "markdown",
   "metadata": {},
   "source": [
    "## Question 7"
   ]
  },
  {
   "cell_type": "markdown",
   "metadata": {},
   "source": [
    "Communes with a population of more than 10,000 and an illiteracy rate of more than 40%."
   ]
  },
  {
   "cell_type": "code",
   "execution_count": 17,
   "metadata": {},
   "outputs": [
    {
     "data": {
      "text/plain": [
       "70"
      ]
     },
     "execution_count": 17,
     "metadata": {},
     "output_type": "execute_result"
    }
   ],
   "source": [
    "dfc[(dfc['Population'] > 10000) & (dfc['Taux_Analphabetisme'] > 40)]['Nom_Commune'].nunique()  "
   ]
  },
  {
   "cell_type": "code",
   "execution_count": 18,
   "metadata": {},
   "outputs": [
    {
     "data": {
      "text/plain": [
       "array(['AGAFAY', 'AHDIL', 'AIT FASKA', 'AIT IMOUR', 'AIT SIDI DAOUD',\n",
       "       'ALOUIDANE', 'ANNAKHIL', 'AQERMOUD', 'ASNI', 'ASSAHRIJ',\n",
       "       'BOUABOUT', 'BOUYA OMAR', 'DOUIRANE', 'FRAITA', 'GHMATE', 'HARBIL',\n",
       "       'IGUERFEROUANE', 'JAAFRA', 'JAIDATE', 'JBIEL', 'JOUALA',\n",
       "       'KORIMATE', 'LAATAMNA', 'LAATAOUIA', 'LABRIKIYNE', 'LAMHARRA',\n",
       "       'LAMZOUDIA', 'LOUDAYA', 'MAJJAT', 'MAYATE', 'MNABHA',\n",
       "       'MOULAY BRAHIM', 'MZOUDA', 'NZALAT LAADAM', 'OUAHAT SIDI BRAHIM',\n",
       "       'OUARGUI', 'OULAD DLIM', 'OULAD HASSOUNE', 'OULAD ZARRAD',\n",
       "       'OUNAGHA', 'OURIKA', 'RAS AIN RHAMNA', 'SAADA', 'SID LMOKHTAR',\n",
       "       'SID ZOUINE', 'SIDI ABDALLAH', 'SIDI ABDALLAH GHIAT',\n",
       "       'SIDI AISSA BEN SLIMANE', 'SIDI BOU OTHMANE', 'SIDI GHANEM',\n",
       "       'SIDI LAAROUSSI', 'SKHOUR RHAMNA', 'SOUIHLA', 'STI FADMA',\n",
       "       'TAHANNAOUT', 'TAKATE', 'TAMAGUERT', 'TAMALLALT', 'TAMAZOUZTE',\n",
       "       'TAMESLOHTE', 'TAOULOUKOULT', 'TASSOULTANTE', 'TAZART',\n",
       "       'TIDILI MESFIOUA', 'TIGHEDOUINE', 'TOUAMA', 'ZAOUIAT ANNAHLIA',\n",
       "       'ZEMRANE', 'ZEMRANE CHARQIA', 'ZERKTEN'], dtype=object)"
      ]
     },
     "execution_count": 18,
     "metadata": {},
     "output_type": "execute_result"
    }
   ],
   "source": [
    "dfc[(dfc['Population'] > 10000) & (dfc['Taux_Analphabetisme'] > 40)]['Nom_Commune'].unique()"
   ]
  },
  {
   "cell_type": "markdown",
   "metadata": {},
   "source": [
    "## Question 8"
   ]
  },
  {
   "cell_type": "markdown",
   "metadata": {},
   "source": [
    "Communes whose name begins or ends with the letter 'A'."
   ]
  },
  {
   "cell_type": "markdown",
   "metadata": {},
   "source": [
    "Method 1 : (function)"
   ]
  },
  {
   "cell_type": "code",
   "execution_count": 19,
   "metadata": {},
   "outputs": [],
   "source": [
    "def Acomm(x):\n",
    "    n = len(x)\n",
    "    if x[0] == 'A' :\n",
    "        return(x)\n",
    "    elif x[n-1] == 'A':\n",
    "        return (x)    "
   ]
  },
  {
   "cell_type": "code",
   "execution_count": 20,
   "metadata": {},
   "outputs": [
    {
     "data": {
      "text/plain": [
       "array(['ABADOU', 'ADAGHAS', 'ADASSIL', 'AFALLA ISSEN', 'AGAFAY', 'AGHBAR',\n",
       "       'AGLIF', 'AGUERD', 'AHDIL', 'AIN TAZITOUNTE', 'AIT AADEL',\n",
       "       'AIT AISSI IHAHANE', 'AIT DAOUD', 'AIT FASKA',\n",
       "       'AIT HADDOU YOUSSEF', 'AIT HADI', 'AIT HAMMOU',\n",
       "       'AIT HKIM AIT IZID', 'AIT IMOUR', 'AIT OURIR', 'AIT SAID',\n",
       "       'AIT SIDI DAOUD', 'AIT TALEB', 'AKARMA', 'ALOUIDANE', 'AMGHRAS',\n",
       "       'AMIZMIZ', 'ANNAKHIL', 'ANOUGAL', 'AQERMOUD', 'ASNI', 'ASSAHRIJ',\n",
       "       'ASSAIS', 'ASSIF EL MAL', 'AZGOUR', None, 'CHICHAOUA', 'CHOARA',\n",
       "       'CHTAIBA', 'DAR JAMAA', 'EDDACHRA', 'EL AAMRIA', 'ERRAFIAYA',\n",
       "       'ESSAOUIRA', 'FRAITA', 'GMASSA', 'HAD DRA', 'HIADNA',\n",
       "       'IDA OU AAZZA', 'JAAFRA', 'JOUALA', 'KECHOULA', 'KELAAT SRAGHNA',\n",
       "       'LAATAMNA', 'LAATAOUIA', 'LAATTAOUIA ECHCHAYBIA', 'LAGDADRA',\n",
       "       'LALLA AAZIZA', 'LAMHARRA', 'LAMZOUDIA', 'LOUDAYA', 'LOUNASDA',\n",
       "       'MACHOUAR KASBA', 'MARRAKECH MEDINA', 'MENARA', 'MESKALA',\n",
       "       'MNABHA', 'MZEM SANHAJA', 'MZOUDA', 'NFIFA', 'OUAZGUITA',\n",
       "       'OULAD MOUMNA', 'OULAD MTAA', 'OUNAGHA', 'OURIKA', 'RAHHALA',\n",
       "       'RAS AIN RHAMNA', 'SAADA', 'SIDI ALI LABRAHLA', 'SIDI MOUSSA',\n",
       "       'SKHOUR RHAMNA', 'SKOURA LHADRA', 'SOUIHLA', 'STI FADMA',\n",
       "       'TAFEDNA', 'TIDILI MESFIOUA', 'TOUAMA', 'ZAOUIAT ANNAHLIA',\n",
       "       'ZAOUIAT BEN HMIDA', 'ZEMRANE CHARQIA', 'ZNADA'], dtype=object)"
      ]
     },
     "execution_count": 20,
     "metadata": {},
     "output_type": "execute_result"
    }
   ],
   "source": [
    "dfc['Nom_Commune'].apply(lambda x:Acomm(x)).unique()"
   ]
  },
  {
   "cell_type": "markdown",
   "metadata": {},
   "source": [
    "Method 2 : (in one line code)"
   ]
  },
  {
   "cell_type": "code",
   "execution_count": 21,
   "metadata": {},
   "outputs": [
    {
     "data": {
      "text/plain": [
       "0                  ABADOU\n",
       "1                 ADAGHAS\n",
       "2                 ADASSIL\n",
       "3            AFALLA ISSEN\n",
       "4                  AGAFAY\n",
       "5                  AGHBAR\n",
       "6                   AGLIF\n",
       "7                  AGUERD\n",
       "8                   AHDIL\n",
       "9          AIN TAZITOUNTE\n",
       "10              AIT AADEL\n",
       "11      AIT AISSI IHAHANE\n",
       "12              AIT DAOUD\n",
       "13              AIT FASKA\n",
       "14     AIT HADDOU YOUSSEF\n",
       "15               AIT HADI\n",
       "16             AIT HAMMOU\n",
       "17      AIT HKIM AIT IZID\n",
       "18              AIT IMOUR\n",
       "19              AIT OURIR\n",
       "20               AIT SAID\n",
       "21         AIT SIDI DAOUD\n",
       "22              AIT TALEB\n",
       "23                 AKARMA\n",
       "24              ALOUIDANE\n",
       "25                AMGHRAS\n",
       "26                AMIZMIZ\n",
       "27               ANNAKHIL\n",
       "28                ANOUGAL\n",
       "29               AQERMOUD\n",
       "              ...        \n",
       "96               LOUNASDA\n",
       "97         MACHOUAR KASBA\n",
       "99       MARRAKECH MEDINA\n",
       "102                MENARA\n",
       "103               MESKALA\n",
       "105                MNABHA\n",
       "110          MZEM SANHAJA\n",
       "112                MZOUDA\n",
       "113                 NFIFA\n",
       "118             OUAZGUITA\n",
       "134          OULAD MOUMNA\n",
       "136            OULAD MTAA\n",
       "140               OUNAGHA\n",
       "141                OURIKA\n",
       "142               RAHHALA\n",
       "143        RAS AIN RHAMNA\n",
       "144                 SAADA\n",
       "156     SIDI ALI LABRAHLA\n",
       "175           SIDI MOUSSA\n",
       "178         SKHOUR RHAMNA\n",
       "179         SKOURA LHADRA\n",
       "181               SOUIHLA\n",
       "183             STI FADMA\n",
       "184               TAFEDNA\n",
       "202       TIDILI MESFIOUA\n",
       "210                TOUAMA\n",
       "211      ZAOUIAT ANNAHLIA\n",
       "212     ZAOUIAT BEN HMIDA\n",
       "214       ZEMRANE CHARQIA\n",
       "216                 ZNADA\n",
       "Name: Nom_Commune, Length: 90, dtype: object"
      ]
     },
     "execution_count": 21,
     "metadata": {},
     "output_type": "execute_result"
    }
   ],
   "source": [
    "dfc[(dfc['Nom_Commune'].str.startswith('A')) | (dfc['Nom_Commune'].str.endswith('A'))]['Nom_Commune'] "
   ]
  },
  {
   "cell_type": "markdown",
   "metadata": {},
   "source": [
    "## Question 9"
   ]
  },
  {
   "cell_type": "markdown",
   "metadata": {},
   "source": [
    "Graphic representation of the population distribution of the communes. An hist plot is the appropriate choice."
   ]
  },
  {
   "cell_type": "markdown",
   "metadata": {},
   "source": [
    "1. With Matplotlib "
   ]
  },
  {
   "cell_type": "code",
   "execution_count": 22,
   "metadata": {},
   "outputs": [
    {
     "data": {
      "text/plain": [
       "<matplotlib.axes._subplots.AxesSubplot at 0x1c229f5668>"
      ]
     },
     "execution_count": 22,
     "metadata": {},
     "output_type": "execute_result"
    },
    {
     "data": {
      "image/png": "[encoded data removed]",
      "text/plain": [
       "<Figure size 648x432 with 1 Axes>"
      ]
     },
     "metadata": {},
     "output_type": "display_data"
    }
   ],
   "source": [
    "plt.style.use('dark_background')\n",
    "dfc[['Population']].plot(kind='hist', bins=30, range=(2000,250000),figsize=(9,6),  rwidth=0.8, color='green', title='Répartition de la population de la région MTA')"
   ]
  },
  {
   "cell_type": "markdown",
   "metadata": {},
   "source": [
    "<br> <font color='green'>    Noting that most communes have a population of less than 60,000, a clearer visualization would be : </font>"
   ]
  },
  {
   "cell_type": "code",
   "execution_count": 23,
   "metadata": {},
   "outputs": [
    {
     "data": {
      "text/plain": [
       "<matplotlib.axes._subplots.AxesSubplot at 0x1c22b2d630>"
      ]
     },
     "execution_count": 23,
     "metadata": {},
     "output_type": "execute_result"
    },
    {
     "data": {
      "image/png": "[encoded data removed]",
      "text/plain": [
       "<Figure size 648x432 with 1 Axes>"
      ]
     },
     "metadata": {},
     "output_type": "display_data"
    }
   ],
   "source": [
    "dfc[(dfc['Population'] < 60000)]['Population'].plot(kind='hist',figsize=(9,6), bins=30, rwidth=0.8, color='green', title='Répartition des populations inférieure à 60000')"
   ]
  },
  {
   "cell_type": "markdown",
   "metadata": {},
   "source": [
    "2. Using plotly and cufflinks to interact with the visualisation of the population of each commune."
   ]
  },
  {
   "cell_type": "code",
   "execution_count": 24,
   "metadata": {},
   "outputs": [
    {
     "data": {
      "application/vnd.plotly.v1+json": {
       "config": {
        "linkText": "Export to plot.ly",
        "plotlyServerURL": "https://plot.ly",
        "showLink": true
       },
       "data": [
        {
         "line": {
          "color": "rgba(229, 245, 224, 1.0)",
          "dash": "solid",
          "shape": "linear",
          "width": 1.3
         },
         "marker": {
          "size": 5,
          "symbol": "circle"
         },
         "mode": "markers",
         "name": "Population",
         "text": "",
         "type": "scatter",
         "x": [
          "ABADOU",
          "ADAGHAS",
          "ADASSIL",
          "AFALLA ISSEN",
          "AGAFAY",
          "AGHBAR",
          "AGLIF",
          "AGUERD",
          "AHDIL",
          "AIN TAZITOUNTE",
          "AIT AADEL",
          "AIT AISSI IHAHANE",
          "AIT DAOUD",
          "AIT FASKA",
          "AIT HADDOU YOUSSEF",
          "AIT HADI",
          "AIT HAMMOU",
          "AIT HKIM AIT IZID",
          "AIT IMOUR",
          "AIT OURIR",
          "AIT SAID",
          "AIT SIDI DAOUD",
          "AIT TALEB",
          "AKARMA",
          "ALOUIDANE",
          "AMGHRAS",
          "AMIZMIZ",
          "ANNAKHIL",
          "ANOUGAL",
          "AQERMOUD",
          "ASNI",
          "ASSAHRIJ",
          "ASSAIS",
          "ASSIF EL MAL",
          "AZGOUR",
          "BEN GUERIR",
          "BIZDAD",
          "BOUABOUT",
          "BOUABOUT AMDLANE",
          "BOUCHANE",
          "BOURROUS",
          "BOUYA OMAR",
          "BOUZEMMOUR",
          "CHICHAOUA",
          "CHOARA",
          "CHTAIBA",
          "DAR JAMAA",
          "DOUIRANE",
          "DZOUZ",
          "EDDACHRA",
          "EL AAMRIA",
          "EL HANCHANE",
          "EL MARBOUH",
          "ERRAFIAYA",
          "ESSAOUIRA",
          "EZZAOUITE",
          "FRAITA",
          "GHMATE",
          "GMASSA",
          "GUELIZ",
          "HAD DRA",
          "HARBIL",
          "HIADNA",
          "ICHAMRAREN",
          "IDA OU AAZZA",
          "IDA OU GUELLOUL",
          "IDA OU KAZZOU",
          "IGHIL",
          "IGUERFEROUANE",
          "IJOUKAK",
          "IMGDAL",
          "IMGRADE",
          "IMI NTLIT",
          "IMINDOUNIT",
          "IMINTANOUTE",
          "IROHALEN",
          "JAAFRA",
          "JAIDATE",
          "JBIEL",
          "JOUALA",
          "KECHOULA",
          "KELAAT SRAGHNA",
          "KORIMATE",
          "KOUZEMT",
          "LAATAMNA",
          "LAATAOUIA",
          "LAATTAOUIA ECHCHAYBIA",
          "LABRIKIYNE",
          "LAGDADRA",
          "LAHSINATE",
          "LALLA AAZIZA",
          "LALLA TAKARKOUST",
          "LAMHARRA",
          "LAMZOUDIA",
          "LOUAD LAKHDAR",
          "LOUDAYA",
          "LOUNASDA",
          "MACHOUAR KASBA",
          "MAJJAT",
          "MARRAKECH MEDINA",
          "MAYATE",
          "MEJJI",
          "MENARA",
          "MESKALA",
          "MKHALIF",
          "MNABHA",
          "MOUARID",
          "MOULAY BOU ZARQTOUNE",
          "MOULAY BRAHIM",
          "MRAMER",
          "MZEM SANHAJA",
          "MZILATE",
          "MZOUDA",
          "NFIFA",
          "NZALAT LAADAM",
          "OUAD LBOUR",
          "OUAHAT SIDI BRAHIM",
          "OUARGUI",
          "OUAZGUITA",
          "OUIRGANE",
          "OUKAIMDEN",
          "OULAD  MRABET",
          "OULAD AAMER",
          "OULAD AAMER TIZMARINE",
          "OULAD AARRAD",
          "OULAD BOUALI LOUAD",
          "OULAD CHERKI",
          "OULAD DLIM",
          "OULAD EL GARNE",
          "OULAD HASSOUNE",
          "OULAD HASSOUNE HAMRI",
          "OULAD IMLOUL",
          "OULAD KHALLOUF",
          "OULAD MASSAOUD",
          "OULAD MOUMNA",
          "OULAD MSABBEL",
          "OULAD MTAA",
          "OULAD SBIH",
          "OULAD YACOUB",
          "OULAD ZARRAD",
          "OUNAGHA",
          "OURIKA",
          "RAHHALA",
          "RAS AIN RHAMNA",
          "SAADA",
          "SAIDATE",
          "SID LMOKHTAR",
          "SID ZOUINE",
          "SIDI ABDALLAH",
          "SIDI ABDALLAH GHIAT",
          "SIDI ABDELJALIL",
          "SIDI ABDELMOUMEN",
          "SIDI AHMED ESSAYEH",
          "SIDI AISSA BEN SLIMANE",
          "SIDI AISSA REGRAGUI",
          "SIDI ALI EL KORATI",
          "SIDI ALI LABRAHLA",
          "SIDI BADHAJ",
          "SIDI BOU OTHMANE",
          "SIDI BOUBKER",
          "SIDI BOULAALAM",
          "SIDI BOUZID ARRAGRAGUI",
          "SIDI EL HATTAB",
          "SIDI EL JAZOULI",
          "SIDI GHANEM",
          "SIDI GHANEM",
          "SIDI GHANEM",
          "SIDI HMAD OU HAMED",
          "SIDI HMAD OU MBAREK",
          "SIDI ISHAQ",
          "SIDI KAOUKI",
          "SIDI LAAROUSSI",
          "SIDI MANSOUR",
          "SIDI MHAMED DALIL",
          "SIDI MHAMED OU MARZOUQ",
          "SIDI MOUSSA",
          "SIDI RAHHAL",
          "SIDI YOUSSEF BEN ALI",
          "SKHOUR RHAMNA",
          "SKOURA LHADRA",
          "SMIMOU",
          "SOUIHLA",
          "SOUR EL AAZ",
          "STI FADMA",
          "TAFEDNA",
          "TAFETACHTE",
          "TAHANNAOUT",
          "TAHELOUANTE",
          "TAKATE",
          "TAKOUCHT",
          "TALAT NYAAQOUB",
          "TALMEST",
          "TAMAGUERT",
          "TAMALLALT",
          "TAMANAR",
          "TAMAZOUZTE",
          "TAMESLOHTE",
          "TAOULOUKOULT",
          "TAOUZINT",
          "TARGANTE",
          "TASSOULTANTE",
          "TAZART",
          "TIDILI MESFIOUA",
          "TIDZI",
          "TIGHEDOUINE",
          "TIMEZGADIOUINE",
          "TIMIZGUIDA OUFTAS",
          "TIMLILT",
          "TIZGUINE",
          "TLAUH",
          "TOUAMA",
          "ZAOUIAT ANNAHLIA",
          "ZAOUIAT BEN HMIDA",
          "ZEMRANE",
          "ZEMRANE CHARQIA",
          "ZERKTEN",
          "ZNADA"
         ],
         "y": [
          9905,
          3321,
          7212,
          7961,
          11079,
          4608,
          8934,
          4917,
          11764,
          5947,
          6967,
          5437,
          2497,
          19228,
          5537,
          6313,
          7499,
          8112,
          12164,
          19864,
          7081,
          19275,
          8871,
          5662,
          20925,
          4222,
          13650,
          54111,
          4169,
          15037,
          18617,
          14165,
          7603,
          6711,
          6314,
          62693,
          8533,
          12196,
          8226,
          9554,
          5748,
          12924,
          6627,
          15643,
          9577,
          7874,
          5762,
          14180,
          9521,
          6754,
          8382,
          4698,
          7567,
          4559,
          69005,
          6557,
          10555,
          22787,
          9280,
          168595,
          8984,
          17007,
          9501,
          7402,
          7331,
          6650,
          6430,
          5619,
          12454,
          6641,
          5537,
          7089,
          8201,
          9873,
          17051,
          6037,
          10060,
          10972,
          10852,
          11365,
          6669,
          68253,
          10834,
          4540,
          10107,
          20237,
          3886,
          13225,
          6878,
          5324,
          7781,
          5995,
          10172,
          22439,
          9362,
          26999,
          9568,
          21673,
          11785,
          166711,
          11504,
          7029,
          280275,
          4220,
          5463,
          11755,
          6258,
          5969,
          10958,
          7782,
          9253,
          4583,
          15151,
          5451,
          11097,
          6851,
          13410,
          10113,
          6133,
          6916,
          4376,
          3878,
          6089,
          5382,
          6490,
          6031,
          7165,
          14736,
          6174,
          19188,
          8554,
          9641,
          8064,
          4773,
          7137,
          5506,
          5551,
          6131,
          6497,
          11225,
          12045,
          26970,
          6357,
          12924,
          39061,
          6533,
          19130,
          11366,
          10175,
          20634,
          6963,
          9791,
          6044,
          17708,
          7620,
          6623,
          6894,
          6485,
          17492,
          6398,
          7880,
          9348,
          8183,
          7360,
          12159,
          8665,
          5081,
          4301,
          6178,
          9553,
          4335,
          13203,
          6318,
          4749,
          6088,
          9260,
          6352,
          124928,
          14341,
          8942,
          7090,
          19295,
          3910,
          22275,
          5234,
          7110,
          29552,
          4552,
          11479,
          5129,
          7702,
          4133,
          10325,
          12176,
          9968,
          12238,
          21408,
          10668,
          5111,
          7870,
          30137,
          14583,
          21094,
          4769,
          22347,
          8673,
          5218,
          7186,
          3886,
          9901,
          11458,
          15942,
          6395,
          15996,
          27408,
          19124,
          8830
         ]
        }
       ],
       "layout": {
        "legend": {
         "bgcolor": "#151516",
         "font": {
          "color": "#D9D9D9"
         }
        },
        "paper_bgcolor": "#151516",
        "plot_bgcolor": "#151516",
        "template": {
         "data": {
          "bar": [
           {
            "error_x": {
             "color": "#2a3f5f"
            },
            "error_y": {
             "color": "#2a3f5f"
            },
            "marker": {
             "line": {
              "color": "#E5ECF6",
              "width": 0.5
             }
            },
            "type": "bar"
           }
          ],
          "barpolar": [
           {
            "marker": {
             "line": {
              "color": "#E5ECF6",
              "width": 0.5
             }
            },
            "type": "barpolar"
           }
          ],
          "carpet": [
           {
            "aaxis": {
             "endlinecolor": "#2a3f5f",
             "gridcolor": "white",
             "linecolor": "white",
             "minorgridcolor": "white",
             "startlinecolor": "#2a3f5f"
            },
            "baxis": {
             "endlinecolor": "#2a3f5f",
             "gridcolor": "white",
             "linecolor": "white",
             "minorgridcolor": "white",
             "startlinecolor": "#2a3f5f"
            },
            "type": "carpet"
           }
          ],
          "choropleth": [
           {
            "colorbar": {
             "outlinewidth": 0,
             "ticks": ""
            },
            "type": "choropleth"
           }
          ],
          "contour": [
           {
            "colorbar": {
             "outlinewidth": 0,
             "ticks": ""
            },
            "colorscale": [
             [
              0,
              "#0d0887"
             ],
             [
              0.1111111111111111,
              "#46039f"
             ],
             [
              0.2222222222222222,
              "#7201a8"
             ],
             [
              0.3333333333333333,
              "#9c179e"
             ],
             [
              0.4444444444444444,
              "#bd3786"
             ],
             [
              0.5555555555555556,
              "#d8576b"
             ],
             [
              0.6666666666666666,
              "#ed7953"
             ],
             [
              0.7777777777777778,
              "#fb9f3a"
             ],
             [
              0.8888888888888888,
              "#fdca26"
             ],
             [
              1,
              "#f0f921"
             ]
            ],
            "type": "contour"
           }
          ],
          "contourcarpet": [
           {
            "colorbar": {
             "outlinewidth": 0,
             "ticks": ""
            },
            "type": "contourcarpet"
           }
          ],
          "heatmap": [
           {
            "colorbar": {
             "outlinewidth": 0,
             "ticks": ""
            },
            "colorscale": [
             [
              0,
              "#0d0887"
             ],
             [
              0.1111111111111111,
              "#46039f"
             ],
             [
              0.2222222222222222,
              "#7201a8"
             ],
             [
              0.3333333333333333,
              "#9c179e"
             ],
             [
              0.4444444444444444,
              "#bd3786"
             ],
             [
              0.5555555555555556,
              "#d8576b"
             ],
             [
              0.6666666666666666,
              "#ed7953"
             ],
             [
              0.7777777777777778,
              "#fb9f3a"
             ],
             [
              0.8888888888888888,
              "#fdca26"
             ],
             [
              1,
              "#f0f921"
             ]
            ],
            "type": "heatmap"
           }
          ],
          "heatmapgl": [
           {
            "colorbar": {
             "outlinewidth": 0,
             "ticks": ""
            },
            "colorscale": [
             [
              0,
              "#0d0887"
             ],
             [
              0.1111111111111111,
              "#46039f"
             ],
             [
              0.2222222222222222,
              "#7201a8"
             ],
             [
              0.3333333333333333,
              "#9c179e"
             ],
             [
              0.4444444444444444,
              "#bd3786"
             ],
             [
              0.5555555555555556,
              "#d8576b"
             ],
             [
              0.6666666666666666,
              "#ed7953"
             ],
             [
              0.7777777777777778,
              "#fb9f3a"
             ],
             [
              0.8888888888888888,
              "#fdca26"
             ],
             [
              1,
              "#f0f921"
             ]
            ],
            "type": "heatmapgl"
           }
          ],
          "histogram": [
           {
            "marker": {
             "colorbar": {
              "outlinewidth": 0,
              "ticks": ""
             }
            },
            "type": "histogram"
           }
          ],
          "histogram2d": [
           {
            "colorbar": {
             "outlinewidth": 0,
             "ticks": ""
            },
            "colorscale": [
             [
              0,
              "#0d0887"
             ],
             [
              0.1111111111111111,
              "#46039f"
             ],
             [
              0.2222222222222222,
              "#7201a8"
             ],
             [
              0.3333333333333333,
              "#9c179e"
             ],
             [
              0.4444444444444444,
              "#bd3786"
             ],
             [
              0.5555555555555556,
              "#d8576b"
             ],
             [
              0.6666666666666666,
              "#ed7953"
             ],
             [
              0.7777777777777778,
              "#fb9f3a"
             ],
             [
              0.8888888888888888,
              "#fdca26"
             ],
             [
              1,
              "#f0f921"
             ]
            ],
            "type": "histogram2d"
           }
          ],
          "histogram2dcontour": [
           {
            "colorbar": {
             "outlinewidth": 0,
             "ticks": ""
            },
            "colorscale": [
             [
              0,
              "#0d0887"
             ],
             [
              0.1111111111111111,
              "#46039f"
             ],
             [
              0.2222222222222222,
              "#7201a8"
             ],
             [
              0.3333333333333333,
              "#9c179e"
             ],
             [
              0.4444444444444444,
              "#bd3786"
             ],
             [
              0.5555555555555556,
              "#d8576b"
             ],
             [
              0.6666666666666666,
              "#ed7953"
             ],
             [
              0.7777777777777778,
              "#fb9f3a"
             ],
             [
              0.8888888888888888,
              "#fdca26"
             ],
             [
              1,
              "#f0f921"
             ]
            ],
            "type": "histogram2dcontour"
           }
          ],
          "mesh3d": [
           {
            "colorbar": {
             "outlinewidth": 0,
             "ticks": ""
            },
            "type": "mesh3d"
           }
          ],
          "parcoords": [
           {
            "line": {
             "colorbar": {
              "outlinewidth": 0,
              "ticks": ""
             }
            },
            "type": "parcoords"
           }
          ],
          "pie": [
           {
            "automargin": true,
            "type": "pie"
           }
          ],
          "scatter": [
           {
            "marker": {
             "colorbar": {
              "outlinewidth": 0,
              "ticks": ""
             }
            },
            "type": "scatter"
           }
          ],
          "scatter3d": [
           {
            "line": {
             "colorbar": {
              "outlinewidth": 0,
              "ticks": ""
             }
            },
            "marker": {
             "colorbar": {
              "outlinewidth": 0,
              "ticks": ""
             }
            },
            "type": "scatter3d"
           }
          ],
          "scattercarpet": [
           {
            "marker": {
             "colorbar": {
              "outlinewidth": 0,
              "ticks": ""
             }
            },
            "type": "scattercarpet"
           }
          ],
          "scattergeo": [
           {
            "marker": {
             "colorbar": {
              "outlinewidth": 0,
              "ticks": ""
             }
            },
            "type": "scattergeo"
           }
          ],
          "scattergl": [
           {
            "marker": {
             "colorbar": {
              "outlinewidth": 0,
              "ticks": ""
             }
            },
            "type": "scattergl"
           }
          ],
          "scattermapbox": [
           {
            "marker": {
             "colorbar": {
              "outlinewidth": 0,
              "ticks": ""
             }
            },
            "type": "scattermapbox"
           }
          ],
          "scatterpolar": [
           {
            "marker": {
             "colorbar": {
              "outlinewidth": 0,
              "ticks": ""
             }
            },
            "type": "scatterpolar"
           }
          ],
          "scatterpolargl": [
           {
            "marker": {
             "colorbar": {
              "outlinewidth": 0,
              "ticks": ""
             }
            },
            "type": "scatterpolargl"
           }
          ],
          "scatterternary": [
           {
            "marker": {
             "colorbar": {
              "outlinewidth": 0,
              "ticks": ""
             }
            },
            "type": "scatterternary"
           }
          ],
          "surface": [
           {
            "colorbar": {
             "outlinewidth": 0,
             "ticks": ""
            },
            "colorscale": [
             [
              0,
              "#0d0887"
             ],
             [
              0.1111111111111111,
              "#46039f"
             ],
             [
              0.2222222222222222,
              "#7201a8"
             ],
             [
              0.3333333333333333,
              "#9c179e"
             ],
             [
              0.4444444444444444,
              "#bd3786"
             ],
             [
              0.5555555555555556,
              "#d8576b"
             ],
             [
              0.6666666666666666,
              "#ed7953"
             ],
             [
              0.7777777777777778,
              "#fb9f3a"
             ],
             [
              0.8888888888888888,
              "#fdca26"
             ],
             [
              1,
              "#f0f921"
             ]
            ],
            "type": "surface"
           }
          ],
          "table": [
           {
            "cells": {
             "fill": {
              "color": "#EBF0F8"
             },
             "line": {
              "color": "white"
             }
            },
            "header": {
             "fill": {
              "color": "#C8D4E3"
             },
             "line": {
              "color": "white"
             }
            },
            "type": "table"
           }
          ]
         },
         "layout": {
          "annotationdefaults": {
           "arrowcolor": "#2a3f5f",
           "arrowhead": 0,
           "arrowwidth": 1
          },
          "coloraxis": {
           "colorbar": {
            "outlinewidth": 0,
            "ticks": ""
           }
          },
          "colorscale": {
           "diverging": [
            [
             0,
             "#8e0152"
            ],
            [
             0.1,
             "#c51b7d"
            ],
            [
             0.2,
             "#de77ae"
            ],
            [
             0.3,
             "#f1b6da"
            ],
            [
             0.4,
             "#fde0ef"
            ],
            [
             0.5,
             "#f7f7f7"
            ],
            [
             0.6,
             "#e6f5d0"
            ],
            [
             0.7,
             "#b8e186"
            ],
            [
             0.8,
             "#7fbc41"
            ],
            [
             0.9,
             "#4d9221"
            ],
            [
             1,
             "#276419"
            ]
           ],
           "sequential": [
            [
             0,
             "#0d0887"
            ],
            [
             0.1111111111111111,
             "#46039f"
            ],
            [
             0.2222222222222222,
             "#7201a8"
            ],
            [
             0.3333333333333333,
             "#9c179e"
            ],
            [
             0.4444444444444444,
             "#bd3786"
            ],
            [
             0.5555555555555556,
             "#d8576b"
            ],
            [
             0.6666666666666666,
             "#ed7953"
            ],
            [
             0.7777777777777778,
             "#fb9f3a"
            ],
            [
             0.8888888888888888,
             "#fdca26"
            ],
            [
             1,
             "#f0f921"
            ]
           ],
           "sequentialminus": [
            [
             0,
             "#0d0887"
            ],
            [
             0.1111111111111111,
             "#46039f"
            ],
            [
             0.2222222222222222,
             "#7201a8"
            ],
            [
             0.3333333333333333,
             "#9c179e"
            ],
            [
             0.4444444444444444,
             "#bd3786"
            ],
            [
             0.5555555555555556,
             "#d8576b"
            ],
            [
             0.6666666666666666,
             "#ed7953"
            ],
            [
             0.7777777777777778,
             "#fb9f3a"
            ],
            [
             0.8888888888888888,
             "#fdca26"
            ],
            [
             1,
             "#f0f921"
            ]
           ]
          },
          "colorway": [
           "#636efa",
           "#EF553B",
           "#00cc96",
           "#ab63fa",
           "#FFA15A",
           "#19d3f3",
           "#FF6692",
           "#B6E880",
           "#FF97FF",
           "#FECB52"
          ],
          "font": {
           "color": "#2a3f5f"
          },
          "geo": {
           "bgcolor": "white",
           "lakecolor": "white",
           "landcolor": "#E5ECF6",
           "showlakes": true,
           "showland": true,
           "subunitcolor": "white"
          },
          "hoverlabel": {
           "align": "left"
          },
          "hovermode": "closest",
          "mapbox": {
           "style": "light"
          },
          "paper_bgcolor": "white",
          "plot_bgcolor": "#E5ECF6",
          "polar": {
           "angularaxis": {
            "gridcolor": "white",
            "linecolor": "white",
            "ticks": ""
           },
           "bgcolor": "#E5ECF6",
           "radialaxis": {
            "gridcolor": "white",
            "linecolor": "white",
            "ticks": ""
           }
          },
          "scene": {
           "xaxis": {
            "backgroundcolor": "#E5ECF6",
            "gridcolor": "white",
            "gridwidth": 2,
            "linecolor": "white",
            "showbackground": true,
            "ticks": "",
            "zerolinecolor": "white"
           },
           "yaxis": {
            "backgroundcolor": "#E5ECF6",
            "gridcolor": "white",
            "gridwidth": 2,
            "linecolor": "white",
            "showbackground": true,
            "ticks": "",
            "zerolinecolor": "white"
           },
           "zaxis": {
            "backgroundcolor": "#E5ECF6",
            "gridcolor": "white",
            "gridwidth": 2,
            "linecolor": "white",
            "showbackground": true,
            "ticks": "",
            "zerolinecolor": "white"
           }
          },
          "shapedefaults": {
           "line": {
            "color": "#2a3f5f"
           }
          },
          "ternary": {
           "aaxis": {
            "gridcolor": "white",
            "linecolor": "white",
            "ticks": ""
           },
           "baxis": {
            "gridcolor": "white",
            "linecolor": "white",
            "ticks": ""
           },
           "bgcolor": "#E5ECF6",
           "caxis": {
            "gridcolor": "white",
            "linecolor": "white",
            "ticks": ""
           }
          },
          "title": {
           "x": 0.05
          },
          "xaxis": {
           "automargin": true,
           "gridcolor": "white",
           "linecolor": "white",
           "ticks": "",
           "title": {
            "standoff": 15
           },
           "zerolinecolor": "white",
           "zerolinewidth": 2
          },
          "yaxis": {
           "automargin": true,
           "gridcolor": "white",
           "linecolor": "white",
           "ticks": "",
           "title": {
            "standoff": 15
           },
           "zerolinecolor": "white",
           "zerolinewidth": 2
          }
         }
        },
        "title": {
         "font": {
          "color": "#D9D9D9"
         }
        },
        "xaxis": {
         "gridcolor": "#434343",
         "showgrid": true,
         "tickfont": {
          "color": "#C2C2C2"
         },
         "title": {
          "font": {
           "color": "#D9D9D9"
          },
          "text": ""
         },
         "zerolinecolor": "#666570"
        },
        "yaxis": {
         "gridcolor": "#434343",
         "showgrid": true,
         "tickfont": {
          "color": "#C2C2C2"
         },
         "title": {
          "font": {
           "color": "#D9D9D9"
          },
          "text": ""
         },
         "zerolinecolor": "#666570"
        }
       }
      },
      "text/html": [
       "<div>\n",
       "        \n",
       "        \n",
       "            <div id=\"853ab5bb-bae1-4ec8-8a54-1345833d80a5\" class=\"plotly-graph-div\" style=\"height:525px; width:100%;\"></div>\n",
       "            <script type=\"text/javascript\">\n",
       "                require([\"plotly\"], function(Plotly) {\n",
       "                    window.PLOTLYENV=window.PLOTLYENV || {};\n",
       "                    window.PLOTLYENV.BASE_URL='https://plot.ly';\n",
       "                    \n",
       "                if (document.getElementById(\"853ab5bb-bae1-4ec8-8a54-1345833d80a5\")) {\n",
       "                    Plotly.newPlot(\n",
       "                        '853ab5bb-bae1-4ec8-8a54-1345833d80a5',\n",
       "                        [{\"line\": {\"color\": \"rgba(229, 245, 224, 1.0)\", \"dash\": \"solid\", \"shape\": \"linear\", \"width\": 1.3}, \"marker\": {\"size\": 5, \"symbol\": \"circle\"}, \"mode\": \"markers\", \"name\": \"Population\", \"text\": \"\", \"type\": \"scatter\", \"x\": [\"ABADOU\", \"ADAGHAS\", \"ADASSIL\", \"AFALLA ISSEN\", \"AGAFAY\", \"AGHBAR\", \"AGLIF\", \"AGUERD\", \"AHDIL\", \"AIN TAZITOUNTE\", \"AIT AADEL\", \"AIT AISSI IHAHANE\", \"AIT DAOUD\", \"AIT FASKA\", \"AIT HADDOU YOUSSEF\", \"AIT HADI\", \"AIT HAMMOU\", \"AIT HKIM AIT IZID\", \"AIT IMOUR\", \"AIT OURIR\", \"AIT SAID\", \"AIT SIDI DAOUD\", \"AIT TALEB\", \"AKARMA\", \"ALOUIDANE\", \"AMGHRAS\", \"AMIZMIZ\", \"ANNAKHIL\", \"ANOUGAL\", \"AQERMOUD\", \"ASNI\", \"ASSAHRIJ\", \"ASSAIS\", \"ASSIF EL MAL\", \"AZGOUR\", \"BEN GUERIR\", \"BIZDAD\", \"BOUABOUT\", \"BOUABOUT AMDLANE\", \"BOUCHANE\", \"BOURROUS\", \"BOUYA OMAR\", \"BOUZEMMOUR\", \"CHICHAOUA\", \"CHOARA\", \"CHTAIBA\", \"DAR JAMAA\", \"DOUIRANE\", \"DZOUZ\", \"EDDACHRA\", \"EL AAMRIA\", \"EL HANCHANE\", \"EL MARBOUH\", \"ERRAFIAYA\", \"ESSAOUIRA\", \"EZZAOUITE\", \"FRAITA\", \"GHMATE\", \"GMASSA\", \"GUELIZ\", \"HAD DRA\", \"HARBIL\", \"HIADNA\", \"ICHAMRAREN\", \"IDA OU AAZZA\", \"IDA OU GUELLOUL\", \"IDA OU KAZZOU\", \"IGHIL\", \"IGUERFEROUANE\", \"IJOUKAK\", \"IMGDAL\", \"IMGRADE\", \"IMI NTLIT\", \"IMINDOUNIT\", \"IMINTANOUTE\", \"IROHALEN\", \"JAAFRA\", \"JAIDATE\", \"JBIEL\", \"JOUALA\", \"KECHOULA\", \"KELAAT SRAGHNA\", \"KORIMATE\", \"KOUZEMT\", \"LAATAMNA\", \"LAATAOUIA\", \"LAATTAOUIA ECHCHAYBIA\", \"LABRIKIYNE\", \"LAGDADRA\", \"LAHSINATE\", \"LALLA AAZIZA\", \"LALLA TAKARKOUST\", \"LAMHARRA\", \"LAMZOUDIA\", \"LOUAD LAKHDAR\", \"LOUDAYA\", \"LOUNASDA\", \"MACHOUAR KASBA\", \"MAJJAT\", \"MARRAKECH MEDINA\", \"MAYATE\", \"MEJJI\", \"MENARA\", \"MESKALA\", \"MKHALIF\", \"MNABHA\", \"MOUARID\", \"MOULAY BOU ZARQTOUNE\", \"MOULAY BRAHIM\", \"MRAMER\", \"MZEM SANHAJA\", \"MZILATE\", \"MZOUDA\", \"NFIFA\", \"NZALAT LAADAM\", \"OUAD LBOUR\", \"OUAHAT SIDI BRAHIM\", \"OUARGUI\", \"OUAZGUITA\", \"OUIRGANE\", \"OUKAIMDEN\", \"OULAD  MRABET\", \"OULAD AAMER\", \"OULAD AAMER TIZMARINE\", \"OULAD AARRAD\", \"OULAD BOUALI LOUAD\", \"OULAD CHERKI\", \"OULAD DLIM\", \"OULAD EL GARNE\", \"OULAD HASSOUNE\", \"OULAD HASSOUNE HAMRI\", \"OULAD IMLOUL\", \"OULAD KHALLOUF\", \"OULAD MASSAOUD\", \"OULAD MOUMNA\", \"OULAD MSABBEL\", \"OULAD MTAA\", \"OULAD SBIH\", \"OULAD YACOUB\", \"OULAD ZARRAD\", \"OUNAGHA\", \"OURIKA\", \"RAHHALA\", \"RAS AIN RHAMNA\", \"SAADA\", \"SAIDATE\", \"SID LMOKHTAR\", \"SID ZOUINE\", \"SIDI ABDALLAH\", \"SIDI ABDALLAH GHIAT\", \"SIDI ABDELJALIL\", \"SIDI ABDELMOUMEN\", \"SIDI AHMED ESSAYEH\", \"SIDI AISSA BEN SLIMANE\", \"SIDI AISSA REGRAGUI\", \"SIDI ALI EL KORATI\", \"SIDI ALI LABRAHLA\", \"SIDI BADHAJ\", \"SIDI BOU OTHMANE\", \"SIDI BOUBKER\", \"SIDI BOULAALAM\", \"SIDI BOUZID ARRAGRAGUI\", \"SIDI EL HATTAB\", \"SIDI EL JAZOULI\", \"SIDI GHANEM\", \"SIDI GHANEM\", \"SIDI GHANEM\", \"SIDI HMAD OU HAMED\", \"SIDI HMAD OU MBAREK\", \"SIDI ISHAQ\", \"SIDI KAOUKI\", \"SIDI LAAROUSSI\", \"SIDI MANSOUR\", \"SIDI MHAMED DALIL\", \"SIDI MHAMED OU MARZOUQ\", \"SIDI MOUSSA\", \"SIDI RAHHAL\", \"SIDI YOUSSEF BEN ALI\", \"SKHOUR RHAMNA\", \"SKOURA LHADRA\", \"SMIMOU\", \"SOUIHLA\", \"SOUR EL AAZ\", \"STI FADMA\", \"TAFEDNA\", \"TAFETACHTE\", \"TAHANNAOUT\", \"TAHELOUANTE\", \"TAKATE\", \"TAKOUCHT\", \"TALAT NYAAQOUB\", \"TALMEST\", \"TAMAGUERT\", \"TAMALLALT\", \"TAMANAR\", \"TAMAZOUZTE\", \"TAMESLOHTE\", \"TAOULOUKOULT\", \"TAOUZINT\", \"TARGANTE\", \"TASSOULTANTE\", \"TAZART\", \"TIDILI MESFIOUA\", \"TIDZI\", \"TIGHEDOUINE\", \"TIMEZGADIOUINE\", \"TIMIZGUIDA OUFTAS\", \"TIMLILT\", \"TIZGUINE\", \"TLAUH\", \"TOUAMA\", \"ZAOUIAT ANNAHLIA\", \"ZAOUIAT BEN HMIDA\", \"ZEMRANE\", \"ZEMRANE CHARQIA\", \"ZERKTEN\", \"ZNADA\"], \"y\": [9905, 3321, 7212, 7961, 11079, 4608, 8934, 4917, 11764, 5947, 6967, 5437, 2497, 19228, 5537, 6313, 7499, 8112, 12164, 19864, 7081, 19275, 8871, 5662, 20925, 4222, 13650, 54111, 4169, 15037, 18617, 14165, 7603, 6711, 6314, 62693, 8533, 12196, 8226, 9554, 5748, 12924, 6627, 15643, 9577, 7874, 5762, 14180, 9521, 6754, 8382, 4698, 7567, 4559, 69005, 6557, 10555, 22787, 9280, 168595, 8984, 17007, 9501, 7402, 7331, 6650, 6430, 5619, 12454, 6641, 5537, 7089, 8201, 9873, 17051, 6037, 10060, 10972, 10852, 11365, 6669, 68253, 10834, 4540, 10107, 20237, 3886, 13225, 6878, 5324, 7781, 5995, 10172, 22439, 9362, 26999, 9568, 21673, 11785, 166711, 11504, 7029, 280275, 4220, 5463, 11755, 6258, 5969, 10958, 7782, 9253, 4583, 15151, 5451, 11097, 6851, 13410, 10113, 6133, 6916, 4376, 3878, 6089, 5382, 6490, 6031, 7165, 14736, 6174, 19188, 8554, 9641, 8064, 4773, 7137, 5506, 5551, 6131, 6497, 11225, 12045, 26970, 6357, 12924, 39061, 6533, 19130, 11366, 10175, 20634, 6963, 9791, 6044, 17708, 7620, 6623, 6894, 6485, 17492, 6398, 7880, 9348, 8183, 7360, 12159, 8665, 5081, 4301, 6178, 9553, 4335, 13203, 6318, 4749, 6088, 9260, 6352, 124928, 14341, 8942, 7090, 19295, 3910, 22275, 5234, 7110, 29552, 4552, 11479, 5129, 7702, 4133, 10325, 12176, 9968, 12238, 21408, 10668, 5111, 7870, 30137, 14583, 21094, 4769, 22347, 8673, 5218, 7186, 3886, 9901, 11458, 15942, 6395, 15996, 27408, 19124, 8830]}],\n",
       "                        {\"legend\": {\"bgcolor\": \"#151516\", \"font\": {\"color\": \"#D9D9D9\"}}, \"paper_bgcolor\": \"#151516\", \"plot_bgcolor\": \"#151516\", \"template\": {\"data\": {\"bar\": [{\"error_x\": {\"color\": \"#2a3f5f\"}, \"error_y\": {\"color\": \"#2a3f5f\"}, \"marker\": {\"line\": {\"color\": \"#E5ECF6\", \"width\": 0.5}}, \"type\": \"bar\"}], \"barpolar\": [{\"marker\": {\"line\": {\"color\": \"#E5ECF6\", \"width\": 0.5}}, \"type\": \"barpolar\"}], \"carpet\": [{\"aaxis\": {\"endlinecolor\": \"#2a3f5f\", \"gridcolor\": \"white\", \"linecolor\": \"white\", \"minorgridcolor\": \"white\", \"startlinecolor\": \"#2a3f5f\"}, \"baxis\": {\"endlinecolor\": \"#2a3f5f\", \"gridcolor\": \"white\", \"linecolor\": \"white\", \"minorgridcolor\": \"white\", \"startlinecolor\": \"#2a3f5f\"}, \"type\": \"carpet\"}], \"choropleth\": [{\"colorbar\": {\"outlinewidth\": 0, \"ticks\": \"\"}, \"type\": \"choropleth\"}], \"contour\": [{\"colorbar\": {\"outlinewidth\": 0, \"ticks\": \"\"}, \"colorscale\": [[0.0, \"#0d0887\"], [0.1111111111111111, \"#46039f\"], [0.2222222222222222, \"#7201a8\"], [0.3333333333333333, \"#9c179e\"], [0.4444444444444444, \"#bd3786\"], [0.5555555555555556, \"#d8576b\"], [0.6666666666666666, \"#ed7953\"], [0.7777777777777778, \"#fb9f3a\"], [0.8888888888888888, \"#fdca26\"], [1.0, \"#f0f921\"]], \"type\": \"contour\"}], \"contourcarpet\": [{\"colorbar\": {\"outlinewidth\": 0, \"ticks\": \"\"}, \"type\": \"contourcarpet\"}], \"heatmap\": [{\"colorbar\": {\"outlinewidth\": 0, \"ticks\": \"\"}, \"colorscale\": [[0.0, \"#0d0887\"], [0.1111111111111111, \"#46039f\"], [0.2222222222222222, \"#7201a8\"], [0.3333333333333333, \"#9c179e\"], [0.4444444444444444, \"#bd3786\"], [0.5555555555555556, \"#d8576b\"], [0.6666666666666666, \"#ed7953\"], [0.7777777777777778, \"#fb9f3a\"], [0.8888888888888888, \"#fdca26\"], [1.0, \"#f0f921\"]], \"type\": \"heatmap\"}], \"heatmapgl\": [{\"colorbar\": {\"outlinewidth\": 0, \"ticks\": \"\"}, \"colorscale\": [[0.0, \"#0d0887\"], [0.1111111111111111, \"#46039f\"], [0.2222222222222222, \"#7201a8\"], [0.3333333333333333, \"#9c179e\"], [0.4444444444444444, \"#bd3786\"], [0.5555555555555556, \"#d8576b\"], [0.6666666666666666, \"#ed7953\"], [0.7777777777777778, \"#fb9f3a\"], [0.8888888888888888, \"#fdca26\"], [1.0, \"#f0f921\"]], \"type\": \"heatmapgl\"}], \"histogram\": [{\"marker\": {\"colorbar\": {\"outlinewidth\": 0, \"ticks\": \"\"}}, \"type\": \"histogram\"}], \"histogram2d\": [{\"colorbar\": {\"outlinewidth\": 0, \"ticks\": \"\"}, \"colorscale\": [[0.0, \"#0d0887\"], [0.1111111111111111, \"#46039f\"], [0.2222222222222222, \"#7201a8\"], [0.3333333333333333, \"#9c179e\"], [0.4444444444444444, \"#bd3786\"], [0.5555555555555556, \"#d8576b\"], [0.6666666666666666, \"#ed7953\"], [0.7777777777777778, \"#fb9f3a\"], [0.8888888888888888, \"#fdca26\"], [1.0, \"#f0f921\"]], \"type\": \"histogram2d\"}], \"histogram2dcontour\": [{\"colorbar\": {\"outlinewidth\": 0, \"ticks\": \"\"}, \"colorscale\": [[0.0, \"#0d0887\"], [0.1111111111111111, \"#46039f\"], [0.2222222222222222, \"#7201a8\"], [0.3333333333333333, \"#9c179e\"], [0.4444444444444444, \"#bd3786\"], [0.5555555555555556, \"#d8576b\"], [0.6666666666666666, \"#ed7953\"], [0.7777777777777778, \"#fb9f3a\"], [0.8888888888888888, \"#fdca26\"], [1.0, \"#f0f921\"]], \"type\": \"histogram2dcontour\"}], \"mesh3d\": [{\"colorbar\": {\"outlinewidth\": 0, \"ticks\": \"\"}, \"type\": \"mesh3d\"}], \"parcoords\": [{\"line\": {\"colorbar\": {\"outlinewidth\": 0, \"ticks\": \"\"}}, \"type\": \"parcoords\"}], \"pie\": [{\"automargin\": true, \"type\": \"pie\"}], \"scatter\": [{\"marker\": {\"colorbar\": {\"outlinewidth\": 0, \"ticks\": \"\"}}, \"type\": \"scatter\"}], \"scatter3d\": [{\"line\": {\"colorbar\": {\"outlinewidth\": 0, \"ticks\": \"\"}}, \"marker\": {\"colorbar\": {\"outlinewidth\": 0, \"ticks\": \"\"}}, \"type\": \"scatter3d\"}], \"scattercarpet\": [{\"marker\": {\"colorbar\": {\"outlinewidth\": 0, \"ticks\": \"\"}}, \"type\": \"scattercarpet\"}], \"scattergeo\": [{\"marker\": {\"colorbar\": {\"outlinewidth\": 0, \"ticks\": \"\"}}, \"type\": \"scattergeo\"}], \"scattergl\": [{\"marker\": {\"colorbar\": {\"outlinewidth\": 0, \"ticks\": \"\"}}, \"type\": \"scattergl\"}], \"scattermapbox\": [{\"marker\": {\"colorbar\": {\"outlinewidth\": 0, \"ticks\": \"\"}}, \"type\": \"scattermapbox\"}], \"scatterpolar\": [{\"marker\": {\"colorbar\": {\"outlinewidth\": 0, \"ticks\": \"\"}}, \"type\": \"scatterpolar\"}], \"scatterpolargl\": [{\"marker\": {\"colorbar\": {\"outlinewidth\": 0, \"ticks\": \"\"}}, \"type\": \"scatterpolargl\"}], \"scatterternary\": [{\"marker\": {\"colorbar\": {\"outlinewidth\": 0, \"ticks\": \"\"}}, \"type\": \"scatterternary\"}], \"surface\": [{\"colorbar\": {\"outlinewidth\": 0, \"ticks\": \"\"}, \"colorscale\": [[0.0, \"#0d0887\"], [0.1111111111111111, \"#46039f\"], [0.2222222222222222, \"#7201a8\"], [0.3333333333333333, \"#9c179e\"], [0.4444444444444444, \"#bd3786\"], [0.5555555555555556, \"#d8576b\"], [0.6666666666666666, \"#ed7953\"], [0.7777777777777778, \"#fb9f3a\"], [0.8888888888888888, \"#fdca26\"], [1.0, \"#f0f921\"]], \"type\": \"surface\"}], \"table\": [{\"cells\": {\"fill\": {\"color\": \"#EBF0F8\"}, \"line\": {\"color\": \"white\"}}, \"header\": {\"fill\": {\"color\": \"#C8D4E3\"}, \"line\": {\"color\": \"white\"}}, \"type\": \"table\"}]}, \"layout\": {\"annotationdefaults\": {\"arrowcolor\": \"#2a3f5f\", \"arrowhead\": 0, \"arrowwidth\": 1}, \"coloraxis\": {\"colorbar\": {\"outlinewidth\": 0, \"ticks\": \"\"}}, \"colorscale\": {\"diverging\": [[0, \"#8e0152\"], [0.1, \"#c51b7d\"], [0.2, \"#de77ae\"], [0.3, \"#f1b6da\"], [0.4, \"#fde0ef\"], [0.5, \"#f7f7f7\"], [0.6, \"#e6f5d0\"], [0.7, \"#b8e186\"], [0.8, \"#7fbc41\"], [0.9, \"#4d9221\"], [1, \"#276419\"]], \"sequential\": [[0.0, \"#0d0887\"], [0.1111111111111111, \"#46039f\"], [0.2222222222222222, \"#7201a8\"], [0.3333333333333333, \"#9c179e\"], [0.4444444444444444, \"#bd3786\"], [0.5555555555555556, \"#d8576b\"], [0.6666666666666666, \"#ed7953\"], [0.7777777777777778, \"#fb9f3a\"], [0.8888888888888888, \"#fdca26\"], [1.0, \"#f0f921\"]], \"sequentialminus\": [[0.0, \"#0d0887\"], [0.1111111111111111, \"#46039f\"], [0.2222222222222222, \"#7201a8\"], [0.3333333333333333, \"#9c179e\"], [0.4444444444444444, \"#bd3786\"], [0.5555555555555556, \"#d8576b\"], [0.6666666666666666, \"#ed7953\"], [0.7777777777777778, \"#fb9f3a\"], [0.8888888888888888, \"#fdca26\"], [1.0, \"#f0f921\"]]}, \"colorway\": [\"#636efa\", \"#EF553B\", \"#00cc96\", \"#ab63fa\", \"#FFA15A\", \"#19d3f3\", \"#FF6692\", \"#B6E880\", \"#FF97FF\", \"#FECB52\"], \"font\": {\"color\": \"#2a3f5f\"}, \"geo\": {\"bgcolor\": \"white\", \"lakecolor\": \"white\", \"landcolor\": \"#E5ECF6\", \"showlakes\": true, \"showland\": true, \"subunitcolor\": \"white\"}, \"hoverlabel\": {\"align\": \"left\"}, \"hovermode\": \"closest\", \"mapbox\": {\"style\": \"light\"}, \"paper_bgcolor\": \"white\", \"plot_bgcolor\": \"#E5ECF6\", \"polar\": {\"angularaxis\": {\"gridcolor\": \"white\", \"linecolor\": \"white\", \"ticks\": \"\"}, \"bgcolor\": \"#E5ECF6\", \"radialaxis\": {\"gridcolor\": \"white\", \"linecolor\": \"white\", \"ticks\": \"\"}}, \"scene\": {\"xaxis\": {\"backgroundcolor\": \"#E5ECF6\", \"gridcolor\": \"white\", \"gridwidth\": 2, \"linecolor\": \"white\", \"showbackground\": true, \"ticks\": \"\", \"zerolinecolor\": \"white\"}, \"yaxis\": {\"backgroundcolor\": \"#E5ECF6\", \"gridcolor\": \"white\", \"gridwidth\": 2, \"linecolor\": \"white\", \"showbackground\": true, \"ticks\": \"\", \"zerolinecolor\": \"white\"}, \"zaxis\": {\"backgroundcolor\": \"#E5ECF6\", \"gridcolor\": \"white\", \"gridwidth\": 2, \"linecolor\": \"white\", \"showbackground\": true, \"ticks\": \"\", \"zerolinecolor\": \"white\"}}, \"shapedefaults\": {\"line\": {\"color\": \"#2a3f5f\"}}, \"ternary\": {\"aaxis\": {\"gridcolor\": \"white\", \"linecolor\": \"white\", \"ticks\": \"\"}, \"baxis\": {\"gridcolor\": \"white\", \"linecolor\": \"white\", \"ticks\": \"\"}, \"bgcolor\": \"#E5ECF6\", \"caxis\": {\"gridcolor\": \"white\", \"linecolor\": \"white\", \"ticks\": \"\"}}, \"title\": {\"x\": 0.05}, \"xaxis\": {\"automargin\": true, \"gridcolor\": \"white\", \"linecolor\": \"white\", \"ticks\": \"\", \"title\": {\"standoff\": 15}, \"zerolinecolor\": \"white\", \"zerolinewidth\": 2}, \"yaxis\": {\"automargin\": true, \"gridcolor\": \"white\", \"linecolor\": \"white\", \"ticks\": \"\", \"title\": {\"standoff\": 15}, \"zerolinecolor\": \"white\", \"zerolinewidth\": 2}}}, \"title\": {\"font\": {\"color\": \"#D9D9D9\"}}, \"xaxis\": {\"gridcolor\": \"#434343\", \"showgrid\": true, \"tickfont\": {\"color\": \"#C2C2C2\"}, \"title\": {\"font\": {\"color\": \"#D9D9D9\"}, \"text\": \"\"}, \"zerolinecolor\": \"#666570\"}, \"yaxis\": {\"gridcolor\": \"#434343\", \"showgrid\": true, \"tickfont\": {\"color\": \"#C2C2C2\"}, \"title\": {\"font\": {\"color\": \"#D9D9D9\"}, \"text\": \"\"}, \"zerolinecolor\": \"#666570\"}},\n",
       "                        {\"showLink\": true, \"linkText\": \"Export to plot.ly\", \"plotlyServerURL\": \"https://plot.ly\", \"responsive\": true}\n",
       "                    ).then(function(){\n",
       "                            \n",
       "var gd = document.getElementById('853ab5bb-bae1-4ec8-8a54-1345833d80a5');\n",
       "var x = new MutationObserver(function (mutations, observer) {{\n",
       "        var display = window.getComputedStyle(gd).display;\n",
       "        if (!display || display === 'none') {{\n",
       "            console.log([gd, 'removed!']);\n",
       "            Plotly.purge(gd);\n",
       "            observer.disconnect();\n",
       "        }}\n",
       "}});\n",
       "\n",
       "// Listen for the removal of the full notebook cells\n",
       "var notebookContainer = gd.closest('#notebook-container');\n",
       "if (notebookContainer) {{\n",
       "    x.observe(notebookContainer, {childList: true});\n",
       "}}\n",
       "\n",
       "// Listen for the clearing of the current output cell\n",
       "var outputEl = gd.closest('.output');\n",
       "if (outputEl) {{\n",
       "    x.observe(outputEl, {childList: true});\n",
       "}}\n",
       "\n",
       "                        })\n",
       "                };\n",
       "                });\n",
       "            </script>\n",
       "        </div>"
      ]
     },
     "metadata": {},
     "output_type": "display_data"
    }
   ],
   "source": [
    "dfc.iplot(x='Nom_Commune' , y='Population', kind='scatter', theme='solar' , colorscale='greens', mode='markers', size=5 )"
   ]
  },
  {
   "cell_type": "markdown",
   "metadata": {},
   "source": [
    "<b> Comments : </b>"
   ]
  },
  {
   "cell_type": "markdown",
   "metadata": {},
   "source": [
    "The distribution of the population shows that most of the communes of the region have a population under 50 000. And extreme values of the population are the communes near to Marrakech. "
   ]
  },
  {
   "cell_type": "markdown",
   "metadata": {},
   "source": [
    "## Question 10"
   ]
  },
  {
   "cell_type": "markdown",
   "metadata": {},
   "source": [
    "Graphical representation of the activity rate as a function of the illiteracy rate. Scatter plot is the appropriate choice."
   ]
  },
  {
   "cell_type": "markdown",
   "metadata": {},
   "source": [
    "1. with Matplotlib :"
   ]
  },
  {
   "cell_type": "code",
   "execution_count": 25,
   "metadata": {},
   "outputs": [
    {
     "data": {
      "text/plain": [
       "<matplotlib.axes._subplots.AxesSubplot at 0x1c23f40748>"
      ]
     },
     "execution_count": 25,
     "metadata": {},
     "output_type": "execute_result"
    },
    {
     "data": {
      "image/png": "[encoded data removed]",
      "text/plain": [
       "<Figure size 648x432 with 2 Axes>"
      ]
     },
     "metadata": {},
     "output_type": "display_data"
    }
   ],
   "source": [
    "dfc.plot.hexbin(x='Taux_Analphabetisme',y='Taux_activite',gridsize=20, figsize=(9,6), title=\"Taux d'activité en fonction du taux d'analphabetisme\", cmap='Greens')"
   ]
  },
  {
   "cell_type": "markdown",
   "metadata": {},
   "source": [
    "2. With Seaborn : "
   ]
  },
  {
   "cell_type": "code",
   "execution_count": 26,
   "metadata": {},
   "outputs": [
    {
     "data": {
      "text/plain": [
       "<seaborn.axisgrid.PairGrid at 0x1c230d2470>"
      ]
     },
     "execution_count": 26,
     "metadata": {},
     "output_type": "execute_result"
    },
    {
     "data": {
      "image/png": "[encoded data removed]",
      "text/plain": [
       "<Figure size 592.234x504 with 6 Axes>"
      ]
     },
     "metadata": {},
     "output_type": "display_data"
    }
   ],
   "source": [
    "sns.pairplot(dfc[[\"Taux_Analphabetisme\",\"Taux_activite\",\"Type_Commune\"]],hue='Type_Commune', height=3.5)"
   ]
  },
  {
   "cell_type": "markdown",
   "metadata": {},
   "source": [
    "<b> Comments : </b>"
   ]
  },
  {
   "cell_type": "markdown",
   "metadata": {},
   "source": [
    "We can see clearly the impact of the type of the commune in the activity rate as a function of the illeteracy rate. <br>\n",
    "In urban areas : as the illeteracy rate get higher, the activity rate get lower. Because almost jobs require an educated cursus.<br>\n",
    "In rural areas : the two parameters are independants, because in rural areas, the active population are not necessarly educated. "
   ]
  },
  {
   "cell_type": "markdown",
   "metadata": {},
   "source": [
    "## Question 11"
   ]
  },
  {
   "cell_type": "markdown",
   "metadata": {},
   "source": [
    "Add in dfc a column representing the population density of the communes noted 'densite_pop'. "
   ]
  },
  {
   "cell_type": "code",
   "execution_count": 27,
   "metadata": {},
   "outputs": [
    {
     "data": {
      "text/html": [
       "<div>\n",
       "<style scoped>\n",
       "    .dataframe tbody tr th:only-of-type {\n",
       "        vertical-align: middle;\n",
       "    }\n",
       "\n",
       "    .dataframe tbody tr th {\n",
       "        vertical-align: top;\n",
       "    }\n",
       "\n",
       "    .dataframe thead th {\n",
       "        text-align: right;\n",
       "    }\n",
       "</style>\n",
       "<table border=\"1\" class=\"dataframe\">\n",
       "  <thead>\n",
       "    <tr style=\"text-align: right;\">\n",
       "      <th></th>\n",
       "      <th>Nom_Commune</th>\n",
       "      <th>Population</th>\n",
       "      <th>Surface_ha</th>\n",
       "      <th>densite_pop</th>\n",
       "    </tr>\n",
       "  </thead>\n",
       "  <tbody>\n",
       "    <tr>\n",
       "      <th>0</th>\n",
       "      <td>ABADOU</td>\n",
       "      <td>9905</td>\n",
       "      <td>9504.74</td>\n",
       "      <td>104.211162</td>\n",
       "    </tr>\n",
       "    <tr>\n",
       "      <th>1</th>\n",
       "      <td>ADAGHAS</td>\n",
       "      <td>3321</td>\n",
       "      <td>9266.43</td>\n",
       "      <td>35.839045</td>\n",
       "    </tr>\n",
       "    <tr>\n",
       "      <th>2</th>\n",
       "      <td>ADASSIL</td>\n",
       "      <td>7212</td>\n",
       "      <td>14560.61</td>\n",
       "      <td>49.530892</td>\n",
       "    </tr>\n",
       "    <tr>\n",
       "      <th>3</th>\n",
       "      <td>AFALLA ISSEN</td>\n",
       "      <td>7961</td>\n",
       "      <td>12295.32</td>\n",
       "      <td>64.748213</td>\n",
       "    </tr>\n",
       "    <tr>\n",
       "      <th>4</th>\n",
       "      <td>AGAFAY</td>\n",
       "      <td>11079</td>\n",
       "      <td>18889.36</td>\n",
       "      <td>58.652067</td>\n",
       "    </tr>\n",
       "  </tbody>\n",
       "</table>\n",
       "</div>"
      ],
      "text/plain": [
       "    Nom_Commune  Population  Surface_ha  densite_pop\n",
       "0        ABADOU        9905     9504.74   104.211162\n",
       "1       ADAGHAS        3321     9266.43    35.839045\n",
       "2       ADASSIL        7212    14560.61    49.530892\n",
       "3  AFALLA ISSEN        7961    12295.32    64.748213\n",
       "4        AGAFAY       11079    18889.36    58.652067"
      ]
     },
     "execution_count": 27,
     "metadata": {},
     "output_type": "execute_result"
    }
   ],
   "source": [
    "dfc['densite_pop'] = (100*dfc['Population'] / dfc['Surface_ha'])      \n",
    "dfc[['Nom_Commune', 'Population', 'Surface_ha', 'densite_pop']] .head()"
   ]
  },
  {
   "cell_type": "markdown",
   "metadata": {},
   "source": [
    "## Question 12"
   ]
  },
  {
   "cell_type": "markdown",
   "metadata": {},
   "source": [
    "Write a function labeled 'codeProvince' to extract the province code from the municipality code."
   ]
  },
  {
   "cell_type": "code",
   "execution_count": 28,
   "metadata": {},
   "outputs": [],
   "source": [
    "def codeProvince(x) : \n",
    "    return(x[0:3])"
   ]
  },
  {
   "cell_type": "markdown",
   "metadata": {},
   "source": [
    "Add the column 'Code_Province' in 'dfc' by applying the function 'codeProvince'."
   ]
  },
  {
   "cell_type": "code",
   "execution_count": 29,
   "metadata": {},
   "outputs": [],
   "source": [
    "dfc['Code_Province'] = dfc['Code_Commune'].apply(lambda x:codeProvince(x)) "
   ]
  },
  {
   "cell_type": "code",
   "execution_count": 30,
   "metadata": {},
   "outputs": [
    {
     "data": {
      "text/html": [
       "<div>\n",
       "<style scoped>\n",
       "    .dataframe tbody tr th:only-of-type {\n",
       "        vertical-align: middle;\n",
       "    }\n",
       "\n",
       "    .dataframe tbody tr th {\n",
       "        vertical-align: top;\n",
       "    }\n",
       "\n",
       "    .dataframe thead th {\n",
       "        text-align: right;\n",
       "    }\n",
       "</style>\n",
       "<table border=\"1\" class=\"dataframe\">\n",
       "  <thead>\n",
       "    <tr style=\"text-align: right;\">\n",
       "      <th></th>\n",
       "      <th>Nom_Commune</th>\n",
       "      <th>Code_Commune</th>\n",
       "      <th>Type_Commune</th>\n",
       "      <th>Surface_ha</th>\n",
       "      <th>Population</th>\n",
       "      <th>Pop_inf6_pc</th>\n",
       "      <th>Pop_615_pc</th>\n",
       "      <th>Pop_1560_pc</th>\n",
       "      <th>Pop_sup60_pc</th>\n",
       "      <th>Celebataire_pc</th>\n",
       "      <th>Marie_pc</th>\n",
       "      <th>Mrge_Autre_pc</th>\n",
       "      <th>Age_Moyen_1marriage</th>\n",
       "      <th>Taux_Analphabetisme</th>\n",
       "      <th>Taux_activite</th>\n",
       "      <th>densite_pop</th>\n",
       "      <th>Code_Province</th>\n",
       "    </tr>\n",
       "  </thead>\n",
       "  <tbody>\n",
       "    <tr>\n",
       "      <th>0</th>\n",
       "      <td>ABADOU</td>\n",
       "      <td>041.03.01</td>\n",
       "      <td>Rural</td>\n",
       "      <td>9504.74</td>\n",
       "      <td>9905</td>\n",
       "      <td>13.6</td>\n",
       "      <td>24.1</td>\n",
       "      <td>53.7</td>\n",
       "      <td>8.6</td>\n",
       "      <td>31.8</td>\n",
       "      <td>61.1</td>\n",
       "      <td>7.1</td>\n",
       "      <td>25.6</td>\n",
       "      <td>58.3</td>\n",
       "      <td>40.6</td>\n",
       "      <td>104.211162</td>\n",
       "      <td>041</td>\n",
       "    </tr>\n",
       "    <tr>\n",
       "      <th>1</th>\n",
       "      <td>ADAGHAS</td>\n",
       "      <td>211.05.01</td>\n",
       "      <td>Rural</td>\n",
       "      <td>9266.43</td>\n",
       "      <td>3321</td>\n",
       "      <td>17.2</td>\n",
       "      <td>24.3</td>\n",
       "      <td>48.5</td>\n",
       "      <td>10.0</td>\n",
       "      <td>29.3</td>\n",
       "      <td>63.9</td>\n",
       "      <td>6.8</td>\n",
       "      <td>25.3</td>\n",
       "      <td>68.1</td>\n",
       "      <td>37.6</td>\n",
       "      <td>35.839045</td>\n",
       "      <td>211</td>\n",
       "    </tr>\n",
       "    <tr>\n",
       "      <th>2</th>\n",
       "      <td>ADASSIL</td>\n",
       "      <td>161.07.01</td>\n",
       "      <td>Rural</td>\n",
       "      <td>14560.61</td>\n",
       "      <td>7212</td>\n",
       "      <td>15.4</td>\n",
       "      <td>26.9</td>\n",
       "      <td>49.8</td>\n",
       "      <td>7.9</td>\n",
       "      <td>27.4</td>\n",
       "      <td>65.5</td>\n",
       "      <td>7.1</td>\n",
       "      <td>24.7</td>\n",
       "      <td>78.2</td>\n",
       "      <td>48.0</td>\n",
       "      <td>49.530892</td>\n",
       "      <td>161</td>\n",
       "    </tr>\n",
       "    <tr>\n",
       "      <th>3</th>\n",
       "      <td>AFALLA ISSEN</td>\n",
       "      <td>161.05.01</td>\n",
       "      <td>Rural</td>\n",
       "      <td>12295.32</td>\n",
       "      <td>7961</td>\n",
       "      <td>15.4</td>\n",
       "      <td>25.5</td>\n",
       "      <td>51.5</td>\n",
       "      <td>7.6</td>\n",
       "      <td>33.5</td>\n",
       "      <td>59.6</td>\n",
       "      <td>6.9</td>\n",
       "      <td>26.8</td>\n",
       "      <td>85.3</td>\n",
       "      <td>35.2</td>\n",
       "      <td>64.748213</td>\n",
       "      <td>161</td>\n",
       "    </tr>\n",
       "    <tr>\n",
       "      <th>4</th>\n",
       "      <td>AGAFAY</td>\n",
       "      <td>351.05.01</td>\n",
       "      <td>Rural</td>\n",
       "      <td>18889.36</td>\n",
       "      <td>11079</td>\n",
       "      <td>12.7</td>\n",
       "      <td>20.8</td>\n",
       "      <td>59.3</td>\n",
       "      <td>7.2</td>\n",
       "      <td>34.5</td>\n",
       "      <td>59.0</td>\n",
       "      <td>6.6</td>\n",
       "      <td>27.1</td>\n",
       "      <td>59.4</td>\n",
       "      <td>32.1</td>\n",
       "      <td>58.652067</td>\n",
       "      <td>351</td>\n",
       "    </tr>\n",
       "  </tbody>\n",
       "</table>\n",
       "</div>"
      ],
      "text/plain": [
       "    Nom_Commune Code_Commune Type_Commune  Surface_ha  Population  \\\n",
       "0        ABADOU    041.03.01        Rural     9504.74        9905   \n",
       "1       ADAGHAS    211.05.01        Rural     9266.43        3321   \n",
       "2       ADASSIL    161.07.01        Rural    14560.61        7212   \n",
       "3  AFALLA ISSEN    161.05.01        Rural    12295.32        7961   \n",
       "4        AGAFAY    351.05.01        Rural    18889.36       11079   \n",
       "\n",
       "   Pop_inf6_pc  Pop_615_pc  Pop_1560_pc  Pop_sup60_pc  Celebataire_pc  \\\n",
       "0         13.6        24.1         53.7           8.6            31.8   \n",
       "1         17.2        24.3         48.5          10.0            29.3   \n",
       "2         15.4        26.9         49.8           7.9            27.4   \n",
       "3         15.4        25.5         51.5           7.6            33.5   \n",
       "4         12.7        20.8         59.3           7.2            34.5   \n",
       "\n",
       "   Marie_pc  Mrge_Autre_pc  Age_Moyen_1marriage  Taux_Analphabetisme  \\\n",
       "0      61.1            7.1                 25.6                 58.3   \n",
       "1      63.9            6.8                 25.3                 68.1   \n",
       "2      65.5            7.1                 24.7                 78.2   \n",
       "3      59.6            6.9                 26.8                 85.3   \n",
       "4      59.0            6.6                 27.1                 59.4   \n",
       "\n",
       "   Taux_activite  densite_pop Code_Province  \n",
       "0           40.6   104.211162           041  \n",
       "1           37.6    35.839045           211  \n",
       "2           48.0    49.530892           161  \n",
       "3           35.2    64.748213           161  \n",
       "4           32.1    58.652067           351  "
      ]
     },
     "execution_count": 30,
     "metadata": {},
     "output_type": "execute_result"
    }
   ],
   "source": [
    "dfc['Code_Province'].unique() \n",
    "dfc.head()"
   ]
  },
  {
   "cell_type": "markdown",
   "metadata": {},
   "source": [
    "## Question 13"
   ]
  },
  {
   "cell_type": "markdown",
   "metadata": {},
   "source": [
    "Write a function labeled \"nomProvince\" to determine the name of the province from its province code. "
   ]
  },
  {
   "cell_type": "markdown",
   "metadata": {},
   "source": [
    "First, let's load a CSV file containing these two pieces of information (file : Code_Nom_Province.csv)."
   ]
  },
  {
   "cell_type": "code",
   "execution_count": 31,
   "metadata": {},
   "outputs": [
    {
     "data": {
      "text/html": [
       "<div>\n",
       "<style scoped>\n",
       "    .dataframe tbody tr th:only-of-type {\n",
       "        vertical-align: middle;\n",
       "    }\n",
       "\n",
       "    .dataframe tbody tr th {\n",
       "        vertical-align: top;\n",
       "    }\n",
       "\n",
       "    .dataframe thead th {\n",
       "        text-align: right;\n",
       "    }\n",
       "</style>\n",
       "<table border=\"1\" class=\"dataframe\">\n",
       "  <thead>\n",
       "    <tr style=\"text-align: right;\">\n",
       "      <th></th>\n",
       "      <th>Code_Province</th>\n",
       "      <th>Nom_Province</th>\n",
       "    </tr>\n",
       "  </thead>\n",
       "  <tbody>\n",
       "    <tr>\n",
       "      <th>0</th>\n",
       "      <td>041</td>\n",
       "      <td>AL HAOUZ</td>\n",
       "    </tr>\n",
       "    <tr>\n",
       "      <th>1</th>\n",
       "      <td>161</td>\n",
       "      <td>CHICHAOUA</td>\n",
       "    </tr>\n",
       "    <tr>\n",
       "      <th>2</th>\n",
       "      <td>191</td>\n",
       "      <td>KELAA SERAGHNA</td>\n",
       "    </tr>\n",
       "    <tr>\n",
       "      <th>3</th>\n",
       "      <td>211</td>\n",
       "      <td>ESSAOUIRA</td>\n",
       "    </tr>\n",
       "    <tr>\n",
       "      <th>4</th>\n",
       "      <td>351</td>\n",
       "      <td>MARRAKECH</td>\n",
       "    </tr>\n",
       "  </tbody>\n",
       "</table>\n",
       "</div>"
      ],
      "text/plain": [
       "  Code_Province    Nom_Province\n",
       "0           041        AL HAOUZ\n",
       "1           161       CHICHAOUA\n",
       "2           191  KELAA SERAGHNA\n",
       "3           211       ESSAOUIRA\n",
       "4           351       MARRAKECH"
      ]
     },
     "execution_count": 31,
     "metadata": {},
     "output_type": "execute_result"
    }
   ],
   "source": [
    "cn_prov = pd.read_csv('Code_Nom_Province.csv', dtype=str)\n",
    "cn_prov.head()"
   ]
  },
  {
   "cell_type": "markdown",
   "metadata": {},
   "source": [
    "The column 'Code_Province' in dfc is an object, therefore the parameter 'x' of the function 'nomProvince' must be operated as an object containing strings. "
   ]
  },
  {
   "cell_type": "code",
   "execution_count": 32,
   "metadata": {},
   "outputs": [],
   "source": [
    "def nomProvince(x) : \n",
    "  for i in range(5) :\n",
    "    if x == cn_prov.loc[i]['Code_Province'] : \n",
    "        return(cn_prov.loc[i]['Nom_Province'])"
   ]
  },
  {
   "cell_type": "markdown",
   "metadata": {},
   "source": [
    "Apply this function to \"dfc\" to add the \"Nom_Province\" column to the data."
   ]
  },
  {
   "cell_type": "code",
   "execution_count": 33,
   "metadata": {},
   "outputs": [],
   "source": [
    "dfc['Nom_Province'] = dfc['Code_Province'].apply(nomProvince)  "
   ]
  },
  {
   "cell_type": "code",
   "execution_count": 34,
   "metadata": {},
   "outputs": [
    {
     "data": {
      "text/html": [
       "<div>\n",
       "<style scoped>\n",
       "    .dataframe tbody tr th:only-of-type {\n",
       "        vertical-align: middle;\n",
       "    }\n",
       "\n",
       "    .dataframe tbody tr th {\n",
       "        vertical-align: top;\n",
       "    }\n",
       "\n",
       "    .dataframe thead th {\n",
       "        text-align: right;\n",
       "    }\n",
       "</style>\n",
       "<table border=\"1\" class=\"dataframe\">\n",
       "  <thead>\n",
       "    <tr style=\"text-align: right;\">\n",
       "      <th></th>\n",
       "      <th>Code_Commune</th>\n",
       "      <th>Nom_Commune</th>\n",
       "      <th>Code_Province</th>\n",
       "      <th>Nom_Province</th>\n",
       "    </tr>\n",
       "  </thead>\n",
       "  <tbody>\n",
       "    <tr>\n",
       "      <th>0</th>\n",
       "      <td>041.03.01</td>\n",
       "      <td>ABADOU</td>\n",
       "      <td>041</td>\n",
       "      <td>AL HAOUZ</td>\n",
       "    </tr>\n",
       "    <tr>\n",
       "      <th>1</th>\n",
       "      <td>211.05.01</td>\n",
       "      <td>ADAGHAS</td>\n",
       "      <td>211</td>\n",
       "      <td>ESSAOUIRA</td>\n",
       "    </tr>\n",
       "    <tr>\n",
       "      <th>2</th>\n",
       "      <td>161.07.01</td>\n",
       "      <td>ADASSIL</td>\n",
       "      <td>161</td>\n",
       "      <td>CHICHAOUA</td>\n",
       "    </tr>\n",
       "    <tr>\n",
       "      <th>3</th>\n",
       "      <td>161.05.01</td>\n",
       "      <td>AFALLA ISSEN</td>\n",
       "      <td>161</td>\n",
       "      <td>CHICHAOUA</td>\n",
       "    </tr>\n",
       "    <tr>\n",
       "      <th>4</th>\n",
       "      <td>351.05.01</td>\n",
       "      <td>AGAFAY</td>\n",
       "      <td>351</td>\n",
       "      <td>MARRAKECH</td>\n",
       "    </tr>\n",
       "    <tr>\n",
       "      <th>5</th>\n",
       "      <td>041.07.01</td>\n",
       "      <td>AGHBAR</td>\n",
       "      <td>041</td>\n",
       "      <td>AL HAOUZ</td>\n",
       "    </tr>\n",
       "  </tbody>\n",
       "</table>\n",
       "</div>"
      ],
      "text/plain": [
       "  Code_Commune   Nom_Commune Code_Province Nom_Province\n",
       "0    041.03.01        ABADOU           041     AL HAOUZ\n",
       "1    211.05.01       ADAGHAS           211    ESSAOUIRA\n",
       "2    161.07.01       ADASSIL           161    CHICHAOUA\n",
       "3    161.05.01  AFALLA ISSEN           161    CHICHAOUA\n",
       "4    351.05.01        AGAFAY           351    MARRAKECH\n",
       "5    041.07.01        AGHBAR           041     AL HAOUZ"
      ]
     },
     "execution_count": 34,
     "metadata": {},
     "output_type": "execute_result"
    }
   ],
   "source": [
    "dfc[['Code_Commune','Nom_Commune','Code_Province', 'Nom_Province']].head(6)"
   ]
  },
  {
   "cell_type": "markdown",
   "metadata": {},
   "source": [
    "## Question 14"
   ]
  },
  {
   "cell_type": "markdown",
   "metadata": {},
   "source": [
    "Set as index for \"dfc\" the two columns « Code_Province » and « Code_Commune »."
   ]
  },
  {
   "cell_type": "code",
   "execution_count": 37,
   "metadata": {},
   "outputs": [
    {
     "data": {
      "text/html": [
       "<div>\n",
       "<style scoped>\n",
       "    .dataframe tbody tr th:only-of-type {\n",
       "        vertical-align: middle;\n",
       "    }\n",
       "\n",
       "    .dataframe tbody tr th {\n",
       "        vertical-align: top;\n",
       "    }\n",
       "\n",
       "    .dataframe thead th {\n",
       "        text-align: right;\n",
       "    }\n",
       "</style>\n",
       "<table border=\"1\" class=\"dataframe\">\n",
       "  <thead>\n",
       "    <tr style=\"text-align: right;\">\n",
       "      <th></th>\n",
       "      <th></th>\n",
       "      <th>Nom_Commune</th>\n",
       "      <th>Type_Commune</th>\n",
       "      <th>Surface_ha</th>\n",
       "      <th>Population</th>\n",
       "      <th>Pop_inf6_pc</th>\n",
       "      <th>Pop_615_pc</th>\n",
       "      <th>Pop_1560_pc</th>\n",
       "      <th>Pop_sup60_pc</th>\n",
       "      <th>Celebataire_pc</th>\n",
       "      <th>Marie_pc</th>\n",
       "      <th>Mrge_Autre_pc</th>\n",
       "      <th>Age_Moyen_1marriage</th>\n",
       "      <th>Taux_Analphabetisme</th>\n",
       "      <th>Taux_activite</th>\n",
       "      <th>densite_pop</th>\n",
       "      <th>Nom_Province</th>\n",
       "    </tr>\n",
       "    <tr>\n",
       "      <th>Code_Province</th>\n",
       "      <th>Code_Commune</th>\n",
       "      <th></th>\n",
       "      <th></th>\n",
       "      <th></th>\n",
       "      <th></th>\n",
       "      <th></th>\n",
       "      <th></th>\n",
       "      <th></th>\n",
       "      <th></th>\n",
       "      <th></th>\n",
       "      <th></th>\n",
       "      <th></th>\n",
       "      <th></th>\n",
       "      <th></th>\n",
       "      <th></th>\n",
       "      <th></th>\n",
       "      <th></th>\n",
       "    </tr>\n",
       "  </thead>\n",
       "  <tbody>\n",
       "    <tr>\n",
       "      <th>041</th>\n",
       "      <th>041.03.01</th>\n",
       "      <td>ABADOU</td>\n",
       "      <td>Rural</td>\n",
       "      <td>9504.74</td>\n",
       "      <td>9905</td>\n",
       "      <td>13.6</td>\n",
       "      <td>24.1</td>\n",
       "      <td>53.7</td>\n",
       "      <td>8.6</td>\n",
       "      <td>31.8</td>\n",
       "      <td>61.1</td>\n",
       "      <td>7.1</td>\n",
       "      <td>25.6</td>\n",
       "      <td>58.3</td>\n",
       "      <td>40.6</td>\n",
       "      <td>104.211162</td>\n",
       "      <td>AL HAOUZ</td>\n",
       "    </tr>\n",
       "    <tr>\n",
       "      <th>211</th>\n",
       "      <th>211.05.01</th>\n",
       "      <td>ADAGHAS</td>\n",
       "      <td>Rural</td>\n",
       "      <td>9266.43</td>\n",
       "      <td>3321</td>\n",
       "      <td>17.2</td>\n",
       "      <td>24.3</td>\n",
       "      <td>48.5</td>\n",
       "      <td>10.0</td>\n",
       "      <td>29.3</td>\n",
       "      <td>63.9</td>\n",
       "      <td>6.8</td>\n",
       "      <td>25.3</td>\n",
       "      <td>68.1</td>\n",
       "      <td>37.6</td>\n",
       "      <td>35.839045</td>\n",
       "      <td>ESSAOUIRA</td>\n",
       "    </tr>\n",
       "    <tr>\n",
       "      <th rowspan=\"2\" valign=\"top\">161</th>\n",
       "      <th>161.07.01</th>\n",
       "      <td>ADASSIL</td>\n",
       "      <td>Rural</td>\n",
       "      <td>14560.61</td>\n",
       "      <td>7212</td>\n",
       "      <td>15.4</td>\n",
       "      <td>26.9</td>\n",
       "      <td>49.8</td>\n",
       "      <td>7.9</td>\n",
       "      <td>27.4</td>\n",
       "      <td>65.5</td>\n",
       "      <td>7.1</td>\n",
       "      <td>24.7</td>\n",
       "      <td>78.2</td>\n",
       "      <td>48.0</td>\n",
       "      <td>49.530892</td>\n",
       "      <td>CHICHAOUA</td>\n",
       "    </tr>\n",
       "    <tr>\n",
       "      <th>161.05.01</th>\n",
       "      <td>AFALLA ISSEN</td>\n",
       "      <td>Rural</td>\n",
       "      <td>12295.32</td>\n",
       "      <td>7961</td>\n",
       "      <td>15.4</td>\n",
       "      <td>25.5</td>\n",
       "      <td>51.5</td>\n",
       "      <td>7.6</td>\n",
       "      <td>33.5</td>\n",
       "      <td>59.6</td>\n",
       "      <td>6.9</td>\n",
       "      <td>26.8</td>\n",
       "      <td>85.3</td>\n",
       "      <td>35.2</td>\n",
       "      <td>64.748213</td>\n",
       "      <td>CHICHAOUA</td>\n",
       "    </tr>\n",
       "    <tr>\n",
       "      <th>351</th>\n",
       "      <th>351.05.01</th>\n",
       "      <td>AGAFAY</td>\n",
       "      <td>Rural</td>\n",
       "      <td>18889.36</td>\n",
       "      <td>11079</td>\n",
       "      <td>12.7</td>\n",
       "      <td>20.8</td>\n",
       "      <td>59.3</td>\n",
       "      <td>7.2</td>\n",
       "      <td>34.5</td>\n",
       "      <td>59.0</td>\n",
       "      <td>6.6</td>\n",
       "      <td>27.1</td>\n",
       "      <td>59.4</td>\n",
       "      <td>32.1</td>\n",
       "      <td>58.652067</td>\n",
       "      <td>MARRAKECH</td>\n",
       "    </tr>\n",
       "  </tbody>\n",
       "</table>\n",
       "</div>"
      ],
      "text/plain": [
       "                             Nom_Commune Type_Commune  Surface_ha  Population  \\\n",
       "Code_Province Code_Commune                                                      \n",
       "041           041.03.01           ABADOU        Rural     9504.74        9905   \n",
       "211           211.05.01          ADAGHAS        Rural     9266.43        3321   \n",
       "161           161.07.01          ADASSIL        Rural    14560.61        7212   \n",
       "              161.05.01     AFALLA ISSEN        Rural    12295.32        7961   \n",
       "351           351.05.01           AGAFAY        Rural    18889.36       11079   \n",
       "\n",
       "                            Pop_inf6_pc  Pop_615_pc  Pop_1560_pc  \\\n",
       "Code_Province Code_Commune                                         \n",
       "041           041.03.01            13.6        24.1         53.7   \n",
       "211           211.05.01            17.2        24.3         48.5   \n",
       "161           161.07.01            15.4        26.9         49.8   \n",
       "              161.05.01            15.4        25.5         51.5   \n",
       "351           351.05.01            12.7        20.8         59.3   \n",
       "\n",
       "                            Pop_sup60_pc  Celebataire_pc  Marie_pc  \\\n",
       "Code_Province Code_Commune                                           \n",
       "041           041.03.01              8.6            31.8      61.1   \n",
       "211           211.05.01             10.0            29.3      63.9   \n",
       "161           161.07.01              7.9            27.4      65.5   \n",
       "              161.05.01              7.6            33.5      59.6   \n",
       "351           351.05.01              7.2            34.5      59.0   \n",
       "\n",
       "                            Mrge_Autre_pc  Age_Moyen_1marriage  \\\n",
       "Code_Province Code_Commune                                       \n",
       "041           041.03.01               7.1                 25.6   \n",
       "211           211.05.01               6.8                 25.3   \n",
       "161           161.07.01               7.1                 24.7   \n",
       "              161.05.01               6.9                 26.8   \n",
       "351           351.05.01               6.6                 27.1   \n",
       "\n",
       "                            Taux_Analphabetisme  Taux_activite  densite_pop  \\\n",
       "Code_Province Code_Commune                                                    \n",
       "041           041.03.01                    58.3           40.6   104.211162   \n",
       "211           211.05.01                    68.1           37.6    35.839045   \n",
       "161           161.07.01                    78.2           48.0    49.530892   \n",
       "              161.05.01                    85.3           35.2    64.748213   \n",
       "351           351.05.01                    59.4           32.1    58.652067   \n",
       "\n",
       "                           Nom_Province  \n",
       "Code_Province Code_Commune               \n",
       "041           041.03.01        AL HAOUZ  \n",
       "211           211.05.01       ESSAOUIRA  \n",
       "161           161.07.01       CHICHAOUA  \n",
       "              161.05.01       CHICHAOUA  \n",
       "351           351.05.01       MARRAKECH  "
      ]
     },
     "execution_count": 37,
     "metadata": {},
     "output_type": "execute_result"
    }
   ],
   "source": [
    "dfc.set_index(['Code_Province', 'Code_Commune'], inplace=True)\n",
    "dfc.head()"
   ]
  },
  {
   "cell_type": "code",
   "execution_count": 38,
   "metadata": {},
   "outputs": [
    {
     "data": {
      "text/plain": [
       "FrozenList(['Code_Province', 'Code_Commune'])"
      ]
     },
     "execution_count": 38,
     "metadata": {},
     "output_type": "execute_result"
    }
   ],
   "source": [
    "dfc.index.names"
   ]
  },
  {
   "cell_type": "markdown",
   "metadata": {},
   "source": [
    "Sort 'dfc' according to the new indexes. "
   ]
  },
  {
   "cell_type": "code",
   "execution_count": 39,
   "metadata": {},
   "outputs": [],
   "source": [
    "dfc.sort_index(inplace=True)"
   ]
  },
  {
   "cell_type": "markdown",
   "metadata": {},
   "source": [
    "## Question 15"
   ]
  },
  {
   "cell_type": "markdown",
   "metadata": {},
   "source": [
    "Export the DataFrame 'dfc' to an Excel file marked 'dfc_ElMissaoui.xlsx'."
   ]
  },
  {
   "cell_type": "code",
   "execution_count": 40,
   "metadata": {},
   "outputs": [],
   "source": [
    "dfc.to_excel('dfc_ElMissaoui.xlsx', sheet_name='RGPH2004')"
   ]
  },
  {
   "cell_type": "markdown",
   "metadata": {},
   "source": [
    "## Question 16"
   ]
  },
  {
   "cell_type": "markdown",
   "metadata": {},
   "source": [
    "Calculate the number of rural and urban communes in each province"
   ]
  },
  {
   "cell_type": "code",
   "execution_count": 41,
   "metadata": {},
   "outputs": [
    {
     "data": {
      "text/html": [
       "<div>\n",
       "<style scoped>\n",
       "    .dataframe tbody tr th:only-of-type {\n",
       "        vertical-align: middle;\n",
       "    }\n",
       "\n",
       "    .dataframe tbody tr th {\n",
       "        vertical-align: top;\n",
       "    }\n",
       "\n",
       "    .dataframe thead th {\n",
       "        text-align: right;\n",
       "    }\n",
       "</style>\n",
       "<table border=\"1\" class=\"dataframe\">\n",
       "  <thead>\n",
       "    <tr style=\"text-align: right;\">\n",
       "      <th></th>\n",
       "      <th></th>\n",
       "      <th>Type_Commune</th>\n",
       "    </tr>\n",
       "    <tr>\n",
       "      <th>Nom_Province</th>\n",
       "      <th>Type_Commune</th>\n",
       "      <th></th>\n",
       "    </tr>\n",
       "  </thead>\n",
       "  <tbody>\n",
       "    <tr>\n",
       "      <th rowspan=\"2\" valign=\"top\">AL HAOUZ</th>\n",
       "      <th>Rural</th>\n",
       "      <td>38</td>\n",
       "    </tr>\n",
       "    <tr>\n",
       "      <th>Urbain</th>\n",
       "      <td>1</td>\n",
       "    </tr>\n",
       "    <tr>\n",
       "      <th rowspan=\"2\" valign=\"top\">CHICHAOUA</th>\n",
       "      <th>Rural</th>\n",
       "      <td>33</td>\n",
       "    </tr>\n",
       "    <tr>\n",
       "      <th>Urbain</th>\n",
       "      <td>2</td>\n",
       "    </tr>\n",
       "    <tr>\n",
       "      <th rowspan=\"2\" valign=\"top\">ESSAOUIRA</th>\n",
       "      <th>Rural</th>\n",
       "      <td>52</td>\n",
       "    </tr>\n",
       "    <tr>\n",
       "      <th>Urbain</th>\n",
       "      <td>5</td>\n",
       "    </tr>\n",
       "    <tr>\n",
       "      <th rowspan=\"2\" valign=\"top\">KELAA SERAGHNA</th>\n",
       "      <th>Rural</th>\n",
       "      <td>62</td>\n",
       "    </tr>\n",
       "    <tr>\n",
       "      <th>Urbain</th>\n",
       "      <td>5</td>\n",
       "    </tr>\n",
       "    <tr>\n",
       "      <th rowspan=\"2\" valign=\"top\">MARRAKECH</th>\n",
       "      <th>Rural</th>\n",
       "      <td>13</td>\n",
       "    </tr>\n",
       "    <tr>\n",
       "      <th>Urbain</th>\n",
       "      <td>6</td>\n",
       "    </tr>\n",
       "  </tbody>\n",
       "</table>\n",
       "</div>"
      ],
      "text/plain": [
       "                             Type_Commune\n",
       "Nom_Province   Type_Commune              \n",
       "AL HAOUZ       Rural                   38\n",
       "               Urbain                   1\n",
       "CHICHAOUA      Rural                   33\n",
       "               Urbain                   2\n",
       "ESSAOUIRA      Rural                   52\n",
       "               Urbain                   5\n",
       "KELAA SERAGHNA Rural                   62\n",
       "               Urbain                   5\n",
       "MARRAKECH      Rural                   13\n",
       "               Urbain                   6"
      ]
     },
     "execution_count": 41,
     "metadata": {},
     "output_type": "execute_result"
    }
   ],
   "source": [
    "dfc.groupby('Nom_Province')['Type_Commune'].value_counts().to_frame()"
   ]
  },
  {
   "cell_type": "markdown",
   "metadata": {},
   "source": [
    "## Question 17"
   ]
  },
  {
   "cell_type": "markdown",
   "metadata": {},
   "source": [
    "Calculate the activity rate in each province. (Activity rate  = population active/total population)"
   ]
  },
  {
   "cell_type": "code",
   "execution_count": 42,
   "metadata": {},
   "outputs": [],
   "source": [
    "dfc['population_active']= round((dfc['Population']*dfc['Taux_activite'])/100) "
   ]
  },
  {
   "cell_type": "code",
   "execution_count": 43,
   "metadata": {},
   "outputs": [
    {
     "data": {
      "text/html": [
       "<div>\n",
       "<style scoped>\n",
       "    .dataframe tbody tr th:only-of-type {\n",
       "        vertical-align: middle;\n",
       "    }\n",
       "\n",
       "    .dataframe tbody tr th {\n",
       "        vertical-align: top;\n",
       "    }\n",
       "\n",
       "    .dataframe thead th {\n",
       "        text-align: right;\n",
       "    }\n",
       "</style>\n",
       "<table border=\"1\" class=\"dataframe\">\n",
       "  <thead>\n",
       "    <tr style=\"text-align: right;\">\n",
       "      <th></th>\n",
       "      <th>0</th>\n",
       "    </tr>\n",
       "    <tr>\n",
       "      <th>Nom_Province</th>\n",
       "      <th></th>\n",
       "    </tr>\n",
       "  </thead>\n",
       "  <tbody>\n",
       "    <tr>\n",
       "      <th>AL HAOUZ</th>\n",
       "      <td>35.883458</td>\n",
       "    </tr>\n",
       "    <tr>\n",
       "      <th>CHICHAOUA</th>\n",
       "      <td>33.771612</td>\n",
       "    </tr>\n",
       "    <tr>\n",
       "      <th>ESSAOUIRA</th>\n",
       "      <td>36.055438</td>\n",
       "    </tr>\n",
       "    <tr>\n",
       "      <th>KELAA SERAGHNA</th>\n",
       "      <td>33.307009</td>\n",
       "    </tr>\n",
       "    <tr>\n",
       "      <th>MARRAKECH</th>\n",
       "      <td>37.709079</td>\n",
       "    </tr>\n",
       "  </tbody>\n",
       "</table>\n",
       "</div>"
      ],
      "text/plain": [
       "                        0\n",
       "Nom_Province             \n",
       "AL HAOUZ        35.883458\n",
       "CHICHAOUA       33.771612\n",
       "ESSAOUIRA       36.055438\n",
       "KELAA SERAGHNA  33.307009\n",
       "MARRAKECH       37.709079"
      ]
     },
     "execution_count": 43,
     "metadata": {},
     "output_type": "execute_result"
    }
   ],
   "source": [
    "((dfc.groupby('Nom_Province')['population_active'].sum())/(dfc.groupby('Nom_Province')['Population'].sum())*100).to_frame()"
   ]
  },
  {
   "cell_type": "code",
   "execution_count": 44,
   "metadata": {},
   "outputs": [
    {
     "data": {
      "text/plain": [
       "<matplotlib.axes._subplots.AxesSubplot at 0x1c2b0194e0>"
      ]
     },
     "execution_count": 44,
     "metadata": {},
     "output_type": "execute_result"
    },
    {
     "data": {
      "image/png": "[encoded data removed]",
      "text/plain": [
       "<Figure size 432x288 with 2 Axes>"
      ]
     },
     "metadata": {},
     "output_type": "display_data"
    }
   ],
   "source": [
    "sns.heatmap(dfc[['population_active', 'Population', 'Taux_activite', 'Taux_Analphabetisme', 'Pop_inf6_pc', 'Pop_615_pc', 'Pop_1560_pc','Pop_sup60_pc']].corr(), cmap='Greens', annot=True)"
   ]
  },
  {
   "cell_type": "markdown",
   "metadata": {},
   "source": [
    "## Question 18"
   ]
  },
  {
   "cell_type": "markdown",
   "metadata": {},
   "source": [
    "Generate a new DataFrame of the provinces marked 'dfp'. "
   ]
  },
  {
   "cell_type": "code",
   "execution_count": 45,
   "metadata": {},
   "outputs": [],
   "source": [
    "dfp = dfc.groupby(['Nom_Province', 'Code_Province'])['Surface_ha','Population', 'population_active'].sum()"
   ]
  },
  {
   "cell_type": "code",
   "execution_count": 46,
   "metadata": {},
   "outputs": [
    {
     "data": {
      "text/html": [
       "<div>\n",
       "<style scoped>\n",
       "    .dataframe tbody tr th:only-of-type {\n",
       "        vertical-align: middle;\n",
       "    }\n",
       "\n",
       "    .dataframe tbody tr th {\n",
       "        vertical-align: top;\n",
       "    }\n",
       "\n",
       "    .dataframe thead th {\n",
       "        text-align: right;\n",
       "    }\n",
       "</style>\n",
       "<table border=\"1\" class=\"dataframe\">\n",
       "  <thead>\n",
       "    <tr style=\"text-align: right;\">\n",
       "      <th></th>\n",
       "      <th></th>\n",
       "      <th>Surface_ha</th>\n",
       "      <th>Population</th>\n",
       "      <th>population_active</th>\n",
       "    </tr>\n",
       "    <tr>\n",
       "      <th>Nom_Province</th>\n",
       "      <th>Code_Province</th>\n",
       "      <th></th>\n",
       "      <th></th>\n",
       "      <th></th>\n",
       "    </tr>\n",
       "  </thead>\n",
       "  <tbody>\n",
       "    <tr>\n",
       "      <th>AL HAOUZ</th>\n",
       "      <th>041</th>\n",
       "      <td>606789.04</td>\n",
       "      <td>483741</td>\n",
       "      <td>173583.0</td>\n",
       "    </tr>\n",
       "    <tr>\n",
       "      <th>CHICHAOUA</th>\n",
       "      <th>161</th>\n",
       "      <td>712462.08</td>\n",
       "      <td>339510</td>\n",
       "      <td>114658.0</td>\n",
       "    </tr>\n",
       "    <tr>\n",
       "      <th>ESSAOUIRA</th>\n",
       "      <th>211</th>\n",
       "      <td>658513.04</td>\n",
       "      <td>452040</td>\n",
       "      <td>162985.0</td>\n",
       "    </tr>\n",
       "    <tr>\n",
       "      <th>KELAA SERAGHNA</th>\n",
       "      <th>191</th>\n",
       "      <td>970649.37</td>\n",
       "      <td>749632</td>\n",
       "      <td>249680.0</td>\n",
       "    </tr>\n",
       "    <tr>\n",
       "      <th>MARRAKECH</th>\n",
       "      <th>351</th>\n",
       "      <td>258953.71</td>\n",
       "      <td>1063415</td>\n",
       "      <td>401004.0</td>\n",
       "    </tr>\n",
       "  </tbody>\n",
       "</table>\n",
       "</div>"
      ],
      "text/plain": [
       "                              Surface_ha  Population  population_active\n",
       "Nom_Province   Code_Province                                           \n",
       "AL HAOUZ       041             606789.04      483741           173583.0\n",
       "CHICHAOUA      161             712462.08      339510           114658.0\n",
       "ESSAOUIRA      211             658513.04      452040           162985.0\n",
       "KELAA SERAGHNA 191             970649.37      749632           249680.0\n",
       "MARRAKECH      351             258953.71     1063415           401004.0"
      ]
     },
     "execution_count": 46,
     "metadata": {},
     "output_type": "execute_result"
    }
   ],
   "source": [
    "dfp"
   ]
  },
  {
   "cell_type": "markdown",
   "metadata": {},
   "source": [
    "With this new DataFrame 'dfp', we can visualize the distribution of the population of the Marrakech Tansift Alhaouz region."
   ]
  },
  {
   "cell_type": "code",
   "execution_count": 47,
   "metadata": {},
   "outputs": [
    {
     "data": {
      "text/plain": [
       "<matplotlib.axes._subplots.AxesSubplot at 0x1c2b76d550>"
      ]
     },
     "execution_count": 47,
     "metadata": {},
     "output_type": "execute_result"
    },
    {
     "data": {
      "image/png": "[encoded data removed]",
      "text/plain": [
       "<Figure size 648x648 with 1 Axes>"
      ]
     },
     "metadata": {},
     "output_type": "display_data"
    }
   ],
   "source": [
    "dfp.plot(y='Population', kind='pie', colormap='Greens', use_index=True, stacked=True, figsize=(9,9), autopct='%1.1f%%', title='Répartition de la population des provinces de la région Marrakech Tansift Alhaouz')"
   ]
  },
  {
   "cell_type": "markdown",
   "metadata": {},
   "source": [
    "Using interactive plotting : "
   ]
  },
  {
   "cell_type": "code",
   "execution_count": 48,
   "metadata": {},
   "outputs": [
    {
     "data": {
      "application/vnd.plotly.v1+json": {
       "config": {
        "plotlyServerURL": "https://plot.ly"
       },
       "data": [
        {
         "domain": {
          "x": [
           0,
           1
          ],
          "y": [
           0,
           1
          ]
         },
         "hoverlabel": {
          "namelength": 0
         },
         "hovertemplate": "label=%{label}<br>Population=%{value}",
         "labels": [
          "AL HAOUZ",
          "CHICHAOUA",
          "ESSAOUIRA",
          "KELAA SERAGHNA",
          "MARRAKECH"
         ],
         "legendgroup": "",
         "name": "",
         "showlegend": true,
         "type": "pie",
         "values": [
          483741,
          339510,
          452040,
          749632,
          1063415
         ]
        }
       ],
       "layout": {
        "legend": {
         "tracegroupgap": 0
        },
        "piecolorway": [
         "rgb(36, 86, 104)",
         "rgb(15, 114, 121)",
         "rgb(13, 143, 129)",
         "rgb(57, 171, 126)",
         "rgb(110, 197, 116)",
         "rgb(169, 220, 103)",
         "rgb(237, 239, 93)"
        ],
        "template": {
         "data": {
          "bar": [
           {
            "error_x": {
             "color": "#2a3f5f"
            },
            "error_y": {
             "color": "#2a3f5f"
            },
            "marker": {
             "line": {
              "color": "#E5ECF6",
              "width": 0.5
             }
            },
            "type": "bar"
           }
          ],
          "barpolar": [
           {
            "marker": {
             "line": {
              "color": "#E5ECF6",
              "width": 0.5
             }
            },
            "type": "barpolar"
           }
          ],
          "carpet": [
           {
            "aaxis": {
             "endlinecolor": "#2a3f5f",
             "gridcolor": "white",
             "linecolor": "white",
             "minorgridcolor": "white",
             "startlinecolor": "#2a3f5f"
            },
            "baxis": {
             "endlinecolor": "#2a3f5f",
             "gridcolor": "white",
             "linecolor": "white",
             "minorgridcolor": "white",
             "startlinecolor": "#2a3f5f"
            },
            "type": "carpet"
           }
          ],
          "choropleth": [
           {
            "colorbar": {
             "outlinewidth": 0,
             "ticks": ""
            },
            "type": "choropleth"
           }
          ],
          "contour": [
           {
            "colorbar": {
             "outlinewidth": 0,
             "ticks": ""
            },
            "colorscale": [
             [
              0,
              "#0d0887"
             ],
             [
              0.1111111111111111,
              "#46039f"
             ],
             [
              0.2222222222222222,
              "#7201a8"
             ],
             [
              0.3333333333333333,
              "#9c179e"
             ],
             [
              0.4444444444444444,
              "#bd3786"
             ],
             [
              0.5555555555555556,
              "#d8576b"
             ],
             [
              0.6666666666666666,
              "#ed7953"
             ],
             [
              0.7777777777777778,
              "#fb9f3a"
             ],
             [
              0.8888888888888888,
              "#fdca26"
             ],
             [
              1,
              "#f0f921"
             ]
            ],
            "type": "contour"
           }
          ],
          "contourcarpet": [
           {
            "colorbar": {
             "outlinewidth": 0,
             "ticks": ""
            },
            "type": "contourcarpet"
           }
          ],
          "heatmap": [
           {
            "colorbar": {
             "outlinewidth": 0,
             "ticks": ""
            },
            "colorscale": [
             [
              0,
              "#0d0887"
             ],
             [
              0.1111111111111111,
              "#46039f"
             ],
             [
              0.2222222222222222,
              "#7201a8"
             ],
             [
              0.3333333333333333,
              "#9c179e"
             ],
             [
              0.4444444444444444,
              "#bd3786"
             ],
             [
              0.5555555555555556,
              "#d8576b"
             ],
             [
              0.6666666666666666,
              "#ed7953"
             ],
             [
              0.7777777777777778,
              "#fb9f3a"
             ],
             [
              0.8888888888888888,
              "#fdca26"
             ],
             [
              1,
              "#f0f921"
             ]
            ],
            "type": "heatmap"
           }
          ],
          "heatmapgl": [
           {
            "colorbar": {
             "outlinewidth": 0,
             "ticks": ""
            },
            "colorscale": [
             [
              0,
              "#0d0887"
             ],
             [
              0.1111111111111111,
              "#46039f"
             ],
             [
              0.2222222222222222,
              "#7201a8"
             ],
             [
              0.3333333333333333,
              "#9c179e"
             ],
             [
              0.4444444444444444,
              "#bd3786"
             ],
             [
              0.5555555555555556,
              "#d8576b"
             ],
             [
              0.6666666666666666,
              "#ed7953"
             ],
             [
              0.7777777777777778,
              "#fb9f3a"
             ],
             [
              0.8888888888888888,
              "#fdca26"
             ],
             [
              1,
              "#f0f921"
             ]
            ],
            "type": "heatmapgl"
           }
          ],
          "histogram": [
           {
            "marker": {
             "colorbar": {
              "outlinewidth": 0,
              "ticks": ""
             }
            },
            "type": "histogram"
           }
          ],
          "histogram2d": [
           {
            "colorbar": {
             "outlinewidth": 0,
             "ticks": ""
            },
            "colorscale": [
             [
              0,
              "#0d0887"
             ],
             [
              0.1111111111111111,
              "#46039f"
             ],
             [
              0.2222222222222222,
              "#7201a8"
             ],
             [
              0.3333333333333333,
              "#9c179e"
             ],
             [
              0.4444444444444444,
              "#bd3786"
             ],
             [
              0.5555555555555556,
              "#d8576b"
             ],
             [
              0.6666666666666666,
              "#ed7953"
             ],
             [
              0.7777777777777778,
              "#fb9f3a"
             ],
             [
              0.8888888888888888,
              "#fdca26"
             ],
             [
              1,
              "#f0f921"
             ]
            ],
            "type": "histogram2d"
           }
          ],
          "histogram2dcontour": [
           {
            "colorbar": {
             "outlinewidth": 0,
             "ticks": ""
            },
            "colorscale": [
             [
              0,
              "#0d0887"
             ],
             [
              0.1111111111111111,
              "#46039f"
             ],
             [
              0.2222222222222222,
              "#7201a8"
             ],
             [
              0.3333333333333333,
              "#9c179e"
             ],
             [
              0.4444444444444444,
              "#bd3786"
             ],
             [
              0.5555555555555556,
              "#d8576b"
             ],
             [
              0.6666666666666666,
              "#ed7953"
             ],
             [
              0.7777777777777778,
              "#fb9f3a"
             ],
             [
              0.8888888888888888,
              "#fdca26"
             ],
             [
              1,
              "#f0f921"
             ]
            ],
            "type": "histogram2dcontour"
           }
          ],
          "mesh3d": [
           {
            "colorbar": {
             "outlinewidth": 0,
             "ticks": ""
            },
            "type": "mesh3d"
           }
          ],
          "parcoords": [
           {
            "line": {
             "colorbar": {
              "outlinewidth": 0,
              "ticks": ""
             }
            },
            "type": "parcoords"
           }
          ],
          "pie": [
           {
            "automargin": true,
            "type": "pie"
           }
          ],
          "scatter": [
           {
            "marker": {
             "colorbar": {
              "outlinewidth": 0,
              "ticks": ""
             }
            },
            "type": "scatter"
           }
          ],
          "scatter3d": [
           {
            "line": {
             "colorbar": {
              "outlinewidth": 0,
              "ticks": ""
             }
            },
            "marker": {
             "colorbar": {
              "outlinewidth": 0,
              "ticks": ""
             }
            },
            "type": "scatter3d"
           }
          ],
          "scattercarpet": [
           {
            "marker": {
             "colorbar": {
              "outlinewidth": 0,
              "ticks": ""
             }
            },
            "type": "scattercarpet"
           }
          ],
          "scattergeo": [
           {
            "marker": {
             "colorbar": {
              "outlinewidth": 0,
              "ticks": ""
             }
            },
            "type": "scattergeo"
           }
          ],
          "scattergl": [
           {
            "marker": {
             "colorbar": {
              "outlinewidth": 0,
              "ticks": ""
             }
            },
            "type": "scattergl"
           }
          ],
          "scattermapbox": [
           {
            "marker": {
             "colorbar": {
              "outlinewidth": 0,
              "ticks": ""
             }
            },
            "type": "scattermapbox"
           }
          ],
          "scatterpolar": [
           {
            "marker": {
             "colorbar": {
              "outlinewidth": 0,
              "ticks": ""
             }
            },
            "type": "scatterpolar"
           }
          ],
          "scatterpolargl": [
           {
            "marker": {
             "colorbar": {
              "outlinewidth": 0,
              "ticks": ""
             }
            },
            "type": "scatterpolargl"
           }
          ],
          "scatterternary": [
           {
            "marker": {
             "colorbar": {
              "outlinewidth": 0,
              "ticks": ""
             }
            },
            "type": "scatterternary"
           }
          ],
          "surface": [
           {
            "colorbar": {
             "outlinewidth": 0,
             "ticks": ""
            },
            "colorscale": [
             [
              0,
              "#0d0887"
             ],
             [
              0.1111111111111111,
              "#46039f"
             ],
             [
              0.2222222222222222,
              "#7201a8"
             ],
             [
              0.3333333333333333,
              "#9c179e"
             ],
             [
              0.4444444444444444,
              "#bd3786"
             ],
             [
              0.5555555555555556,
              "#d8576b"
             ],
             [
              0.6666666666666666,
              "#ed7953"
             ],
             [
              0.7777777777777778,
              "#fb9f3a"
             ],
             [
              0.8888888888888888,
              "#fdca26"
             ],
             [
              1,
              "#f0f921"
             ]
            ],
            "type": "surface"
           }
          ],
          "table": [
           {
            "cells": {
             "fill": {
              "color": "#EBF0F8"
             },
             "line": {
              "color": "white"
             }
            },
            "header": {
             "fill": {
              "color": "#C8D4E3"
             },
             "line": {
              "color": "white"
             }
            },
            "type": "table"
           }
          ]
         },
         "layout": {
          "annotationdefaults": {
           "arrowcolor": "#2a3f5f",
           "arrowhead": 0,
           "arrowwidth": 1
          },
          "coloraxis": {
           "colorbar": {
            "outlinewidth": 0,
            "ticks": ""
           }
          },
          "colorscale": {
           "diverging": [
            [
             0,
             "#8e0152"
            ],
            [
             0.1,
             "#c51b7d"
            ],
            [
             0.2,
             "#de77ae"
            ],
            [
             0.3,
             "#f1b6da"
            ],
            [
             0.4,
             "#fde0ef"
            ],
            [
             0.5,
             "#f7f7f7"
            ],
            [
             0.6,
             "#e6f5d0"
            ],
            [
             0.7,
             "#b8e186"
            ],
            [
             0.8,
             "#7fbc41"
            ],
            [
             0.9,
             "#4d9221"
            ],
            [
             1,
             "#276419"
            ]
           ],
           "sequential": [
            [
             0,
             "#0d0887"
            ],
            [
             0.1111111111111111,
             "#46039f"
            ],
            [
             0.2222222222222222,
             "#7201a8"
            ],
            [
             0.3333333333333333,
             "#9c179e"
            ],
            [
             0.4444444444444444,
             "#bd3786"
            ],
            [
             0.5555555555555556,
             "#d8576b"
            ],
            [
             0.6666666666666666,
             "#ed7953"
            ],
            [
             0.7777777777777778,
             "#fb9f3a"
            ],
            [
             0.8888888888888888,
             "#fdca26"
            ],
            [
             1,
             "#f0f921"
            ]
           ],
           "sequentialminus": [
            [
             0,
             "#0d0887"
            ],
            [
             0.1111111111111111,
             "#46039f"
            ],
            [
             0.2222222222222222,
             "#7201a8"
            ],
            [
             0.3333333333333333,
             "#9c179e"
            ],
            [
             0.4444444444444444,
             "#bd3786"
            ],
            [
             0.5555555555555556,
             "#d8576b"
            ],
            [
             0.6666666666666666,
             "#ed7953"
            ],
            [
             0.7777777777777778,
             "#fb9f3a"
            ],
            [
             0.8888888888888888,
             "#fdca26"
            ],
            [
             1,
             "#f0f921"
            ]
           ]
          },
          "colorway": [
           "#636efa",
           "#EF553B",
           "#00cc96",
           "#ab63fa",
           "#FFA15A",
           "#19d3f3",
           "#FF6692",
           "#B6E880",
           "#FF97FF",
           "#FECB52"
          ],
          "font": {
           "color": "#2a3f5f"
          },
          "geo": {
           "bgcolor": "white",
           "lakecolor": "white",
           "landcolor": "#E5ECF6",
           "showlakes": true,
           "showland": true,
           "subunitcolor": "white"
          },
          "hoverlabel": {
           "align": "left"
          },
          "hovermode": "closest",
          "mapbox": {
           "style": "light"
          },
          "paper_bgcolor": "white",
          "plot_bgcolor": "#E5ECF6",
          "polar": {
           "angularaxis": {
            "gridcolor": "white",
            "linecolor": "white",
            "ticks": ""
           },
           "bgcolor": "#E5ECF6",
           "radialaxis": {
            "gridcolor": "white",
            "linecolor": "white",
            "ticks": ""
           }
          },
          "scene": {
           "xaxis": {
            "backgroundcolor": "#E5ECF6",
            "gridcolor": "white",
            "gridwidth": 2,
            "linecolor": "white",
            "showbackground": true,
            "ticks": "",
            "zerolinecolor": "white"
           },
           "yaxis": {
            "backgroundcolor": "#E5ECF6",
            "gridcolor": "white",
            "gridwidth": 2,
            "linecolor": "white",
            "showbackground": true,
            "ticks": "",
            "zerolinecolor": "white"
           },
           "zaxis": {
            "backgroundcolor": "#E5ECF6",
            "gridcolor": "white",
            "gridwidth": 2,
            "linecolor": "white",
            "showbackground": true,
            "ticks": "",
            "zerolinecolor": "white"
           }
          },
          "shapedefaults": {
           "line": {
            "color": "#2a3f5f"
           }
          },
          "ternary": {
           "aaxis": {
            "gridcolor": "white",
            "linecolor": "white",
            "ticks": ""
           },
           "baxis": {
            "gridcolor": "white",
            "linecolor": "white",
            "ticks": ""
           },
           "bgcolor": "#E5ECF6",
           "caxis": {
            "gridcolor": "white",
            "linecolor": "white",
            "ticks": ""
           }
          },
          "title": {
           "x": 0.05
          },
          "xaxis": {
           "automargin": true,
           "gridcolor": "white",
           "linecolor": "white",
           "ticks": "",
           "title": {
            "standoff": 15
           },
           "zerolinecolor": "white",
           "zerolinewidth": 2
          },
          "yaxis": {
           "automargin": true,
           "gridcolor": "white",
           "linecolor": "white",
           "ticks": "",
           "title": {
            "standoff": 15
           },
           "zerolinecolor": "white",
           "zerolinewidth": 2
          }
         }
        },
        "title": {
         "text": "Population of each province in the Marrakech - Tansift Region."
        }
       }
      },
      "text/html": [
       "<div>\n",
       "        \n",
       "        \n",
       "            <div id=\"7a287f37-04ce-4cf6-a673-c8d0ec78cb03\" class=\"plotly-graph-div\" style=\"height:525px; width:100%;\"></div>\n",
       "            <script type=\"text/javascript\">\n",
       "                require([\"plotly\"], function(Plotly) {\n",
       "                    window.PLOTLYENV=window.PLOTLYENV || {};\n",
       "                    \n",
       "                if (document.getElementById(\"7a287f37-04ce-4cf6-a673-c8d0ec78cb03\")) {\n",
       "                    Plotly.newPlot(\n",
       "                        '7a287f37-04ce-4cf6-a673-c8d0ec78cb03',\n",
       "                        [{\"domain\": {\"x\": [0.0, 1.0], \"y\": [0.0, 1.0]}, \"hoverlabel\": {\"namelength\": 0}, \"hovertemplate\": \"label=%{label}<br>Population=%{value}\", \"labels\": [\"AL HAOUZ\", \"CHICHAOUA\", \"ESSAOUIRA\", \"KELAA SERAGHNA\", \"MARRAKECH\"], \"legendgroup\": \"\", \"name\": \"\", \"showlegend\": true, \"type\": \"pie\", \"values\": [483741, 339510, 452040, 749632, 1063415]}],\n",
       "                        {\"legend\": {\"tracegroupgap\": 0}, \"piecolorway\": [\"rgb(36, 86, 104)\", \"rgb(15, 114, 121)\", \"rgb(13, 143, 129)\", \"rgb(57, 171, 126)\", \"rgb(110, 197, 116)\", \"rgb(169, 220, 103)\", \"rgb(237, 239, 93)\"], \"template\": {\"data\": {\"bar\": [{\"error_x\": {\"color\": \"#2a3f5f\"}, \"error_y\": {\"color\": \"#2a3f5f\"}, \"marker\": {\"line\": {\"color\": \"#E5ECF6\", \"width\": 0.5}}, \"type\": \"bar\"}], \"barpolar\": [{\"marker\": {\"line\": {\"color\": \"#E5ECF6\", \"width\": 0.5}}, \"type\": \"barpolar\"}], \"carpet\": [{\"aaxis\": {\"endlinecolor\": \"#2a3f5f\", \"gridcolor\": \"white\", \"linecolor\": \"white\", \"minorgridcolor\": \"white\", \"startlinecolor\": \"#2a3f5f\"}, \"baxis\": {\"endlinecolor\": \"#2a3f5f\", \"gridcolor\": \"white\", \"linecolor\": \"white\", \"minorgridcolor\": \"white\", \"startlinecolor\": \"#2a3f5f\"}, \"type\": \"carpet\"}], \"choropleth\": [{\"colorbar\": {\"outlinewidth\": 0, \"ticks\": \"\"}, \"type\": \"choropleth\"}], \"contour\": [{\"colorbar\": {\"outlinewidth\": 0, \"ticks\": \"\"}, \"colorscale\": [[0.0, \"#0d0887\"], [0.1111111111111111, \"#46039f\"], [0.2222222222222222, \"#7201a8\"], [0.3333333333333333, \"#9c179e\"], [0.4444444444444444, \"#bd3786\"], [0.5555555555555556, \"#d8576b\"], [0.6666666666666666, \"#ed7953\"], [0.7777777777777778, \"#fb9f3a\"], [0.8888888888888888, \"#fdca26\"], [1.0, \"#f0f921\"]], \"type\": \"contour\"}], \"contourcarpet\": [{\"colorbar\": {\"outlinewidth\": 0, \"ticks\": \"\"}, \"type\": \"contourcarpet\"}], \"heatmap\": [{\"colorbar\": {\"outlinewidth\": 0, \"ticks\": \"\"}, \"colorscale\": [[0.0, \"#0d0887\"], [0.1111111111111111, \"#46039f\"], [0.2222222222222222, \"#7201a8\"], [0.3333333333333333, \"#9c179e\"], [0.4444444444444444, \"#bd3786\"], [0.5555555555555556, \"#d8576b\"], [0.6666666666666666, \"#ed7953\"], [0.7777777777777778, \"#fb9f3a\"], [0.8888888888888888, \"#fdca26\"], [1.0, \"#f0f921\"]], \"type\": \"heatmap\"}], \"heatmapgl\": [{\"colorbar\": {\"outlinewidth\": 0, \"ticks\": \"\"}, \"colorscale\": [[0.0, \"#0d0887\"], [0.1111111111111111, \"#46039f\"], [0.2222222222222222, \"#7201a8\"], [0.3333333333333333, \"#9c179e\"], [0.4444444444444444, \"#bd3786\"], [0.5555555555555556, \"#d8576b\"], [0.6666666666666666, \"#ed7953\"], [0.7777777777777778, \"#fb9f3a\"], [0.8888888888888888, \"#fdca26\"], [1.0, \"#f0f921\"]], \"type\": \"heatmapgl\"}], \"histogram\": [{\"marker\": {\"colorbar\": {\"outlinewidth\": 0, \"ticks\": \"\"}}, \"type\": \"histogram\"}], \"histogram2d\": [{\"colorbar\": {\"outlinewidth\": 0, \"ticks\": \"\"}, \"colorscale\": [[0.0, \"#0d0887\"], [0.1111111111111111, \"#46039f\"], [0.2222222222222222, \"#7201a8\"], [0.3333333333333333, \"#9c179e\"], [0.4444444444444444, \"#bd3786\"], [0.5555555555555556, \"#d8576b\"], [0.6666666666666666, \"#ed7953\"], [0.7777777777777778, \"#fb9f3a\"], [0.8888888888888888, \"#fdca26\"], [1.0, \"#f0f921\"]], \"type\": \"histogram2d\"}], \"histogram2dcontour\": [{\"colorbar\": {\"outlinewidth\": 0, \"ticks\": \"\"}, \"colorscale\": [[0.0, \"#0d0887\"], [0.1111111111111111, \"#46039f\"], [0.2222222222222222, \"#7201a8\"], [0.3333333333333333, \"#9c179e\"], [0.4444444444444444, \"#bd3786\"], [0.5555555555555556, \"#d8576b\"], [0.6666666666666666, \"#ed7953\"], [0.7777777777777778, \"#fb9f3a\"], [0.8888888888888888, \"#fdca26\"], [1.0, \"#f0f921\"]], \"type\": \"histogram2dcontour\"}], \"mesh3d\": [{\"colorbar\": {\"outlinewidth\": 0, \"ticks\": \"\"}, \"type\": \"mesh3d\"}], \"parcoords\": [{\"line\": {\"colorbar\": {\"outlinewidth\": 0, \"ticks\": \"\"}}, \"type\": \"parcoords\"}], \"pie\": [{\"automargin\": true, \"type\": \"pie\"}], \"scatter\": [{\"marker\": {\"colorbar\": {\"outlinewidth\": 0, \"ticks\": \"\"}}, \"type\": \"scatter\"}], \"scatter3d\": [{\"line\": {\"colorbar\": {\"outlinewidth\": 0, \"ticks\": \"\"}}, \"marker\": {\"colorbar\": {\"outlinewidth\": 0, \"ticks\": \"\"}}, \"type\": \"scatter3d\"}], \"scattercarpet\": [{\"marker\": {\"colorbar\": {\"outlinewidth\": 0, \"ticks\": \"\"}}, \"type\": \"scattercarpet\"}], \"scattergeo\": [{\"marker\": {\"colorbar\": {\"outlinewidth\": 0, \"ticks\": \"\"}}, \"type\": \"scattergeo\"}], \"scattergl\": [{\"marker\": {\"colorbar\": {\"outlinewidth\": 0, \"ticks\": \"\"}}, \"type\": \"scattergl\"}], \"scattermapbox\": [{\"marker\": {\"colorbar\": {\"outlinewidth\": 0, \"ticks\": \"\"}}, \"type\": \"scattermapbox\"}], \"scatterpolar\": [{\"marker\": {\"colorbar\": {\"outlinewidth\": 0, \"ticks\": \"\"}}, \"type\": \"scatterpolar\"}], \"scatterpolargl\": [{\"marker\": {\"colorbar\": {\"outlinewidth\": 0, \"ticks\": \"\"}}, \"type\": \"scatterpolargl\"}], \"scatterternary\": [{\"marker\": {\"colorbar\": {\"outlinewidth\": 0, \"ticks\": \"\"}}, \"type\": \"scatterternary\"}], \"surface\": [{\"colorbar\": {\"outlinewidth\": 0, \"ticks\": \"\"}, \"colorscale\": [[0.0, \"#0d0887\"], [0.1111111111111111, \"#46039f\"], [0.2222222222222222, \"#7201a8\"], [0.3333333333333333, \"#9c179e\"], [0.4444444444444444, \"#bd3786\"], [0.5555555555555556, \"#d8576b\"], [0.6666666666666666, \"#ed7953\"], [0.7777777777777778, \"#fb9f3a\"], [0.8888888888888888, \"#fdca26\"], [1.0, \"#f0f921\"]], \"type\": \"surface\"}], \"table\": [{\"cells\": {\"fill\": {\"color\": \"#EBF0F8\"}, \"line\": {\"color\": \"white\"}}, \"header\": {\"fill\": {\"color\": \"#C8D4E3\"}, \"line\": {\"color\": \"white\"}}, \"type\": \"table\"}]}, \"layout\": {\"annotationdefaults\": {\"arrowcolor\": \"#2a3f5f\", \"arrowhead\": 0, \"arrowwidth\": 1}, \"coloraxis\": {\"colorbar\": {\"outlinewidth\": 0, \"ticks\": \"\"}}, \"colorscale\": {\"diverging\": [[0, \"#8e0152\"], [0.1, \"#c51b7d\"], [0.2, \"#de77ae\"], [0.3, \"#f1b6da\"], [0.4, \"#fde0ef\"], [0.5, \"#f7f7f7\"], [0.6, \"#e6f5d0\"], [0.7, \"#b8e186\"], [0.8, \"#7fbc41\"], [0.9, \"#4d9221\"], [1, \"#276419\"]], \"sequential\": [[0.0, \"#0d0887\"], [0.1111111111111111, \"#46039f\"], [0.2222222222222222, \"#7201a8\"], [0.3333333333333333, \"#9c179e\"], [0.4444444444444444, \"#bd3786\"], [0.5555555555555556, \"#d8576b\"], [0.6666666666666666, \"#ed7953\"], [0.7777777777777778, \"#fb9f3a\"], [0.8888888888888888, \"#fdca26\"], [1.0, \"#f0f921\"]], \"sequentialminus\": [[0.0, \"#0d0887\"], [0.1111111111111111, \"#46039f\"], [0.2222222222222222, \"#7201a8\"], [0.3333333333333333, \"#9c179e\"], [0.4444444444444444, \"#bd3786\"], [0.5555555555555556, \"#d8576b\"], [0.6666666666666666, \"#ed7953\"], [0.7777777777777778, \"#fb9f3a\"], [0.8888888888888888, \"#fdca26\"], [1.0, \"#f0f921\"]]}, \"colorway\": [\"#636efa\", \"#EF553B\", \"#00cc96\", \"#ab63fa\", \"#FFA15A\", \"#19d3f3\", \"#FF6692\", \"#B6E880\", \"#FF97FF\", \"#FECB52\"], \"font\": {\"color\": \"#2a3f5f\"}, \"geo\": {\"bgcolor\": \"white\", \"lakecolor\": \"white\", \"landcolor\": \"#E5ECF6\", \"showlakes\": true, \"showland\": true, \"subunitcolor\": \"white\"}, \"hoverlabel\": {\"align\": \"left\"}, \"hovermode\": \"closest\", \"mapbox\": {\"style\": \"light\"}, \"paper_bgcolor\": \"white\", \"plot_bgcolor\": \"#E5ECF6\", \"polar\": {\"angularaxis\": {\"gridcolor\": \"white\", \"linecolor\": \"white\", \"ticks\": \"\"}, \"bgcolor\": \"#E5ECF6\", \"radialaxis\": {\"gridcolor\": \"white\", \"linecolor\": \"white\", \"ticks\": \"\"}}, \"scene\": {\"xaxis\": {\"backgroundcolor\": \"#E5ECF6\", \"gridcolor\": \"white\", \"gridwidth\": 2, \"linecolor\": \"white\", \"showbackground\": true, \"ticks\": \"\", \"zerolinecolor\": \"white\"}, \"yaxis\": {\"backgroundcolor\": \"#E5ECF6\", \"gridcolor\": \"white\", \"gridwidth\": 2, \"linecolor\": \"white\", \"showbackground\": true, \"ticks\": \"\", \"zerolinecolor\": \"white\"}, \"zaxis\": {\"backgroundcolor\": \"#E5ECF6\", \"gridcolor\": \"white\", \"gridwidth\": 2, \"linecolor\": \"white\", \"showbackground\": true, \"ticks\": \"\", \"zerolinecolor\": \"white\"}}, \"shapedefaults\": {\"line\": {\"color\": \"#2a3f5f\"}}, \"ternary\": {\"aaxis\": {\"gridcolor\": \"white\", \"linecolor\": \"white\", \"ticks\": \"\"}, \"baxis\": {\"gridcolor\": \"white\", \"linecolor\": \"white\", \"ticks\": \"\"}, \"bgcolor\": \"#E5ECF6\", \"caxis\": {\"gridcolor\": \"white\", \"linecolor\": \"white\", \"ticks\": \"\"}}, \"title\": {\"x\": 0.05}, \"xaxis\": {\"automargin\": true, \"gridcolor\": \"white\", \"linecolor\": \"white\", \"ticks\": \"\", \"title\": {\"standoff\": 15}, \"zerolinecolor\": \"white\", \"zerolinewidth\": 2}, \"yaxis\": {\"automargin\": true, \"gridcolor\": \"white\", \"linecolor\": \"white\", \"ticks\": \"\", \"title\": {\"standoff\": 15}, \"zerolinecolor\": \"white\", \"zerolinewidth\": 2}}}, \"title\": {\"text\": \"Population of each province in the Marrakech - Tansift Region.\"}},\n",
       "                        {\"responsive\": true}\n",
       "                    ).then(function(){\n",
       "                            \n",
       "var gd = document.getElementById('7a287f37-04ce-4cf6-a673-c8d0ec78cb03');\n",
       "var x = new MutationObserver(function (mutations, observer) {{\n",
       "        var display = window.getComputedStyle(gd).display;\n",
       "        if (!display || display === 'none') {{\n",
       "            console.log([gd, 'removed!']);\n",
       "            Plotly.purge(gd);\n",
       "            observer.disconnect();\n",
       "        }}\n",
       "}});\n",
       "\n",
       "// Listen for the removal of the full notebook cells\n",
       "var notebookContainer = gd.closest('#notebook-container');\n",
       "if (notebookContainer) {{\n",
       "    x.observe(notebookContainer, {childList: true});\n",
       "}}\n",
       "\n",
       "// Listen for the clearing of the current output cell\n",
       "var outputEl = gd.closest('.output');\n",
       "if (outputEl) {{\n",
       "    x.observe(outputEl, {childList: true});\n",
       "}}\n",
       "\n",
       "                        })\n",
       "                };\n",
       "                });\n",
       "            </script>\n",
       "        </div>"
      ]
     },
     "metadata": {},
     "output_type": "display_data"
    }
   ],
   "source": [
    "fig = px.pie(dfp, values='Population', names=['AL HAOUZ', 'CHICHAOUA', 'ESSAOUIRA', 'KELAA SERAGHNA', 'MARRAKECH'], title='Population of each province in the Marrakech - Tansift Region.', color_discrete_sequence=px.colors.sequential.Aggrnyl)\n",
    "fig.show()"
   ]
  },
  {
   "cell_type": "markdown",
   "metadata": {},
   "source": [
    "## Question 19"
   ]
  },
  {
   "cell_type": "markdown",
   "metadata": {},
   "source": [
    "Calculate the illiteracy and activity rate in each province and add them to 'dfp'."
   ]
  },
  {
   "cell_type": "code",
   "execution_count": 49,
   "metadata": {},
   "outputs": [],
   "source": [
    "dfc['Population_analphabete']= (dfc['Population']*dfc['Taux_Analphabetisme'])/100"
   ]
  },
  {
   "cell_type": "code",
   "execution_count": 50,
   "metadata": {},
   "outputs": [],
   "source": [
    "dfp['Taux_analphabetisme']= round(((dfc.groupby('Nom_Province')['Population_analphabete'].sum())/dfp['Population'])*100,2)"
   ]
  },
  {
   "cell_type": "code",
   "execution_count": 51,
   "metadata": {},
   "outputs": [],
   "source": [
    "dfp['Taux_Activite'] = round((dfp['population_active']/dfp['Population'])*100,2)"
   ]
  },
  {
   "cell_type": "code",
   "execution_count": 52,
   "metadata": {},
   "outputs": [
    {
     "data": {
      "text/html": [
       "<div>\n",
       "<style scoped>\n",
       "    .dataframe tbody tr th:only-of-type {\n",
       "        vertical-align: middle;\n",
       "    }\n",
       "\n",
       "    .dataframe tbody tr th {\n",
       "        vertical-align: top;\n",
       "    }\n",
       "\n",
       "    .dataframe thead th {\n",
       "        text-align: right;\n",
       "    }\n",
       "</style>\n",
       "<table border=\"1\" class=\"dataframe\">\n",
       "  <thead>\n",
       "    <tr style=\"text-align: right;\">\n",
       "      <th></th>\n",
       "      <th></th>\n",
       "      <th>Surface_ha</th>\n",
       "      <th>Population</th>\n",
       "      <th>population_active</th>\n",
       "      <th>Taux_analphabetisme</th>\n",
       "      <th>Taux_Activite</th>\n",
       "    </tr>\n",
       "    <tr>\n",
       "      <th>Nom_Province</th>\n",
       "      <th>Code_Province</th>\n",
       "      <th></th>\n",
       "      <th></th>\n",
       "      <th></th>\n",
       "      <th></th>\n",
       "      <th></th>\n",
       "    </tr>\n",
       "  </thead>\n",
       "  <tbody>\n",
       "    <tr>\n",
       "      <th>AL HAOUZ</th>\n",
       "      <th>041</th>\n",
       "      <td>606789.04</td>\n",
       "      <td>483741</td>\n",
       "      <td>173583.0</td>\n",
       "      <td>62.54</td>\n",
       "      <td>35.88</td>\n",
       "    </tr>\n",
       "    <tr>\n",
       "      <th>CHICHAOUA</th>\n",
       "      <th>161</th>\n",
       "      <td>712462.08</td>\n",
       "      <td>339510</td>\n",
       "      <td>114658.0</td>\n",
       "      <td>67.87</td>\n",
       "      <td>33.77</td>\n",
       "    </tr>\n",
       "    <tr>\n",
       "      <th>ESSAOUIRA</th>\n",
       "      <th>211</th>\n",
       "      <td>658513.04</td>\n",
       "      <td>452040</td>\n",
       "      <td>162985.0</td>\n",
       "      <td>62.86</td>\n",
       "      <td>36.06</td>\n",
       "    </tr>\n",
       "    <tr>\n",
       "      <th>KELAA SERAGHNA</th>\n",
       "      <th>191</th>\n",
       "      <td>970649.37</td>\n",
       "      <td>749632</td>\n",
       "      <td>249680.0</td>\n",
       "      <td>56.66</td>\n",
       "      <td>33.31</td>\n",
       "    </tr>\n",
       "    <tr>\n",
       "      <th>MARRAKECH</th>\n",
       "      <th>351</th>\n",
       "      <td>258953.71</td>\n",
       "      <td>1063415</td>\n",
       "      <td>401004.0</td>\n",
       "      <td>36.12</td>\n",
       "      <td>37.71</td>\n",
       "    </tr>\n",
       "  </tbody>\n",
       "</table>\n",
       "</div>"
      ],
      "text/plain": [
       "                              Surface_ha  Population  population_active  \\\n",
       "Nom_Province   Code_Province                                              \n",
       "AL HAOUZ       041             606789.04      483741           173583.0   \n",
       "CHICHAOUA      161             712462.08      339510           114658.0   \n",
       "ESSAOUIRA      211             658513.04      452040           162985.0   \n",
       "KELAA SERAGHNA 191             970649.37      749632           249680.0   \n",
       "MARRAKECH      351             258953.71     1063415           401004.0   \n",
       "\n",
       "                              Taux_analphabetisme  Taux_Activite  \n",
       "Nom_Province   Code_Province                                      \n",
       "AL HAOUZ       041                          62.54          35.88  \n",
       "CHICHAOUA      161                          67.87          33.77  \n",
       "ESSAOUIRA      211                          62.86          36.06  \n",
       "KELAA SERAGHNA 191                          56.66          33.31  \n",
       "MARRAKECH      351                          36.12          37.71  "
      ]
     },
     "execution_count": 52,
     "metadata": {},
     "output_type": "execute_result"
    }
   ],
   "source": [
    "dfp"
   ]
  },
  {
   "cell_type": "markdown",
   "metadata": {},
   "source": [
    "## Question 20"
   ]
  },
  {
   "cell_type": "markdown",
   "metadata": {},
   "source": [
    "Calculate the percentages of population distribution by age group (Pop_inf6_pc,\n",
    "Pop_615_pc, Pop_1560_pc, Pop_sup60_pc) in each province and add them to 'dfp'."
   ]
  },
  {
   "cell_type": "code",
   "execution_count": 53,
   "metadata": {},
   "outputs": [],
   "source": [
    "dfc['Population_inf6']= (dfc['Population']*dfc['Pop_inf6_pc'])/100"
   ]
  },
  {
   "cell_type": "code",
   "execution_count": 54,
   "metadata": {},
   "outputs": [],
   "source": [
    "dfp['Taux_pop_inf6']= round(((dfc.groupby('Nom_Province')['Population_inf6'].sum())/(dfp['Population']))*100,2)"
   ]
  },
  {
   "cell_type": "code",
   "execution_count": 55,
   "metadata": {},
   "outputs": [],
   "source": [
    "dfc['Population_615']= (dfc['Population']*dfc['Pop_615_pc'])/100"
   ]
  },
  {
   "cell_type": "code",
   "execution_count": 56,
   "metadata": {},
   "outputs": [],
   "source": [
    "dfp['Taux_pop_6_15']= round(((dfc.groupby('Nom_Province')['Population_615'].sum())/dfp['Population'])*100,2)"
   ]
  },
  {
   "cell_type": "code",
   "execution_count": 57,
   "metadata": {},
   "outputs": [],
   "source": [
    "dfc['Population_1560']= (dfc['Population']*dfc['Pop_1560_pc'])/100"
   ]
  },
  {
   "cell_type": "code",
   "execution_count": 58,
   "metadata": {},
   "outputs": [],
   "source": [
    "dfp['Taux_pop_15_60']= round(((dfc.groupby('Nom_Province')['Population_1560'].sum())/dfp['Population'])*100,2)"
   ]
  },
  {
   "cell_type": "code",
   "execution_count": 59,
   "metadata": {},
   "outputs": [],
   "source": [
    "dfc['Population_sup60']= (dfc['Population']*dfc['Pop_sup60_pc'])/100"
   ]
  },
  {
   "cell_type": "code",
   "execution_count": 60,
   "metadata": {},
   "outputs": [],
   "source": [
    "dfp['Taux_pop_sup60']= round(((dfc.groupby('Nom_Province')['Population_sup60'].sum())/dfp['Population'])*100,2)"
   ]
  },
  {
   "cell_type": "code",
   "execution_count": 61,
   "metadata": {},
   "outputs": [
    {
     "data": {
      "text/html": [
       "<div>\n",
       "<style scoped>\n",
       "    .dataframe tbody tr th:only-of-type {\n",
       "        vertical-align: middle;\n",
       "    }\n",
       "\n",
       "    .dataframe tbody tr th {\n",
       "        vertical-align: top;\n",
       "    }\n",
       "\n",
       "    .dataframe thead th {\n",
       "        text-align: right;\n",
       "    }\n",
       "</style>\n",
       "<table border=\"1\" class=\"dataframe\">\n",
       "  <thead>\n",
       "    <tr style=\"text-align: right;\">\n",
       "      <th></th>\n",
       "      <th></th>\n",
       "      <th>Surface_ha</th>\n",
       "      <th>Population</th>\n",
       "      <th>population_active</th>\n",
       "      <th>Taux_analphabetisme</th>\n",
       "      <th>Taux_Activite</th>\n",
       "      <th>Taux_pop_inf6</th>\n",
       "      <th>Taux_pop_6_15</th>\n",
       "      <th>Taux_pop_15_60</th>\n",
       "      <th>Taux_pop_sup60</th>\n",
       "    </tr>\n",
       "    <tr>\n",
       "      <th>Nom_Province</th>\n",
       "      <th>Code_Province</th>\n",
       "      <th></th>\n",
       "      <th></th>\n",
       "      <th></th>\n",
       "      <th></th>\n",
       "      <th></th>\n",
       "      <th></th>\n",
       "      <th></th>\n",
       "      <th></th>\n",
       "      <th></th>\n",
       "    </tr>\n",
       "  </thead>\n",
       "  <tbody>\n",
       "    <tr>\n",
       "      <th>AL HAOUZ</th>\n",
       "      <th>041</th>\n",
       "      <td>606789.04</td>\n",
       "      <td>483741</td>\n",
       "      <td>173583.0</td>\n",
       "      <td>62.54</td>\n",
       "      <td>35.88</td>\n",
       "      <td>12.90</td>\n",
       "      <td>22.42</td>\n",
       "      <td>56.32</td>\n",
       "      <td>8.34</td>\n",
       "    </tr>\n",
       "    <tr>\n",
       "      <th>CHICHAOUA</th>\n",
       "      <th>161</th>\n",
       "      <td>712462.08</td>\n",
       "      <td>339510</td>\n",
       "      <td>114658.0</td>\n",
       "      <td>67.87</td>\n",
       "      <td>33.77</td>\n",
       "      <td>14.19</td>\n",
       "      <td>23.45</td>\n",
       "      <td>53.84</td>\n",
       "      <td>8.54</td>\n",
       "    </tr>\n",
       "    <tr>\n",
       "      <th>ESSAOUIRA</th>\n",
       "      <th>211</th>\n",
       "      <td>658513.04</td>\n",
       "      <td>452040</td>\n",
       "      <td>162985.0</td>\n",
       "      <td>62.86</td>\n",
       "      <td>36.06</td>\n",
       "      <td>13.20</td>\n",
       "      <td>21.06</td>\n",
       "      <td>55.65</td>\n",
       "      <td>10.10</td>\n",
       "    </tr>\n",
       "    <tr>\n",
       "      <th>KELAA SERAGHNA</th>\n",
       "      <th>191</th>\n",
       "      <td>970649.37</td>\n",
       "      <td>749632</td>\n",
       "      <td>249680.0</td>\n",
       "      <td>56.66</td>\n",
       "      <td>33.31</td>\n",
       "      <td>12.90</td>\n",
       "      <td>22.10</td>\n",
       "      <td>57.37</td>\n",
       "      <td>7.63</td>\n",
       "    </tr>\n",
       "    <tr>\n",
       "      <th>MARRAKECH</th>\n",
       "      <th>351</th>\n",
       "      <td>258953.71</td>\n",
       "      <td>1063415</td>\n",
       "      <td>401004.0</td>\n",
       "      <td>36.12</td>\n",
       "      <td>37.71</td>\n",
       "      <td>11.23</td>\n",
       "      <td>17.54</td>\n",
       "      <td>63.31</td>\n",
       "      <td>7.95</td>\n",
       "    </tr>\n",
       "  </tbody>\n",
       "</table>\n",
       "</div>"
      ],
      "text/plain": [
       "                              Surface_ha  Population  population_active  \\\n",
       "Nom_Province   Code_Province                                              \n",
       "AL HAOUZ       041             606789.04      483741           173583.0   \n",
       "CHICHAOUA      161             712462.08      339510           114658.0   \n",
       "ESSAOUIRA      211             658513.04      452040           162985.0   \n",
       "KELAA SERAGHNA 191             970649.37      749632           249680.0   \n",
       "MARRAKECH      351             258953.71     1063415           401004.0   \n",
       "\n",
       "                              Taux_analphabetisme  Taux_Activite  \\\n",
       "Nom_Province   Code_Province                                       \n",
       "AL HAOUZ       041                          62.54          35.88   \n",
       "CHICHAOUA      161                          67.87          33.77   \n",
       "ESSAOUIRA      211                          62.86          36.06   \n",
       "KELAA SERAGHNA 191                          56.66          33.31   \n",
       "MARRAKECH      351                          36.12          37.71   \n",
       "\n",
       "                              Taux_pop_inf6  Taux_pop_6_15  Taux_pop_15_60  \\\n",
       "Nom_Province   Code_Province                                                 \n",
       "AL HAOUZ       041                    12.90          22.42           56.32   \n",
       "CHICHAOUA      161                    14.19          23.45           53.84   \n",
       "ESSAOUIRA      211                    13.20          21.06           55.65   \n",
       "KELAA SERAGHNA 191                    12.90          22.10           57.37   \n",
       "MARRAKECH      351                    11.23          17.54           63.31   \n",
       "\n",
       "                              Taux_pop_sup60  \n",
       "Nom_Province   Code_Province                  \n",
       "AL HAOUZ       041                      8.34  \n",
       "CHICHAOUA      161                      8.54  \n",
       "ESSAOUIRA      211                     10.10  \n",
       "KELAA SERAGHNA 191                      7.63  \n",
       "MARRAKECH      351                      7.95  "
      ]
     },
     "execution_count": 61,
     "metadata": {},
     "output_type": "execute_result"
    }
   ],
   "source": [
    "dfp"
   ]
  },
  {
   "cell_type": "markdown",
   "metadata": {},
   "source": [
    "## Question 21"
   ]
  },
  {
   "cell_type": "markdown",
   "metadata": {},
   "source": [
    "Export the DataFrame \" dfp \" to an Excel file marked \" dfp_ElMissaoui.xlsx \"."
   ]
  },
  {
   "cell_type": "code",
   "execution_count": 62,
   "metadata": {},
   "outputs": [],
   "source": [
    "dfp.to_excel('dfp_ElMissaoui.xlsx', sheet_name='RG_PROVINCES')"
   ]
  },
  {
   "cell_type": "markdown",
   "metadata": {},
   "source": [
    "## Question 22"
   ]
  },
  {
   "cell_type": "markdown",
   "metadata": {},
   "source": [
    "Representation, on the same graph, of the population and active population of the provinces."
   ]
  },
  {
   "cell_type": "code",
   "execution_count": 63,
   "metadata": {},
   "outputs": [],
   "source": [
    "dfp.reset_index(inplace=True)"
   ]
  },
  {
   "cell_type": "code",
   "execution_count": 64,
   "metadata": {},
   "outputs": [],
   "source": [
    "dfp = dfp.set_index('Nom_Province')"
   ]
  },
  {
   "cell_type": "code",
   "execution_count": 65,
   "metadata": {},
   "outputs": [
    {
     "data": {
      "text/plain": [
       "<matplotlib.axes._subplots.AxesSubplot at 0x1c29d55dd8>"
      ]
     },
     "execution_count": 65,
     "metadata": {},
     "output_type": "execute_result"
    },
    {
     "data": {
      "image/png": "[encoded data removed]",
      "text/plain": [
       "<Figure size 648x432 with 1 Axes>"
      ]
     },
     "metadata": {},
     "output_type": "display_data"
    }
   ],
   "source": [
    "dfp[['population_active','Population']].plot(kind='bar', title='La population et la population active des provinces de la région de Marrakech-Tansift 2004 ', colormap='Greens', use_index=True, stacked=True, alpha=0.7, figsize=(9,6))\n"
   ]
  },
  {
   "cell_type": "markdown",
   "metadata": {},
   "source": [
    "With Plotly and Cufflinks : "
   ]
  },
  {
   "cell_type": "code",
   "execution_count": 66,
   "metadata": {},
   "outputs": [
    {
     "data": {
      "application/vnd.plotly.v1+json": {
       "config": {
        "linkText": "Export to plot.ly",
        "plotlyServerURL": "https://plot.ly",
        "showLink": true
       },
       "data": [
        {
         "marker": {
          "color": "rgba(224, 243, 219, 0.6)",
          "line": {
           "color": "rgba(224, 243, 219, 1.0)",
           "width": 1
          }
         },
         "name": "population_active",
         "orientation": "h",
         "text": "",
         "type": "bar",
         "x": [
          173583,
          114658,
          162985,
          249680,
          401004
         ],
         "y": [
          "AL HAOUZ",
          "CHICHAOUA",
          "ESSAOUIRA",
          "KELAA SERAGHNA",
          "MARRAKECH"
         ]
        },
        {
         "marker": {
          "color": "rgba(168, 221, 181, 0.6)",
          "line": {
           "color": "rgba(168, 221, 181, 1.0)",
           "width": 1
          }
         },
         "name": "Population",
         "orientation": "h",
         "text": "",
         "type": "bar",
         "x": [
          483741,
          339510,
          452040,
          749632,
          1063415
         ],
         "y": [
          "AL HAOUZ",
          "CHICHAOUA",
          "ESSAOUIRA",
          "KELAA SERAGHNA",
          "MARRAKECH"
         ]
        }
       ],
       "layout": {
        "barmode": "overlay",
        "legend": {
         "bgcolor": "#151516",
         "font": {
          "color": "#D9D9D9"
         }
        },
        "paper_bgcolor": "#151516",
        "plot_bgcolor": "#151516",
        "template": {
         "data": {
          "bar": [
           {
            "error_x": {
             "color": "#2a3f5f"
            },
            "error_y": {
             "color": "#2a3f5f"
            },
            "marker": {
             "line": {
              "color": "#E5ECF6",
              "width": 0.5
             }
            },
            "type": "bar"
           }
          ],
          "barpolar": [
           {
            "marker": {
             "line": {
              "color": "#E5ECF6",
              "width": 0.5
             }
            },
            "type": "barpolar"
           }
          ],
          "carpet": [
           {
            "aaxis": {
             "endlinecolor": "#2a3f5f",
             "gridcolor": "white",
             "linecolor": "white",
             "minorgridcolor": "white",
             "startlinecolor": "#2a3f5f"
            },
            "baxis": {
             "endlinecolor": "#2a3f5f",
             "gridcolor": "white",
             "linecolor": "white",
             "minorgridcolor": "white",
             "startlinecolor": "#2a3f5f"
            },
            "type": "carpet"
           }
          ],
          "choropleth": [
           {
            "colorbar": {
             "outlinewidth": 0,
             "ticks": ""
            },
            "type": "choropleth"
           }
          ],
          "contour": [
           {
            "colorbar": {
             "outlinewidth": 0,
             "ticks": ""
            },
            "colorscale": [
             [
              0,
              "#0d0887"
             ],
             [
              0.1111111111111111,
              "#46039f"
             ],
             [
              0.2222222222222222,
              "#7201a8"
             ],
             [
              0.3333333333333333,
              "#9c179e"
             ],
             [
              0.4444444444444444,
              "#bd3786"
             ],
             [
              0.5555555555555556,
              "#d8576b"
             ],
             [
              0.6666666666666666,
              "#ed7953"
             ],
             [
              0.7777777777777778,
              "#fb9f3a"
             ],
             [
              0.8888888888888888,
              "#fdca26"
             ],
             [
              1,
              "#f0f921"
             ]
            ],
            "type": "contour"
           }
          ],
          "contourcarpet": [
           {
            "colorbar": {
             "outlinewidth": 0,
             "ticks": ""
            },
            "type": "contourcarpet"
           }
          ],
          "heatmap": [
           {
            "colorbar": {
             "outlinewidth": 0,
             "ticks": ""
            },
            "colorscale": [
             [
              0,
              "#0d0887"
             ],
             [
              0.1111111111111111,
              "#46039f"
             ],
             [
              0.2222222222222222,
              "#7201a8"
             ],
             [
              0.3333333333333333,
              "#9c179e"
             ],
             [
              0.4444444444444444,
              "#bd3786"
             ],
             [
              0.5555555555555556,
              "#d8576b"
             ],
             [
              0.6666666666666666,
              "#ed7953"
             ],
             [
              0.7777777777777778,
              "#fb9f3a"
             ],
             [
              0.8888888888888888,
              "#fdca26"
             ],
             [
              1,
              "#f0f921"
             ]
            ],
            "type": "heatmap"
           }
          ],
          "heatmapgl": [
           {
            "colorbar": {
             "outlinewidth": 0,
             "ticks": ""
            },
            "colorscale": [
             [
              0,
              "#0d0887"
             ],
             [
              0.1111111111111111,
              "#46039f"
             ],
             [
              0.2222222222222222,
              "#7201a8"
             ],
             [
              0.3333333333333333,
              "#9c179e"
             ],
             [
              0.4444444444444444,
              "#bd3786"
             ],
             [
              0.5555555555555556,
              "#d8576b"
             ],
             [
              0.6666666666666666,
              "#ed7953"
             ],
             [
              0.7777777777777778,
              "#fb9f3a"
             ],
             [
              0.8888888888888888,
              "#fdca26"
             ],
             [
              1,
              "#f0f921"
             ]
            ],
            "type": "heatmapgl"
           }
          ],
          "histogram": [
           {
            "marker": {
             "colorbar": {
              "outlinewidth": 0,
              "ticks": ""
             }
            },
            "type": "histogram"
           }
          ],
          "histogram2d": [
           {
            "colorbar": {
             "outlinewidth": 0,
             "ticks": ""
            },
            "colorscale": [
             [
              0,
              "#0d0887"
             ],
             [
              0.1111111111111111,
              "#46039f"
             ],
             [
              0.2222222222222222,
              "#7201a8"
             ],
             [
              0.3333333333333333,
              "#9c179e"
             ],
             [
              0.4444444444444444,
              "#bd3786"
             ],
             [
              0.5555555555555556,
              "#d8576b"
             ],
             [
              0.6666666666666666,
              "#ed7953"
             ],
             [
              0.7777777777777778,
              "#fb9f3a"
             ],
             [
              0.8888888888888888,
              "#fdca26"
             ],
             [
              1,
              "#f0f921"
             ]
            ],
            "type": "histogram2d"
           }
          ],
          "histogram2dcontour": [
           {
            "colorbar": {
             "outlinewidth": 0,
             "ticks": ""
            },
            "colorscale": [
             [
              0,
              "#0d0887"
             ],
             [
              0.1111111111111111,
              "#46039f"
             ],
             [
              0.2222222222222222,
              "#7201a8"
             ],
             [
              0.3333333333333333,
              "#9c179e"
             ],
             [
              0.4444444444444444,
              "#bd3786"
             ],
             [
              0.5555555555555556,
              "#d8576b"
             ],
             [
              0.6666666666666666,
              "#ed7953"
             ],
             [
              0.7777777777777778,
              "#fb9f3a"
             ],
             [
              0.8888888888888888,
              "#fdca26"
             ],
             [
              1,
              "#f0f921"
             ]
            ],
            "type": "histogram2dcontour"
           }
          ],
          "mesh3d": [
           {
            "colorbar": {
             "outlinewidth": 0,
             "ticks": ""
            },
            "type": "mesh3d"
           }
          ],
          "parcoords": [
           {
            "line": {
             "colorbar": {
              "outlinewidth": 0,
              "ticks": ""
             }
            },
            "type": "parcoords"
           }
          ],
          "pie": [
           {
            "automargin": true,
            "type": "pie"
           }
          ],
          "scatter": [
           {
            "marker": {
             "colorbar": {
              "outlinewidth": 0,
              "ticks": ""
             }
            },
            "type": "scatter"
           }
          ],
          "scatter3d": [
           {
            "line": {
             "colorbar": {
              "outlinewidth": 0,
              "ticks": ""
             }
            },
            "marker": {
             "colorbar": {
              "outlinewidth": 0,
              "ticks": ""
             }
            },
            "type": "scatter3d"
           }
          ],
          "scattercarpet": [
           {
            "marker": {
             "colorbar": {
              "outlinewidth": 0,
              "ticks": ""
             }
            },
            "type": "scattercarpet"
           }
          ],
          "scattergeo": [
           {
            "marker": {
             "colorbar": {
              "outlinewidth": 0,
              "ticks": ""
             }
            },
            "type": "scattergeo"
           }
          ],
          "scattergl": [
           {
            "marker": {
             "colorbar": {
              "outlinewidth": 0,
              "ticks": ""
             }
            },
            "type": "scattergl"
           }
          ],
          "scattermapbox": [
           {
            "marker": {
             "colorbar": {
              "outlinewidth": 0,
              "ticks": ""
             }
            },
            "type": "scattermapbox"
           }
          ],
          "scatterpolar": [
           {
            "marker": {
             "colorbar": {
              "outlinewidth": 0,
              "ticks": ""
             }
            },
            "type": "scatterpolar"
           }
          ],
          "scatterpolargl": [
           {
            "marker": {
             "colorbar": {
              "outlinewidth": 0,
              "ticks": ""
             }
            },
            "type": "scatterpolargl"
           }
          ],
          "scatterternary": [
           {
            "marker": {
             "colorbar": {
              "outlinewidth": 0,
              "ticks": ""
             }
            },
            "type": "scatterternary"
           }
          ],
          "surface": [
           {
            "colorbar": {
             "outlinewidth": 0,
             "ticks": ""
            },
            "colorscale": [
             [
              0,
              "#0d0887"
             ],
             [
              0.1111111111111111,
              "#46039f"
             ],
             [
              0.2222222222222222,
              "#7201a8"
             ],
             [
              0.3333333333333333,
              "#9c179e"
             ],
             [
              0.4444444444444444,
              "#bd3786"
             ],
             [
              0.5555555555555556,
              "#d8576b"
             ],
             [
              0.6666666666666666,
              "#ed7953"
             ],
             [
              0.7777777777777778,
              "#fb9f3a"
             ],
             [
              0.8888888888888888,
              "#fdca26"
             ],
             [
              1,
              "#f0f921"
             ]
            ],
            "type": "surface"
           }
          ],
          "table": [
           {
            "cells": {
             "fill": {
              "color": "#EBF0F8"
             },
             "line": {
              "color": "white"
             }
            },
            "header": {
             "fill": {
              "color": "#C8D4E3"
             },
             "line": {
              "color": "white"
             }
            },
            "type": "table"
           }
          ]
         },
         "layout": {
          "annotationdefaults": {
           "arrowcolor": "#2a3f5f",
           "arrowhead": 0,
           "arrowwidth": 1
          },
          "coloraxis": {
           "colorbar": {
            "outlinewidth": 0,
            "ticks": ""
           }
          },
          "colorscale": {
           "diverging": [
            [
             0,
             "#8e0152"
            ],
            [
             0.1,
             "#c51b7d"
            ],
            [
             0.2,
             "#de77ae"
            ],
            [
             0.3,
             "#f1b6da"
            ],
            [
             0.4,
             "#fde0ef"
            ],
            [
             0.5,
             "#f7f7f7"
            ],
            [
             0.6,
             "#e6f5d0"
            ],
            [
             0.7,
             "#b8e186"
            ],
            [
             0.8,
             "#7fbc41"
            ],
            [
             0.9,
             "#4d9221"
            ],
            [
             1,
             "#276419"
            ]
           ],
           "sequential": [
            [
             0,
             "#0d0887"
            ],
            [
             0.1111111111111111,
             "#46039f"
            ],
            [
             0.2222222222222222,
             "#7201a8"
            ],
            [
             0.3333333333333333,
             "#9c179e"
            ],
            [
             0.4444444444444444,
             "#bd3786"
            ],
            [
             0.5555555555555556,
             "#d8576b"
            ],
            [
             0.6666666666666666,
             "#ed7953"
            ],
            [
             0.7777777777777778,
             "#fb9f3a"
            ],
            [
             0.8888888888888888,
             "#fdca26"
            ],
            [
             1,
             "#f0f921"
            ]
           ],
           "sequentialminus": [
            [
             0,
             "#0d0887"
            ],
            [
             0.1111111111111111,
             "#46039f"
            ],
            [
             0.2222222222222222,
             "#7201a8"
            ],
            [
             0.3333333333333333,
             "#9c179e"
            ],
            [
             0.4444444444444444,
             "#bd3786"
            ],
            [
             0.5555555555555556,
             "#d8576b"
            ],
            [
             0.6666666666666666,
             "#ed7953"
            ],
            [
             0.7777777777777778,
             "#fb9f3a"
            ],
            [
             0.8888888888888888,
             "#fdca26"
            ],
            [
             1,
             "#f0f921"
            ]
           ]
          },
          "colorway": [
           "#636efa",
           "#EF553B",
           "#00cc96",
           "#ab63fa",
           "#FFA15A",
           "#19d3f3",
           "#FF6692",
           "#B6E880",
           "#FF97FF",
           "#FECB52"
          ],
          "font": {
           "color": "#2a3f5f"
          },
          "geo": {
           "bgcolor": "white",
           "lakecolor": "white",
           "landcolor": "#E5ECF6",
           "showlakes": true,
           "showland": true,
           "subunitcolor": "white"
          },
          "hoverlabel": {
           "align": "left"
          },
          "hovermode": "closest",
          "mapbox": {
           "style": "light"
          },
          "paper_bgcolor": "white",
          "plot_bgcolor": "#E5ECF6",
          "polar": {
           "angularaxis": {
            "gridcolor": "white",
            "linecolor": "white",
            "ticks": ""
           },
           "bgcolor": "#E5ECF6",
           "radialaxis": {
            "gridcolor": "white",
            "linecolor": "white",
            "ticks": ""
           }
          },
          "scene": {
           "xaxis": {
            "backgroundcolor": "#E5ECF6",
            "gridcolor": "white",
            "gridwidth": 2,
            "linecolor": "white",
            "showbackground": true,
            "ticks": "",
            "zerolinecolor": "white"
           },
           "yaxis": {
            "backgroundcolor": "#E5ECF6",
            "gridcolor": "white",
            "gridwidth": 2,
            "linecolor": "white",
            "showbackground": true,
            "ticks": "",
            "zerolinecolor": "white"
           },
           "zaxis": {
            "backgroundcolor": "#E5ECF6",
            "gridcolor": "white",
            "gridwidth": 2,
            "linecolor": "white",
            "showbackground": true,
            "ticks": "",
            "zerolinecolor": "white"
           }
          },
          "shapedefaults": {
           "line": {
            "color": "#2a3f5f"
           }
          },
          "ternary": {
           "aaxis": {
            "gridcolor": "white",
            "linecolor": "white",
            "ticks": ""
           },
           "baxis": {
            "gridcolor": "white",
            "linecolor": "white",
            "ticks": ""
           },
           "bgcolor": "#E5ECF6",
           "caxis": {
            "gridcolor": "white",
            "linecolor": "white",
            "ticks": ""
           }
          },
          "title": {
           "x": 0.05
          },
          "xaxis": {
           "automargin": true,
           "gridcolor": "white",
           "linecolor": "white",
           "ticks": "",
           "title": {
            "standoff": 15
           },
           "zerolinecolor": "white",
           "zerolinewidth": 2
          },
          "yaxis": {
           "automargin": true,
           "gridcolor": "white",
           "linecolor": "white",
           "ticks": "",
           "title": {
            "standoff": 15
           },
           "zerolinecolor": "white",
           "zerolinewidth": 2
          }
         }
        },
        "title": {
         "font": {
          "color": "#D9D9D9"
         },
         "text": "La population et la population active des provinces de la région de Marrakech-Tansift 2004 "
        },
        "xaxis": {
         "gridcolor": "#434343",
         "showgrid": true,
         "tickfont": {
          "color": "#C2C2C2"
         },
         "title": {
          "font": {
           "color": "#D9D9D9"
          },
          "text": ""
         },
         "zerolinecolor": "#666570"
        },
        "yaxis": {
         "gridcolor": "#434343",
         "showgrid": true,
         "tickfont": {
          "color": "#C2C2C2"
         },
         "title": {
          "font": {
           "color": "#D9D9D9"
          },
          "text": ""
         },
         "zerolinecolor": "#666570"
        }
       }
      },
      "text/html": [
       "<div>\n",
       "        \n",
       "        \n",
       "            <div id=\"e4a6f58d-f600-4200-9174-cf99425a4d6d\" class=\"plotly-graph-div\" style=\"height:525px; width:100%;\"></div>\n",
       "            <script type=\"text/javascript\">\n",
       "                require([\"plotly\"], function(Plotly) {\n",
       "                    window.PLOTLYENV=window.PLOTLYENV || {};\n",
       "                    window.PLOTLYENV.BASE_URL='https://plot.ly';\n",
       "                    \n",
       "                if (document.getElementById(\"e4a6f58d-f600-4200-9174-cf99425a4d6d\")) {\n",
       "                    Plotly.newPlot(\n",
       "                        'e4a6f58d-f600-4200-9174-cf99425a4d6d',\n",
       "                        [{\"marker\": {\"color\": \"rgba(224, 243, 219, 0.6)\", \"line\": {\"color\": \"rgba(224, 243, 219, 1.0)\", \"width\": 1}}, \"name\": \"population_active\", \"orientation\": \"h\", \"text\": \"\", \"type\": \"bar\", \"x\": [173583.0, 114658.0, 162985.0, 249680.0, 401004.0], \"y\": [\"AL HAOUZ\", \"CHICHAOUA\", \"ESSAOUIRA\", \"KELAA SERAGHNA\", \"MARRAKECH\"]}, {\"marker\": {\"color\": \"rgba(168, 221, 181, 0.6)\", \"line\": {\"color\": \"rgba(168, 221, 181, 1.0)\", \"width\": 1}}, \"name\": \"Population\", \"orientation\": \"h\", \"text\": \"\", \"type\": \"bar\", \"x\": [483741, 339510, 452040, 749632, 1063415], \"y\": [\"AL HAOUZ\", \"CHICHAOUA\", \"ESSAOUIRA\", \"KELAA SERAGHNA\", \"MARRAKECH\"]}],\n",
       "                        {\"barmode\": \"overlay\", \"legend\": {\"bgcolor\": \"#151516\", \"font\": {\"color\": \"#D9D9D9\"}}, \"paper_bgcolor\": \"#151516\", \"plot_bgcolor\": \"#151516\", \"template\": {\"data\": {\"bar\": [{\"error_x\": {\"color\": \"#2a3f5f\"}, \"error_y\": {\"color\": \"#2a3f5f\"}, \"marker\": {\"line\": {\"color\": \"#E5ECF6\", \"width\": 0.5}}, \"type\": \"bar\"}], \"barpolar\": [{\"marker\": {\"line\": {\"color\": \"#E5ECF6\", \"width\": 0.5}}, \"type\": \"barpolar\"}], \"carpet\": [{\"aaxis\": {\"endlinecolor\": \"#2a3f5f\", \"gridcolor\": \"white\", \"linecolor\": \"white\", \"minorgridcolor\": \"white\", \"startlinecolor\": \"#2a3f5f\"}, \"baxis\": {\"endlinecolor\": \"#2a3f5f\", \"gridcolor\": \"white\", \"linecolor\": \"white\", \"minorgridcolor\": \"white\", \"startlinecolor\": \"#2a3f5f\"}, \"type\": \"carpet\"}], \"choropleth\": [{\"colorbar\": {\"outlinewidth\": 0, \"ticks\": \"\"}, \"type\": \"choropleth\"}], \"contour\": [{\"colorbar\": {\"outlinewidth\": 0, \"ticks\": \"\"}, \"colorscale\": [[0.0, \"#0d0887\"], [0.1111111111111111, \"#46039f\"], [0.2222222222222222, \"#7201a8\"], [0.3333333333333333, \"#9c179e\"], [0.4444444444444444, \"#bd3786\"], [0.5555555555555556, \"#d8576b\"], [0.6666666666666666, \"#ed7953\"], [0.7777777777777778, \"#fb9f3a\"], [0.8888888888888888, \"#fdca26\"], [1.0, \"#f0f921\"]], \"type\": \"contour\"}], \"contourcarpet\": [{\"colorbar\": {\"outlinewidth\": 0, \"ticks\": \"\"}, \"type\": \"contourcarpet\"}], \"heatmap\": [{\"colorbar\": {\"outlinewidth\": 0, \"ticks\": \"\"}, \"colorscale\": [[0.0, \"#0d0887\"], [0.1111111111111111, \"#46039f\"], [0.2222222222222222, \"#7201a8\"], [0.3333333333333333, \"#9c179e\"], [0.4444444444444444, \"#bd3786\"], [0.5555555555555556, \"#d8576b\"], [0.6666666666666666, \"#ed7953\"], [0.7777777777777778, \"#fb9f3a\"], [0.8888888888888888, \"#fdca26\"], [1.0, \"#f0f921\"]], \"type\": \"heatmap\"}], \"heatmapgl\": [{\"colorbar\": {\"outlinewidth\": 0, \"ticks\": \"\"}, \"colorscale\": [[0.0, \"#0d0887\"], [0.1111111111111111, \"#46039f\"], [0.2222222222222222, \"#7201a8\"], [0.3333333333333333, \"#9c179e\"], [0.4444444444444444, \"#bd3786\"], [0.5555555555555556, \"#d8576b\"], [0.6666666666666666, \"#ed7953\"], [0.7777777777777778, \"#fb9f3a\"], [0.8888888888888888, \"#fdca26\"], [1.0, \"#f0f921\"]], \"type\": \"heatmapgl\"}], \"histogram\": [{\"marker\": {\"colorbar\": {\"outlinewidth\": 0, \"ticks\": \"\"}}, \"type\": \"histogram\"}], \"histogram2d\": [{\"colorbar\": {\"outlinewidth\": 0, \"ticks\": \"\"}, \"colorscale\": [[0.0, \"#0d0887\"], [0.1111111111111111, \"#46039f\"], [0.2222222222222222, \"#7201a8\"], [0.3333333333333333, \"#9c179e\"], [0.4444444444444444, \"#bd3786\"], [0.5555555555555556, \"#d8576b\"], [0.6666666666666666, \"#ed7953\"], [0.7777777777777778, \"#fb9f3a\"], [0.8888888888888888, \"#fdca26\"], [1.0, \"#f0f921\"]], \"type\": \"histogram2d\"}], \"histogram2dcontour\": [{\"colorbar\": {\"outlinewidth\": 0, \"ticks\": \"\"}, \"colorscale\": [[0.0, \"#0d0887\"], [0.1111111111111111, \"#46039f\"], [0.2222222222222222, \"#7201a8\"], [0.3333333333333333, \"#9c179e\"], [0.4444444444444444, \"#bd3786\"], [0.5555555555555556, \"#d8576b\"], [0.6666666666666666, \"#ed7953\"], [0.7777777777777778, \"#fb9f3a\"], [0.8888888888888888, \"#fdca26\"], [1.0, \"#f0f921\"]], \"type\": \"histogram2dcontour\"}], \"mesh3d\": [{\"colorbar\": {\"outlinewidth\": 0, \"ticks\": \"\"}, \"type\": \"mesh3d\"}], \"parcoords\": [{\"line\": {\"colorbar\": {\"outlinewidth\": 0, \"ticks\": \"\"}}, \"type\": \"parcoords\"}], \"pie\": [{\"automargin\": true, \"type\": \"pie\"}], \"scatter\": [{\"marker\": {\"colorbar\": {\"outlinewidth\": 0, \"ticks\": \"\"}}, \"type\": \"scatter\"}], \"scatter3d\": [{\"line\": {\"colorbar\": {\"outlinewidth\": 0, \"ticks\": \"\"}}, \"marker\": {\"colorbar\": {\"outlinewidth\": 0, \"ticks\": \"\"}}, \"type\": \"scatter3d\"}], \"scattercarpet\": [{\"marker\": {\"colorbar\": {\"outlinewidth\": 0, \"ticks\": \"\"}}, \"type\": \"scattercarpet\"}], \"scattergeo\": [{\"marker\": {\"colorbar\": {\"outlinewidth\": 0, \"ticks\": \"\"}}, \"type\": \"scattergeo\"}], \"scattergl\": [{\"marker\": {\"colorbar\": {\"outlinewidth\": 0, \"ticks\": \"\"}}, \"type\": \"scattergl\"}], \"scattermapbox\": [{\"marker\": {\"colorbar\": {\"outlinewidth\": 0, \"ticks\": \"\"}}, \"type\": \"scattermapbox\"}], \"scatterpolar\": [{\"marker\": {\"colorbar\": {\"outlinewidth\": 0, \"ticks\": \"\"}}, \"type\": \"scatterpolar\"}], \"scatterpolargl\": [{\"marker\": {\"colorbar\": {\"outlinewidth\": 0, \"ticks\": \"\"}}, \"type\": \"scatterpolargl\"}], \"scatterternary\": [{\"marker\": {\"colorbar\": {\"outlinewidth\": 0, \"ticks\": \"\"}}, \"type\": \"scatterternary\"}], \"surface\": [{\"colorbar\": {\"outlinewidth\": 0, \"ticks\": \"\"}, \"colorscale\": [[0.0, \"#0d0887\"], [0.1111111111111111, \"#46039f\"], [0.2222222222222222, \"#7201a8\"], [0.3333333333333333, \"#9c179e\"], [0.4444444444444444, \"#bd3786\"], [0.5555555555555556, \"#d8576b\"], [0.6666666666666666, \"#ed7953\"], [0.7777777777777778, \"#fb9f3a\"], [0.8888888888888888, \"#fdca26\"], [1.0, \"#f0f921\"]], \"type\": \"surface\"}], \"table\": [{\"cells\": {\"fill\": {\"color\": \"#EBF0F8\"}, \"line\": {\"color\": \"white\"}}, \"header\": {\"fill\": {\"color\": \"#C8D4E3\"}, \"line\": {\"color\": \"white\"}}, \"type\": \"table\"}]}, \"layout\": {\"annotationdefaults\": {\"arrowcolor\": \"#2a3f5f\", \"arrowhead\": 0, \"arrowwidth\": 1}, \"coloraxis\": {\"colorbar\": {\"outlinewidth\": 0, \"ticks\": \"\"}}, \"colorscale\": {\"diverging\": [[0, \"#8e0152\"], [0.1, \"#c51b7d\"], [0.2, \"#de77ae\"], [0.3, \"#f1b6da\"], [0.4, \"#fde0ef\"], [0.5, \"#f7f7f7\"], [0.6, \"#e6f5d0\"], [0.7, \"#b8e186\"], [0.8, \"#7fbc41\"], [0.9, \"#4d9221\"], [1, \"#276419\"]], \"sequential\": [[0.0, \"#0d0887\"], [0.1111111111111111, \"#46039f\"], [0.2222222222222222, \"#7201a8\"], [0.3333333333333333, \"#9c179e\"], [0.4444444444444444, \"#bd3786\"], [0.5555555555555556, \"#d8576b\"], [0.6666666666666666, \"#ed7953\"], [0.7777777777777778, \"#fb9f3a\"], [0.8888888888888888, \"#fdca26\"], [1.0, \"#f0f921\"]], \"sequentialminus\": [[0.0, \"#0d0887\"], [0.1111111111111111, \"#46039f\"], [0.2222222222222222, \"#7201a8\"], [0.3333333333333333, \"#9c179e\"], [0.4444444444444444, \"#bd3786\"], [0.5555555555555556, \"#d8576b\"], [0.6666666666666666, \"#ed7953\"], [0.7777777777777778, \"#fb9f3a\"], [0.8888888888888888, \"#fdca26\"], [1.0, \"#f0f921\"]]}, \"colorway\": [\"#636efa\", \"#EF553B\", \"#00cc96\", \"#ab63fa\", \"#FFA15A\", \"#19d3f3\", \"#FF6692\", \"#B6E880\", \"#FF97FF\", \"#FECB52\"], \"font\": {\"color\": \"#2a3f5f\"}, \"geo\": {\"bgcolor\": \"white\", \"lakecolor\": \"white\", \"landcolor\": \"#E5ECF6\", \"showlakes\": true, \"showland\": true, \"subunitcolor\": \"white\"}, \"hoverlabel\": {\"align\": \"left\"}, \"hovermode\": \"closest\", \"mapbox\": {\"style\": \"light\"}, \"paper_bgcolor\": \"white\", \"plot_bgcolor\": \"#E5ECF6\", \"polar\": {\"angularaxis\": {\"gridcolor\": \"white\", \"linecolor\": \"white\", \"ticks\": \"\"}, \"bgcolor\": \"#E5ECF6\", \"radialaxis\": {\"gridcolor\": \"white\", \"linecolor\": \"white\", \"ticks\": \"\"}}, \"scene\": {\"xaxis\": {\"backgroundcolor\": \"#E5ECF6\", \"gridcolor\": \"white\", \"gridwidth\": 2, \"linecolor\": \"white\", \"showbackground\": true, \"ticks\": \"\", \"zerolinecolor\": \"white\"}, \"yaxis\": {\"backgroundcolor\": \"#E5ECF6\", \"gridcolor\": \"white\", \"gridwidth\": 2, \"linecolor\": \"white\", \"showbackground\": true, \"ticks\": \"\", \"zerolinecolor\": \"white\"}, \"zaxis\": {\"backgroundcolor\": \"#E5ECF6\", \"gridcolor\": \"white\", \"gridwidth\": 2, \"linecolor\": \"white\", \"showbackground\": true, \"ticks\": \"\", \"zerolinecolor\": \"white\"}}, \"shapedefaults\": {\"line\": {\"color\": \"#2a3f5f\"}}, \"ternary\": {\"aaxis\": {\"gridcolor\": \"white\", \"linecolor\": \"white\", \"ticks\": \"\"}, \"baxis\": {\"gridcolor\": \"white\", \"linecolor\": \"white\", \"ticks\": \"\"}, \"bgcolor\": \"#E5ECF6\", \"caxis\": {\"gridcolor\": \"white\", \"linecolor\": \"white\", \"ticks\": \"\"}}, \"title\": {\"x\": 0.05}, \"xaxis\": {\"automargin\": true, \"gridcolor\": \"white\", \"linecolor\": \"white\", \"ticks\": \"\", \"title\": {\"standoff\": 15}, \"zerolinecolor\": \"white\", \"zerolinewidth\": 2}, \"yaxis\": {\"automargin\": true, \"gridcolor\": \"white\", \"linecolor\": \"white\", \"ticks\": \"\", \"title\": {\"standoff\": 15}, \"zerolinecolor\": \"white\", \"zerolinewidth\": 2}}}, \"title\": {\"font\": {\"color\": \"#D9D9D9\"}, \"text\": \"La population et la population active des provinces de la r\\u00e9gion de Marrakech-Tansift 2004 \"}, \"xaxis\": {\"gridcolor\": \"#434343\", \"showgrid\": true, \"tickfont\": {\"color\": \"#C2C2C2\"}, \"title\": {\"font\": {\"color\": \"#D9D9D9\"}, \"text\": \"\"}, \"zerolinecolor\": \"#666570\"}, \"yaxis\": {\"gridcolor\": \"#434343\", \"showgrid\": true, \"tickfont\": {\"color\": \"#C2C2C2\"}, \"title\": {\"font\": {\"color\": \"#D9D9D9\"}, \"text\": \"\"}, \"zerolinecolor\": \"#666570\"}},\n",
       "                        {\"showLink\": true, \"linkText\": \"Export to plot.ly\", \"plotlyServerURL\": \"https://plot.ly\", \"responsive\": true}\n",
       "                    ).then(function(){\n",
       "                            \n",
       "var gd = document.getElementById('e4a6f58d-f600-4200-9174-cf99425a4d6d');\n",
       "var x = new MutationObserver(function (mutations, observer) {{\n",
       "        var display = window.getComputedStyle(gd).display;\n",
       "        if (!display || display === 'none') {{\n",
       "            console.log([gd, 'removed!']);\n",
       "            Plotly.purge(gd);\n",
       "            observer.disconnect();\n",
       "        }}\n",
       "}});\n",
       "\n",
       "// Listen for the removal of the full notebook cells\n",
       "var notebookContainer = gd.closest('#notebook-container');\n",
       "if (notebookContainer) {{\n",
       "    x.observe(notebookContainer, {childList: true});\n",
       "}}\n",
       "\n",
       "// Listen for the clearing of the current output cell\n",
       "var outputEl = gd.closest('.output');\n",
       "if (outputEl) {{\n",
       "    x.observe(outputEl, {childList: true});\n",
       "}}\n",
       "\n",
       "                        })\n",
       "                };\n",
       "                });\n",
       "            </script>\n",
       "        </div>"
      ]
     },
     "metadata": {},
     "output_type": "display_data"
    }
   ],
   "source": [
    "dfp[['population_active','Population']].iplot(kind='bar',title='La population et la population active des provinces de la région de Marrakech-Tansift 2004 ', barmode='overlay', orientation='h', colorscale='GnBu', theme='solar' )"
   ]
  },
  {
   "cell_type": "markdown",
   "metadata": {},
   "source": [
    "Commentaire : "
   ]
  },
  {
   "cell_type": "markdown",
   "metadata": {},
   "source": [
    "The distribution of the population in the region is slightly the same as the distribution of the active population, it means the variance of the activity rate of the region is minimal. \n",
    "The province of Marrakech has the highest population and population active, and the province of Chichaoua has the lowest population and population active. "
   ]
  },
  {
   "cell_type": "markdown",
   "metadata": {},
   "source": [
    "## Question 23"
   ]
  },
  {
   "cell_type": "markdown",
   "metadata": {},
   "source": [
    "Show on the same graph the activity rate and the illiteracy rate for each province."
   ]
  },
  {
   "cell_type": "code",
   "execution_count": 67,
   "metadata": {},
   "outputs": [
    {
     "data": {
      "image/png": "[encoded data removed]",
      "text/plain": [
       "<Figure size 684x468 with 1 Axes>"
      ]
     },
     "metadata": {},
     "output_type": "display_data"
    }
   ],
   "source": [
    "splt = dfp[['Taux_Activite','Taux_analphabetisme']].plot(kind='bar', colormap='Greens', use_index=True, stacked=False, alpha=0.7, fontsize=14, grid=False, width=0.6, title=(\"Le taux d'activité et le taux d'analphabetisme de chaque province en % \"), figsize=(9.5,6.5))\n",
    "for p in splt.patches: \n",
    "    splt.annotate(format(p.get_height(), '.2f'), (p.get_x() + p.get_width() / 2., p.get_height()), ha = 'center', va = 'center', xytext = (0, 10), textcoords = 'offset points')"
   ]
  },
  {
   "cell_type": "markdown",
   "metadata": {},
   "source": [
    "<b> Comments : </b>"
   ]
  },
  {
   "cell_type": "markdown",
   "metadata": {},
   "source": [
    "- The distribution of the activity rate is slightly the same in the five provinces of the region. Thus, the share of working people is high in Marrakech province (37.71%), and lowest in Kelaa Seraghna province (33.31%). We can see that it's not necessary the province with the lowest active population has the lowest activity rate.\n",
    "- Thus, The distribution of the illeteracy rate is slightly different in the five provinces of the region. The illeteracy rate is high in Chichaoua province (67.87%), and lowest in Marrakech province (36.12%).\n",
    "- Marrakech is the only province that has an activity rate higher than illetracy rate. We can deduce that the province of Marrakech is economically and educationally powerfull. \n",
    "- Essaouira is the second high illeteracy rate (62.86%) province, but also the second high activty rate (36.06%). We can deduce that the activity in the province is provided by undeucated people and sectors (like tourism, real-estate..) "
   ]
  },
  {
   "cell_type": "markdown",
   "metadata": {},
   "source": [
    "## Question 24"
   ]
  },
  {
   "cell_type": "markdown",
   "metadata": {},
   "source": [
    "Show on the same graph the percentages of population distribution by age group."
   ]
  },
  {
   "cell_type": "code",
   "execution_count": 68,
   "metadata": {},
   "outputs": [
    {
     "data": {
      "text/plain": [
       "<matplotlib.legend.Legend at 0x1c2c295f28>"
      ]
     },
     "execution_count": 68,
     "metadata": {},
     "output_type": "execute_result"
    },
    {
     "data": {
      "image/png": "[encoded data removed]",
      "text/plain": [
       "<Figure size 648x482.4 with 1 Axes>"
      ]
     },
     "metadata": {},
     "output_type": "display_data"
    }
   ],
   "source": [
    "popage = dfp[['Taux_pop_inf6','Taux_pop_6_15','Taux_pop_15_60', 'Taux_pop_sup60']].plot( kind='bar', width=0.7, colormap='Greens', use_index=True, stacked=False, alpha=0.7, fontsize=14, grid=False, title=(\"Les poucentages de répartition de la population par tranche d'âge en % \"), figsize=(9,6.7))\n",
    "\n",
    "for p in popage.patches: \n",
    "    popage.annotate(format(p.get_height(), '.2f'), (p.get_x() + p.get_width() / 2., p.get_height()), ha = 'center', va = 'center', xytext = (3, 10), textcoords = 'offset points')\n",
    "popage.legend(['Taux pop < 6 ans', 'Taux pop 6-15 ans', 'Taux pop 15-60 ans','Taux pop > 60 ans'], loc=5)\n"
   ]
  },
  {
   "cell_type": "markdown",
   "metadata": {},
   "source": [
    "With Plotly : "
   ]
  },
  {
   "cell_type": "code",
   "execution_count": 69,
   "metadata": {},
   "outputs": [],
   "source": [
    "import plotly.graph_objects as go\n",
    "from plotly.subplots import make_subplots\n"
   ]
  },
  {
   "cell_type": "code",
   "execution_count": 70,
   "metadata": {},
   "outputs": [
    {
     "data": {
      "application/vnd.plotly.v1+json": {
       "config": {
        "plotlyServerURL": "https://plot.ly"
       },
       "data": [
        {
         "domain": {
          "x": [
           0,
           0.45
          ],
          "y": [
           0,
           1
          ]
         },
         "hole": 0.4,
         "hoverinfo": "label+percent+name",
         "labels": [
          "Inférieure à 6ans",
          "Entre 6 et 15ans",
          "Entre 15 et 60ans",
          "Supérieure à 60ans"
         ],
         "name": "AL HAOUZ",
         "type": "pie",
         "values": [
          12.9,
          22.42,
          56.32,
          8.34
         ]
        },
        {
         "domain": {
          "x": [
           0.55,
           1
          ],
          "y": [
           0,
           1
          ]
         },
         "hole": 0.4,
         "hoverinfo": "label+percent+name",
         "labels": [
          "Inférieure à 6ans",
          "Entre 6 et 15ans",
          "Entre 15 et 60ans",
          "Supérieure à 60ans"
         ],
         "name": "CHICHAOUA",
         "type": "pie",
         "values": [
          14.19,
          23.45,
          53.84,
          8.54
         ]
        }
       ],
       "layout": {
        "annotations": [
         {
          "font": {
           "size": 20
          },
          "showarrow": false,
          "text": "AL HAOUZ",
          "x": 0.16,
          "y": 0.53
         },
         {
          "font": {
           "size": 20
          },
          "showarrow": false,
          "text": "CHICHAOUA",
          "x": 0.85,
          "y": 0.53
         }
        ],
        "showlegend": false,
        "template": {
         "data": {
          "bar": [
           {
            "error_x": {
             "color": "#2a3f5f"
            },
            "error_y": {
             "color": "#2a3f5f"
            },
            "marker": {
             "line": {
              "color": "#E5ECF6",
              "width": 0.5
             }
            },
            "type": "bar"
           }
          ],
          "barpolar": [
           {
            "marker": {
             "line": {
              "color": "#E5ECF6",
              "width": 0.5
             }
            },
            "type": "barpolar"
           }
          ],
          "carpet": [
           {
            "aaxis": {
             "endlinecolor": "#2a3f5f",
             "gridcolor": "white",
             "linecolor": "white",
             "minorgridcolor": "white",
             "startlinecolor": "#2a3f5f"
            },
            "baxis": {
             "endlinecolor": "#2a3f5f",
             "gridcolor": "white",
             "linecolor": "white",
             "minorgridcolor": "white",
             "startlinecolor": "#2a3f5f"
            },
            "type": "carpet"
           }
          ],
          "choropleth": [
           {
            "colorbar": {
             "outlinewidth": 0,
             "ticks": ""
            },
            "type": "choropleth"
           }
          ],
          "contour": [
           {
            "colorbar": {
             "outlinewidth": 0,
             "ticks": ""
            },
            "colorscale": [
             [
              0,
              "#0d0887"
             ],
             [
              0.1111111111111111,
              "#46039f"
             ],
             [
              0.2222222222222222,
              "#7201a8"
             ],
             [
              0.3333333333333333,
              "#9c179e"
             ],
             [
              0.4444444444444444,
              "#bd3786"
             ],
             [
              0.5555555555555556,
              "#d8576b"
             ],
             [
              0.6666666666666666,
              "#ed7953"
             ],
             [
              0.7777777777777778,
              "#fb9f3a"
             ],
             [
              0.8888888888888888,
              "#fdca26"
             ],
             [
              1,
              "#f0f921"
             ]
            ],
            "type": "contour"
           }
          ],
          "contourcarpet": [
           {
            "colorbar": {
             "outlinewidth": 0,
             "ticks": ""
            },
            "type": "contourcarpet"
           }
          ],
          "heatmap": [
           {
            "colorbar": {
             "outlinewidth": 0,
             "ticks": ""
            },
            "colorscale": [
             [
              0,
              "#0d0887"
             ],
             [
              0.1111111111111111,
              "#46039f"
             ],
             [
              0.2222222222222222,
              "#7201a8"
             ],
             [
              0.3333333333333333,
              "#9c179e"
             ],
             [
              0.4444444444444444,
              "#bd3786"
             ],
             [
              0.5555555555555556,
              "#d8576b"
             ],
             [
              0.6666666666666666,
              "#ed7953"
             ],
             [
              0.7777777777777778,
              "#fb9f3a"
             ],
             [
              0.8888888888888888,
              "#fdca26"
             ],
             [
              1,
              "#f0f921"
             ]
            ],
            "type": "heatmap"
           }
          ],
          "heatmapgl": [
           {
            "colorbar": {
             "outlinewidth": 0,
             "ticks": ""
            },
            "colorscale": [
             [
              0,
              "#0d0887"
             ],
             [
              0.1111111111111111,
              "#46039f"
             ],
             [
              0.2222222222222222,
              "#7201a8"
             ],
             [
              0.3333333333333333,
              "#9c179e"
             ],
             [
              0.4444444444444444,
              "#bd3786"
             ],
             [
              0.5555555555555556,
              "#d8576b"
             ],
             [
              0.6666666666666666,
              "#ed7953"
             ],
             [
              0.7777777777777778,
              "#fb9f3a"
             ],
             [
              0.8888888888888888,
              "#fdca26"
             ],
             [
              1,
              "#f0f921"
             ]
            ],
            "type": "heatmapgl"
           }
          ],
          "histogram": [
           {
            "marker": {
             "colorbar": {
              "outlinewidth": 0,
              "ticks": ""
             }
            },
            "type": "histogram"
           }
          ],
          "histogram2d": [
           {
            "colorbar": {
             "outlinewidth": 0,
             "ticks": ""
            },
            "colorscale": [
             [
              0,
              "#0d0887"
             ],
             [
              0.1111111111111111,
              "#46039f"
             ],
             [
              0.2222222222222222,
              "#7201a8"
             ],
             [
              0.3333333333333333,
              "#9c179e"
             ],
             [
              0.4444444444444444,
              "#bd3786"
             ],
             [
              0.5555555555555556,
              "#d8576b"
             ],
             [
              0.6666666666666666,
              "#ed7953"
             ],
             [
              0.7777777777777778,
              "#fb9f3a"
             ],
             [
              0.8888888888888888,
              "#fdca26"
             ],
             [
              1,
              "#f0f921"
             ]
            ],
            "type": "histogram2d"
           }
          ],
          "histogram2dcontour": [
           {
            "colorbar": {
             "outlinewidth": 0,
             "ticks": ""
            },
            "colorscale": [
             [
              0,
              "#0d0887"
             ],
             [
              0.1111111111111111,
              "#46039f"
             ],
             [
              0.2222222222222222,
              "#7201a8"
             ],
             [
              0.3333333333333333,
              "#9c179e"
             ],
             [
              0.4444444444444444,
              "#bd3786"
             ],
             [
              0.5555555555555556,
              "#d8576b"
             ],
             [
              0.6666666666666666,
              "#ed7953"
             ],
             [
              0.7777777777777778,
              "#fb9f3a"
             ],
             [
              0.8888888888888888,
              "#fdca26"
             ],
             [
              1,
              "#f0f921"
             ]
            ],
            "type": "histogram2dcontour"
           }
          ],
          "mesh3d": [
           {
            "colorbar": {
             "outlinewidth": 0,
             "ticks": ""
            },
            "type": "mesh3d"
           }
          ],
          "parcoords": [
           {
            "line": {
             "colorbar": {
              "outlinewidth": 0,
              "ticks": ""
             }
            },
            "type": "parcoords"
           }
          ],
          "pie": [
           {
            "automargin": true,
            "type": "pie"
           }
          ],
          "scatter": [
           {
            "marker": {
             "colorbar": {
              "outlinewidth": 0,
              "ticks": ""
             }
            },
            "type": "scatter"
           }
          ],
          "scatter3d": [
           {
            "line": {
             "colorbar": {
              "outlinewidth": 0,
              "ticks": ""
             }
            },
            "marker": {
             "colorbar": {
              "outlinewidth": 0,
              "ticks": ""
             }
            },
            "type": "scatter3d"
           }
          ],
          "scattercarpet": [
           {
            "marker": {
             "colorbar": {
              "outlinewidth": 0,
              "ticks": ""
             }
            },
            "type": "scattercarpet"
           }
          ],
          "scattergeo": [
           {
            "marker": {
             "colorbar": {
              "outlinewidth": 0,
              "ticks": ""
             }
            },
            "type": "scattergeo"
           }
          ],
          "scattergl": [
           {
            "marker": {
             "colorbar": {
              "outlinewidth": 0,
              "ticks": ""
             }
            },
            "type": "scattergl"
           }
          ],
          "scattermapbox": [
           {
            "marker": {
             "colorbar": {
              "outlinewidth": 0,
              "ticks": ""
             }
            },
            "type": "scattermapbox"
           }
          ],
          "scatterpolar": [
           {
            "marker": {
             "colorbar": {
              "outlinewidth": 0,
              "ticks": ""
             }
            },
            "type": "scatterpolar"
           }
          ],
          "scatterpolargl": [
           {
            "marker": {
             "colorbar": {
              "outlinewidth": 0,
              "ticks": ""
             }
            },
            "type": "scatterpolargl"
           }
          ],
          "scatterternary": [
           {
            "marker": {
             "colorbar": {
              "outlinewidth": 0,
              "ticks": ""
             }
            },
            "type": "scatterternary"
           }
          ],
          "surface": [
           {
            "colorbar": {
             "outlinewidth": 0,
             "ticks": ""
            },
            "colorscale": [
             [
              0,
              "#0d0887"
             ],
             [
              0.1111111111111111,
              "#46039f"
             ],
             [
              0.2222222222222222,
              "#7201a8"
             ],
             [
              0.3333333333333333,
              "#9c179e"
             ],
             [
              0.4444444444444444,
              "#bd3786"
             ],
             [
              0.5555555555555556,
              "#d8576b"
             ],
             [
              0.6666666666666666,
              "#ed7953"
             ],
             [
              0.7777777777777778,
              "#fb9f3a"
             ],
             [
              0.8888888888888888,
              "#fdca26"
             ],
             [
              1,
              "#f0f921"
             ]
            ],
            "type": "surface"
           }
          ],
          "table": [
           {
            "cells": {
             "fill": {
              "color": "#EBF0F8"
             },
             "line": {
              "color": "white"
             }
            },
            "header": {
             "fill": {
              "color": "#C8D4E3"
             },
             "line": {
              "color": "white"
             }
            },
            "type": "table"
           }
          ]
         },
         "layout": {
          "annotationdefaults": {
           "arrowcolor": "#2a3f5f",
           "arrowhead": 0,
           "arrowwidth": 1
          },
          "coloraxis": {
           "colorbar": {
            "outlinewidth": 0,
            "ticks": ""
           }
          },
          "colorscale": {
           "diverging": [
            [
             0,
             "#8e0152"
            ],
            [
             0.1,
             "#c51b7d"
            ],
            [
             0.2,
             "#de77ae"
            ],
            [
             0.3,
             "#f1b6da"
            ],
            [
             0.4,
             "#fde0ef"
            ],
            [
             0.5,
             "#f7f7f7"
            ],
            [
             0.6,
             "#e6f5d0"
            ],
            [
             0.7,
             "#b8e186"
            ],
            [
             0.8,
             "#7fbc41"
            ],
            [
             0.9,
             "#4d9221"
            ],
            [
             1,
             "#276419"
            ]
           ],
           "sequential": [
            [
             0,
             "#0d0887"
            ],
            [
             0.1111111111111111,
             "#46039f"
            ],
            [
             0.2222222222222222,
             "#7201a8"
            ],
            [
             0.3333333333333333,
             "#9c179e"
            ],
            [
             0.4444444444444444,
             "#bd3786"
            ],
            [
             0.5555555555555556,
             "#d8576b"
            ],
            [
             0.6666666666666666,
             "#ed7953"
            ],
            [
             0.7777777777777778,
             "#fb9f3a"
            ],
            [
             0.8888888888888888,
             "#fdca26"
            ],
            [
             1,
             "#f0f921"
            ]
           ],
           "sequentialminus": [
            [
             0,
             "#0d0887"
            ],
            [
             0.1111111111111111,
             "#46039f"
            ],
            [
             0.2222222222222222,
             "#7201a8"
            ],
            [
             0.3333333333333333,
             "#9c179e"
            ],
            [
             0.4444444444444444,
             "#bd3786"
            ],
            [
             0.5555555555555556,
             "#d8576b"
            ],
            [
             0.6666666666666666,
             "#ed7953"
            ],
            [
             0.7777777777777778,
             "#fb9f3a"
            ],
            [
             0.8888888888888888,
             "#fdca26"
            ],
            [
             1,
             "#f0f921"
            ]
           ]
          },
          "colorway": [
           "#636efa",
           "#EF553B",
           "#00cc96",
           "#ab63fa",
           "#FFA15A",
           "#19d3f3",
           "#FF6692",
           "#B6E880",
           "#FF97FF",
           "#FECB52"
          ],
          "font": {
           "color": "#2a3f5f"
          },
          "geo": {
           "bgcolor": "white",
           "lakecolor": "white",
           "landcolor": "#E5ECF6",
           "showlakes": true,
           "showland": true,
           "subunitcolor": "white"
          },
          "hoverlabel": {
           "align": "left"
          },
          "hovermode": "closest",
          "mapbox": {
           "style": "light"
          },
          "paper_bgcolor": "white",
          "plot_bgcolor": "#E5ECF6",
          "polar": {
           "angularaxis": {
            "gridcolor": "white",
            "linecolor": "white",
            "ticks": ""
           },
           "bgcolor": "#E5ECF6",
           "radialaxis": {
            "gridcolor": "white",
            "linecolor": "white",
            "ticks": ""
           }
          },
          "scene": {
           "xaxis": {
            "backgroundcolor": "#E5ECF6",
            "gridcolor": "white",
            "gridwidth": 2,
            "linecolor": "white",
            "showbackground": true,
            "ticks": "",
            "zerolinecolor": "white"
           },
           "yaxis": {
            "backgroundcolor": "#E5ECF6",
            "gridcolor": "white",
            "gridwidth": 2,
            "linecolor": "white",
            "showbackground": true,
            "ticks": "",
            "zerolinecolor": "white"
           },
           "zaxis": {
            "backgroundcolor": "#E5ECF6",
            "gridcolor": "white",
            "gridwidth": 2,
            "linecolor": "white",
            "showbackground": true,
            "ticks": "",
            "zerolinecolor": "white"
           }
          },
          "shapedefaults": {
           "line": {
            "color": "#2a3f5f"
           }
          },
          "ternary": {
           "aaxis": {
            "gridcolor": "white",
            "linecolor": "white",
            "ticks": ""
           },
           "baxis": {
            "gridcolor": "white",
            "linecolor": "white",
            "ticks": ""
           },
           "bgcolor": "#E5ECF6",
           "caxis": {
            "gridcolor": "white",
            "linecolor": "white",
            "ticks": ""
           }
          },
          "title": {
           "x": 0.05
          },
          "xaxis": {
           "automargin": true,
           "gridcolor": "white",
           "linecolor": "white",
           "ticks": "",
           "title": {
            "standoff": 15
           },
           "zerolinecolor": "white",
           "zerolinewidth": 2
          },
          "yaxis": {
           "automargin": true,
           "gridcolor": "white",
           "linecolor": "white",
           "ticks": "",
           "title": {
            "standoff": 15
           },
           "zerolinecolor": "white",
           "zerolinewidth": 2
          }
         }
        },
        "title": {
         "text": "La répartition de la population par tranche d'âge en %"
        }
       }
      },
      "text/html": [
       "<div>\n",
       "        \n",
       "        \n",
       "            <div id=\"ce34fd9e-419f-4594-9247-b294f45fdd4d\" class=\"plotly-graph-div\" style=\"height:525px; width:100%;\"></div>\n",
       "            <script type=\"text/javascript\">\n",
       "                require([\"plotly\"], function(Plotly) {\n",
       "                    window.PLOTLYENV=window.PLOTLYENV || {};\n",
       "                    \n",
       "                if (document.getElementById(\"ce34fd9e-419f-4594-9247-b294f45fdd4d\")) {\n",
       "                    Plotly.newPlot(\n",
       "                        'ce34fd9e-419f-4594-9247-b294f45fdd4d',\n",
       "                        [{\"domain\": {\"x\": [0.0, 0.45], \"y\": [0.0, 1.0]}, \"hole\": 0.4, \"hoverinfo\": \"label+percent+name\", \"labels\": [\"Inf\\u00e9rieure \\u00e0 6ans\", \"Entre 6 et 15ans\", \"Entre 15 et 60ans\", \"Sup\\u00e9rieure \\u00e0 60ans\"], \"name\": \"AL HAOUZ\", \"type\": \"pie\", \"values\": [12.9, 22.42, 56.32, 8.34]}, {\"domain\": {\"x\": [0.55, 1.0], \"y\": [0.0, 1.0]}, \"hole\": 0.4, \"hoverinfo\": \"label+percent+name\", \"labels\": [\"Inf\\u00e9rieure \\u00e0 6ans\", \"Entre 6 et 15ans\", \"Entre 15 et 60ans\", \"Sup\\u00e9rieure \\u00e0 60ans\"], \"name\": \"CHICHAOUA\", \"type\": \"pie\", \"values\": [14.19, 23.45, 53.84, 8.54]}],\n",
       "                        {\"annotations\": [{\"font\": {\"size\": 20}, \"showarrow\": false, \"text\": \"AL HAOUZ\", \"x\": 0.16, \"y\": 0.53}, {\"font\": {\"size\": 20}, \"showarrow\": false, \"text\": \"CHICHAOUA\", \"x\": 0.85, \"y\": 0.53}], \"showlegend\": false, \"template\": {\"data\": {\"bar\": [{\"error_x\": {\"color\": \"#2a3f5f\"}, \"error_y\": {\"color\": \"#2a3f5f\"}, \"marker\": {\"line\": {\"color\": \"#E5ECF6\", \"width\": 0.5}}, \"type\": \"bar\"}], \"barpolar\": [{\"marker\": {\"line\": {\"color\": \"#E5ECF6\", \"width\": 0.5}}, \"type\": \"barpolar\"}], \"carpet\": [{\"aaxis\": {\"endlinecolor\": \"#2a3f5f\", \"gridcolor\": \"white\", \"linecolor\": \"white\", \"minorgridcolor\": \"white\", \"startlinecolor\": \"#2a3f5f\"}, \"baxis\": {\"endlinecolor\": \"#2a3f5f\", \"gridcolor\": \"white\", \"linecolor\": \"white\", \"minorgridcolor\": \"white\", \"startlinecolor\": \"#2a3f5f\"}, \"type\": \"carpet\"}], \"choropleth\": [{\"colorbar\": {\"outlinewidth\": 0, \"ticks\": \"\"}, \"type\": \"choropleth\"}], \"contour\": [{\"colorbar\": {\"outlinewidth\": 0, \"ticks\": \"\"}, \"colorscale\": [[0.0, \"#0d0887\"], [0.1111111111111111, \"#46039f\"], [0.2222222222222222, \"#7201a8\"], [0.3333333333333333, \"#9c179e\"], [0.4444444444444444, \"#bd3786\"], [0.5555555555555556, \"#d8576b\"], [0.6666666666666666, \"#ed7953\"], [0.7777777777777778, \"#fb9f3a\"], [0.8888888888888888, \"#fdca26\"], [1.0, \"#f0f921\"]], \"type\": \"contour\"}], \"contourcarpet\": [{\"colorbar\": {\"outlinewidth\": 0, \"ticks\": \"\"}, \"type\": \"contourcarpet\"}], \"heatmap\": [{\"colorbar\": {\"outlinewidth\": 0, \"ticks\": \"\"}, \"colorscale\": [[0.0, \"#0d0887\"], [0.1111111111111111, \"#46039f\"], [0.2222222222222222, \"#7201a8\"], [0.3333333333333333, \"#9c179e\"], [0.4444444444444444, \"#bd3786\"], [0.5555555555555556, \"#d8576b\"], [0.6666666666666666, \"#ed7953\"], [0.7777777777777778, \"#fb9f3a\"], [0.8888888888888888, \"#fdca26\"], [1.0, \"#f0f921\"]], \"type\": \"heatmap\"}], \"heatmapgl\": [{\"colorbar\": {\"outlinewidth\": 0, \"ticks\": \"\"}, \"colorscale\": [[0.0, \"#0d0887\"], [0.1111111111111111, \"#46039f\"], [0.2222222222222222, \"#7201a8\"], [0.3333333333333333, \"#9c179e\"], [0.4444444444444444, \"#bd3786\"], [0.5555555555555556, \"#d8576b\"], [0.6666666666666666, \"#ed7953\"], [0.7777777777777778, \"#fb9f3a\"], [0.8888888888888888, \"#fdca26\"], [1.0, \"#f0f921\"]], \"type\": \"heatmapgl\"}], \"histogram\": [{\"marker\": {\"colorbar\": {\"outlinewidth\": 0, \"ticks\": \"\"}}, \"type\": \"histogram\"}], \"histogram2d\": [{\"colorbar\": {\"outlinewidth\": 0, \"ticks\": \"\"}, \"colorscale\": [[0.0, \"#0d0887\"], [0.1111111111111111, \"#46039f\"], [0.2222222222222222, \"#7201a8\"], [0.3333333333333333, \"#9c179e\"], [0.4444444444444444, \"#bd3786\"], [0.5555555555555556, \"#d8576b\"], [0.6666666666666666, \"#ed7953\"], [0.7777777777777778, \"#fb9f3a\"], [0.8888888888888888, \"#fdca26\"], [1.0, \"#f0f921\"]], \"type\": \"histogram2d\"}], \"histogram2dcontour\": [{\"colorbar\": {\"outlinewidth\": 0, \"ticks\": \"\"}, \"colorscale\": [[0.0, \"#0d0887\"], [0.1111111111111111, \"#46039f\"], [0.2222222222222222, \"#7201a8\"], [0.3333333333333333, \"#9c179e\"], [0.4444444444444444, \"#bd3786\"], [0.5555555555555556, \"#d8576b\"], [0.6666666666666666, \"#ed7953\"], [0.7777777777777778, \"#fb9f3a\"], [0.8888888888888888, \"#fdca26\"], [1.0, \"#f0f921\"]], \"type\": \"histogram2dcontour\"}], \"mesh3d\": [{\"colorbar\": {\"outlinewidth\": 0, \"ticks\": \"\"}, \"type\": \"mesh3d\"}], \"parcoords\": [{\"line\": {\"colorbar\": {\"outlinewidth\": 0, \"ticks\": \"\"}}, \"type\": \"parcoords\"}], \"pie\": [{\"automargin\": true, \"type\": \"pie\"}], \"scatter\": [{\"marker\": {\"colorbar\": {\"outlinewidth\": 0, \"ticks\": \"\"}}, \"type\": \"scatter\"}], \"scatter3d\": [{\"line\": {\"colorbar\": {\"outlinewidth\": 0, \"ticks\": \"\"}}, \"marker\": {\"colorbar\": {\"outlinewidth\": 0, \"ticks\": \"\"}}, \"type\": \"scatter3d\"}], \"scattercarpet\": [{\"marker\": {\"colorbar\": {\"outlinewidth\": 0, \"ticks\": \"\"}}, \"type\": \"scattercarpet\"}], \"scattergeo\": [{\"marker\": {\"colorbar\": {\"outlinewidth\": 0, \"ticks\": \"\"}}, \"type\": \"scattergeo\"}], \"scattergl\": [{\"marker\": {\"colorbar\": {\"outlinewidth\": 0, \"ticks\": \"\"}}, \"type\": \"scattergl\"}], \"scattermapbox\": [{\"marker\": {\"colorbar\": {\"outlinewidth\": 0, \"ticks\": \"\"}}, \"type\": \"scattermapbox\"}], \"scatterpolar\": [{\"marker\": {\"colorbar\": {\"outlinewidth\": 0, \"ticks\": \"\"}}, \"type\": \"scatterpolar\"}], \"scatterpolargl\": [{\"marker\": {\"colorbar\": {\"outlinewidth\": 0, \"ticks\": \"\"}}, \"type\": \"scatterpolargl\"}], \"scatterternary\": [{\"marker\": {\"colorbar\": {\"outlinewidth\": 0, \"ticks\": \"\"}}, \"type\": \"scatterternary\"}], \"surface\": [{\"colorbar\": {\"outlinewidth\": 0, \"ticks\": \"\"}, \"colorscale\": [[0.0, \"#0d0887\"], [0.1111111111111111, \"#46039f\"], [0.2222222222222222, \"#7201a8\"], [0.3333333333333333, \"#9c179e\"], [0.4444444444444444, \"#bd3786\"], [0.5555555555555556, \"#d8576b\"], [0.6666666666666666, \"#ed7953\"], [0.7777777777777778, \"#fb9f3a\"], [0.8888888888888888, \"#fdca26\"], [1.0, \"#f0f921\"]], \"type\": \"surface\"}], \"table\": [{\"cells\": {\"fill\": {\"color\": \"#EBF0F8\"}, \"line\": {\"color\": \"white\"}}, \"header\": {\"fill\": {\"color\": \"#C8D4E3\"}, \"line\": {\"color\": \"white\"}}, \"type\": \"table\"}]}, \"layout\": {\"annotationdefaults\": {\"arrowcolor\": \"#2a3f5f\", \"arrowhead\": 0, \"arrowwidth\": 1}, \"coloraxis\": {\"colorbar\": {\"outlinewidth\": 0, \"ticks\": \"\"}}, \"colorscale\": {\"diverging\": [[0, \"#8e0152\"], [0.1, \"#c51b7d\"], [0.2, \"#de77ae\"], [0.3, \"#f1b6da\"], [0.4, \"#fde0ef\"], [0.5, \"#f7f7f7\"], [0.6, \"#e6f5d0\"], [0.7, \"#b8e186\"], [0.8, \"#7fbc41\"], [0.9, \"#4d9221\"], [1, \"#276419\"]], \"sequential\": [[0.0, \"#0d0887\"], [0.1111111111111111, \"#46039f\"], [0.2222222222222222, \"#7201a8\"], [0.3333333333333333, \"#9c179e\"], [0.4444444444444444, \"#bd3786\"], [0.5555555555555556, \"#d8576b\"], [0.6666666666666666, \"#ed7953\"], [0.7777777777777778, \"#fb9f3a\"], [0.8888888888888888, \"#fdca26\"], [1.0, \"#f0f921\"]], \"sequentialminus\": [[0.0, \"#0d0887\"], [0.1111111111111111, \"#46039f\"], [0.2222222222222222, \"#7201a8\"], [0.3333333333333333, \"#9c179e\"], [0.4444444444444444, \"#bd3786\"], [0.5555555555555556, \"#d8576b\"], [0.6666666666666666, \"#ed7953\"], [0.7777777777777778, \"#fb9f3a\"], [0.8888888888888888, \"#fdca26\"], [1.0, \"#f0f921\"]]}, \"colorway\": [\"#636efa\", \"#EF553B\", \"#00cc96\", \"#ab63fa\", \"#FFA15A\", \"#19d3f3\", \"#FF6692\", \"#B6E880\", \"#FF97FF\", \"#FECB52\"], \"font\": {\"color\": \"#2a3f5f\"}, \"geo\": {\"bgcolor\": \"white\", \"lakecolor\": \"white\", \"landcolor\": \"#E5ECF6\", \"showlakes\": true, \"showland\": true, \"subunitcolor\": \"white\"}, \"hoverlabel\": {\"align\": \"left\"}, \"hovermode\": \"closest\", \"mapbox\": {\"style\": \"light\"}, \"paper_bgcolor\": \"white\", \"plot_bgcolor\": \"#E5ECF6\", \"polar\": {\"angularaxis\": {\"gridcolor\": \"white\", \"linecolor\": \"white\", \"ticks\": \"\"}, \"bgcolor\": \"#E5ECF6\", \"radialaxis\": {\"gridcolor\": \"white\", \"linecolor\": \"white\", \"ticks\": \"\"}}, \"scene\": {\"xaxis\": {\"backgroundcolor\": \"#E5ECF6\", \"gridcolor\": \"white\", \"gridwidth\": 2, \"linecolor\": \"white\", \"showbackground\": true, \"ticks\": \"\", \"zerolinecolor\": \"white\"}, \"yaxis\": {\"backgroundcolor\": \"#E5ECF6\", \"gridcolor\": \"white\", \"gridwidth\": 2, \"linecolor\": \"white\", \"showbackground\": true, \"ticks\": \"\", \"zerolinecolor\": \"white\"}, \"zaxis\": {\"backgroundcolor\": \"#E5ECF6\", \"gridcolor\": \"white\", \"gridwidth\": 2, \"linecolor\": \"white\", \"showbackground\": true, \"ticks\": \"\", \"zerolinecolor\": \"white\"}}, \"shapedefaults\": {\"line\": {\"color\": \"#2a3f5f\"}}, \"ternary\": {\"aaxis\": {\"gridcolor\": \"white\", \"linecolor\": \"white\", \"ticks\": \"\"}, \"baxis\": {\"gridcolor\": \"white\", \"linecolor\": \"white\", \"ticks\": \"\"}, \"bgcolor\": \"#E5ECF6\", \"caxis\": {\"gridcolor\": \"white\", \"linecolor\": \"white\", \"ticks\": \"\"}}, \"title\": {\"x\": 0.05}, \"xaxis\": {\"automargin\": true, \"gridcolor\": \"white\", \"linecolor\": \"white\", \"ticks\": \"\", \"title\": {\"standoff\": 15}, \"zerolinecolor\": \"white\", \"zerolinewidth\": 2}, \"yaxis\": {\"automargin\": true, \"gridcolor\": \"white\", \"linecolor\": \"white\", \"ticks\": \"\", \"title\": {\"standoff\": 15}, \"zerolinecolor\": \"white\", \"zerolinewidth\": 2}}}, \"title\": {\"text\": \"La r\\u00e9partition de la population par tranche d'\\u00e2ge en %\"}},\n",
       "                        {\"responsive\": true}\n",
       "                    ).then(function(){\n",
       "                            \n",
       "var gd = document.getElementById('ce34fd9e-419f-4594-9247-b294f45fdd4d');\n",
       "var x = new MutationObserver(function (mutations, observer) {{\n",
       "        var display = window.getComputedStyle(gd).display;\n",
       "        if (!display || display === 'none') {{\n",
       "            console.log([gd, 'removed!']);\n",
       "            Plotly.purge(gd);\n",
       "            observer.disconnect();\n",
       "        }}\n",
       "}});\n",
       "\n",
       "// Listen for the removal of the full notebook cells\n",
       "var notebookContainer = gd.closest('#notebook-container');\n",
       "if (notebookContainer) {{\n",
       "    x.observe(notebookContainer, {childList: true});\n",
       "}}\n",
       "\n",
       "// Listen for the clearing of the current output cell\n",
       "var outputEl = gd.closest('.output');\n",
       "if (outputEl) {{\n",
       "    x.observe(outputEl, {childList: true});\n",
       "}}\n",
       "\n",
       "                        })\n",
       "                };\n",
       "                });\n",
       "            </script>\n",
       "        </div>"
      ]
     },
     "metadata": {},
     "output_type": "display_data"
    },
    {
     "data": {
      "application/vnd.plotly.v1+json": {
       "config": {
        "plotlyServerURL": "https://plot.ly"
       },
       "data": [
        {
         "domain": {
          "x": [
           0,
           0.45
          ],
          "y": [
           0,
           1
          ]
         },
         "hole": 0.4,
         "hoverinfo": "label+percent+name",
         "labels": [
          "Inférieure à 6ans",
          "Entre 6 et 15ans",
          "Entre 15 et 60ans",
          "Supérieure à 60ans"
         ],
         "name": "ESSAOUIRA",
         "type": "pie",
         "values": [
          13.2,
          21.06,
          55.65,
          10.1
         ]
        },
        {
         "domain": {
          "x": [
           0.55,
           1
          ],
          "y": [
           0,
           1
          ]
         },
         "hole": 0.4,
         "hoverinfo": "label+percent+name",
         "labels": [
          "Inférieure à 6ans",
          "Entre 6 et 15ans",
          "Entre 15 et 60ans",
          "Supérieure à 60ans"
         ],
         "name": "KELAA SERAGHNA",
         "type": "pie",
         "values": [
          12.9,
          22.1,
          57.37,
          7.63
         ]
        }
       ],
       "layout": {
        "annotations": [
         {
          "font": {
           "size": 20
          },
          "showarrow": false,
          "text": "ESSAOUIRA",
          "x": 0.15,
          "y": 0.5
         },
         {
          "font": {
           "size": 15
          },
          "showarrow": false,
          "text": "KELAA SERAGHNA",
          "x": 0.87,
          "y": 0.5
         }
        ],
        "showlegend": false,
        "template": {
         "data": {
          "bar": [
           {
            "error_x": {
             "color": "#2a3f5f"
            },
            "error_y": {
             "color": "#2a3f5f"
            },
            "marker": {
             "line": {
              "color": "#E5ECF6",
              "width": 0.5
             }
            },
            "type": "bar"
           }
          ],
          "barpolar": [
           {
            "marker": {
             "line": {
              "color": "#E5ECF6",
              "width": 0.5
             }
            },
            "type": "barpolar"
           }
          ],
          "carpet": [
           {
            "aaxis": {
             "endlinecolor": "#2a3f5f",
             "gridcolor": "white",
             "linecolor": "white",
             "minorgridcolor": "white",
             "startlinecolor": "#2a3f5f"
            },
            "baxis": {
             "endlinecolor": "#2a3f5f",
             "gridcolor": "white",
             "linecolor": "white",
             "minorgridcolor": "white",
             "startlinecolor": "#2a3f5f"
            },
            "type": "carpet"
           }
          ],
          "choropleth": [
           {
            "colorbar": {
             "outlinewidth": 0,
             "ticks": ""
            },
            "type": "choropleth"
           }
          ],
          "contour": [
           {
            "colorbar": {
             "outlinewidth": 0,
             "ticks": ""
            },
            "colorscale": [
             [
              0,
              "#0d0887"
             ],
             [
              0.1111111111111111,
              "#46039f"
             ],
             [
              0.2222222222222222,
              "#7201a8"
             ],
             [
              0.3333333333333333,
              "#9c179e"
             ],
             [
              0.4444444444444444,
              "#bd3786"
             ],
             [
              0.5555555555555556,
              "#d8576b"
             ],
             [
              0.6666666666666666,
              "#ed7953"
             ],
             [
              0.7777777777777778,
              "#fb9f3a"
             ],
             [
              0.8888888888888888,
              "#fdca26"
             ],
             [
              1,
              "#f0f921"
             ]
            ],
            "type": "contour"
           }
          ],
          "contourcarpet": [
           {
            "colorbar": {
             "outlinewidth": 0,
             "ticks": ""
            },
            "type": "contourcarpet"
           }
          ],
          "heatmap": [
           {
            "colorbar": {
             "outlinewidth": 0,
             "ticks": ""
            },
            "colorscale": [
             [
              0,
              "#0d0887"
             ],
             [
              0.1111111111111111,
              "#46039f"
             ],
             [
              0.2222222222222222,
              "#7201a8"
             ],
             [
              0.3333333333333333,
              "#9c179e"
             ],
             [
              0.4444444444444444,
              "#bd3786"
             ],
             [
              0.5555555555555556,
              "#d8576b"
             ],
             [
              0.6666666666666666,
              "#ed7953"
             ],
             [
              0.7777777777777778,
              "#fb9f3a"
             ],
             [
              0.8888888888888888,
              "#fdca26"
             ],
             [
              1,
              "#f0f921"
             ]
            ],
            "type": "heatmap"
           }
          ],
          "heatmapgl": [
           {
            "colorbar": {
             "outlinewidth": 0,
             "ticks": ""
            },
            "colorscale": [
             [
              0,
              "#0d0887"
             ],
             [
              0.1111111111111111,
              "#46039f"
             ],
             [
              0.2222222222222222,
              "#7201a8"
             ],
             [
              0.3333333333333333,
              "#9c179e"
             ],
             [
              0.4444444444444444,
              "#bd3786"
             ],
             [
              0.5555555555555556,
              "#d8576b"
             ],
             [
              0.6666666666666666,
              "#ed7953"
             ],
             [
              0.7777777777777778,
              "#fb9f3a"
             ],
             [
              0.8888888888888888,
              "#fdca26"
             ],
             [
              1,
              "#f0f921"
             ]
            ],
            "type": "heatmapgl"
           }
          ],
          "histogram": [
           {
            "marker": {
             "colorbar": {
              "outlinewidth": 0,
              "ticks": ""
             }
            },
            "type": "histogram"
           }
          ],
          "histogram2d": [
           {
            "colorbar": {
             "outlinewidth": 0,
             "ticks": ""
            },
            "colorscale": [
             [
              0,
              "#0d0887"
             ],
             [
              0.1111111111111111,
              "#46039f"
             ],
             [
              0.2222222222222222,
              "#7201a8"
             ],
             [
              0.3333333333333333,
              "#9c179e"
             ],
             [
              0.4444444444444444,
              "#bd3786"
             ],
             [
              0.5555555555555556,
              "#d8576b"
             ],
             [
              0.6666666666666666,
              "#ed7953"
             ],
             [
              0.7777777777777778,
              "#fb9f3a"
             ],
             [
              0.8888888888888888,
              "#fdca26"
             ],
             [
              1,
              "#f0f921"
             ]
            ],
            "type": "histogram2d"
           }
          ],
          "histogram2dcontour": [
           {
            "colorbar": {
             "outlinewidth": 0,
             "ticks": ""
            },
            "colorscale": [
             [
              0,
              "#0d0887"
             ],
             [
              0.1111111111111111,
              "#46039f"
             ],
             [
              0.2222222222222222,
              "#7201a8"
             ],
             [
              0.3333333333333333,
              "#9c179e"
             ],
             [
              0.4444444444444444,
              "#bd3786"
             ],
             [
              0.5555555555555556,
              "#d8576b"
             ],
             [
              0.6666666666666666,
              "#ed7953"
             ],
             [
              0.7777777777777778,
              "#fb9f3a"
             ],
             [
              0.8888888888888888,
              "#fdca26"
             ],
             [
              1,
              "#f0f921"
             ]
            ],
            "type": "histogram2dcontour"
           }
          ],
          "mesh3d": [
           {
            "colorbar": {
             "outlinewidth": 0,
             "ticks": ""
            },
            "type": "mesh3d"
           }
          ],
          "parcoords": [
           {
            "line": {
             "colorbar": {
              "outlinewidth": 0,
              "ticks": ""
             }
            },
            "type": "parcoords"
           }
          ],
          "pie": [
           {
            "automargin": true,
            "type": "pie"
           }
          ],
          "scatter": [
           {
            "marker": {
             "colorbar": {
              "outlinewidth": 0,
              "ticks": ""
             }
            },
            "type": "scatter"
           }
          ],
          "scatter3d": [
           {
            "line": {
             "colorbar": {
              "outlinewidth": 0,
              "ticks": ""
             }
            },
            "marker": {
             "colorbar": {
              "outlinewidth": 0,
              "ticks": ""
             }
            },
            "type": "scatter3d"
           }
          ],
          "scattercarpet": [
           {
            "marker": {
             "colorbar": {
              "outlinewidth": 0,
              "ticks": ""
             }
            },
            "type": "scattercarpet"
           }
          ],
          "scattergeo": [
           {
            "marker": {
             "colorbar": {
              "outlinewidth": 0,
              "ticks": ""
             }
            },
            "type": "scattergeo"
           }
          ],
          "scattergl": [
           {
            "marker": {
             "colorbar": {
              "outlinewidth": 0,
              "ticks": ""
             }
            },
            "type": "scattergl"
           }
          ],
          "scattermapbox": [
           {
            "marker": {
             "colorbar": {
              "outlinewidth": 0,
              "ticks": ""
             }
            },
            "type": "scattermapbox"
           }
          ],
          "scatterpolar": [
           {
            "marker": {
             "colorbar": {
              "outlinewidth": 0,
              "ticks": ""
             }
            },
            "type": "scatterpolar"
           }
          ],
          "scatterpolargl": [
           {
            "marker": {
             "colorbar": {
              "outlinewidth": 0,
              "ticks": ""
             }
            },
            "type": "scatterpolargl"
           }
          ],
          "scatterternary": [
           {
            "marker": {
             "colorbar": {
              "outlinewidth": 0,
              "ticks": ""
             }
            },
            "type": "scatterternary"
           }
          ],
          "surface": [
           {
            "colorbar": {
             "outlinewidth": 0,
             "ticks": ""
            },
            "colorscale": [
             [
              0,
              "#0d0887"
             ],
             [
              0.1111111111111111,
              "#46039f"
             ],
             [
              0.2222222222222222,
              "#7201a8"
             ],
             [
              0.3333333333333333,
              "#9c179e"
             ],
             [
              0.4444444444444444,
              "#bd3786"
             ],
             [
              0.5555555555555556,
              "#d8576b"
             ],
             [
              0.6666666666666666,
              "#ed7953"
             ],
             [
              0.7777777777777778,
              "#fb9f3a"
             ],
             [
              0.8888888888888888,
              "#fdca26"
             ],
             [
              1,
              "#f0f921"
             ]
            ],
            "type": "surface"
           }
          ],
          "table": [
           {
            "cells": {
             "fill": {
              "color": "#EBF0F8"
             },
             "line": {
              "color": "white"
             }
            },
            "header": {
             "fill": {
              "color": "#C8D4E3"
             },
             "line": {
              "color": "white"
             }
            },
            "type": "table"
           }
          ]
         },
         "layout": {
          "annotationdefaults": {
           "arrowcolor": "#2a3f5f",
           "arrowhead": 0,
           "arrowwidth": 1
          },
          "coloraxis": {
           "colorbar": {
            "outlinewidth": 0,
            "ticks": ""
           }
          },
          "colorscale": {
           "diverging": [
            [
             0,
             "#8e0152"
            ],
            [
             0.1,
             "#c51b7d"
            ],
            [
             0.2,
             "#de77ae"
            ],
            [
             0.3,
             "#f1b6da"
            ],
            [
             0.4,
             "#fde0ef"
            ],
            [
             0.5,
             "#f7f7f7"
            ],
            [
             0.6,
             "#e6f5d0"
            ],
            [
             0.7,
             "#b8e186"
            ],
            [
             0.8,
             "#7fbc41"
            ],
            [
             0.9,
             "#4d9221"
            ],
            [
             1,
             "#276419"
            ]
           ],
           "sequential": [
            [
             0,
             "#0d0887"
            ],
            [
             0.1111111111111111,
             "#46039f"
            ],
            [
             0.2222222222222222,
             "#7201a8"
            ],
            [
             0.3333333333333333,
             "#9c179e"
            ],
            [
             0.4444444444444444,
             "#bd3786"
            ],
            [
             0.5555555555555556,
             "#d8576b"
            ],
            [
             0.6666666666666666,
             "#ed7953"
            ],
            [
             0.7777777777777778,
             "#fb9f3a"
            ],
            [
             0.8888888888888888,
             "#fdca26"
            ],
            [
             1,
             "#f0f921"
            ]
           ],
           "sequentialminus": [
            [
             0,
             "#0d0887"
            ],
            [
             0.1111111111111111,
             "#46039f"
            ],
            [
             0.2222222222222222,
             "#7201a8"
            ],
            [
             0.3333333333333333,
             "#9c179e"
            ],
            [
             0.4444444444444444,
             "#bd3786"
            ],
            [
             0.5555555555555556,
             "#d8576b"
            ],
            [
             0.6666666666666666,
             "#ed7953"
            ],
            [
             0.7777777777777778,
             "#fb9f3a"
            ],
            [
             0.8888888888888888,
             "#fdca26"
            ],
            [
             1,
             "#f0f921"
            ]
           ]
          },
          "colorway": [
           "#636efa",
           "#EF553B",
           "#00cc96",
           "#ab63fa",
           "#FFA15A",
           "#19d3f3",
           "#FF6692",
           "#B6E880",
           "#FF97FF",
           "#FECB52"
          ],
          "font": {
           "color": "#2a3f5f"
          },
          "geo": {
           "bgcolor": "white",
           "lakecolor": "white",
           "landcolor": "#E5ECF6",
           "showlakes": true,
           "showland": true,
           "subunitcolor": "white"
          },
          "hoverlabel": {
           "align": "left"
          },
          "hovermode": "closest",
          "mapbox": {
           "style": "light"
          },
          "paper_bgcolor": "white",
          "plot_bgcolor": "#E5ECF6",
          "polar": {
           "angularaxis": {
            "gridcolor": "white",
            "linecolor": "white",
            "ticks": ""
           },
           "bgcolor": "#E5ECF6",
           "radialaxis": {
            "gridcolor": "white",
            "linecolor": "white",
            "ticks": ""
           }
          },
          "scene": {
           "xaxis": {
            "backgroundcolor": "#E5ECF6",
            "gridcolor": "white",
            "gridwidth": 2,
            "linecolor": "white",
            "showbackground": true,
            "ticks": "",
            "zerolinecolor": "white"
           },
           "yaxis": {
            "backgroundcolor": "#E5ECF6",
            "gridcolor": "white",
            "gridwidth": 2,
            "linecolor": "white",
            "showbackground": true,
            "ticks": "",
            "zerolinecolor": "white"
           },
           "zaxis": {
            "backgroundcolor": "#E5ECF6",
            "gridcolor": "white",
            "gridwidth": 2,
            "linecolor": "white",
            "showbackground": true,
            "ticks": "",
            "zerolinecolor": "white"
           }
          },
          "shapedefaults": {
           "line": {
            "color": "#2a3f5f"
           }
          },
          "ternary": {
           "aaxis": {
            "gridcolor": "white",
            "linecolor": "white",
            "ticks": ""
           },
           "baxis": {
            "gridcolor": "white",
            "linecolor": "white",
            "ticks": ""
           },
           "bgcolor": "#E5ECF6",
           "caxis": {
            "gridcolor": "white",
            "linecolor": "white",
            "ticks": ""
           }
          },
          "title": {
           "x": 0.05
          },
          "xaxis": {
           "automargin": true,
           "gridcolor": "white",
           "linecolor": "white",
           "ticks": "",
           "title": {
            "standoff": 15
           },
           "zerolinecolor": "white",
           "zerolinewidth": 2
          },
          "yaxis": {
           "automargin": true,
           "gridcolor": "white",
           "linecolor": "white",
           "ticks": "",
           "title": {
            "standoff": 15
           },
           "zerolinecolor": "white",
           "zerolinewidth": 2
          }
         }
        }
       }
      },
      "text/html": [
       "<div>\n",
       "        \n",
       "        \n",
       "            <div id=\"f1c4af88-0c67-4267-8440-6c625df545fe\" class=\"plotly-graph-div\" style=\"height:525px; width:100%;\"></div>\n",
       "            <script type=\"text/javascript\">\n",
       "                require([\"plotly\"], function(Plotly) {\n",
       "                    window.PLOTLYENV=window.PLOTLYENV || {};\n",
       "                    \n",
       "                if (document.getElementById(\"f1c4af88-0c67-4267-8440-6c625df545fe\")) {\n",
       "                    Plotly.newPlot(\n",
       "                        'f1c4af88-0c67-4267-8440-6c625df545fe',\n",
       "                        [{\"domain\": {\"x\": [0.0, 0.45], \"y\": [0.0, 1.0]}, \"hole\": 0.4, \"hoverinfo\": \"label+percent+name\", \"labels\": [\"Inf\\u00e9rieure \\u00e0 6ans\", \"Entre 6 et 15ans\", \"Entre 15 et 60ans\", \"Sup\\u00e9rieure \\u00e0 60ans\"], \"name\": \"ESSAOUIRA\", \"type\": \"pie\", \"values\": [13.2, 21.06, 55.65, 10.1]}, {\"domain\": {\"x\": [0.55, 1.0], \"y\": [0.0, 1.0]}, \"hole\": 0.4, \"hoverinfo\": \"label+percent+name\", \"labels\": [\"Inf\\u00e9rieure \\u00e0 6ans\", \"Entre 6 et 15ans\", \"Entre 15 et 60ans\", \"Sup\\u00e9rieure \\u00e0 60ans\"], \"name\": \"KELAA SERAGHNA\", \"type\": \"pie\", \"values\": [12.9, 22.1, 57.37, 7.63]}],\n",
       "                        {\"annotations\": [{\"font\": {\"size\": 20}, \"showarrow\": false, \"text\": \"ESSAOUIRA\", \"x\": 0.15, \"y\": 0.5}, {\"font\": {\"size\": 15}, \"showarrow\": false, \"text\": \"KELAA SERAGHNA\", \"x\": 0.87, \"y\": 0.5}], \"showlegend\": false, \"template\": {\"data\": {\"bar\": [{\"error_x\": {\"color\": \"#2a3f5f\"}, \"error_y\": {\"color\": \"#2a3f5f\"}, \"marker\": {\"line\": {\"color\": \"#E5ECF6\", \"width\": 0.5}}, \"type\": \"bar\"}], \"barpolar\": [{\"marker\": {\"line\": {\"color\": \"#E5ECF6\", \"width\": 0.5}}, \"type\": \"barpolar\"}], \"carpet\": [{\"aaxis\": {\"endlinecolor\": \"#2a3f5f\", \"gridcolor\": \"white\", \"linecolor\": \"white\", \"minorgridcolor\": \"white\", \"startlinecolor\": \"#2a3f5f\"}, \"baxis\": {\"endlinecolor\": \"#2a3f5f\", \"gridcolor\": \"white\", \"linecolor\": \"white\", \"minorgridcolor\": \"white\", \"startlinecolor\": \"#2a3f5f\"}, \"type\": \"carpet\"}], \"choropleth\": [{\"colorbar\": {\"outlinewidth\": 0, \"ticks\": \"\"}, \"type\": \"choropleth\"}], \"contour\": [{\"colorbar\": {\"outlinewidth\": 0, \"ticks\": \"\"}, \"colorscale\": [[0.0, \"#0d0887\"], [0.1111111111111111, \"#46039f\"], [0.2222222222222222, \"#7201a8\"], [0.3333333333333333, \"#9c179e\"], [0.4444444444444444, \"#bd3786\"], [0.5555555555555556, \"#d8576b\"], [0.6666666666666666, \"#ed7953\"], [0.7777777777777778, \"#fb9f3a\"], [0.8888888888888888, \"#fdca26\"], [1.0, \"#f0f921\"]], \"type\": \"contour\"}], \"contourcarpet\": [{\"colorbar\": {\"outlinewidth\": 0, \"ticks\": \"\"}, \"type\": \"contourcarpet\"}], \"heatmap\": [{\"colorbar\": {\"outlinewidth\": 0, \"ticks\": \"\"}, \"colorscale\": [[0.0, \"#0d0887\"], [0.1111111111111111, \"#46039f\"], [0.2222222222222222, \"#7201a8\"], [0.3333333333333333, \"#9c179e\"], [0.4444444444444444, \"#bd3786\"], [0.5555555555555556, \"#d8576b\"], [0.6666666666666666, \"#ed7953\"], [0.7777777777777778, \"#fb9f3a\"], [0.8888888888888888, \"#fdca26\"], [1.0, \"#f0f921\"]], \"type\": \"heatmap\"}], \"heatmapgl\": [{\"colorbar\": {\"outlinewidth\": 0, \"ticks\": \"\"}, \"colorscale\": [[0.0, \"#0d0887\"], [0.1111111111111111, \"#46039f\"], [0.2222222222222222, \"#7201a8\"], [0.3333333333333333, \"#9c179e\"], [0.4444444444444444, \"#bd3786\"], [0.5555555555555556, \"#d8576b\"], [0.6666666666666666, \"#ed7953\"], [0.7777777777777778, \"#fb9f3a\"], [0.8888888888888888, \"#fdca26\"], [1.0, \"#f0f921\"]], \"type\": \"heatmapgl\"}], \"histogram\": [{\"marker\": {\"colorbar\": {\"outlinewidth\": 0, \"ticks\": \"\"}}, \"type\": \"histogram\"}], \"histogram2d\": [{\"colorbar\": {\"outlinewidth\": 0, \"ticks\": \"\"}, \"colorscale\": [[0.0, \"#0d0887\"], [0.1111111111111111, \"#46039f\"], [0.2222222222222222, \"#7201a8\"], [0.3333333333333333, \"#9c179e\"], [0.4444444444444444, \"#bd3786\"], [0.5555555555555556, \"#d8576b\"], [0.6666666666666666, \"#ed7953\"], [0.7777777777777778, \"#fb9f3a\"], [0.8888888888888888, \"#fdca26\"], [1.0, \"#f0f921\"]], \"type\": \"histogram2d\"}], \"histogram2dcontour\": [{\"colorbar\": {\"outlinewidth\": 0, \"ticks\": \"\"}, \"colorscale\": [[0.0, \"#0d0887\"], [0.1111111111111111, \"#46039f\"], [0.2222222222222222, \"#7201a8\"], [0.3333333333333333, \"#9c179e\"], [0.4444444444444444, \"#bd3786\"], [0.5555555555555556, \"#d8576b\"], [0.6666666666666666, \"#ed7953\"], [0.7777777777777778, \"#fb9f3a\"], [0.8888888888888888, \"#fdca26\"], [1.0, \"#f0f921\"]], \"type\": \"histogram2dcontour\"}], \"mesh3d\": [{\"colorbar\": {\"outlinewidth\": 0, \"ticks\": \"\"}, \"type\": \"mesh3d\"}], \"parcoords\": [{\"line\": {\"colorbar\": {\"outlinewidth\": 0, \"ticks\": \"\"}}, \"type\": \"parcoords\"}], \"pie\": [{\"automargin\": true, \"type\": \"pie\"}], \"scatter\": [{\"marker\": {\"colorbar\": {\"outlinewidth\": 0, \"ticks\": \"\"}}, \"type\": \"scatter\"}], \"scatter3d\": [{\"line\": {\"colorbar\": {\"outlinewidth\": 0, \"ticks\": \"\"}}, \"marker\": {\"colorbar\": {\"outlinewidth\": 0, \"ticks\": \"\"}}, \"type\": \"scatter3d\"}], \"scattercarpet\": [{\"marker\": {\"colorbar\": {\"outlinewidth\": 0, \"ticks\": \"\"}}, \"type\": \"scattercarpet\"}], \"scattergeo\": [{\"marker\": {\"colorbar\": {\"outlinewidth\": 0, \"ticks\": \"\"}}, \"type\": \"scattergeo\"}], \"scattergl\": [{\"marker\": {\"colorbar\": {\"outlinewidth\": 0, \"ticks\": \"\"}}, \"type\": \"scattergl\"}], \"scattermapbox\": [{\"marker\": {\"colorbar\": {\"outlinewidth\": 0, \"ticks\": \"\"}}, \"type\": \"scattermapbox\"}], \"scatterpolar\": [{\"marker\": {\"colorbar\": {\"outlinewidth\": 0, \"ticks\": \"\"}}, \"type\": \"scatterpolar\"}], \"scatterpolargl\": [{\"marker\": {\"colorbar\": {\"outlinewidth\": 0, \"ticks\": \"\"}}, \"type\": \"scatterpolargl\"}], \"scatterternary\": [{\"marker\": {\"colorbar\": {\"outlinewidth\": 0, \"ticks\": \"\"}}, \"type\": \"scatterternary\"}], \"surface\": [{\"colorbar\": {\"outlinewidth\": 0, \"ticks\": \"\"}, \"colorscale\": [[0.0, \"#0d0887\"], [0.1111111111111111, \"#46039f\"], [0.2222222222222222, \"#7201a8\"], [0.3333333333333333, \"#9c179e\"], [0.4444444444444444, \"#bd3786\"], [0.5555555555555556, \"#d8576b\"], [0.6666666666666666, \"#ed7953\"], [0.7777777777777778, \"#fb9f3a\"], [0.8888888888888888, \"#fdca26\"], [1.0, \"#f0f921\"]], \"type\": \"surface\"}], \"table\": [{\"cells\": {\"fill\": {\"color\": \"#EBF0F8\"}, \"line\": {\"color\": \"white\"}}, \"header\": {\"fill\": {\"color\": \"#C8D4E3\"}, \"line\": {\"color\": \"white\"}}, \"type\": \"table\"}]}, \"layout\": {\"annotationdefaults\": {\"arrowcolor\": \"#2a3f5f\", \"arrowhead\": 0, \"arrowwidth\": 1}, \"coloraxis\": {\"colorbar\": {\"outlinewidth\": 0, \"ticks\": \"\"}}, \"colorscale\": {\"diverging\": [[0, \"#8e0152\"], [0.1, \"#c51b7d\"], [0.2, \"#de77ae\"], [0.3, \"#f1b6da\"], [0.4, \"#fde0ef\"], [0.5, \"#f7f7f7\"], [0.6, \"#e6f5d0\"], [0.7, \"#b8e186\"], [0.8, \"#7fbc41\"], [0.9, \"#4d9221\"], [1, \"#276419\"]], \"sequential\": [[0.0, \"#0d0887\"], [0.1111111111111111, \"#46039f\"], [0.2222222222222222, \"#7201a8\"], [0.3333333333333333, \"#9c179e\"], [0.4444444444444444, \"#bd3786\"], [0.5555555555555556, \"#d8576b\"], [0.6666666666666666, \"#ed7953\"], [0.7777777777777778, \"#fb9f3a\"], [0.8888888888888888, \"#fdca26\"], [1.0, \"#f0f921\"]], \"sequentialminus\": [[0.0, \"#0d0887\"], [0.1111111111111111, \"#46039f\"], [0.2222222222222222, \"#7201a8\"], [0.3333333333333333, \"#9c179e\"], [0.4444444444444444, \"#bd3786\"], [0.5555555555555556, \"#d8576b\"], [0.6666666666666666, \"#ed7953\"], [0.7777777777777778, \"#fb9f3a\"], [0.8888888888888888, \"#fdca26\"], [1.0, \"#f0f921\"]]}, \"colorway\": [\"#636efa\", \"#EF553B\", \"#00cc96\", \"#ab63fa\", \"#FFA15A\", \"#19d3f3\", \"#FF6692\", \"#B6E880\", \"#FF97FF\", \"#FECB52\"], \"font\": {\"color\": \"#2a3f5f\"}, \"geo\": {\"bgcolor\": \"white\", \"lakecolor\": \"white\", \"landcolor\": \"#E5ECF6\", \"showlakes\": true, \"showland\": true, \"subunitcolor\": \"white\"}, \"hoverlabel\": {\"align\": \"left\"}, \"hovermode\": \"closest\", \"mapbox\": {\"style\": \"light\"}, \"paper_bgcolor\": \"white\", \"plot_bgcolor\": \"#E5ECF6\", \"polar\": {\"angularaxis\": {\"gridcolor\": \"white\", \"linecolor\": \"white\", \"ticks\": \"\"}, \"bgcolor\": \"#E5ECF6\", \"radialaxis\": {\"gridcolor\": \"white\", \"linecolor\": \"white\", \"ticks\": \"\"}}, \"scene\": {\"xaxis\": {\"backgroundcolor\": \"#E5ECF6\", \"gridcolor\": \"white\", \"gridwidth\": 2, \"linecolor\": \"white\", \"showbackground\": true, \"ticks\": \"\", \"zerolinecolor\": \"white\"}, \"yaxis\": {\"backgroundcolor\": \"#E5ECF6\", \"gridcolor\": \"white\", \"gridwidth\": 2, \"linecolor\": \"white\", \"showbackground\": true, \"ticks\": \"\", \"zerolinecolor\": \"white\"}, \"zaxis\": {\"backgroundcolor\": \"#E5ECF6\", \"gridcolor\": \"white\", \"gridwidth\": 2, \"linecolor\": \"white\", \"showbackground\": true, \"ticks\": \"\", \"zerolinecolor\": \"white\"}}, \"shapedefaults\": {\"line\": {\"color\": \"#2a3f5f\"}}, \"ternary\": {\"aaxis\": {\"gridcolor\": \"white\", \"linecolor\": \"white\", \"ticks\": \"\"}, \"baxis\": {\"gridcolor\": \"white\", \"linecolor\": \"white\", \"ticks\": \"\"}, \"bgcolor\": \"#E5ECF6\", \"caxis\": {\"gridcolor\": \"white\", \"linecolor\": \"white\", \"ticks\": \"\"}}, \"title\": {\"x\": 0.05}, \"xaxis\": {\"automargin\": true, \"gridcolor\": \"white\", \"linecolor\": \"white\", \"ticks\": \"\", \"title\": {\"standoff\": 15}, \"zerolinecolor\": \"white\", \"zerolinewidth\": 2}, \"yaxis\": {\"automargin\": true, \"gridcolor\": \"white\", \"linecolor\": \"white\", \"ticks\": \"\", \"title\": {\"standoff\": 15}, \"zerolinecolor\": \"white\", \"zerolinewidth\": 2}}}},\n",
       "                        {\"responsive\": true}\n",
       "                    ).then(function(){\n",
       "                            \n",
       "var gd = document.getElementById('f1c4af88-0c67-4267-8440-6c625df545fe');\n",
       "var x = new MutationObserver(function (mutations, observer) {{\n",
       "        var display = window.getComputedStyle(gd).display;\n",
       "        if (!display || display === 'none') {{\n",
       "            console.log([gd, 'removed!']);\n",
       "            Plotly.purge(gd);\n",
       "            observer.disconnect();\n",
       "        }}\n",
       "}});\n",
       "\n",
       "// Listen for the removal of the full notebook cells\n",
       "var notebookContainer = gd.closest('#notebook-container');\n",
       "if (notebookContainer) {{\n",
       "    x.observe(notebookContainer, {childList: true});\n",
       "}}\n",
       "\n",
       "// Listen for the clearing of the current output cell\n",
       "var outputEl = gd.closest('.output');\n",
       "if (outputEl) {{\n",
       "    x.observe(outputEl, {childList: true});\n",
       "}}\n",
       "\n",
       "                        })\n",
       "                };\n",
       "                });\n",
       "            </script>\n",
       "        </div>"
      ]
     },
     "metadata": {},
     "output_type": "display_data"
    },
    {
     "data": {
      "application/vnd.plotly.v1+json": {
       "config": {
        "plotlyServerURL": "https://plot.ly"
       },
       "data": [
        {
         "domain": {
          "x": [
           0,
           0.45
          ],
          "y": [
           0,
           1
          ]
         },
         "hole": 0.4,
         "hoverinfo": "label+percent+name",
         "labels": [
          "Inférieure à 6ans",
          "Entre 6 et 15ans",
          "Entre 15 et 60ans",
          "Supérieure à 60ans"
         ],
         "name": "MARRAKECH",
         "type": "pie",
         "values": [
          11.23,
          17.54,
          63.31,
          7.95
         ]
        }
       ],
       "layout": {
        "annotations": [
         {
          "font": {
           "size": 20
          },
          "showarrow": false,
          "text": "MARRAKECH",
          "x": 0.14,
          "y": 0.5
         }
        ],
        "showlegend": false,
        "template": {
         "data": {
          "bar": [
           {
            "error_x": {
             "color": "#2a3f5f"
            },
            "error_y": {
             "color": "#2a3f5f"
            },
            "marker": {
             "line": {
              "color": "#E5ECF6",
              "width": 0.5
             }
            },
            "type": "bar"
           }
          ],
          "barpolar": [
           {
            "marker": {
             "line": {
              "color": "#E5ECF6",
              "width": 0.5
             }
            },
            "type": "barpolar"
           }
          ],
          "carpet": [
           {
            "aaxis": {
             "endlinecolor": "#2a3f5f",
             "gridcolor": "white",
             "linecolor": "white",
             "minorgridcolor": "white",
             "startlinecolor": "#2a3f5f"
            },
            "baxis": {
             "endlinecolor": "#2a3f5f",
             "gridcolor": "white",
             "linecolor": "white",
             "minorgridcolor": "white",
             "startlinecolor": "#2a3f5f"
            },
            "type": "carpet"
           }
          ],
          "choropleth": [
           {
            "colorbar": {
             "outlinewidth": 0,
             "ticks": ""
            },
            "type": "choropleth"
           }
          ],
          "contour": [
           {
            "colorbar": {
             "outlinewidth": 0,
             "ticks": ""
            },
            "colorscale": [
             [
              0,
              "#0d0887"
             ],
             [
              0.1111111111111111,
              "#46039f"
             ],
             [
              0.2222222222222222,
              "#7201a8"
             ],
             [
              0.3333333333333333,
              "#9c179e"
             ],
             [
              0.4444444444444444,
              "#bd3786"
             ],
             [
              0.5555555555555556,
              "#d8576b"
             ],
             [
              0.6666666666666666,
              "#ed7953"
             ],
             [
              0.7777777777777778,
              "#fb9f3a"
             ],
             [
              0.8888888888888888,
              "#fdca26"
             ],
             [
              1,
              "#f0f921"
             ]
            ],
            "type": "contour"
           }
          ],
          "contourcarpet": [
           {
            "colorbar": {
             "outlinewidth": 0,
             "ticks": ""
            },
            "type": "contourcarpet"
           }
          ],
          "heatmap": [
           {
            "colorbar": {
             "outlinewidth": 0,
             "ticks": ""
            },
            "colorscale": [
             [
              0,
              "#0d0887"
             ],
             [
              0.1111111111111111,
              "#46039f"
             ],
             [
              0.2222222222222222,
              "#7201a8"
             ],
             [
              0.3333333333333333,
              "#9c179e"
             ],
             [
              0.4444444444444444,
              "#bd3786"
             ],
             [
              0.5555555555555556,
              "#d8576b"
             ],
             [
              0.6666666666666666,
              "#ed7953"
             ],
             [
              0.7777777777777778,
              "#fb9f3a"
             ],
             [
              0.8888888888888888,
              "#fdca26"
             ],
             [
              1,
              "#f0f921"
             ]
            ],
            "type": "heatmap"
           }
          ],
          "heatmapgl": [
           {
            "colorbar": {
             "outlinewidth": 0,
             "ticks": ""
            },
            "colorscale": [
             [
              0,
              "#0d0887"
             ],
             [
              0.1111111111111111,
              "#46039f"
             ],
             [
              0.2222222222222222,
              "#7201a8"
             ],
             [
              0.3333333333333333,
              "#9c179e"
             ],
             [
              0.4444444444444444,
              "#bd3786"
             ],
             [
              0.5555555555555556,
              "#d8576b"
             ],
             [
              0.6666666666666666,
              "#ed7953"
             ],
             [
              0.7777777777777778,
              "#fb9f3a"
             ],
             [
              0.8888888888888888,
              "#fdca26"
             ],
             [
              1,
              "#f0f921"
             ]
            ],
            "type": "heatmapgl"
           }
          ],
          "histogram": [
           {
            "marker": {
             "colorbar": {
              "outlinewidth": 0,
              "ticks": ""
             }
            },
            "type": "histogram"
           }
          ],
          "histogram2d": [
           {
            "colorbar": {
             "outlinewidth": 0,
             "ticks": ""
            },
            "colorscale": [
             [
              0,
              "#0d0887"
             ],
             [
              0.1111111111111111,
              "#46039f"
             ],
             [
              0.2222222222222222,
              "#7201a8"
             ],
             [
              0.3333333333333333,
              "#9c179e"
             ],
             [
              0.4444444444444444,
              "#bd3786"
             ],
             [
              0.5555555555555556,
              "#d8576b"
             ],
             [
              0.6666666666666666,
              "#ed7953"
             ],
             [
              0.7777777777777778,
              "#fb9f3a"
             ],
             [
              0.8888888888888888,
              "#fdca26"
             ],
             [
              1,
              "#f0f921"
             ]
            ],
            "type": "histogram2d"
           }
          ],
          "histogram2dcontour": [
           {
            "colorbar": {
             "outlinewidth": 0,
             "ticks": ""
            },
            "colorscale": [
             [
              0,
              "#0d0887"
             ],
             [
              0.1111111111111111,
              "#46039f"
             ],
             [
              0.2222222222222222,
              "#7201a8"
             ],
             [
              0.3333333333333333,
              "#9c179e"
             ],
             [
              0.4444444444444444,
              "#bd3786"
             ],
             [
              0.5555555555555556,
              "#d8576b"
             ],
             [
              0.6666666666666666,
              "#ed7953"
             ],
             [
              0.7777777777777778,
              "#fb9f3a"
             ],
             [
              0.8888888888888888,
              "#fdca26"
             ],
             [
              1,
              "#f0f921"
             ]
            ],
            "type": "histogram2dcontour"
           }
          ],
          "mesh3d": [
           {
            "colorbar": {
             "outlinewidth": 0,
             "ticks": ""
            },
            "type": "mesh3d"
           }
          ],
          "parcoords": [
           {
            "line": {
             "colorbar": {
              "outlinewidth": 0,
              "ticks": ""
             }
            },
            "type": "parcoords"
           }
          ],
          "pie": [
           {
            "automargin": true,
            "type": "pie"
           }
          ],
          "scatter": [
           {
            "marker": {
             "colorbar": {
              "outlinewidth": 0,
              "ticks": ""
             }
            },
            "type": "scatter"
           }
          ],
          "scatter3d": [
           {
            "line": {
             "colorbar": {
              "outlinewidth": 0,
              "ticks": ""
             }
            },
            "marker": {
             "colorbar": {
              "outlinewidth": 0,
              "ticks": ""
             }
            },
            "type": "scatter3d"
           }
          ],
          "scattercarpet": [
           {
            "marker": {
             "colorbar": {
              "outlinewidth": 0,
              "ticks": ""
             }
            },
            "type": "scattercarpet"
           }
          ],
          "scattergeo": [
           {
            "marker": {
             "colorbar": {
              "outlinewidth": 0,
              "ticks": ""
             }
            },
            "type": "scattergeo"
           }
          ],
          "scattergl": [
           {
            "marker": {
             "colorbar": {
              "outlinewidth": 0,
              "ticks": ""
             }
            },
            "type": "scattergl"
           }
          ],
          "scattermapbox": [
           {
            "marker": {
             "colorbar": {
              "outlinewidth": 0,
              "ticks": ""
             }
            },
            "type": "scattermapbox"
           }
          ],
          "scatterpolar": [
           {
            "marker": {
             "colorbar": {
              "outlinewidth": 0,
              "ticks": ""
             }
            },
            "type": "scatterpolar"
           }
          ],
          "scatterpolargl": [
           {
            "marker": {
             "colorbar": {
              "outlinewidth": 0,
              "ticks": ""
             }
            },
            "type": "scatterpolargl"
           }
          ],
          "scatterternary": [
           {
            "marker": {
             "colorbar": {
              "outlinewidth": 0,
              "ticks": ""
             }
            },
            "type": "scatterternary"
           }
          ],
          "surface": [
           {
            "colorbar": {
             "outlinewidth": 0,
             "ticks": ""
            },
            "colorscale": [
             [
              0,
              "#0d0887"
             ],
             [
              0.1111111111111111,
              "#46039f"
             ],
             [
              0.2222222222222222,
              "#7201a8"
             ],
             [
              0.3333333333333333,
              "#9c179e"
             ],
             [
              0.4444444444444444,
              "#bd3786"
             ],
             [
              0.5555555555555556,
              "#d8576b"
             ],
             [
              0.6666666666666666,
              "#ed7953"
             ],
             [
              0.7777777777777778,
              "#fb9f3a"
             ],
             [
              0.8888888888888888,
              "#fdca26"
             ],
             [
              1,
              "#f0f921"
             ]
            ],
            "type": "surface"
           }
          ],
          "table": [
           {
            "cells": {
             "fill": {
              "color": "#EBF0F8"
             },
             "line": {
              "color": "white"
             }
            },
            "header": {
             "fill": {
              "color": "#C8D4E3"
             },
             "line": {
              "color": "white"
             }
            },
            "type": "table"
           }
          ]
         },
         "layout": {
          "annotationdefaults": {
           "arrowcolor": "#2a3f5f",
           "arrowhead": 0,
           "arrowwidth": 1
          },
          "coloraxis": {
           "colorbar": {
            "outlinewidth": 0,
            "ticks": ""
           }
          },
          "colorscale": {
           "diverging": [
            [
             0,
             "#8e0152"
            ],
            [
             0.1,
             "#c51b7d"
            ],
            [
             0.2,
             "#de77ae"
            ],
            [
             0.3,
             "#f1b6da"
            ],
            [
             0.4,
             "#fde0ef"
            ],
            [
             0.5,
             "#f7f7f7"
            ],
            [
             0.6,
             "#e6f5d0"
            ],
            [
             0.7,
             "#b8e186"
            ],
            [
             0.8,
             "#7fbc41"
            ],
            [
             0.9,
             "#4d9221"
            ],
            [
             1,
             "#276419"
            ]
           ],
           "sequential": [
            [
             0,
             "#0d0887"
            ],
            [
             0.1111111111111111,
             "#46039f"
            ],
            [
             0.2222222222222222,
             "#7201a8"
            ],
            [
             0.3333333333333333,
             "#9c179e"
            ],
            [
             0.4444444444444444,
             "#bd3786"
            ],
            [
             0.5555555555555556,
             "#d8576b"
            ],
            [
             0.6666666666666666,
             "#ed7953"
            ],
            [
             0.7777777777777778,
             "#fb9f3a"
            ],
            [
             0.8888888888888888,
             "#fdca26"
            ],
            [
             1,
             "#f0f921"
            ]
           ],
           "sequentialminus": [
            [
             0,
             "#0d0887"
            ],
            [
             0.1111111111111111,
             "#46039f"
            ],
            [
             0.2222222222222222,
             "#7201a8"
            ],
            [
             0.3333333333333333,
             "#9c179e"
            ],
            [
             0.4444444444444444,
             "#bd3786"
            ],
            [
             0.5555555555555556,
             "#d8576b"
            ],
            [
             0.6666666666666666,
             "#ed7953"
            ],
            [
             0.7777777777777778,
             "#fb9f3a"
            ],
            [
             0.8888888888888888,
             "#fdca26"
            ],
            [
             1,
             "#f0f921"
            ]
           ]
          },
          "colorway": [
           "#636efa",
           "#EF553B",
           "#00cc96",
           "#ab63fa",
           "#FFA15A",
           "#19d3f3",
           "#FF6692",
           "#B6E880",
           "#FF97FF",
           "#FECB52"
          ],
          "font": {
           "color": "#2a3f5f"
          },
          "geo": {
           "bgcolor": "white",
           "lakecolor": "white",
           "landcolor": "#E5ECF6",
           "showlakes": true,
           "showland": true,
           "subunitcolor": "white"
          },
          "hoverlabel": {
           "align": "left"
          },
          "hovermode": "closest",
          "mapbox": {
           "style": "light"
          },
          "paper_bgcolor": "white",
          "plot_bgcolor": "#E5ECF6",
          "polar": {
           "angularaxis": {
            "gridcolor": "white",
            "linecolor": "white",
            "ticks": ""
           },
           "bgcolor": "#E5ECF6",
           "radialaxis": {
            "gridcolor": "white",
            "linecolor": "white",
            "ticks": ""
           }
          },
          "scene": {
           "xaxis": {
            "backgroundcolor": "#E5ECF6",
            "gridcolor": "white",
            "gridwidth": 2,
            "linecolor": "white",
            "showbackground": true,
            "ticks": "",
            "zerolinecolor": "white"
           },
           "yaxis": {
            "backgroundcolor": "#E5ECF6",
            "gridcolor": "white",
            "gridwidth": 2,
            "linecolor": "white",
            "showbackground": true,
            "ticks": "",
            "zerolinecolor": "white"
           },
           "zaxis": {
            "backgroundcolor": "#E5ECF6",
            "gridcolor": "white",
            "gridwidth": 2,
            "linecolor": "white",
            "showbackground": true,
            "ticks": "",
            "zerolinecolor": "white"
           }
          },
          "shapedefaults": {
           "line": {
            "color": "#2a3f5f"
           }
          },
          "ternary": {
           "aaxis": {
            "gridcolor": "white",
            "linecolor": "white",
            "ticks": ""
           },
           "baxis": {
            "gridcolor": "white",
            "linecolor": "white",
            "ticks": ""
           },
           "bgcolor": "#E5ECF6",
           "caxis": {
            "gridcolor": "white",
            "linecolor": "white",
            "ticks": ""
           }
          },
          "title": {
           "x": 0.05
          },
          "xaxis": {
           "automargin": true,
           "gridcolor": "white",
           "linecolor": "white",
           "ticks": "",
           "title": {
            "standoff": 15
           },
           "zerolinecolor": "white",
           "zerolinewidth": 2
          },
          "yaxis": {
           "automargin": true,
           "gridcolor": "white",
           "linecolor": "white",
           "ticks": "",
           "title": {
            "standoff": 15
           },
           "zerolinecolor": "white",
           "zerolinewidth": 2
          }
         }
        }
       }
      },
      "text/html": [
       "<div>\n",
       "        \n",
       "        \n",
       "            <div id=\"93bba7a9-debe-43c8-a492-a7dec839dfe9\" class=\"plotly-graph-div\" style=\"height:525px; width:100%;\"></div>\n",
       "            <script type=\"text/javascript\">\n",
       "                require([\"plotly\"], function(Plotly) {\n",
       "                    window.PLOTLYENV=window.PLOTLYENV || {};\n",
       "                    \n",
       "                if (document.getElementById(\"93bba7a9-debe-43c8-a492-a7dec839dfe9\")) {\n",
       "                    Plotly.newPlot(\n",
       "                        '93bba7a9-debe-43c8-a492-a7dec839dfe9',\n",
       "                        [{\"domain\": {\"x\": [0.0, 0.45], \"y\": [0.0, 1.0]}, \"hole\": 0.4, \"hoverinfo\": \"label+percent+name\", \"labels\": [\"Inf\\u00e9rieure \\u00e0 6ans\", \"Entre 6 et 15ans\", \"Entre 15 et 60ans\", \"Sup\\u00e9rieure \\u00e0 60ans\"], \"name\": \"MARRAKECH\", \"type\": \"pie\", \"values\": [11.23, 17.54, 63.31, 7.95]}],\n",
       "                        {\"annotations\": [{\"font\": {\"size\": 20}, \"showarrow\": false, \"text\": \"MARRAKECH\", \"x\": 0.14, \"y\": 0.5}], \"showlegend\": false, \"template\": {\"data\": {\"bar\": [{\"error_x\": {\"color\": \"#2a3f5f\"}, \"error_y\": {\"color\": \"#2a3f5f\"}, \"marker\": {\"line\": {\"color\": \"#E5ECF6\", \"width\": 0.5}}, \"type\": \"bar\"}], \"barpolar\": [{\"marker\": {\"line\": {\"color\": \"#E5ECF6\", \"width\": 0.5}}, \"type\": \"barpolar\"}], \"carpet\": [{\"aaxis\": {\"endlinecolor\": \"#2a3f5f\", \"gridcolor\": \"white\", \"linecolor\": \"white\", \"minorgridcolor\": \"white\", \"startlinecolor\": \"#2a3f5f\"}, \"baxis\": {\"endlinecolor\": \"#2a3f5f\", \"gridcolor\": \"white\", \"linecolor\": \"white\", \"minorgridcolor\": \"white\", \"startlinecolor\": \"#2a3f5f\"}, \"type\": \"carpet\"}], \"choropleth\": [{\"colorbar\": {\"outlinewidth\": 0, \"ticks\": \"\"}, \"type\": \"choropleth\"}], \"contour\": [{\"colorbar\": {\"outlinewidth\": 0, \"ticks\": \"\"}, \"colorscale\": [[0.0, \"#0d0887\"], [0.1111111111111111, \"#46039f\"], [0.2222222222222222, \"#7201a8\"], [0.3333333333333333, \"#9c179e\"], [0.4444444444444444, \"#bd3786\"], [0.5555555555555556, \"#d8576b\"], [0.6666666666666666, \"#ed7953\"], [0.7777777777777778, \"#fb9f3a\"], [0.8888888888888888, \"#fdca26\"], [1.0, \"#f0f921\"]], \"type\": \"contour\"}], \"contourcarpet\": [{\"colorbar\": {\"outlinewidth\": 0, \"ticks\": \"\"}, \"type\": \"contourcarpet\"}], \"heatmap\": [{\"colorbar\": {\"outlinewidth\": 0, \"ticks\": \"\"}, \"colorscale\": [[0.0, \"#0d0887\"], [0.1111111111111111, \"#46039f\"], [0.2222222222222222, \"#7201a8\"], [0.3333333333333333, \"#9c179e\"], [0.4444444444444444, \"#bd3786\"], [0.5555555555555556, \"#d8576b\"], [0.6666666666666666, \"#ed7953\"], [0.7777777777777778, \"#fb9f3a\"], [0.8888888888888888, \"#fdca26\"], [1.0, \"#f0f921\"]], \"type\": \"heatmap\"}], \"heatmapgl\": [{\"colorbar\": {\"outlinewidth\": 0, \"ticks\": \"\"}, \"colorscale\": [[0.0, \"#0d0887\"], [0.1111111111111111, \"#46039f\"], [0.2222222222222222, \"#7201a8\"], [0.3333333333333333, \"#9c179e\"], [0.4444444444444444, \"#bd3786\"], [0.5555555555555556, \"#d8576b\"], [0.6666666666666666, \"#ed7953\"], [0.7777777777777778, \"#fb9f3a\"], [0.8888888888888888, \"#fdca26\"], [1.0, \"#f0f921\"]], \"type\": \"heatmapgl\"}], \"histogram\": [{\"marker\": {\"colorbar\": {\"outlinewidth\": 0, \"ticks\": \"\"}}, \"type\": \"histogram\"}], \"histogram2d\": [{\"colorbar\": {\"outlinewidth\": 0, \"ticks\": \"\"}, \"colorscale\": [[0.0, \"#0d0887\"], [0.1111111111111111, \"#46039f\"], [0.2222222222222222, \"#7201a8\"], [0.3333333333333333, \"#9c179e\"], [0.4444444444444444, \"#bd3786\"], [0.5555555555555556, \"#d8576b\"], [0.6666666666666666, \"#ed7953\"], [0.7777777777777778, \"#fb9f3a\"], [0.8888888888888888, \"#fdca26\"], [1.0, \"#f0f921\"]], \"type\": \"histogram2d\"}], \"histogram2dcontour\": [{\"colorbar\": {\"outlinewidth\": 0, \"ticks\": \"\"}, \"colorscale\": [[0.0, \"#0d0887\"], [0.1111111111111111, \"#46039f\"], [0.2222222222222222, \"#7201a8\"], [0.3333333333333333, \"#9c179e\"], [0.4444444444444444, \"#bd3786\"], [0.5555555555555556, \"#d8576b\"], [0.6666666666666666, \"#ed7953\"], [0.7777777777777778, \"#fb9f3a\"], [0.8888888888888888, \"#fdca26\"], [1.0, \"#f0f921\"]], \"type\": \"histogram2dcontour\"}], \"mesh3d\": [{\"colorbar\": {\"outlinewidth\": 0, \"ticks\": \"\"}, \"type\": \"mesh3d\"}], \"parcoords\": [{\"line\": {\"colorbar\": {\"outlinewidth\": 0, \"ticks\": \"\"}}, \"type\": \"parcoords\"}], \"pie\": [{\"automargin\": true, \"type\": \"pie\"}], \"scatter\": [{\"marker\": {\"colorbar\": {\"outlinewidth\": 0, \"ticks\": \"\"}}, \"type\": \"scatter\"}], \"scatter3d\": [{\"line\": {\"colorbar\": {\"outlinewidth\": 0, \"ticks\": \"\"}}, \"marker\": {\"colorbar\": {\"outlinewidth\": 0, \"ticks\": \"\"}}, \"type\": \"scatter3d\"}], \"scattercarpet\": [{\"marker\": {\"colorbar\": {\"outlinewidth\": 0, \"ticks\": \"\"}}, \"type\": \"scattercarpet\"}], \"scattergeo\": [{\"marker\": {\"colorbar\": {\"outlinewidth\": 0, \"ticks\": \"\"}}, \"type\": \"scattergeo\"}], \"scattergl\": [{\"marker\": {\"colorbar\": {\"outlinewidth\": 0, \"ticks\": \"\"}}, \"type\": \"scattergl\"}], \"scattermapbox\": [{\"marker\": {\"colorbar\": {\"outlinewidth\": 0, \"ticks\": \"\"}}, \"type\": \"scattermapbox\"}], \"scatterpolar\": [{\"marker\": {\"colorbar\": {\"outlinewidth\": 0, \"ticks\": \"\"}}, \"type\": \"scatterpolar\"}], \"scatterpolargl\": [{\"marker\": {\"colorbar\": {\"outlinewidth\": 0, \"ticks\": \"\"}}, \"type\": \"scatterpolargl\"}], \"scatterternary\": [{\"marker\": {\"colorbar\": {\"outlinewidth\": 0, \"ticks\": \"\"}}, \"type\": \"scatterternary\"}], \"surface\": [{\"colorbar\": {\"outlinewidth\": 0, \"ticks\": \"\"}, \"colorscale\": [[0.0, \"#0d0887\"], [0.1111111111111111, \"#46039f\"], [0.2222222222222222, \"#7201a8\"], [0.3333333333333333, \"#9c179e\"], [0.4444444444444444, \"#bd3786\"], [0.5555555555555556, \"#d8576b\"], [0.6666666666666666, \"#ed7953\"], [0.7777777777777778, \"#fb9f3a\"], [0.8888888888888888, \"#fdca26\"], [1.0, \"#f0f921\"]], \"type\": \"surface\"}], \"table\": [{\"cells\": {\"fill\": {\"color\": \"#EBF0F8\"}, \"line\": {\"color\": \"white\"}}, \"header\": {\"fill\": {\"color\": \"#C8D4E3\"}, \"line\": {\"color\": \"white\"}}, \"type\": \"table\"}]}, \"layout\": {\"annotationdefaults\": {\"arrowcolor\": \"#2a3f5f\", \"arrowhead\": 0, \"arrowwidth\": 1}, \"coloraxis\": {\"colorbar\": {\"outlinewidth\": 0, \"ticks\": \"\"}}, \"colorscale\": {\"diverging\": [[0, \"#8e0152\"], [0.1, \"#c51b7d\"], [0.2, \"#de77ae\"], [0.3, \"#f1b6da\"], [0.4, \"#fde0ef\"], [0.5, \"#f7f7f7\"], [0.6, \"#e6f5d0\"], [0.7, \"#b8e186\"], [0.8, \"#7fbc41\"], [0.9, \"#4d9221\"], [1, \"#276419\"]], \"sequential\": [[0.0, \"#0d0887\"], [0.1111111111111111, \"#46039f\"], [0.2222222222222222, \"#7201a8\"], [0.3333333333333333, \"#9c179e\"], [0.4444444444444444, \"#bd3786\"], [0.5555555555555556, \"#d8576b\"], [0.6666666666666666, \"#ed7953\"], [0.7777777777777778, \"#fb9f3a\"], [0.8888888888888888, \"#fdca26\"], [1.0, \"#f0f921\"]], \"sequentialminus\": [[0.0, \"#0d0887\"], [0.1111111111111111, \"#46039f\"], [0.2222222222222222, \"#7201a8\"], [0.3333333333333333, \"#9c179e\"], [0.4444444444444444, \"#bd3786\"], [0.5555555555555556, \"#d8576b\"], [0.6666666666666666, \"#ed7953\"], [0.7777777777777778, \"#fb9f3a\"], [0.8888888888888888, \"#fdca26\"], [1.0, \"#f0f921\"]]}, \"colorway\": [\"#636efa\", \"#EF553B\", \"#00cc96\", \"#ab63fa\", \"#FFA15A\", \"#19d3f3\", \"#FF6692\", \"#B6E880\", \"#FF97FF\", \"#FECB52\"], \"font\": {\"color\": \"#2a3f5f\"}, \"geo\": {\"bgcolor\": \"white\", \"lakecolor\": \"white\", \"landcolor\": \"#E5ECF6\", \"showlakes\": true, \"showland\": true, \"subunitcolor\": \"white\"}, \"hoverlabel\": {\"align\": \"left\"}, \"hovermode\": \"closest\", \"mapbox\": {\"style\": \"light\"}, \"paper_bgcolor\": \"white\", \"plot_bgcolor\": \"#E5ECF6\", \"polar\": {\"angularaxis\": {\"gridcolor\": \"white\", \"linecolor\": \"white\", \"ticks\": \"\"}, \"bgcolor\": \"#E5ECF6\", \"radialaxis\": {\"gridcolor\": \"white\", \"linecolor\": \"white\", \"ticks\": \"\"}}, \"scene\": {\"xaxis\": {\"backgroundcolor\": \"#E5ECF6\", \"gridcolor\": \"white\", \"gridwidth\": 2, \"linecolor\": \"white\", \"showbackground\": true, \"ticks\": \"\", \"zerolinecolor\": \"white\"}, \"yaxis\": {\"backgroundcolor\": \"#E5ECF6\", \"gridcolor\": \"white\", \"gridwidth\": 2, \"linecolor\": \"white\", \"showbackground\": true, \"ticks\": \"\", \"zerolinecolor\": \"white\"}, \"zaxis\": {\"backgroundcolor\": \"#E5ECF6\", \"gridcolor\": \"white\", \"gridwidth\": 2, \"linecolor\": \"white\", \"showbackground\": true, \"ticks\": \"\", \"zerolinecolor\": \"white\"}}, \"shapedefaults\": {\"line\": {\"color\": \"#2a3f5f\"}}, \"ternary\": {\"aaxis\": {\"gridcolor\": \"white\", \"linecolor\": \"white\", \"ticks\": \"\"}, \"baxis\": {\"gridcolor\": \"white\", \"linecolor\": \"white\", \"ticks\": \"\"}, \"bgcolor\": \"#E5ECF6\", \"caxis\": {\"gridcolor\": \"white\", \"linecolor\": \"white\", \"ticks\": \"\"}}, \"title\": {\"x\": 0.05}, \"xaxis\": {\"automargin\": true, \"gridcolor\": \"white\", \"linecolor\": \"white\", \"ticks\": \"\", \"title\": {\"standoff\": 15}, \"zerolinecolor\": \"white\", \"zerolinewidth\": 2}, \"yaxis\": {\"automargin\": true, \"gridcolor\": \"white\", \"linecolor\": \"white\", \"ticks\": \"\", \"title\": {\"standoff\": 15}, \"zerolinecolor\": \"white\", \"zerolinewidth\": 2}}}},\n",
       "                        {\"responsive\": true}\n",
       "                    ).then(function(){\n",
       "                            \n",
       "var gd = document.getElementById('93bba7a9-debe-43c8-a492-a7dec839dfe9');\n",
       "var x = new MutationObserver(function (mutations, observer) {{\n",
       "        var display = window.getComputedStyle(gd).display;\n",
       "        if (!display || display === 'none') {{\n",
       "            console.log([gd, 'removed!']);\n",
       "            Plotly.purge(gd);\n",
       "            observer.disconnect();\n",
       "        }}\n",
       "}});\n",
       "\n",
       "// Listen for the removal of the full notebook cells\n",
       "var notebookContainer = gd.closest('#notebook-container');\n",
       "if (notebookContainer) {{\n",
       "    x.observe(notebookContainer, {childList: true});\n",
       "}}\n",
       "\n",
       "// Listen for the clearing of the current output cell\n",
       "var outputEl = gd.closest('.output');\n",
       "if (outputEl) {{\n",
       "    x.observe(outputEl, {childList: true});\n",
       "}}\n",
       "\n",
       "                        })\n",
       "                };\n",
       "                });\n",
       "            </script>\n",
       "        </div>"
      ]
     },
     "metadata": {},
     "output_type": "display_data"
    }
   ],
   "source": [
    "\n",
    "labels=['Inférieure à 6ans','Entre 6 et 15ans','Entre 15 et 60ans', 'Supérieure à 60ans']\n",
    "\n",
    "# Create 5 subplots, one for each province.\n",
    "\n",
    "fig = make_subplots(rows=1, cols=2 , specs=[[{'type':'domain'}, {'type':'domain'}]])\n",
    "fig.add_trace(go.Pie(labels=labels, values= (dfp.iloc[0][['Taux_pop_inf6','Taux_pop_6_15','Taux_pop_15_60', 'Taux_pop_sup60']].values.tolist()) , name=dfp.index[0]),\n",
    "              1, 1)\n",
    "fig.add_trace(go.Pie(labels=labels, values = (dfp.iloc[1][['Taux_pop_inf6','Taux_pop_6_15','Taux_pop_15_60', 'Taux_pop_sup60']].values.tolist()) ,  name=dfp.index[1]),\n",
    "              1, 2)\n",
    "\n",
    "\n",
    "\n",
    "\n",
    "figd = make_subplots(rows=1, cols=2 , specs=[[{'type':'domain'}, {'type':'domain'}]])\n",
    "figd.add_trace(go.Pie(labels=labels, values = (dfp.iloc[2][['Taux_pop_inf6','Taux_pop_6_15','Taux_pop_15_60', 'Taux_pop_sup60']].values.tolist()) , name=dfp.index[2]),\n",
    "              1, 1)\n",
    "figd.add_trace(go.Pie(labels=labels, values = (dfp.iloc[3][['Taux_pop_inf6','Taux_pop_6_15','Taux_pop_15_60', 'Taux_pop_sup60']].values.tolist()) , name=dfp.index[3]),\n",
    "              1, 2)\n",
    "\n",
    "\n",
    "\n",
    "\n",
    "figt = make_subplots(rows=1, cols=2 , specs=[[{'type':'domain'}, {'type':'domain'}]])\n",
    "figt.add_trace(go.Pie(labels=labels, values = (dfp.iloc[4][['Taux_pop_inf6','Taux_pop_6_15','Taux_pop_15_60', 'Taux_pop_sup60']].values.tolist()) , name=dfp.index[4]),\n",
    "              1, 1)\n",
    "\n",
    "\n",
    "# Create the donut pies.\n",
    "\n",
    "\n",
    "fig.update_traces(hole=.4, hoverinfo=\"label+percent+name\")\n",
    "figd.update_traces(hole=.4, hoverinfo=\"label+percent+name\")\n",
    "figt.update_traces(hole=.4, hoverinfo=\"label+percent+name\")\n",
    "\n",
    "\n",
    "\n",
    "\n",
    "# Remove the static legend.\n",
    "\n",
    "\n",
    "fig.update(layout_showlegend=False)\n",
    "figd.update(layout_showlegend=False)\n",
    "figt.update(layout_showlegend=False)\n",
    "\n",
    "\n",
    "\n",
    "\n",
    "# Add annotations in the center of the donut pies.\n",
    "\n",
    "fig.update_layout(\n",
    "    title_text=\"La répartition de la population par tranche d'âge en %\",\n",
    "    annotations=[dict(text=dfp.index[0], x=0.16, y=0.53, font_size=20, showarrow=False),\n",
    "                 dict(text=dfp.index[1], x=0.85, y=0.53, font_size=20, showarrow=False)])\n",
    "\n",
    "figd.update_layout( annotations= [dict(text=dfp.index[2], x=0.15, y=0.5, font_size=20, showarrow=False),\n",
    "                dict(text=dfp.index[3], x=0.87, y=0.5, font_size=15, showarrow=False)])\n",
    "\n",
    "\n",
    "figt.update_layout( annotations= [dict(text=dfp.index[4], x=0.14, y=0.5, font_size=20, showarrow=False)])\n",
    "\n",
    "\n",
    "\n",
    "fig.show()\n",
    "figd.show()\n",
    "figt.show()\n"
   ]
  },
  {
   "cell_type": "markdown",
   "metadata": {},
   "source": [
    "<b> Comments </b>"
   ]
  },
  {
   "cell_type": "markdown",
   "metadata": {},
   "source": [
    "- The population of the province of Chichaoua is a young population, it has the highest rate of the population under 15 years of age (37.6%), and remember, the highest illeteracy rate (67.87%).\n",
    "\n",
    "- Marrakech is the province that has the lowest rate of population under 15 years of age (28.7%), the second lowest rate of population aged 60 and over and, as we saw before, the highest activity rate and the lowest illeteracy rate. This can only be the effect of migration for work, study or other reasons.\n",
    "\n",
    "- More than half of the population in all of the provinces of the region, was aged between 15 and 60 years (max 63.6% in Marrakech and min 53.8% in Chichaoua). The proportion of the population aged 60 and over is approximately 8% in all the provinces, beside Essaouira with 10%.\n"
   ]
  },
  {
   "cell_type": "code",
   "execution_count": 71,
   "metadata": {},
   "outputs": [],
   "source": [
    "dfc.drop(['Population_analphabete', 'Population_inf6', 'Population_615', 'Population_1560', 'Population_sup60'], axis=1, inplace=True)"
   ]
  },
  {
   "cell_type": "code",
   "execution_count": 69,
   "metadata": {},
   "outputs": [
    {
     "data": {
      "text/html": [
       "<div>\n",
       "<style scoped>\n",
       "    .dataframe tbody tr th:only-of-type {\n",
       "        vertical-align: middle;\n",
       "    }\n",
       "\n",
       "    .dataframe tbody tr th {\n",
       "        vertical-align: top;\n",
       "    }\n",
       "\n",
       "    .dataframe thead th {\n",
       "        text-align: right;\n",
       "    }\n",
       "</style>\n",
       "<table border=\"1\" class=\"dataframe\">\n",
       "  <thead>\n",
       "    <tr style=\"text-align: right;\">\n",
       "      <th></th>\n",
       "      <th></th>\n",
       "      <th>Nom_Commune</th>\n",
       "      <th>Type_Commune</th>\n",
       "      <th>Surface_ha</th>\n",
       "      <th>Population</th>\n",
       "      <th>Pop_inf6_pc</th>\n",
       "      <th>Pop_615_pc</th>\n",
       "      <th>Pop_1560_pc</th>\n",
       "      <th>Pop_sup60_pc</th>\n",
       "      <th>Celebataire_pc</th>\n",
       "      <th>Marie_pc</th>\n",
       "      <th>Mrge_Autre_pc</th>\n",
       "      <th>Age_Moyen_1marriage</th>\n",
       "      <th>Taux_Analphabetisme</th>\n",
       "      <th>Taux_activite</th>\n",
       "      <th>densite_pop</th>\n",
       "      <th>Nom_Province</th>\n",
       "      <th>population_active</th>\n",
       "    </tr>\n",
       "    <tr>\n",
       "      <th>Code_Province</th>\n",
       "      <th>Code_Commune</th>\n",
       "      <th></th>\n",
       "      <th></th>\n",
       "      <th></th>\n",
       "      <th></th>\n",
       "      <th></th>\n",
       "      <th></th>\n",
       "      <th></th>\n",
       "      <th></th>\n",
       "      <th></th>\n",
       "      <th></th>\n",
       "      <th></th>\n",
       "      <th></th>\n",
       "      <th></th>\n",
       "      <th></th>\n",
       "      <th></th>\n",
       "      <th></th>\n",
       "      <th></th>\n",
       "    </tr>\n",
       "  </thead>\n",
       "  <tbody>\n",
       "    <tr>\n",
       "      <th rowspan=\"5\" valign=\"top\">041</th>\n",
       "      <th>041.01.01</th>\n",
       "      <td>AIT OURIR</td>\n",
       "      <td>Urbain</td>\n",
       "      <td>1077.92</td>\n",
       "      <td>19864</td>\n",
       "      <td>11.5</td>\n",
       "      <td>20.2</td>\n",
       "      <td>61.4</td>\n",
       "      <td>6.9</td>\n",
       "      <td>38.5</td>\n",
       "      <td>54.6</td>\n",
       "      <td>7.0</td>\n",
       "      <td>28.4</td>\n",
       "      <td>37.7</td>\n",
       "      <td>29.6</td>\n",
       "      <td>1842.808372</td>\n",
       "      <td>AL HAOUZ</td>\n",
       "      <td>5880.0</td>\n",
       "    </tr>\n",
       "    <tr>\n",
       "      <th>041.03.01</th>\n",
       "      <td>ABADOU</td>\n",
       "      <td>Rural</td>\n",
       "      <td>9504.74</td>\n",
       "      <td>9905</td>\n",
       "      <td>13.6</td>\n",
       "      <td>24.1</td>\n",
       "      <td>53.7</td>\n",
       "      <td>8.6</td>\n",
       "      <td>31.8</td>\n",
       "      <td>61.1</td>\n",
       "      <td>7.1</td>\n",
       "      <td>25.6</td>\n",
       "      <td>58.3</td>\n",
       "      <td>40.6</td>\n",
       "      <td>104.211162</td>\n",
       "      <td>AL HAOUZ</td>\n",
       "      <td>4021.0</td>\n",
       "    </tr>\n",
       "    <tr>\n",
       "      <th>041.03.03</th>\n",
       "      <td>AIT AADEL</td>\n",
       "      <td>Rural</td>\n",
       "      <td>11318.58</td>\n",
       "      <td>6967</td>\n",
       "      <td>17.2</td>\n",
       "      <td>25.1</td>\n",
       "      <td>51.1</td>\n",
       "      <td>6.6</td>\n",
       "      <td>28.8</td>\n",
       "      <td>64.9</td>\n",
       "      <td>6.4</td>\n",
       "      <td>23.4</td>\n",
       "      <td>69.9</td>\n",
       "      <td>33.7</td>\n",
       "      <td>61.553658</td>\n",
       "      <td>AL HAOUZ</td>\n",
       "      <td>2348.0</td>\n",
       "    </tr>\n",
       "    <tr>\n",
       "      <th>041.03.05</th>\n",
       "      <td>AIT FASKA</td>\n",
       "      <td>Rural</td>\n",
       "      <td>11046.10</td>\n",
       "      <td>19228</td>\n",
       "      <td>10.9</td>\n",
       "      <td>20.1</td>\n",
       "      <td>60.3</td>\n",
       "      <td>8.6</td>\n",
       "      <td>39.3</td>\n",
       "      <td>53.4</td>\n",
       "      <td>7.3</td>\n",
       "      <td>28.3</td>\n",
       "      <td>58.7</td>\n",
       "      <td>34.0</td>\n",
       "      <td>174.070486</td>\n",
       "      <td>AL HAOUZ</td>\n",
       "      <td>6538.0</td>\n",
       "    </tr>\n",
       "    <tr>\n",
       "      <th>041.03.07</th>\n",
       "      <td>AIT HKIM AIT IZID</td>\n",
       "      <td>Rural</td>\n",
       "      <td>11013.38</td>\n",
       "      <td>8112</td>\n",
       "      <td>17.3</td>\n",
       "      <td>25.4</td>\n",
       "      <td>51.0</td>\n",
       "      <td>6.3</td>\n",
       "      <td>29.4</td>\n",
       "      <td>64.8</td>\n",
       "      <td>5.8</td>\n",
       "      <td>23.2</td>\n",
       "      <td>71.5</td>\n",
       "      <td>30.1</td>\n",
       "      <td>73.655862</td>\n",
       "      <td>AL HAOUZ</td>\n",
       "      <td>2442.0</td>\n",
       "    </tr>\n",
       "  </tbody>\n",
       "</table>\n",
       "</div>"
      ],
      "text/plain": [
       "                                  Nom_Commune Type_Commune  Surface_ha  \\\n",
       "Code_Province Code_Commune                                               \n",
       "041           041.01.01             AIT OURIR       Urbain     1077.92   \n",
       "              041.03.01                ABADOU        Rural     9504.74   \n",
       "              041.03.03             AIT AADEL        Rural    11318.58   \n",
       "              041.03.05             AIT FASKA        Rural    11046.10   \n",
       "              041.03.07     AIT HKIM AIT IZID        Rural    11013.38   \n",
       "\n",
       "                            Population  Pop_inf6_pc  Pop_615_pc  Pop_1560_pc  \\\n",
       "Code_Province Code_Commune                                                     \n",
       "041           041.01.01          19864         11.5        20.2         61.4   \n",
       "              041.03.01           9905         13.6        24.1         53.7   \n",
       "              041.03.03           6967         17.2        25.1         51.1   \n",
       "              041.03.05          19228         10.9        20.1         60.3   \n",
       "              041.03.07           8112         17.3        25.4         51.0   \n",
       "\n",
       "                            Pop_sup60_pc  Celebataire_pc  Marie_pc  \\\n",
       "Code_Province Code_Commune                                           \n",
       "041           041.01.01              6.9            38.5      54.6   \n",
       "              041.03.01              8.6            31.8      61.1   \n",
       "              041.03.03              6.6            28.8      64.9   \n",
       "              041.03.05              8.6            39.3      53.4   \n",
       "              041.03.07              6.3            29.4      64.8   \n",
       "\n",
       "                            Mrge_Autre_pc  Age_Moyen_1marriage  \\\n",
       "Code_Province Code_Commune                                       \n",
       "041           041.01.01               7.0                 28.4   \n",
       "              041.03.01               7.1                 25.6   \n",
       "              041.03.03               6.4                 23.4   \n",
       "              041.03.05               7.3                 28.3   \n",
       "              041.03.07               5.8                 23.2   \n",
       "\n",
       "                            Taux_Analphabetisme  Taux_activite  densite_pop  \\\n",
       "Code_Province Code_Commune                                                    \n",
       "041           041.01.01                    37.7           29.6  1842.808372   \n",
       "              041.03.01                    58.3           40.6   104.211162   \n",
       "              041.03.03                    69.9           33.7    61.553658   \n",
       "              041.03.05                    58.7           34.0   174.070486   \n",
       "              041.03.07                    71.5           30.1    73.655862   \n",
       "\n",
       "                           Nom_Province  population_active  \n",
       "Code_Province Code_Commune                                  \n",
       "041           041.01.01        AL HAOUZ             5880.0  \n",
       "              041.03.01        AL HAOUZ             4021.0  \n",
       "              041.03.03        AL HAOUZ             2348.0  \n",
       "              041.03.05        AL HAOUZ             6538.0  \n",
       "              041.03.07        AL HAOUZ             2442.0  "
      ]
     },
     "execution_count": 69,
     "metadata": {},
     "output_type": "execute_result"
    }
   ],
   "source": [
    "dfc.head()"
   ]
  },
  {
   "cell_type": "markdown",
   "metadata": {},
   "source": [
    "# <br> <font color='green'> - Partie 2 -   </font>                    "
   ]
  },
  {
   "cell_type": "markdown",
   "metadata": {},
   "source": [
    "## Question 25"
   ]
  },
  {
   "cell_type": "markdown",
   "metadata": {},
   "source": [
    "Set up an automation process using python and its libraries to extract the demographic characteristics in 2014 for each of the communes represented in the DataFrame \"dfc\" from the website of the Haut- Commissariat au plan (http://rgphentableaux.hcp.ma/). \n",
    "\n",
    "Data to be extracted : \n",
    "\n",
    "- Population \n",
    "- Age moyen au premier mariage\n",
    "- Taux d'activité\n",
    "- Taux d'analphabetisme."
   ]
  },
  {
   "cell_type": "markdown",
   "metadata": {},
   "source": [
    "#### Brief Introduction to Web Scraping "
   ]
  },
  {
   "cell_type": "markdown",
   "metadata": {},
   "source": [
    "Web scraping, also called web data mining or web harvesting, is the process of constructing an agent which can extract, parse, download and organize useful information from the web.\n",
    "To do this, Python offers many libraries, the popular of them are :  <br>\n",
    "Beautiful Soup : for static web scraping <br>\n",
    "Selenium : for dynamic web scraping and automation.<br>\n",
    "Requests : for dynamic web scraping.<br> \n",
    "Scrapy : caching web pages and parallelism.<br>"
   ]
  },
  {
   "cell_type": "markdown",
   "metadata": {},
   "source": [
    "#### Our case : "
   ]
  },
  {
   "cell_type": "markdown",
   "metadata": {},
   "source": [
    "In our case, we want to extract data automatically in a dynamic website which has data behind buttons options created via JavaScript. So Selemium is the appropriate choice for interacting with web pages and with Core Javascript featured website; Requests also is a good choice for dealing with json dynamic websites and faster than selenium, but it doesnt automate the browser as asked in the question, Request method is procedural. Beautiful Soup is when it comes to extract information from just a single web page in a run, or a low-level complex project."
   ]
  },
  {
   "cell_type": "markdown",
   "metadata": {},
   "source": [
    "Path : \n",
    "\n",
    "1. Install & Import Selenium & Requests\n",
    "2. Collect all new commune's code and name of the communes with selenium and charge them in dfc2\n",
    "3. Get the data : \n",
    "       - Method 1 : Procedural method using 'Requests' \n",
    "       - Method 2 : Automation process using 'Selenium'"
   ]
  },
  {
   "cell_type": "markdown",
   "metadata": {},
   "source": [
    "### 1. Install & Import Selenium & Requests"
   ]
  },
  {
   "cell_type": "markdown",
   "metadata": {},
   "source": [
    "Open the terminal, install selenium package and download drivers for the browser we will use.<br>\n",
    "pip install selenium <br>\n",
    "pip install requests <br>\n",
    "install webdriver for chrome <br>"
   ]
  },
  {
   "cell_type": "markdown",
   "metadata": {},
   "source": [
    "Import selenium"
   ]
  },
  {
   "cell_type": "code",
   "execution_count": 70,
   "metadata": {},
   "outputs": [],
   "source": [
    "from selenium import webdriver ##to use the browser (chrome in this case)\n",
    "from selenium.webdriver.common.keys import Keys ## Keys for sending text to the search box in the website\n",
    "import time ##time is used to stop the browser for a determined time"
   ]
  },
  {
   "cell_type": "code",
   "execution_count": 71,
   "metadata": {},
   "outputs": [],
   "source": [
    "dfc2 = dfc.sort_values(by='Nom_Commune').reset_index()"
   ]
  },
  {
   "cell_type": "code",
   "execution_count": 72,
   "metadata": {},
   "outputs": [
    {
     "data": {
      "text/html": [
       "<div>\n",
       "<style scoped>\n",
       "    .dataframe tbody tr th:only-of-type {\n",
       "        vertical-align: middle;\n",
       "    }\n",
       "\n",
       "    .dataframe tbody tr th {\n",
       "        vertical-align: top;\n",
       "    }\n",
       "\n",
       "    .dataframe thead th {\n",
       "        text-align: right;\n",
       "    }\n",
       "</style>\n",
       "<table border=\"1\" class=\"dataframe\">\n",
       "  <thead>\n",
       "    <tr style=\"text-align: right;\">\n",
       "      <th></th>\n",
       "      <th>Code_Province</th>\n",
       "      <th>Code_Commune</th>\n",
       "      <th>Nom_Commune</th>\n",
       "      <th>Type_Commune</th>\n",
       "      <th>Surface_ha</th>\n",
       "      <th>Population</th>\n",
       "      <th>Pop_inf6_pc</th>\n",
       "      <th>Pop_615_pc</th>\n",
       "      <th>Pop_1560_pc</th>\n",
       "      <th>Pop_sup60_pc</th>\n",
       "      <th>Celebataire_pc</th>\n",
       "      <th>Marie_pc</th>\n",
       "      <th>Mrge_Autre_pc</th>\n",
       "      <th>Age_Moyen_1marriage</th>\n",
       "      <th>Taux_Analphabetisme</th>\n",
       "      <th>Taux_activite</th>\n",
       "      <th>densite_pop</th>\n",
       "      <th>Nom_Province</th>\n",
       "      <th>population_active</th>\n",
       "    </tr>\n",
       "  </thead>\n",
       "  <tbody>\n",
       "    <tr>\n",
       "      <th>0</th>\n",
       "      <td>041</td>\n",
       "      <td>041.03.01</td>\n",
       "      <td>ABADOU</td>\n",
       "      <td>Rural</td>\n",
       "      <td>9504.74</td>\n",
       "      <td>9905</td>\n",
       "      <td>13.6</td>\n",
       "      <td>24.1</td>\n",
       "      <td>53.7</td>\n",
       "      <td>8.6</td>\n",
       "      <td>31.8</td>\n",
       "      <td>61.1</td>\n",
       "      <td>7.1</td>\n",
       "      <td>25.6</td>\n",
       "      <td>58.3</td>\n",
       "      <td>40.6</td>\n",
       "      <td>104.211162</td>\n",
       "      <td>AL HAOUZ</td>\n",
       "      <td>4021.0</td>\n",
       "    </tr>\n",
       "    <tr>\n",
       "      <th>1</th>\n",
       "      <td>211</td>\n",
       "      <td>211.05.01</td>\n",
       "      <td>ADAGHAS</td>\n",
       "      <td>Rural</td>\n",
       "      <td>9266.43</td>\n",
       "      <td>3321</td>\n",
       "      <td>17.2</td>\n",
       "      <td>24.3</td>\n",
       "      <td>48.5</td>\n",
       "      <td>10.0</td>\n",
       "      <td>29.3</td>\n",
       "      <td>63.9</td>\n",
       "      <td>6.8</td>\n",
       "      <td>25.3</td>\n",
       "      <td>68.1</td>\n",
       "      <td>37.6</td>\n",
       "      <td>35.839045</td>\n",
       "      <td>ESSAOUIRA</td>\n",
       "      <td>1249.0</td>\n",
       "    </tr>\n",
       "    <tr>\n",
       "      <th>2</th>\n",
       "      <td>161</td>\n",
       "      <td>161.07.01</td>\n",
       "      <td>ADASSIL</td>\n",
       "      <td>Rural</td>\n",
       "      <td>14560.61</td>\n",
       "      <td>7212</td>\n",
       "      <td>15.4</td>\n",
       "      <td>26.9</td>\n",
       "      <td>49.8</td>\n",
       "      <td>7.9</td>\n",
       "      <td>27.4</td>\n",
       "      <td>65.5</td>\n",
       "      <td>7.1</td>\n",
       "      <td>24.7</td>\n",
       "      <td>78.2</td>\n",
       "      <td>48.0</td>\n",
       "      <td>49.530892</td>\n",
       "      <td>CHICHAOUA</td>\n",
       "      <td>3462.0</td>\n",
       "    </tr>\n",
       "    <tr>\n",
       "      <th>3</th>\n",
       "      <td>161</td>\n",
       "      <td>161.05.01</td>\n",
       "      <td>AFALLA ISSEN</td>\n",
       "      <td>Rural</td>\n",
       "      <td>12295.32</td>\n",
       "      <td>7961</td>\n",
       "      <td>15.4</td>\n",
       "      <td>25.5</td>\n",
       "      <td>51.5</td>\n",
       "      <td>7.6</td>\n",
       "      <td>33.5</td>\n",
       "      <td>59.6</td>\n",
       "      <td>6.9</td>\n",
       "      <td>26.8</td>\n",
       "      <td>85.3</td>\n",
       "      <td>35.2</td>\n",
       "      <td>64.748213</td>\n",
       "      <td>CHICHAOUA</td>\n",
       "      <td>2802.0</td>\n",
       "    </tr>\n",
       "    <tr>\n",
       "      <th>4</th>\n",
       "      <td>351</td>\n",
       "      <td>351.05.01</td>\n",
       "      <td>AGAFAY</td>\n",
       "      <td>Rural</td>\n",
       "      <td>18889.36</td>\n",
       "      <td>11079</td>\n",
       "      <td>12.7</td>\n",
       "      <td>20.8</td>\n",
       "      <td>59.3</td>\n",
       "      <td>7.2</td>\n",
       "      <td>34.5</td>\n",
       "      <td>59.0</td>\n",
       "      <td>6.6</td>\n",
       "      <td>27.1</td>\n",
       "      <td>59.4</td>\n",
       "      <td>32.1</td>\n",
       "      <td>58.652067</td>\n",
       "      <td>MARRAKECH</td>\n",
       "      <td>3556.0</td>\n",
       "    </tr>\n",
       "  </tbody>\n",
       "</table>\n",
       "</div>"
      ],
      "text/plain": [
       "  Code_Province Code_Commune   Nom_Commune Type_Commune  Surface_ha  \\\n",
       "0           041    041.03.01        ABADOU        Rural     9504.74   \n",
       "1           211    211.05.01       ADAGHAS        Rural     9266.43   \n",
       "2           161    161.07.01       ADASSIL        Rural    14560.61   \n",
       "3           161    161.05.01  AFALLA ISSEN        Rural    12295.32   \n",
       "4           351    351.05.01        AGAFAY        Rural    18889.36   \n",
       "\n",
       "   Population  Pop_inf6_pc  Pop_615_pc  Pop_1560_pc  Pop_sup60_pc  \\\n",
       "0        9905         13.6        24.1         53.7           8.6   \n",
       "1        3321         17.2        24.3         48.5          10.0   \n",
       "2        7212         15.4        26.9         49.8           7.9   \n",
       "3        7961         15.4        25.5         51.5           7.6   \n",
       "4       11079         12.7        20.8         59.3           7.2   \n",
       "\n",
       "   Celebataire_pc  Marie_pc  Mrge_Autre_pc  Age_Moyen_1marriage  \\\n",
       "0            31.8      61.1            7.1                 25.6   \n",
       "1            29.3      63.9            6.8                 25.3   \n",
       "2            27.4      65.5            7.1                 24.7   \n",
       "3            33.5      59.6            6.9                 26.8   \n",
       "4            34.5      59.0            6.6                 27.1   \n",
       "\n",
       "   Taux_Analphabetisme  Taux_activite  densite_pop Nom_Province  \\\n",
       "0                 58.3           40.6   104.211162     AL HAOUZ   \n",
       "1                 68.1           37.6    35.839045    ESSAOUIRA   \n",
       "2                 78.2           48.0    49.530892    CHICHAOUA   \n",
       "3                 85.3           35.2    64.748213    CHICHAOUA   \n",
       "4                 59.4           32.1    58.652067    MARRAKECH   \n",
       "\n",
       "   population_active  \n",
       "0             4021.0  \n",
       "1             1249.0  \n",
       "2             3462.0  \n",
       "3             2802.0  \n",
       "4             3556.0  "
      ]
     },
     "execution_count": 72,
     "metadata": {},
     "output_type": "execute_result"
    }
   ],
   "source": [
    "dfc2.head()"
   ]
  },
  {
   "cell_type": "markdown",
   "metadata": {},
   "source": [
    "### 2. Collect new commune's code and name of each commune in dfc2 with Selenium "
   ]
  },
  {
   "cell_type": "markdown",
   "metadata": {},
   "source": [
    "get chrome browser driver from bin path"
   ]
  },
  {
   "cell_type": "code",
   "execution_count": 70,
   "metadata": {},
   "outputs": [],
   "source": [
    "browser = webdriver.Chrome()"
   ]
  },
  {
   "cell_type": "markdown",
   "metadata": {},
   "source": [
    "Get the website"
   ]
  },
  {
   "cell_type": "code",
   "execution_count": 71,
   "metadata": {},
   "outputs": [],
   "source": [
    "browser.get(\"http://rgphentableaux.hcp.ma/Default1/\")"
   ]
  },
  {
   "cell_type": "markdown",
   "metadata": {},
   "source": [
    "- When inspecting the page source code of the website, the names of all the communes are listed as options (tag) in 'COMMUNELIST' with their relative code as value of the option. We can get their names (text) and commune's code (value) in a dataframe 'df' and compare them to what we have in 'dfc2' and then add a new columns in 'dfc2' with the name and the new commune's code in the website database."
   ]
  },
  {
   "cell_type": "code",
   "execution_count": 72,
   "metadata": {},
   "outputs": [],
   "source": [
    "element = browser.find_element_by_name('COMMUNELIST')"
   ]
  },
  {
   "cell_type": "code",
   "execution_count": 73,
   "metadata": {},
   "outputs": [],
   "source": [
    "all_options = element.find_elements_by_tag_name(\"option\")"
   ]
  },
  {
   "cell_type": "code",
   "execution_count": 74,
   "metadata": {},
   "outputs": [
    {
     "data": {
      "text/plain": [
       "1687"
      ]
     },
     "execution_count": 74,
     "metadata": {},
     "output_type": "execute_result"
    }
   ],
   "source": [
    "len(all_options)"
   ]
  },
  {
   "cell_type": "code",
   "execution_count": 75,
   "metadata": {},
   "outputs": [],
   "source": [
    "##  First, let's create a random dataframe with 2 string columns and 1687 rows.\n",
    "df = pd.DataFrame(np.random.randint(0,100,size=(1687, 2)), columns=list('CN'))\n",
    "df['C'] =  df['C'].astype(str) \n",
    "df['N'] =  df['N'].astype(str) "
   ]
  },
  {
   "cell_type": "code",
   "execution_count": 76,
   "metadata": {},
   "outputs": [
    {
     "data": {
      "text/html": [
       "<div>\n",
       "<style scoped>\n",
       "    .dataframe tbody tr th:only-of-type {\n",
       "        vertical-align: middle;\n",
       "    }\n",
       "\n",
       "    .dataframe tbody tr th {\n",
       "        vertical-align: top;\n",
       "    }\n",
       "\n",
       "    .dataframe thead th {\n",
       "        text-align: right;\n",
       "    }\n",
       "</style>\n",
       "<table border=\"1\" class=\"dataframe\">\n",
       "  <thead>\n",
       "    <tr style=\"text-align: right;\">\n",
       "      <th></th>\n",
       "      <th>A</th>\n",
       "      <th>B</th>\n",
       "    </tr>\n",
       "  </thead>\n",
       "  <tbody>\n",
       "    <tr>\n",
       "      <th>0</th>\n",
       "      <td>001.01.01.</td>\n",
       "      <td>Agadir</td>\n",
       "    </tr>\n",
       "    <tr>\n",
       "      <th>1</th>\n",
       "      <td>001.05.01.</td>\n",
       "      <td>Amskroud</td>\n",
       "    </tr>\n",
       "    <tr>\n",
       "      <th>2</th>\n",
       "      <td>001.05.09.</td>\n",
       "      <td>Drargua</td>\n",
       "    </tr>\n",
       "    <tr>\n",
       "      <th>3</th>\n",
       "      <td>001.05.09.3.</td>\n",
       "      <td>Drargua (Centre)</td>\n",
       "    </tr>\n",
       "    <tr>\n",
       "      <th>4</th>\n",
       "      <td>001.05.11.</td>\n",
       "      <td>Idmine</td>\n",
       "    </tr>\n",
       "    <tr>\n",
       "      <th>5</th>\n",
       "      <td>001.07.03.</td>\n",
       "      <td>Aourir</td>\n",
       "    </tr>\n",
       "    <tr>\n",
       "      <th>6</th>\n",
       "      <td>001.07.03.3.</td>\n",
       "      <td>Aourir (Centre)</td>\n",
       "    </tr>\n",
       "    <tr>\n",
       "      <th>7</th>\n",
       "      <td>001.07.05.</td>\n",
       "      <td>Aqesri</td>\n",
       "    </tr>\n",
       "    <tr>\n",
       "      <th>8</th>\n",
       "      <td>001.07.07.</td>\n",
       "      <td>Aziar</td>\n",
       "    </tr>\n",
       "    <tr>\n",
       "      <th>9</th>\n",
       "      <td>001.07.13.</td>\n",
       "      <td>Imouzzer</td>\n",
       "    </tr>\n",
       "  </tbody>\n",
       "</table>\n",
       "</div>"
      ],
      "text/plain": [
       "              A                 B\n",
       "0    001.01.01.            Agadir\n",
       "1    001.05.01.          Amskroud\n",
       "2    001.05.09.           Drargua\n",
       "3  001.05.09.3.  Drargua (Centre)\n",
       "4    001.05.11.            Idmine\n",
       "5    001.07.03.            Aourir\n",
       "6  001.07.03.3.   Aourir (Centre)\n",
       "7    001.07.05.            Aqesri\n",
       "8    001.07.07.             Aziar\n",
       "9    001.07.13.          Imouzzer"
      ]
     },
     "execution_count": 76,
     "metadata": {},
     "output_type": "execute_result"
    }
   ],
   "source": [
    "##  Second, charge the new commune's code and names in df\n",
    "for i in range(0,1687) : \n",
    "    df.loc[i,'C']  = all_options[i].get_attribute('value') ## code \n",
    "    df.loc[i,'N']  = all_options[i].get_attribute('text')  ## name \n",
    "    \n",
    "df.head(10)"
   ]
  },
  {
   "cell_type": "code",
   "execution_count": 77,
   "metadata": {},
   "outputs": [],
   "source": [
    "##remove the last dot in each of the commune's code (alternative : use lambda directly in apply)\n",
    "def coup(x):\n",
    "    return (x[:-1])"
   ]
  },
  {
   "cell_type": "code",
   "execution_count": 78,
   "metadata": {},
   "outputs": [],
   "source": [
    "df['C'] = df['C'].apply(coup)   "
   ]
  },
  {
   "cell_type": "code",
   "execution_count": 79,
   "metadata": {},
   "outputs": [],
   "source": [
    "##Initiate the columns in dfc2 randomly \n",
    "dfc2['Nom_Commune_Site'] = dfc2['Nom_Commune'] \n",
    "dfc2['Code_Commune_2014'] = dfc2['Code_Commune']  \n",
    "## 3 Special cases to modify manually : 'AIT HKIM-AIT YZID', 'SKHOUR REHAMNA', 'SIDI GHANEM'\n",
    "dfc2.loc[17, 'Nom_Commune'] = 'AIT HKIM-AIT YZID'\n",
    "dfc2.loc[178, 'Nom_Commune'] = 'SKHOUR REHAMNA'\n"
   ]
  },
  {
   "cell_type": "code",
   "execution_count": 80,
   "metadata": {},
   "outputs": [],
   "source": [
    "##get the new commune's code. \n",
    "for i in range(0,217) : \n",
    "    for j in range (0,1687) :  ##casefold() : anti-case-sensitive\n",
    "        if (dfc2.loc[i, 'Nom_Commune'].casefold() == df.loc[j, 'N'].casefold()) : \n",
    "            dfc2.loc[i, 'Code_Commune_2014'] = df.loc[j, 'C'] \n",
    "\n",
    "##Sidi Ghanem is a special case, we have to modify it manually            \n",
    "dfc2.loc[165, 'Code_Commune_2014'] = '211.05.31'\n",
    "dfc2.loc[166, 'Code_Commune_2014'] = '161.05.15'\n",
    "\n",
    "##then get the commune's name in the website.\n",
    "for i in range(0,217) : \n",
    "    for j in range (0,1687) : \n",
    "        if (dfc2.loc[i, 'Code_Commune_2014'] == df.loc[j, 'C']) : \n",
    "            dfc2.loc[i, 'Nom_Commune_Site'] = df.loc[j, 'N'] \n",
    "\n",
    " "
   ]
  },
  {
   "cell_type": "code",
   "execution_count": 81,
   "metadata": {},
   "outputs": [
    {
     "data": {
      "text/html": [
       "<div>\n",
       "<style scoped>\n",
       "    .dataframe tbody tr th:only-of-type {\n",
       "        vertical-align: middle;\n",
       "    }\n",
       "\n",
       "    .dataframe tbody tr th {\n",
       "        vertical-align: top;\n",
       "    }\n",
       "\n",
       "    .dataframe thead th {\n",
       "        text-align: right;\n",
       "    }\n",
       "</style>\n",
       "<table border=\"1\" class=\"dataframe\">\n",
       "  <thead>\n",
       "    <tr style=\"text-align: right;\">\n",
       "      <th></th>\n",
       "      <th>Nom_Commune</th>\n",
       "      <th>Nom_Commune</th>\n",
       "      <th>Population</th>\n",
       "      <th>Nom_Commune_Site</th>\n",
       "      <th>Code_Commune_2014</th>\n",
       "      <th>Code_Commune</th>\n",
       "    </tr>\n",
       "  </thead>\n",
       "  <tbody>\n",
       "    <tr>\n",
       "      <th>0</th>\n",
       "      <td>ABADOU</td>\n",
       "      <td>ABADOU</td>\n",
       "      <td>9905</td>\n",
       "      <td>Abadou</td>\n",
       "      <td>041.11.01</td>\n",
       "      <td>041.03.01</td>\n",
       "    </tr>\n",
       "    <tr>\n",
       "      <th>1</th>\n",
       "      <td>ADAGHAS</td>\n",
       "      <td>ADAGHAS</td>\n",
       "      <td>3321</td>\n",
       "      <td>Adaghas</td>\n",
       "      <td>211.05.01</td>\n",
       "      <td>211.05.01</td>\n",
       "    </tr>\n",
       "    <tr>\n",
       "      <th>2</th>\n",
       "      <td>ADASSIL</td>\n",
       "      <td>ADASSIL</td>\n",
       "      <td>7212</td>\n",
       "      <td>Adassil</td>\n",
       "      <td>161.07.01</td>\n",
       "      <td>161.07.01</td>\n",
       "    </tr>\n",
       "    <tr>\n",
       "      <th>3</th>\n",
       "      <td>AFALLA ISSEN</td>\n",
       "      <td>AFALLA ISSEN</td>\n",
       "      <td>7961</td>\n",
       "      <td>Afalla Issen</td>\n",
       "      <td>161.05.01</td>\n",
       "      <td>161.05.01</td>\n",
       "    </tr>\n",
       "    <tr>\n",
       "      <th>4</th>\n",
       "      <td>AGAFAY</td>\n",
       "      <td>AGAFAY</td>\n",
       "      <td>11079</td>\n",
       "      <td>Agafay</td>\n",
       "      <td>351.05.01</td>\n",
       "      <td>351.05.01</td>\n",
       "    </tr>\n",
       "    <tr>\n",
       "      <th>5</th>\n",
       "      <td>AGHBAR</td>\n",
       "      <td>AGHBAR</td>\n",
       "      <td>4608</td>\n",
       "      <td>Aghbar</td>\n",
       "      <td>041.07.01</td>\n",
       "      <td>041.07.01</td>\n",
       "    </tr>\n",
       "    <tr>\n",
       "      <th>6</th>\n",
       "      <td>AGLIF</td>\n",
       "      <td>AGLIF</td>\n",
       "      <td>8934</td>\n",
       "      <td>Aglif</td>\n",
       "      <td>211.05.03</td>\n",
       "      <td>211.05.03</td>\n",
       "    </tr>\n",
       "    <tr>\n",
       "      <th>7</th>\n",
       "      <td>AGUERD</td>\n",
       "      <td>AGUERD</td>\n",
       "      <td>4917</td>\n",
       "      <td>Aguerd</td>\n",
       "      <td>211.05.05</td>\n",
       "      <td>211.05.05</td>\n",
       "    </tr>\n",
       "    <tr>\n",
       "      <th>8</th>\n",
       "      <td>AHDIL</td>\n",
       "      <td>AHDIL</td>\n",
       "      <td>11764</td>\n",
       "      <td>Ahdil</td>\n",
       "      <td>161.03.01</td>\n",
       "      <td>161.03.01</td>\n",
       "    </tr>\n",
       "    <tr>\n",
       "      <th>9</th>\n",
       "      <td>AIN TAZITOUNTE</td>\n",
       "      <td>AIN TAZITOUNTE</td>\n",
       "      <td>5947</td>\n",
       "      <td>Ain Tazitounte</td>\n",
       "      <td>161.05.03</td>\n",
       "      <td>161.05.03</td>\n",
       "    </tr>\n",
       "    <tr>\n",
       "      <th>10</th>\n",
       "      <td>AIT AADEL</td>\n",
       "      <td>AIT AADEL</td>\n",
       "      <td>6967</td>\n",
       "      <td>Ait Aadel</td>\n",
       "      <td>041.11.03</td>\n",
       "      <td>041.03.03</td>\n",
       "    </tr>\n",
       "    <tr>\n",
       "      <th>11</th>\n",
       "      <td>AIT AISSI IHAHANE</td>\n",
       "      <td>AIT AISSI IHAHANE</td>\n",
       "      <td>5437</td>\n",
       "      <td>Ait Aissi Ihahane</td>\n",
       "      <td>211.05.07</td>\n",
       "      <td>211.05.07</td>\n",
       "    </tr>\n",
       "    <tr>\n",
       "      <th>12</th>\n",
       "      <td>AIT DAOUD</td>\n",
       "      <td>AIT DAOUD</td>\n",
       "      <td>2497</td>\n",
       "      <td>Ait Daoud</td>\n",
       "      <td>211.01.01</td>\n",
       "      <td>211.01.01</td>\n",
       "    </tr>\n",
       "    <tr>\n",
       "      <th>13</th>\n",
       "      <td>AIT FASKA</td>\n",
       "      <td>AIT FASKA</td>\n",
       "      <td>19228</td>\n",
       "      <td>Ait Faska</td>\n",
       "      <td>041.03.05</td>\n",
       "      <td>041.03.05</td>\n",
       "    </tr>\n",
       "    <tr>\n",
       "      <th>14</th>\n",
       "      <td>AIT HADDOU YOUSSEF</td>\n",
       "      <td>AIT HADDOU YOUSSEF</td>\n",
       "      <td>5537</td>\n",
       "      <td>Ait Haddou Youssef</td>\n",
       "      <td>161.05.05</td>\n",
       "      <td>161.05.05</td>\n",
       "    </tr>\n",
       "    <tr>\n",
       "      <th>15</th>\n",
       "      <td>AIT HADI</td>\n",
       "      <td>AIT HADI</td>\n",
       "      <td>6313</td>\n",
       "      <td>Ait Hadi</td>\n",
       "      <td>161.03.03</td>\n",
       "      <td>161.03.03</td>\n",
       "    </tr>\n",
       "    <tr>\n",
       "      <th>16</th>\n",
       "      <td>AIT HAMMOU</td>\n",
       "      <td>AIT HAMMOU</td>\n",
       "      <td>7499</td>\n",
       "      <td>Ait Hammou</td>\n",
       "      <td>427.07.01</td>\n",
       "      <td>191.07.01</td>\n",
       "    </tr>\n",
       "    <tr>\n",
       "      <th>17</th>\n",
       "      <td>AIT HKIM-AIT YZID</td>\n",
       "      <td>AIT HKIM-AIT YZID</td>\n",
       "      <td>8112</td>\n",
       "      <td>Ait Hkim-Ait Yzid</td>\n",
       "      <td>041.11.07</td>\n",
       "      <td>041.03.07</td>\n",
       "    </tr>\n",
       "    <tr>\n",
       "      <th>18</th>\n",
       "      <td>AIT IMOUR</td>\n",
       "      <td>AIT IMOUR</td>\n",
       "      <td>12164</td>\n",
       "      <td>Ait Imour</td>\n",
       "      <td>351.05.03</td>\n",
       "      <td>351.05.03</td>\n",
       "    </tr>\n",
       "    <tr>\n",
       "      <th>19</th>\n",
       "      <td>AIT OURIR</td>\n",
       "      <td>AIT OURIR</td>\n",
       "      <td>19864</td>\n",
       "      <td>Ait Ourir</td>\n",
       "      <td>041.01.01</td>\n",
       "      <td>041.01.01</td>\n",
       "    </tr>\n",
       "    <tr>\n",
       "      <th>20</th>\n",
       "      <td>AIT SAID</td>\n",
       "      <td>AIT SAID</td>\n",
       "      <td>7081</td>\n",
       "      <td>Ait Said</td>\n",
       "      <td>211.03.01</td>\n",
       "      <td>211.03.01</td>\n",
       "    </tr>\n",
       "    <tr>\n",
       "      <th>21</th>\n",
       "      <td>AIT SIDI DAOUD</td>\n",
       "      <td>AIT SIDI DAOUD</td>\n",
       "      <td>19275</td>\n",
       "      <td>Ait Sidi Daoud</td>\n",
       "      <td>041.03.09</td>\n",
       "      <td>041.03.09</td>\n",
       "    </tr>\n",
       "    <tr>\n",
       "      <th>22</th>\n",
       "      <td>AIT TALEB</td>\n",
       "      <td>AIT TALEB</td>\n",
       "      <td>8871</td>\n",
       "      <td>Ait Taleb</td>\n",
       "      <td>427.07.03</td>\n",
       "      <td>191.07.03</td>\n",
       "    </tr>\n",
       "    <tr>\n",
       "      <th>23</th>\n",
       "      <td>AKARMA</td>\n",
       "      <td>AKARMA</td>\n",
       "      <td>5662</td>\n",
       "      <td>Akarma</td>\n",
       "      <td>427.09.01</td>\n",
       "      <td>191.09.01</td>\n",
       "    </tr>\n",
       "    <tr>\n",
       "      <th>24</th>\n",
       "      <td>ALOUIDANE</td>\n",
       "      <td>ALOUIDANE</td>\n",
       "      <td>20925</td>\n",
       "      <td>Alouidane</td>\n",
       "      <td>351.02.01</td>\n",
       "      <td>351.03.01</td>\n",
       "    </tr>\n",
       "    <tr>\n",
       "      <th>25</th>\n",
       "      <td>AMGHRAS</td>\n",
       "      <td>AMGHRAS</td>\n",
       "      <td>4222</td>\n",
       "      <td>Amghras</td>\n",
       "      <td>041.05.01</td>\n",
       "      <td>041.05.01</td>\n",
       "    </tr>\n",
       "    <tr>\n",
       "      <th>26</th>\n",
       "      <td>AMIZMIZ</td>\n",
       "      <td>AMIZMIZ</td>\n",
       "      <td>13650</td>\n",
       "      <td>Amizmiz</td>\n",
       "      <td>041.01.03</td>\n",
       "      <td>041.05.03</td>\n",
       "    </tr>\n",
       "    <tr>\n",
       "      <th>27</th>\n",
       "      <td>ANNAKHIL</td>\n",
       "      <td>ANNAKHIL</td>\n",
       "      <td>54111</td>\n",
       "      <td>Annakhil</td>\n",
       "      <td>351.01.03</td>\n",
       "      <td>351.01.03</td>\n",
       "    </tr>\n",
       "    <tr>\n",
       "      <th>28</th>\n",
       "      <td>ANOUGAL</td>\n",
       "      <td>ANOUGAL</td>\n",
       "      <td>4169</td>\n",
       "      <td>Anougal</td>\n",
       "      <td>041.05.05</td>\n",
       "      <td>041.05.05</td>\n",
       "    </tr>\n",
       "    <tr>\n",
       "      <th>29</th>\n",
       "      <td>AQERMOUD</td>\n",
       "      <td>AQERMOUD</td>\n",
       "      <td>15037</td>\n",
       "      <td>Aquermoud</td>\n",
       "      <td>211.03.03</td>\n",
       "      <td>211.03.03</td>\n",
       "    </tr>\n",
       "    <tr>\n",
       "      <th>30</th>\n",
       "      <td>ASNI</td>\n",
       "      <td>ASNI</td>\n",
       "      <td>18617</td>\n",
       "      <td>Asni</td>\n",
       "      <td>041.07.03</td>\n",
       "      <td>041.07.03</td>\n",
       "    </tr>\n",
       "    <tr>\n",
       "      <th>31</th>\n",
       "      <td>ASSAHRIJ</td>\n",
       "      <td>ASSAHRIJ</td>\n",
       "      <td>14165</td>\n",
       "      <td>Assahrij</td>\n",
       "      <td>191.05.01</td>\n",
       "      <td>191.05.01</td>\n",
       "    </tr>\n",
       "    <tr>\n",
       "      <th>32</th>\n",
       "      <td>ASSAIS</td>\n",
       "      <td>ASSAIS</td>\n",
       "      <td>7603</td>\n",
       "      <td>Assais</td>\n",
       "      <td>211.05.09</td>\n",
       "      <td>211.05.09</td>\n",
       "    </tr>\n",
       "    <tr>\n",
       "      <th>33</th>\n",
       "      <td>ASSIF EL MAL</td>\n",
       "      <td>ASSIF EL MAL</td>\n",
       "      <td>6711</td>\n",
       "      <td>Assif El Mal</td>\n",
       "      <td>161.07.03</td>\n",
       "      <td>161.07.03</td>\n",
       "    </tr>\n",
       "    <tr>\n",
       "      <th>34</th>\n",
       "      <td>AZGOUR</td>\n",
       "      <td>AZGOUR</td>\n",
       "      <td>6314</td>\n",
       "      <td>Azgour</td>\n",
       "      <td>041.05.07</td>\n",
       "      <td>041.05.07</td>\n",
       "    </tr>\n",
       "    <tr>\n",
       "      <th>35</th>\n",
       "      <td>BEN GUERIR</td>\n",
       "      <td>BEN GUERIR</td>\n",
       "      <td>62693</td>\n",
       "      <td>Ben Guerir</td>\n",
       "      <td>427.01.01</td>\n",
       "      <td>191.01.01</td>\n",
       "    </tr>\n",
       "    <tr>\n",
       "      <th>36</th>\n",
       "      <td>BIZDAD</td>\n",
       "      <td>BIZDAD</td>\n",
       "      <td>8533</td>\n",
       "      <td>Bizdad</td>\n",
       "      <td>211.05.11</td>\n",
       "      <td>211.05.11</td>\n",
       "    </tr>\n",
       "    <tr>\n",
       "      <th>37</th>\n",
       "      <td>BOUABOUT</td>\n",
       "      <td>BOUABOUT</td>\n",
       "      <td>12196</td>\n",
       "      <td>Bouabout</td>\n",
       "      <td>161.09.01</td>\n",
       "      <td>161.09.01</td>\n",
       "    </tr>\n",
       "    <tr>\n",
       "      <th>38</th>\n",
       "      <td>BOUABOUT AMDLANE</td>\n",
       "      <td>BOUABOUT AMDLANE</td>\n",
       "      <td>8226</td>\n",
       "      <td>Bouabout Amdlane</td>\n",
       "      <td>161.09.03</td>\n",
       "      <td>161.09.03</td>\n",
       "    </tr>\n",
       "    <tr>\n",
       "      <th>39</th>\n",
       "      <td>BOUCHANE</td>\n",
       "      <td>BOUCHANE</td>\n",
       "      <td>9554</td>\n",
       "      <td>Bouchane</td>\n",
       "      <td>427.07.05</td>\n",
       "      <td>191.07.05</td>\n",
       "    </tr>\n",
       "  </tbody>\n",
       "</table>\n",
       "</div>"
      ],
      "text/plain": [
       "           Nom_Commune         Nom_Commune  Population    Nom_Commune_Site  \\\n",
       "0               ABADOU              ABADOU        9905              Abadou   \n",
       "1              ADAGHAS             ADAGHAS        3321             Adaghas   \n",
       "2              ADASSIL             ADASSIL        7212             Adassil   \n",
       "3         AFALLA ISSEN        AFALLA ISSEN        7961        Afalla Issen   \n",
       "4               AGAFAY              AGAFAY       11079              Agafay   \n",
       "5               AGHBAR              AGHBAR        4608              Aghbar   \n",
       "6                AGLIF               AGLIF        8934               Aglif   \n",
       "7               AGUERD              AGUERD        4917              Aguerd   \n",
       "8                AHDIL               AHDIL       11764               Ahdil   \n",
       "9       AIN TAZITOUNTE      AIN TAZITOUNTE        5947      Ain Tazitounte   \n",
       "10           AIT AADEL           AIT AADEL        6967           Ait Aadel   \n",
       "11   AIT AISSI IHAHANE   AIT AISSI IHAHANE        5437   Ait Aissi Ihahane   \n",
       "12           AIT DAOUD           AIT DAOUD        2497           Ait Daoud   \n",
       "13           AIT FASKA           AIT FASKA       19228           Ait Faska   \n",
       "14  AIT HADDOU YOUSSEF  AIT HADDOU YOUSSEF        5537  Ait Haddou Youssef   \n",
       "15            AIT HADI            AIT HADI        6313            Ait Hadi   \n",
       "16          AIT HAMMOU          AIT HAMMOU        7499          Ait Hammou   \n",
       "17   AIT HKIM-AIT YZID   AIT HKIM-AIT YZID        8112   Ait Hkim-Ait Yzid   \n",
       "18           AIT IMOUR           AIT IMOUR       12164           Ait Imour   \n",
       "19           AIT OURIR           AIT OURIR       19864           Ait Ourir   \n",
       "20            AIT SAID            AIT SAID        7081            Ait Said   \n",
       "21      AIT SIDI DAOUD      AIT SIDI DAOUD       19275      Ait Sidi Daoud   \n",
       "22           AIT TALEB           AIT TALEB        8871           Ait Taleb   \n",
       "23              AKARMA              AKARMA        5662              Akarma   \n",
       "24           ALOUIDANE           ALOUIDANE       20925           Alouidane   \n",
       "25             AMGHRAS             AMGHRAS        4222             Amghras   \n",
       "26             AMIZMIZ             AMIZMIZ       13650             Amizmiz   \n",
       "27            ANNAKHIL            ANNAKHIL       54111            Annakhil   \n",
       "28             ANOUGAL             ANOUGAL        4169             Anougal   \n",
       "29            AQERMOUD            AQERMOUD       15037           Aquermoud   \n",
       "30                ASNI                ASNI       18617                Asni   \n",
       "31            ASSAHRIJ            ASSAHRIJ       14165            Assahrij   \n",
       "32              ASSAIS              ASSAIS        7603              Assais   \n",
       "33        ASSIF EL MAL        ASSIF EL MAL        6711        Assif El Mal   \n",
       "34              AZGOUR              AZGOUR        6314              Azgour   \n",
       "35          BEN GUERIR          BEN GUERIR       62693          Ben Guerir   \n",
       "36              BIZDAD              BIZDAD        8533              Bizdad   \n",
       "37            BOUABOUT            BOUABOUT       12196            Bouabout   \n",
       "38    BOUABOUT AMDLANE    BOUABOUT AMDLANE        8226    Bouabout Amdlane   \n",
       "39            BOUCHANE            BOUCHANE        9554            Bouchane   \n",
       "\n",
       "   Code_Commune_2014 Code_Commune  \n",
       "0          041.11.01    041.03.01  \n",
       "1          211.05.01    211.05.01  \n",
       "2          161.07.01    161.07.01  \n",
       "3          161.05.01    161.05.01  \n",
       "4          351.05.01    351.05.01  \n",
       "5          041.07.01    041.07.01  \n",
       "6          211.05.03    211.05.03  \n",
       "7          211.05.05    211.05.05  \n",
       "8          161.03.01    161.03.01  \n",
       "9          161.05.03    161.05.03  \n",
       "10         041.11.03    041.03.03  \n",
       "11         211.05.07    211.05.07  \n",
       "12         211.01.01    211.01.01  \n",
       "13         041.03.05    041.03.05  \n",
       "14         161.05.05    161.05.05  \n",
       "15         161.03.03    161.03.03  \n",
       "16         427.07.01    191.07.01  \n",
       "17         041.11.07    041.03.07  \n",
       "18         351.05.03    351.05.03  \n",
       "19         041.01.01    041.01.01  \n",
       "20         211.03.01    211.03.01  \n",
       "21         041.03.09    041.03.09  \n",
       "22         427.07.03    191.07.03  \n",
       "23         427.09.01    191.09.01  \n",
       "24         351.02.01    351.03.01  \n",
       "25         041.05.01    041.05.01  \n",
       "26         041.01.03    041.05.03  \n",
       "27         351.01.03    351.01.03  \n",
       "28         041.05.05    041.05.05  \n",
       "29         211.03.03    211.03.03  \n",
       "30         041.07.03    041.07.03  \n",
       "31         191.05.01    191.05.01  \n",
       "32         211.05.09    211.05.09  \n",
       "33         161.07.03    161.07.03  \n",
       "34         041.05.07    041.05.07  \n",
       "35         427.01.01    191.01.01  \n",
       "36         211.05.11    211.05.11  \n",
       "37         161.09.01    161.09.01  \n",
       "38         161.09.03    161.09.03  \n",
       "39         427.07.05    191.07.05  "
      ]
     },
     "execution_count": 81,
     "metadata": {},
     "output_type": "execute_result"
    }
   ],
   "source": [
    "dfc2[['Nom_Commune','Nom_Commune','Population','Nom_Commune_Site','Code_Commune_2014','Code_Commune']].head(20)"
   ]
  },
  {
   "cell_type": "markdown",
   "metadata": {},
   "source": [
    "### 3. Get the data : \n"
   ]
  },
  {
   "cell_type": "markdown",
   "metadata": {},
   "source": [
    "#### Method 1 : Requests "
   ]
  },
  {
   "cell_type": "markdown",
   "metadata": {},
   "source": [
    "When using Requests, we inspect the network of the website, not the html page source code. In order to know what url we will request and which of the arguments will help, we inspect the website and we launch manually a request and we get it's url, header, preview, response...  <br>\n",
    "Inspect and click network : \n",
    "![Network1](1.png)<br>\n",
    "Launch a random request : (e.g. 'Agadir') <br>\n",
    "![Network2](2.png)<br>\n",
    "Click on the request generated in network to get the url headers which used so both the client and the server know how to interpret the data and identify the reference url.<br> \n",
    "![Network3](3.png)<br>\n",
    "Click on 'Preview' to see the data in json format<br>\n",
    "![Network4](4.png)<br>\n",
    "\n",
    "\n",
    "\n"
   ]
  },
  {
   "cell_type": "code",
   "execution_count": 82,
   "metadata": {},
   "outputs": [],
   "source": [
    "import requests"
   ]
  },
  {
   "cell_type": "code",
   "execution_count": 83,
   "metadata": {},
   "outputs": [],
   "source": [
    "dfc2['Population_2014'] = dfc2['Population']\n",
    "dfc2['Age_Mariage_2014'] = dfc2['Population']\n",
    "dfc2['Taux_Activite_2014'] = dfc2['Population']\n",
    "dfc2['Taux_Analphabetisme_2014'] = dfc2['Population']"
   ]
  },
  {
   "cell_type": "code",
   "execution_count": 84,
   "metadata": {},
   "outputs": [],
   "source": [
    "for i in dfc2['Code_Commune_2014'] :\n",
    "\n",
    "    url = f\"http://rgphentableaux.hcp.ma/Default1/getDATA/?type=Commune&CGEO={i}.&them=2\" ##2 For demographic data\n",
    "    result = requests.get(url, headers={'Referer': 'http://rgphentableaux.hcp.ma/Default1/'})\n",
    "    dfc2.loc[dfc2['Code_Commune_2014'] == i , 'Population_2014'] = result.json()[0]['DATA2014']\n",
    "    dfc2.loc[dfc2['Code_Commune_2014'] == i , 'Age_Mariage_2014'] = result.json()[75]['DATA2014']\n",
    "    url = f\"http://rgphentableaux.hcp.ma/Default1/getDATA/?type=Commune&CGEO={i}.&them=4\" ##4 For Illiteracy rate\n",
    "    result = requests.get(url, headers={'Referer': 'http://rgphentableaux.hcp.ma/Default1/'})\n",
    "    dfc2.loc[dfc2['Code_Commune_2014'] == i , 'Taux_Analphabetisme_2014'] = result.json()[0]['DATA2014']\n",
    "    url = f\"http://rgphentableaux.hcp.ma/Default1/getDATA/?type=Commune&CGEO={i}.&them=6\" ##6 For Activity rate\n",
    "    result = requests.get(url, headers={'Referer': 'http://rgphentableaux.hcp.ma/Default1/'})\n",
    "    dfc2.loc[dfc2['Code_Commune_2014'] == i , 'Taux_Activite_2014'] = result.json()[6]['DATA2014']"
   ]
  },
  {
   "cell_type": "code",
   "execution_count": 85,
   "metadata": {},
   "outputs": [
    {
     "data": {
      "text/html": [
       "<div>\n",
       "<style scoped>\n",
       "    .dataframe tbody tr th:only-of-type {\n",
       "        vertical-align: middle;\n",
       "    }\n",
       "\n",
       "    .dataframe tbody tr th {\n",
       "        vertical-align: top;\n",
       "    }\n",
       "\n",
       "    .dataframe thead th {\n",
       "        text-align: right;\n",
       "    }\n",
       "</style>\n",
       "<table border=\"1\" class=\"dataframe\">\n",
       "  <thead>\n",
       "    <tr style=\"text-align: right;\">\n",
       "      <th></th>\n",
       "      <th>Code_Province</th>\n",
       "      <th>Code_Commune</th>\n",
       "      <th>Nom_Commune</th>\n",
       "      <th>Type_Commune</th>\n",
       "      <th>Surface_ha</th>\n",
       "      <th>Population</th>\n",
       "      <th>Pop_inf6_pc</th>\n",
       "      <th>Pop_615_pc</th>\n",
       "      <th>Pop_1560_pc</th>\n",
       "      <th>Pop_sup60_pc</th>\n",
       "      <th>...</th>\n",
       "      <th>Taux_activite</th>\n",
       "      <th>densite_pop</th>\n",
       "      <th>Nom_Province</th>\n",
       "      <th>population_active</th>\n",
       "      <th>Nom_Commune_Site</th>\n",
       "      <th>Code_Commune_2014</th>\n",
       "      <th>Population_2014</th>\n",
       "      <th>Age_Mariage_2014</th>\n",
       "      <th>Taux_Activite_2014</th>\n",
       "      <th>Taux_Analphabetisme_2014</th>\n",
       "    </tr>\n",
       "  </thead>\n",
       "  <tbody>\n",
       "    <tr>\n",
       "      <th>0</th>\n",
       "      <td>041</td>\n",
       "      <td>041.03.01</td>\n",
       "      <td>ABADOU</td>\n",
       "      <td>Rural</td>\n",
       "      <td>9504.74</td>\n",
       "      <td>9905</td>\n",
       "      <td>13.6</td>\n",
       "      <td>24.1</td>\n",
       "      <td>53.7</td>\n",
       "      <td>8.6</td>\n",
       "      <td>...</td>\n",
       "      <td>40.6</td>\n",
       "      <td>104.211162</td>\n",
       "      <td>AL HAOUZ</td>\n",
       "      <td>4021.0</td>\n",
       "      <td>Abadou</td>\n",
       "      <td>041.11.01</td>\n",
       "      <td>10602</td>\n",
       "      <td>26.8</td>\n",
       "      <td>48.8</td>\n",
       "      <td>44.2</td>\n",
       "    </tr>\n",
       "    <tr>\n",
       "      <th>1</th>\n",
       "      <td>211</td>\n",
       "      <td>211.05.01</td>\n",
       "      <td>ADAGHAS</td>\n",
       "      <td>Rural</td>\n",
       "      <td>9266.43</td>\n",
       "      <td>3321</td>\n",
       "      <td>17.2</td>\n",
       "      <td>24.3</td>\n",
       "      <td>48.5</td>\n",
       "      <td>10.0</td>\n",
       "      <td>...</td>\n",
       "      <td>37.6</td>\n",
       "      <td>35.839045</td>\n",
       "      <td>ESSAOUIRA</td>\n",
       "      <td>1249.0</td>\n",
       "      <td>Adaghas</td>\n",
       "      <td>211.05.01</td>\n",
       "      <td>2811</td>\n",
       "      <td>28.3</td>\n",
       "      <td>40.2</td>\n",
       "      <td>63</td>\n",
       "    </tr>\n",
       "    <tr>\n",
       "      <th>2</th>\n",
       "      <td>161</td>\n",
       "      <td>161.07.01</td>\n",
       "      <td>ADASSIL</td>\n",
       "      <td>Rural</td>\n",
       "      <td>14560.61</td>\n",
       "      <td>7212</td>\n",
       "      <td>15.4</td>\n",
       "      <td>26.9</td>\n",
       "      <td>49.8</td>\n",
       "      <td>7.9</td>\n",
       "      <td>...</td>\n",
       "      <td>48.0</td>\n",
       "      <td>49.530892</td>\n",
       "      <td>CHICHAOUA</td>\n",
       "      <td>3462.0</td>\n",
       "      <td>Adassil</td>\n",
       "      <td>161.07.01</td>\n",
       "      <td>7454</td>\n",
       "      <td>25.8</td>\n",
       "      <td>51.6</td>\n",
       "      <td>62.6</td>\n",
       "    </tr>\n",
       "    <tr>\n",
       "      <th>3</th>\n",
       "      <td>161</td>\n",
       "      <td>161.05.01</td>\n",
       "      <td>AFALLA ISSEN</td>\n",
       "      <td>Rural</td>\n",
       "      <td>12295.32</td>\n",
       "      <td>7961</td>\n",
       "      <td>15.4</td>\n",
       "      <td>25.5</td>\n",
       "      <td>51.5</td>\n",
       "      <td>7.6</td>\n",
       "      <td>...</td>\n",
       "      <td>35.2</td>\n",
       "      <td>64.748213</td>\n",
       "      <td>CHICHAOUA</td>\n",
       "      <td>2802.0</td>\n",
       "      <td>Afalla Issen</td>\n",
       "      <td>161.05.01</td>\n",
       "      <td>8129</td>\n",
       "      <td>27.3</td>\n",
       "      <td>38.1</td>\n",
       "      <td>60.6</td>\n",
       "    </tr>\n",
       "    <tr>\n",
       "      <th>4</th>\n",
       "      <td>351</td>\n",
       "      <td>351.05.01</td>\n",
       "      <td>AGAFAY</td>\n",
       "      <td>Rural</td>\n",
       "      <td>18889.36</td>\n",
       "      <td>11079</td>\n",
       "      <td>12.7</td>\n",
       "      <td>20.8</td>\n",
       "      <td>59.3</td>\n",
       "      <td>7.2</td>\n",
       "      <td>...</td>\n",
       "      <td>32.1</td>\n",
       "      <td>58.652067</td>\n",
       "      <td>MARRAKECH</td>\n",
       "      <td>3556.0</td>\n",
       "      <td>Agafay</td>\n",
       "      <td>351.05.01</td>\n",
       "      <td>15452</td>\n",
       "      <td>26.1</td>\n",
       "      <td>43.7</td>\n",
       "      <td>43.9</td>\n",
       "    </tr>\n",
       "    <tr>\n",
       "      <th>5</th>\n",
       "      <td>041</td>\n",
       "      <td>041.07.01</td>\n",
       "      <td>AGHBAR</td>\n",
       "      <td>Rural</td>\n",
       "      <td>24085.94</td>\n",
       "      <td>4608</td>\n",
       "      <td>18.4</td>\n",
       "      <td>25.8</td>\n",
       "      <td>48.4</td>\n",
       "      <td>7.4</td>\n",
       "      <td>...</td>\n",
       "      <td>32.3</td>\n",
       "      <td>19.131493</td>\n",
       "      <td>AL HAOUZ</td>\n",
       "      <td>1488.0</td>\n",
       "      <td>Aghbar</td>\n",
       "      <td>041.07.01</td>\n",
       "      <td>5182</td>\n",
       "      <td>23.1</td>\n",
       "      <td>71.6</td>\n",
       "      <td>55</td>\n",
       "    </tr>\n",
       "    <tr>\n",
       "      <th>6</th>\n",
       "      <td>211</td>\n",
       "      <td>211.05.03</td>\n",
       "      <td>AGLIF</td>\n",
       "      <td>Rural</td>\n",
       "      <td>19199.77</td>\n",
       "      <td>8934</td>\n",
       "      <td>15.7</td>\n",
       "      <td>25.3</td>\n",
       "      <td>49.0</td>\n",
       "      <td>9.9</td>\n",
       "      <td>...</td>\n",
       "      <td>28.0</td>\n",
       "      <td>46.531807</td>\n",
       "      <td>ESSAOUIRA</td>\n",
       "      <td>2502.0</td>\n",
       "      <td>Aglif</td>\n",
       "      <td>211.05.03</td>\n",
       "      <td>8028</td>\n",
       "      <td>25.8</td>\n",
       "      <td>34.8</td>\n",
       "      <td>60.8</td>\n",
       "    </tr>\n",
       "    <tr>\n",
       "      <th>7</th>\n",
       "      <td>211</td>\n",
       "      <td>211.05.05</td>\n",
       "      <td>AGUERD</td>\n",
       "      <td>Rural</td>\n",
       "      <td>8897.58</td>\n",
       "      <td>4917</td>\n",
       "      <td>12.7</td>\n",
       "      <td>20.2</td>\n",
       "      <td>55.2</td>\n",
       "      <td>11.9</td>\n",
       "      <td>...</td>\n",
       "      <td>42.1</td>\n",
       "      <td>55.262217</td>\n",
       "      <td>ESSAOUIRA</td>\n",
       "      <td>2070.0</td>\n",
       "      <td>Aguerd</td>\n",
       "      <td>211.05.05</td>\n",
       "      <td>5378</td>\n",
       "      <td>26.9</td>\n",
       "      <td>43.3</td>\n",
       "      <td>54.4</td>\n",
       "    </tr>\n",
       "    <tr>\n",
       "      <th>8</th>\n",
       "      <td>161</td>\n",
       "      <td>161.03.01</td>\n",
       "      <td>AHDIL</td>\n",
       "      <td>Rural</td>\n",
       "      <td>45308.68</td>\n",
       "      <td>11764</td>\n",
       "      <td>15.3</td>\n",
       "      <td>25.3</td>\n",
       "      <td>51.9</td>\n",
       "      <td>7.4</td>\n",
       "      <td>...</td>\n",
       "      <td>36.4</td>\n",
       "      <td>25.964120</td>\n",
       "      <td>CHICHAOUA</td>\n",
       "      <td>4282.0</td>\n",
       "      <td>Ahdil</td>\n",
       "      <td>161.03.01</td>\n",
       "      <td>11438</td>\n",
       "      <td>27.4</td>\n",
       "      <td>45.9</td>\n",
       "      <td>54</td>\n",
       "    </tr>\n",
       "    <tr>\n",
       "      <th>9</th>\n",
       "      <td>161</td>\n",
       "      <td>161.05.03</td>\n",
       "      <td>AIN TAZITOUNTE</td>\n",
       "      <td>Rural</td>\n",
       "      <td>9943.05</td>\n",
       "      <td>5947</td>\n",
       "      <td>15.0</td>\n",
       "      <td>24.6</td>\n",
       "      <td>51.1</td>\n",
       "      <td>9.3</td>\n",
       "      <td>...</td>\n",
       "      <td>31.2</td>\n",
       "      <td>59.810621</td>\n",
       "      <td>CHICHAOUA</td>\n",
       "      <td>1855.0</td>\n",
       "      <td>Ain Tazitounte</td>\n",
       "      <td>161.05.03</td>\n",
       "      <td>5509</td>\n",
       "      <td>27.2</td>\n",
       "      <td>40.8</td>\n",
       "      <td>56.3</td>\n",
       "    </tr>\n",
       "  </tbody>\n",
       "</table>\n",
       "<p>10 rows × 25 columns</p>\n",
       "</div>"
      ],
      "text/plain": [
       "  Code_Province Code_Commune     Nom_Commune Type_Commune  Surface_ha  \\\n",
       "0           041    041.03.01          ABADOU        Rural     9504.74   \n",
       "1           211    211.05.01         ADAGHAS        Rural     9266.43   \n",
       "2           161    161.07.01         ADASSIL        Rural    14560.61   \n",
       "3           161    161.05.01    AFALLA ISSEN        Rural    12295.32   \n",
       "4           351    351.05.01          AGAFAY        Rural    18889.36   \n",
       "5           041    041.07.01          AGHBAR        Rural    24085.94   \n",
       "6           211    211.05.03           AGLIF        Rural    19199.77   \n",
       "7           211    211.05.05          AGUERD        Rural     8897.58   \n",
       "8           161    161.03.01           AHDIL        Rural    45308.68   \n",
       "9           161    161.05.03  AIN TAZITOUNTE        Rural     9943.05   \n",
       "\n",
       "   Population  Pop_inf6_pc  Pop_615_pc  Pop_1560_pc  Pop_sup60_pc  ...  \\\n",
       "0        9905         13.6        24.1         53.7           8.6  ...   \n",
       "1        3321         17.2        24.3         48.5          10.0  ...   \n",
       "2        7212         15.4        26.9         49.8           7.9  ...   \n",
       "3        7961         15.4        25.5         51.5           7.6  ...   \n",
       "4       11079         12.7        20.8         59.3           7.2  ...   \n",
       "5        4608         18.4        25.8         48.4           7.4  ...   \n",
       "6        8934         15.7        25.3         49.0           9.9  ...   \n",
       "7        4917         12.7        20.2         55.2          11.9  ...   \n",
       "8       11764         15.3        25.3         51.9           7.4  ...   \n",
       "9        5947         15.0        24.6         51.1           9.3  ...   \n",
       "\n",
       "   Taux_activite  densite_pop  Nom_Province  population_active  \\\n",
       "0           40.6   104.211162      AL HAOUZ             4021.0   \n",
       "1           37.6    35.839045     ESSAOUIRA             1249.0   \n",
       "2           48.0    49.530892     CHICHAOUA             3462.0   \n",
       "3           35.2    64.748213     CHICHAOUA             2802.0   \n",
       "4           32.1    58.652067     MARRAKECH             3556.0   \n",
       "5           32.3    19.131493      AL HAOUZ             1488.0   \n",
       "6           28.0    46.531807     ESSAOUIRA             2502.0   \n",
       "7           42.1    55.262217     ESSAOUIRA             2070.0   \n",
       "8           36.4    25.964120     CHICHAOUA             4282.0   \n",
       "9           31.2    59.810621     CHICHAOUA             1855.0   \n",
       "\n",
       "   Nom_Commune_Site  Code_Commune_2014  Population_2014 Age_Mariage_2014  \\\n",
       "0            Abadou          041.11.01            10602             26.8   \n",
       "1           Adaghas          211.05.01             2811             28.3   \n",
       "2           Adassil          161.07.01             7454             25.8   \n",
       "3      Afalla Issen          161.05.01             8129             27.3   \n",
       "4            Agafay          351.05.01            15452             26.1   \n",
       "5            Aghbar          041.07.01             5182             23.1   \n",
       "6             Aglif          211.05.03             8028             25.8   \n",
       "7            Aguerd          211.05.05             5378             26.9   \n",
       "8             Ahdil          161.03.01            11438             27.4   \n",
       "9    Ain Tazitounte          161.05.03             5509             27.2   \n",
       "\n",
       "   Taux_Activite_2014 Taux_Analphabetisme_2014  \n",
       "0                48.8                     44.2  \n",
       "1                40.2                       63  \n",
       "2                51.6                     62.6  \n",
       "3                38.1                     60.6  \n",
       "4                43.7                     43.9  \n",
       "5                71.6                       55  \n",
       "6                34.8                     60.8  \n",
       "7                43.3                     54.4  \n",
       "8                45.9                       54  \n",
       "9                40.8                     56.3  \n",
       "\n",
       "[10 rows x 25 columns]"
      ]
     },
     "execution_count": 85,
     "metadata": {},
     "output_type": "execute_result"
    }
   ],
   "source": [
    "dfc2.head(10)"
   ]
  },
  {
   "cell_type": "code",
   "execution_count": 89,
   "metadata": {},
   "outputs": [
    {
     "data": {
      "text/html": [
       "<div>\n",
       "<style scoped>\n",
       "    .dataframe tbody tr th:only-of-type {\n",
       "        vertical-align: middle;\n",
       "    }\n",
       "\n",
       "    .dataframe tbody tr th {\n",
       "        vertical-align: top;\n",
       "    }\n",
       "\n",
       "    .dataframe thead th {\n",
       "        text-align: right;\n",
       "    }\n",
       "</style>\n",
       "<table border=\"1\" class=\"dataframe\">\n",
       "  <thead>\n",
       "    <tr style=\"text-align: right;\">\n",
       "      <th></th>\n",
       "      <th>Code_Province</th>\n",
       "      <th>Code_Commune</th>\n",
       "      <th>Nom_Commune</th>\n",
       "      <th>Type_Commune</th>\n",
       "      <th>Surface_ha</th>\n",
       "      <th>Population</th>\n",
       "      <th>Pop_inf6_pc</th>\n",
       "      <th>Pop_615_pc</th>\n",
       "      <th>Pop_1560_pc</th>\n",
       "      <th>Pop_sup60_pc</th>\n",
       "      <th>...</th>\n",
       "      <th>Taux_activite</th>\n",
       "      <th>densite_pop</th>\n",
       "      <th>Nom_Province</th>\n",
       "      <th>population_active</th>\n",
       "      <th>Nom_Commune_Site</th>\n",
       "      <th>Code_Commune_2014</th>\n",
       "      <th>Population_2014</th>\n",
       "      <th>Age_Mariage_2014</th>\n",
       "      <th>Taux_Activite_2014</th>\n",
       "      <th>Taux_Analphabetisme_2014</th>\n",
       "    </tr>\n",
       "  </thead>\n",
       "  <tbody>\n",
       "    <tr>\n",
       "      <th>157</th>\n",
       "      <td>041</td>\n",
       "      <td>041.05.17</td>\n",
       "      <td>SIDI BADHAJ</td>\n",
       "      <td>Rural</td>\n",
       "      <td>13341.68</td>\n",
       "      <td>6485</td>\n",
       "      <td>10.8</td>\n",
       "      <td>20.9</td>\n",
       "      <td>56.5</td>\n",
       "      <td>11.8</td>\n",
       "      <td>...</td>\n",
       "      <td>32.4</td>\n",
       "      <td>48.607072</td>\n",
       "      <td>AL HAOUZ</td>\n",
       "      <td>2101.0</td>\n",
       "      <td>Sidi Badhaj</td>\n",
       "      <td>041.05.17</td>\n",
       "      <td>5391</td>\n",
       "      <td>27.5</td>\n",
       "      <td>43.6</td>\n",
       "      <td>41.6</td>\n",
       "    </tr>\n",
       "    <tr>\n",
       "      <th>158</th>\n",
       "      <td>191</td>\n",
       "      <td>191.09.17</td>\n",
       "      <td>SIDI BOU OTHMANE</td>\n",
       "      <td>Rural</td>\n",
       "      <td>44610.07</td>\n",
       "      <td>17492</td>\n",
       "      <td>13.3</td>\n",
       "      <td>20.7</td>\n",
       "      <td>57.9</td>\n",
       "      <td>8.1</td>\n",
       "      <td>...</td>\n",
       "      <td>39.0</td>\n",
       "      <td>39.210878</td>\n",
       "      <td>KELAA SERAGHNA</td>\n",
       "      <td>6822.0</td>\n",
       "      <td>Sidi Bou Othmane</td>\n",
       "      <td>427.01.17</td>\n",
       "      <td>9181</td>\n",
       "      <td>26.7</td>\n",
       "      <td>45.6</td>\n",
       "      <td>32.6</td>\n",
       "    </tr>\n",
       "    <tr>\n",
       "      <th>159</th>\n",
       "      <td>191</td>\n",
       "      <td>191.09.15</td>\n",
       "      <td>SIDI BOUBKER</td>\n",
       "      <td>Rural</td>\n",
       "      <td>21667.14</td>\n",
       "      <td>6398</td>\n",
       "      <td>12.0</td>\n",
       "      <td>21.5</td>\n",
       "      <td>57.2</td>\n",
       "      <td>9.3</td>\n",
       "      <td>...</td>\n",
       "      <td>30.3</td>\n",
       "      <td>29.528586</td>\n",
       "      <td>KELAA SERAGHNA</td>\n",
       "      <td>1939.0</td>\n",
       "      <td>Sidi Boubker</td>\n",
       "      <td>427.09.15</td>\n",
       "      <td>6145</td>\n",
       "      <td>25.7</td>\n",
       "      <td>44.6</td>\n",
       "      <td>52</td>\n",
       "    </tr>\n",
       "    <tr>\n",
       "      <th>160</th>\n",
       "      <td>211</td>\n",
       "      <td>211.03.39</td>\n",
       "      <td>SIDI BOULAALAM</td>\n",
       "      <td>Rural</td>\n",
       "      <td>6899.67</td>\n",
       "      <td>7880</td>\n",
       "      <td>15.3</td>\n",
       "      <td>23.4</td>\n",
       "      <td>51.0</td>\n",
       "      <td>10.3</td>\n",
       "      <td>...</td>\n",
       "      <td>30.2</td>\n",
       "      <td>114.208361</td>\n",
       "      <td>ESSAOUIRA</td>\n",
       "      <td>2380.0</td>\n",
       "      <td>Sidi Boulaalam</td>\n",
       "      <td>211.03.39</td>\n",
       "      <td>8142</td>\n",
       "      <td>24.8</td>\n",
       "      <td>51</td>\n",
       "      <td>56</td>\n",
       "    </tr>\n",
       "    <tr>\n",
       "      <th>161</th>\n",
       "      <td>161</td>\n",
       "      <td>161.03.13</td>\n",
       "      <td>SIDI BOUZID ARRAGRAGUI</td>\n",
       "      <td>Rural</td>\n",
       "      <td>7484.84</td>\n",
       "      <td>9348</td>\n",
       "      <td>12.5</td>\n",
       "      <td>19.7</td>\n",
       "      <td>59.0</td>\n",
       "      <td>8.8</td>\n",
       "      <td>...</td>\n",
       "      <td>33.1</td>\n",
       "      <td>124.892449</td>\n",
       "      <td>CHICHAOUA</td>\n",
       "      <td>3094.0</td>\n",
       "      <td>Sidi Bouzid Arragragui</td>\n",
       "      <td>161.03.13</td>\n",
       "      <td>8935</td>\n",
       "      <td>27.4</td>\n",
       "      <td>43.9</td>\n",
       "      <td>45.4</td>\n",
       "    </tr>\n",
       "    <tr>\n",
       "      <th>162</th>\n",
       "      <td>191</td>\n",
       "      <td>191.03.35</td>\n",
       "      <td>SIDI EL HATTAB</td>\n",
       "      <td>Rural</td>\n",
       "      <td>21008.24</td>\n",
       "      <td>8183</td>\n",
       "      <td>14.3</td>\n",
       "      <td>22.6</td>\n",
       "      <td>55.4</td>\n",
       "      <td>7.6</td>\n",
       "      <td>...</td>\n",
       "      <td>33.7</td>\n",
       "      <td>38.951383</td>\n",
       "      <td>KELAA SERAGHNA</td>\n",
       "      <td>2758.0</td>\n",
       "      <td>Sidi El Hattab</td>\n",
       "      <td>191.03.35</td>\n",
       "      <td>9421</td>\n",
       "      <td>24.4</td>\n",
       "      <td>48.7</td>\n",
       "      <td>53.3</td>\n",
       "    </tr>\n",
       "    <tr>\n",
       "      <th>163</th>\n",
       "      <td>211</td>\n",
       "      <td>211.05.29</td>\n",
       "      <td>SIDI EL JAZOULI</td>\n",
       "      <td>Rural</td>\n",
       "      <td>14832.10</td>\n",
       "      <td>7360</td>\n",
       "      <td>12.4</td>\n",
       "      <td>21.9</td>\n",
       "      <td>54.6</td>\n",
       "      <td>11.2</td>\n",
       "      <td>...</td>\n",
       "      <td>30.6</td>\n",
       "      <td>49.622103</td>\n",
       "      <td>ESSAOUIRA</td>\n",
       "      <td>2252.0</td>\n",
       "      <td>Sidi El Jazouli</td>\n",
       "      <td>211.05.29</td>\n",
       "      <td>6462</td>\n",
       "      <td>26.7</td>\n",
       "      <td>41</td>\n",
       "      <td>62.4</td>\n",
       "    </tr>\n",
       "    <tr>\n",
       "      <th>164</th>\n",
       "      <td>191</td>\n",
       "      <td>191.07.19</td>\n",
       "      <td>SIDI GHANEM</td>\n",
       "      <td>Rural</td>\n",
       "      <td>31154.05</td>\n",
       "      <td>12159</td>\n",
       "      <td>13.5</td>\n",
       "      <td>24.6</td>\n",
       "      <td>53.2</td>\n",
       "      <td>8.7</td>\n",
       "      <td>...</td>\n",
       "      <td>48.6</td>\n",
       "      <td>39.028634</td>\n",
       "      <td>KELAA SERAGHNA</td>\n",
       "      <td>5909.0</td>\n",
       "      <td>Sidi Ghanem</td>\n",
       "      <td>427.07.19</td>\n",
       "      <td>10099</td>\n",
       "      <td>26.1</td>\n",
       "      <td>53.5</td>\n",
       "      <td>68</td>\n",
       "    </tr>\n",
       "    <tr>\n",
       "      <th>165</th>\n",
       "      <td>211</td>\n",
       "      <td>211.05.31</td>\n",
       "      <td>SIDI GHANEM</td>\n",
       "      <td>Rural</td>\n",
       "      <td>8595.16</td>\n",
       "      <td>5081</td>\n",
       "      <td>12.8</td>\n",
       "      <td>21.5</td>\n",
       "      <td>55.3</td>\n",
       "      <td>10.5</td>\n",
       "      <td>...</td>\n",
       "      <td>29.9</td>\n",
       "      <td>59.114665</td>\n",
       "      <td>ESSAOUIRA</td>\n",
       "      <td>1519.0</td>\n",
       "      <td>Sidi Ghanem</td>\n",
       "      <td>427.07.19</td>\n",
       "      <td>10099</td>\n",
       "      <td>26.1</td>\n",
       "      <td>53.5</td>\n",
       "      <td>68</td>\n",
       "    </tr>\n",
       "    <tr>\n",
       "      <th>166</th>\n",
       "      <td>161</td>\n",
       "      <td>161.05.15</td>\n",
       "      <td>SIDI GHANEM</td>\n",
       "      <td>Rural</td>\n",
       "      <td>14153.74</td>\n",
       "      <td>8665</td>\n",
       "      <td>16.1</td>\n",
       "      <td>22.8</td>\n",
       "      <td>52.8</td>\n",
       "      <td>8.3</td>\n",
       "      <td>...</td>\n",
       "      <td>35.2</td>\n",
       "      <td>61.220568</td>\n",
       "      <td>CHICHAOUA</td>\n",
       "      <td>3050.0</td>\n",
       "      <td>Sidi Ghanem</td>\n",
       "      <td>427.07.19</td>\n",
       "      <td>10099</td>\n",
       "      <td>26.1</td>\n",
       "      <td>53.5</td>\n",
       "      <td>68</td>\n",
       "    </tr>\n",
       "    <tr>\n",
       "      <th>167</th>\n",
       "      <td>211</td>\n",
       "      <td>211.05.35</td>\n",
       "      <td>SIDI HMAD OU HAMED</td>\n",
       "      <td>Rural</td>\n",
       "      <td>9131.95</td>\n",
       "      <td>4301</td>\n",
       "      <td>12.2</td>\n",
       "      <td>19.5</td>\n",
       "      <td>54.5</td>\n",
       "      <td>13.9</td>\n",
       "      <td>...</td>\n",
       "      <td>49.1</td>\n",
       "      <td>47.098374</td>\n",
       "      <td>ESSAOUIRA</td>\n",
       "      <td>2112.0</td>\n",
       "      <td>Sidi Hmad Ou Hamed</td>\n",
       "      <td>211.05.35</td>\n",
       "      <td>4034</td>\n",
       "      <td>27.2</td>\n",
       "      <td>41</td>\n",
       "      <td>60.1</td>\n",
       "    </tr>\n",
       "    <tr>\n",
       "      <th>168</th>\n",
       "      <td>211</td>\n",
       "      <td>211.05.33</td>\n",
       "      <td>SIDI HMAD OU MBAREK</td>\n",
       "      <td>Rural</td>\n",
       "      <td>11335.56</td>\n",
       "      <td>6178</td>\n",
       "      <td>14.4</td>\n",
       "      <td>21.6</td>\n",
       "      <td>52.7</td>\n",
       "      <td>11.3</td>\n",
       "      <td>...</td>\n",
       "      <td>51.2</td>\n",
       "      <td>54.501057</td>\n",
       "      <td>ESSAOUIRA</td>\n",
       "      <td>3163.0</td>\n",
       "      <td>Sidi H'Mad Ou M'Barek</td>\n",
       "      <td>211.05.33</td>\n",
       "      <td>5463</td>\n",
       "      <td>27.2</td>\n",
       "      <td>36.9</td>\n",
       "      <td>51.6</td>\n",
       "    </tr>\n",
       "    <tr>\n",
       "      <th>169</th>\n",
       "      <td>211</td>\n",
       "      <td>211.03.41</td>\n",
       "      <td>SIDI ISHAQ</td>\n",
       "      <td>Rural</td>\n",
       "      <td>11360.00</td>\n",
       "      <td>9553</td>\n",
       "      <td>13.2</td>\n",
       "      <td>22.6</td>\n",
       "      <td>54.2</td>\n",
       "      <td>9.9</td>\n",
       "      <td>...</td>\n",
       "      <td>39.0</td>\n",
       "      <td>84.093310</td>\n",
       "      <td>ESSAOUIRA</td>\n",
       "      <td>3726.0</td>\n",
       "      <td>Sidi Ishaq</td>\n",
       "      <td>211.03.41</td>\n",
       "      <td>9773</td>\n",
       "      <td>26.3</td>\n",
       "      <td>47.8</td>\n",
       "      <td>56.7</td>\n",
       "    </tr>\n",
       "    <tr>\n",
       "      <th>170</th>\n",
       "      <td>211</td>\n",
       "      <td>211.05.37</td>\n",
       "      <td>SIDI KAOUKI</td>\n",
       "      <td>Rural</td>\n",
       "      <td>7188.68</td>\n",
       "      <td>4335</td>\n",
       "      <td>12.6</td>\n",
       "      <td>18.7</td>\n",
       "      <td>57.3</td>\n",
       "      <td>11.4</td>\n",
       "      <td>...</td>\n",
       "      <td>39.4</td>\n",
       "      <td>60.303143</td>\n",
       "      <td>ESSAOUIRA</td>\n",
       "      <td>1708.0</td>\n",
       "      <td>Sidi Kaouki</td>\n",
       "      <td>211.05.37</td>\n",
       "      <td>4625</td>\n",
       "      <td>28.1</td>\n",
       "      <td>45.6</td>\n",
       "      <td>49.1</td>\n",
       "    </tr>\n",
       "    <tr>\n",
       "      <th>171</th>\n",
       "      <td>211</td>\n",
       "      <td>211.03.43</td>\n",
       "      <td>SIDI LAAROUSSI</td>\n",
       "      <td>Rural</td>\n",
       "      <td>24642.74</td>\n",
       "      <td>13203</td>\n",
       "      <td>14.8</td>\n",
       "      <td>24.4</td>\n",
       "      <td>51.2</td>\n",
       "      <td>9.6</td>\n",
       "      <td>...</td>\n",
       "      <td>39.9</td>\n",
       "      <td>53.577646</td>\n",
       "      <td>ESSAOUIRA</td>\n",
       "      <td>5268.0</td>\n",
       "      <td>Sidi Laaroussi</td>\n",
       "      <td>211.03.43</td>\n",
       "      <td>12357</td>\n",
       "      <td>26.4</td>\n",
       "      <td>48.2</td>\n",
       "      <td>59.7</td>\n",
       "    </tr>\n",
       "    <tr>\n",
       "      <th>172</th>\n",
       "      <td>191</td>\n",
       "      <td>191.07.21</td>\n",
       "      <td>SIDI MANSOUR</td>\n",
       "      <td>Rural</td>\n",
       "      <td>15991.83</td>\n",
       "      <td>6318</td>\n",
       "      <td>12.6</td>\n",
       "      <td>22.9</td>\n",
       "      <td>55.8</td>\n",
       "      <td>8.7</td>\n",
       "      <td>...</td>\n",
       "      <td>39.4</td>\n",
       "      <td>39.507674</td>\n",
       "      <td>KELAA SERAGHNA</td>\n",
       "      <td>2489.0</td>\n",
       "      <td>Sidi Mansour</td>\n",
       "      <td>427.07.21</td>\n",
       "      <td>5488</td>\n",
       "      <td>27</td>\n",
       "      <td>49</td>\n",
       "      <td>62.6</td>\n",
       "    </tr>\n",
       "    <tr>\n",
       "      <th>173</th>\n",
       "      <td>161</td>\n",
       "      <td>161.03.15</td>\n",
       "      <td>SIDI MHAMED DALIL</td>\n",
       "      <td>Rural</td>\n",
       "      <td>21800.91</td>\n",
       "      <td>4749</td>\n",
       "      <td>13.4</td>\n",
       "      <td>23.0</td>\n",
       "      <td>54.8</td>\n",
       "      <td>8.9</td>\n",
       "      <td>...</td>\n",
       "      <td>38.0</td>\n",
       "      <td>21.783494</td>\n",
       "      <td>CHICHAOUA</td>\n",
       "      <td>1805.0</td>\n",
       "      <td>Sidi M'Hamed Dalil</td>\n",
       "      <td>161.03.15</td>\n",
       "      <td>5636</td>\n",
       "      <td>27.1</td>\n",
       "      <td>44.5</td>\n",
       "      <td>49.9</td>\n",
       "    </tr>\n",
       "    <tr>\n",
       "      <th>174</th>\n",
       "      <td>211</td>\n",
       "      <td>211.03.45</td>\n",
       "      <td>SIDI MHAMED OU MARZOUQ</td>\n",
       "      <td>Rural</td>\n",
       "      <td>17643.51</td>\n",
       "      <td>6088</td>\n",
       "      <td>13.9</td>\n",
       "      <td>22.9</td>\n",
       "      <td>53.8</td>\n",
       "      <td>9.4</td>\n",
       "      <td>...</td>\n",
       "      <td>37.5</td>\n",
       "      <td>34.505606</td>\n",
       "      <td>ESSAOUIRA</td>\n",
       "      <td>2283.0</td>\n",
       "      <td>Sidi M'Hamed Ou Marzouq</td>\n",
       "      <td>211.03.45</td>\n",
       "      <td>5341</td>\n",
       "      <td>26</td>\n",
       "      <td>50.9</td>\n",
       "      <td>58.3</td>\n",
       "    </tr>\n",
       "    <tr>\n",
       "      <th>175</th>\n",
       "      <td>191</td>\n",
       "      <td>191.03.37</td>\n",
       "      <td>SIDI MOUSSA</td>\n",
       "      <td>Rural</td>\n",
       "      <td>7850.73</td>\n",
       "      <td>9260</td>\n",
       "      <td>15.8</td>\n",
       "      <td>22.3</td>\n",
       "      <td>54.0</td>\n",
       "      <td>7.8</td>\n",
       "      <td>...</td>\n",
       "      <td>35.3</td>\n",
       "      <td>117.950815</td>\n",
       "      <td>KELAA SERAGHNA</td>\n",
       "      <td>3269.0</td>\n",
       "      <td>Sidi Moussa</td>\n",
       "      <td>191.03.37</td>\n",
       "      <td>9684</td>\n",
       "      <td>25</td>\n",
       "      <td>40.2</td>\n",
       "      <td>44.3</td>\n",
       "    </tr>\n",
       "    <tr>\n",
       "      <th>176</th>\n",
       "      <td>191</td>\n",
       "      <td>191.01.07</td>\n",
       "      <td>SIDI RAHHAL</td>\n",
       "      <td>Urbain</td>\n",
       "      <td>1571.86</td>\n",
       "      <td>6352</td>\n",
       "      <td>9.9</td>\n",
       "      <td>18.9</td>\n",
       "      <td>61.7</td>\n",
       "      <td>9.4</td>\n",
       "      <td>...</td>\n",
       "      <td>30.9</td>\n",
       "      <td>404.107236</td>\n",
       "      <td>KELAA SERAGHNA</td>\n",
       "      <td>1963.0</td>\n",
       "      <td>Sidi Rahal</td>\n",
       "      <td>191.01.07</td>\n",
       "      <td>9857</td>\n",
       "      <td>28.5</td>\n",
       "      <td>44.1</td>\n",
       "      <td>36.2</td>\n",
       "    </tr>\n",
       "    <tr>\n",
       "      <th>177</th>\n",
       "      <td>351</td>\n",
       "      <td>351.01.11</td>\n",
       "      <td>SIDI YOUSSEF BEN ALI</td>\n",
       "      <td>Urbain</td>\n",
       "      <td>1407.14</td>\n",
       "      <td>124928</td>\n",
       "      <td>10.5</td>\n",
       "      <td>15.9</td>\n",
       "      <td>65.0</td>\n",
       "      <td>8.7</td>\n",
       "      <td>...</td>\n",
       "      <td>37.5</td>\n",
       "      <td>8878.150006</td>\n",
       "      <td>MARRAKECH</td>\n",
       "      <td>46848.0</td>\n",
       "      <td>Sidi Youssef Ben Ali</td>\n",
       "      <td>351.01.11</td>\n",
       "      <td>122866</td>\n",
       "      <td>29.8</td>\n",
       "      <td>49.5</td>\n",
       "      <td>27.4</td>\n",
       "    </tr>\n",
       "    <tr>\n",
       "      <th>178</th>\n",
       "      <td>191</td>\n",
       "      <td>191.07.23</td>\n",
       "      <td>SKHOUR REHAMNA</td>\n",
       "      <td>Rural</td>\n",
       "      <td>29875.11</td>\n",
       "      <td>14341</td>\n",
       "      <td>12.5</td>\n",
       "      <td>21.1</td>\n",
       "      <td>57.5</td>\n",
       "      <td>8.9</td>\n",
       "      <td>...</td>\n",
       "      <td>33.1</td>\n",
       "      <td>48.003171</td>\n",
       "      <td>KELAA SERAGHNA</td>\n",
       "      <td>4747.0</td>\n",
       "      <td>Skhour Rehamna</td>\n",
       "      <td>427.07.23</td>\n",
       "      <td>15453</td>\n",
       "      <td>26.9</td>\n",
       "      <td>47</td>\n",
       "      <td>46.2</td>\n",
       "    </tr>\n",
       "    <tr>\n",
       "      <th>179</th>\n",
       "      <td>191</td>\n",
       "      <td>191.07.25</td>\n",
       "      <td>SKOURA LHADRA</td>\n",
       "      <td>Rural</td>\n",
       "      <td>30300.07</td>\n",
       "      <td>8942</td>\n",
       "      <td>13.6</td>\n",
       "      <td>24.2</td>\n",
       "      <td>54.2</td>\n",
       "      <td>8.0</td>\n",
       "      <td>...</td>\n",
       "      <td>36.5</td>\n",
       "      <td>29.511483</td>\n",
       "      <td>KELAA SERAGHNA</td>\n",
       "      <td>3264.0</td>\n",
       "      <td>Skoura Lhadra</td>\n",
       "      <td>427.07.25</td>\n",
       "      <td>8865</td>\n",
       "      <td>24.7</td>\n",
       "      <td>50.9</td>\n",
       "      <td>60.6</td>\n",
       "    </tr>\n",
       "    <tr>\n",
       "      <th>180</th>\n",
       "      <td>211</td>\n",
       "      <td>211.05.39</td>\n",
       "      <td>SMIMOU</td>\n",
       "      <td>Rural</td>\n",
       "      <td>5991.05</td>\n",
       "      <td>7090</td>\n",
       "      <td>13.9</td>\n",
       "      <td>22.6</td>\n",
       "      <td>54.2</td>\n",
       "      <td>9.3</td>\n",
       "      <td>...</td>\n",
       "      <td>28.4</td>\n",
       "      <td>118.343195</td>\n",
       "      <td>ESSAOUIRA</td>\n",
       "      <td>2014.0</td>\n",
       "      <td>Smimou</td>\n",
       "      <td>211.05.39</td>\n",
       "      <td>8026</td>\n",
       "      <td>26</td>\n",
       "      <td>40.7</td>\n",
       "      <td>45.2</td>\n",
       "    </tr>\n",
       "    <tr>\n",
       "      <th>181</th>\n",
       "      <td>351</td>\n",
       "      <td>351.05.11</td>\n",
       "      <td>SOUIHLA</td>\n",
       "      <td>Rural</td>\n",
       "      <td>9927.04</td>\n",
       "      <td>19295</td>\n",
       "      <td>13.7</td>\n",
       "      <td>19.9</td>\n",
       "      <td>59.0</td>\n",
       "      <td>7.3</td>\n",
       "      <td>...</td>\n",
       "      <td>35.8</td>\n",
       "      <td>194.368110</td>\n",
       "      <td>MARRAKECH</td>\n",
       "      <td>6908.0</td>\n",
       "      <td>Souihla</td>\n",
       "      <td>351.07.11</td>\n",
       "      <td>28164</td>\n",
       "      <td>26</td>\n",
       "      <td>47.2</td>\n",
       "      <td>37.4</td>\n",
       "    </tr>\n",
       "    <tr>\n",
       "      <th>182</th>\n",
       "      <td>191</td>\n",
       "      <td>191.05.29</td>\n",
       "      <td>SOUR EL AAZ</td>\n",
       "      <td>Rural</td>\n",
       "      <td>4378.44</td>\n",
       "      <td>3910</td>\n",
       "      <td>12.7</td>\n",
       "      <td>20.0</td>\n",
       "      <td>57.8</td>\n",
       "      <td>9.5</td>\n",
       "      <td>...</td>\n",
       "      <td>33.5</td>\n",
       "      <td>89.301212</td>\n",
       "      <td>KELAA SERAGHNA</td>\n",
       "      <td>1310.0</td>\n",
       "      <td>Sour El Aaz</td>\n",
       "      <td>191.05.29</td>\n",
       "      <td>3850</td>\n",
       "      <td>26.7</td>\n",
       "      <td>42.4</td>\n",
       "      <td>39.4</td>\n",
       "    </tr>\n",
       "    <tr>\n",
       "      <th>183</th>\n",
       "      <td>041</td>\n",
       "      <td>041.09.07</td>\n",
       "      <td>STI FADMA</td>\n",
       "      <td>Rural</td>\n",
       "      <td>32227.47</td>\n",
       "      <td>22275</td>\n",
       "      <td>16.0</td>\n",
       "      <td>23.8</td>\n",
       "      <td>52.9</td>\n",
       "      <td>7.2</td>\n",
       "      <td>...</td>\n",
       "      <td>36.8</td>\n",
       "      <td>69.118054</td>\n",
       "      <td>AL HAOUZ</td>\n",
       "      <td>8197.0</td>\n",
       "      <td>Sti Fadma</td>\n",
       "      <td>041.09.07</td>\n",
       "      <td>24120</td>\n",
       "      <td>26.2</td>\n",
       "      <td>44.3</td>\n",
       "      <td>51.6</td>\n",
       "    </tr>\n",
       "    <tr>\n",
       "      <th>184</th>\n",
       "      <td>211</td>\n",
       "      <td>211.05.41</td>\n",
       "      <td>TAFEDNA</td>\n",
       "      <td>Rural</td>\n",
       "      <td>10458.52</td>\n",
       "      <td>5234</td>\n",
       "      <td>13.0</td>\n",
       "      <td>21.8</td>\n",
       "      <td>56.6</td>\n",
       "      <td>8.6</td>\n",
       "      <td>...</td>\n",
       "      <td>38.7</td>\n",
       "      <td>50.045322</td>\n",
       "      <td>ESSAOUIRA</td>\n",
       "      <td>2026.0</td>\n",
       "      <td>Tafedna</td>\n",
       "      <td>211.05.41</td>\n",
       "      <td>5617</td>\n",
       "      <td>26.8</td>\n",
       "      <td>44.9</td>\n",
       "      <td>49.8</td>\n",
       "    </tr>\n",
       "    <tr>\n",
       "      <th>185</th>\n",
       "      <td>211</td>\n",
       "      <td>211.03.47</td>\n",
       "      <td>TAFETACHTE</td>\n",
       "      <td>Rural</td>\n",
       "      <td>6649.69</td>\n",
       "      <td>7110</td>\n",
       "      <td>13.7</td>\n",
       "      <td>21.9</td>\n",
       "      <td>55.6</td>\n",
       "      <td>8.8</td>\n",
       "      <td>...</td>\n",
       "      <td>32.6</td>\n",
       "      <td>106.922278</td>\n",
       "      <td>ESSAOUIRA</td>\n",
       "      <td>2318.0</td>\n",
       "      <td>Tafetachte</td>\n",
       "      <td>211.03.47</td>\n",
       "      <td>7293</td>\n",
       "      <td>26.1</td>\n",
       "      <td>47.7</td>\n",
       "      <td>48.2</td>\n",
       "    </tr>\n",
       "    <tr>\n",
       "      <th>186</th>\n",
       "      <td>041</td>\n",
       "      <td>041.09.09</td>\n",
       "      <td>TAHANNAOUT</td>\n",
       "      <td>Rural</td>\n",
       "      <td>26702.52</td>\n",
       "      <td>29552</td>\n",
       "      <td>12.2</td>\n",
       "      <td>21.8</td>\n",
       "      <td>58.4</td>\n",
       "      <td>7.5</td>\n",
       "      <td>...</td>\n",
       "      <td>34.2</td>\n",
       "      <td>110.671203</td>\n",
       "      <td>AL HAOUZ</td>\n",
       "      <td>10107.0</td>\n",
       "      <td>Tahannaout</td>\n",
       "      <td>041.01.09</td>\n",
       "      <td>11623</td>\n",
       "      <td>26.8</td>\n",
       "      <td>47.8</td>\n",
       "      <td>21.7</td>\n",
       "    </tr>\n",
       "    <tr>\n",
       "      <th>187</th>\n",
       "      <td>211</td>\n",
       "      <td>211.05.43</td>\n",
       "      <td>TAHELOUANTE</td>\n",
       "      <td>Rural</td>\n",
       "      <td>12638.42</td>\n",
       "      <td>4552</td>\n",
       "      <td>15.6</td>\n",
       "      <td>22.5</td>\n",
       "      <td>50.9</td>\n",
       "      <td>11.0</td>\n",
       "      <td>...</td>\n",
       "      <td>36.7</td>\n",
       "      <td>36.017160</td>\n",
       "      <td>ESSAOUIRA</td>\n",
       "      <td>1671.0</td>\n",
       "      <td>Tahelouante</td>\n",
       "      <td>211.05.43</td>\n",
       "      <td>3919</td>\n",
       "      <td>25.5</td>\n",
       "      <td>39.3</td>\n",
       "      <td>70.2</td>\n",
       "    </tr>\n",
       "    <tr>\n",
       "      <th>188</th>\n",
       "      <td>211</td>\n",
       "      <td>211.03.49</td>\n",
       "      <td>TAKATE</td>\n",
       "      <td>Rural</td>\n",
       "      <td>14748.83</td>\n",
       "      <td>11479</td>\n",
       "      <td>12.2</td>\n",
       "      <td>21.4</td>\n",
       "      <td>54.4</td>\n",
       "      <td>12.1</td>\n",
       "      <td>...</td>\n",
       "      <td>34.2</td>\n",
       "      <td>77.829902</td>\n",
       "      <td>ESSAOUIRA</td>\n",
       "      <td>3926.0</td>\n",
       "      <td>Takate</td>\n",
       "      <td>211.03.49</td>\n",
       "      <td>10968</td>\n",
       "      <td>27.4</td>\n",
       "      <td>42.7</td>\n",
       "      <td>53.3</td>\n",
       "    </tr>\n",
       "    <tr>\n",
       "      <th>189</th>\n",
       "      <td>211</td>\n",
       "      <td>211.05.45</td>\n",
       "      <td>TAKOUCHT</td>\n",
       "      <td>Rural</td>\n",
       "      <td>11097.89</td>\n",
       "      <td>5129</td>\n",
       "      <td>14.5</td>\n",
       "      <td>24.1</td>\n",
       "      <td>49.4</td>\n",
       "      <td>12.1</td>\n",
       "      <td>...</td>\n",
       "      <td>45.3</td>\n",
       "      <td>46.215992</td>\n",
       "      <td>ESSAOUIRA</td>\n",
       "      <td>2323.0</td>\n",
       "      <td>Takoucht</td>\n",
       "      <td>211.05.45</td>\n",
       "      <td>4312</td>\n",
       "      <td>26.3</td>\n",
       "      <td>39.9</td>\n",
       "      <td>61.3</td>\n",
       "    </tr>\n",
       "    <tr>\n",
       "      <th>190</th>\n",
       "      <td>041</td>\n",
       "      <td>041.07.13</td>\n",
       "      <td>TALAT NYAAQOUB</td>\n",
       "      <td>Rural</td>\n",
       "      <td>21658.84</td>\n",
       "      <td>7702</td>\n",
       "      <td>12.5</td>\n",
       "      <td>22.2</td>\n",
       "      <td>55.3</td>\n",
       "      <td>10.1</td>\n",
       "      <td>...</td>\n",
       "      <td>36.7</td>\n",
       "      <td>35.560538</td>\n",
       "      <td>AL HAOUZ</td>\n",
       "      <td>2827.0</td>\n",
       "      <td>Talat N'Yaaqoub</td>\n",
       "      <td>041.07.13</td>\n",
       "      <td>7859</td>\n",
       "      <td>26.4</td>\n",
       "      <td>46.2</td>\n",
       "      <td>43.5</td>\n",
       "    </tr>\n",
       "    <tr>\n",
       "      <th>191</th>\n",
       "      <td>211</td>\n",
       "      <td>211.01.07</td>\n",
       "      <td>TALMEST</td>\n",
       "      <td>Urbain</td>\n",
       "      <td>1676.37</td>\n",
       "      <td>4133</td>\n",
       "      <td>10.6</td>\n",
       "      <td>19.2</td>\n",
       "      <td>61.7</td>\n",
       "      <td>8.5</td>\n",
       "      <td>...</td>\n",
       "      <td>35.3</td>\n",
       "      <td>246.544617</td>\n",
       "      <td>ESSAOUIRA</td>\n",
       "      <td>1459.0</td>\n",
       "      <td>Talmest</td>\n",
       "      <td>211.01.07</td>\n",
       "      <td>4328</td>\n",
       "      <td>27.4</td>\n",
       "      <td>46.9</td>\n",
       "      <td>37</td>\n",
       "    </tr>\n",
       "    <tr>\n",
       "      <th>192</th>\n",
       "      <td>041</td>\n",
       "      <td>041.03.17</td>\n",
       "      <td>TAMAGUERT</td>\n",
       "      <td>Rural</td>\n",
       "      <td>10459.43</td>\n",
       "      <td>10325</td>\n",
       "      <td>11.6</td>\n",
       "      <td>20.8</td>\n",
       "      <td>57.2</td>\n",
       "      <td>10.5</td>\n",
       "      <td>...</td>\n",
       "      <td>33.5</td>\n",
       "      <td>98.714748</td>\n",
       "      <td>AL HAOUZ</td>\n",
       "      <td>3459.0</td>\n",
       "      <td>Tamaguert</td>\n",
       "      <td>041.11.17</td>\n",
       "      <td>10540</td>\n",
       "      <td>28.7</td>\n",
       "      <td>46.7</td>\n",
       "      <td>52.3</td>\n",
       "    </tr>\n",
       "    <tr>\n",
       "      <th>193</th>\n",
       "      <td>191</td>\n",
       "      <td>191.01.09</td>\n",
       "      <td>TAMALLALT</td>\n",
       "      <td>Urbain</td>\n",
       "      <td>2582.94</td>\n",
       "      <td>12176</td>\n",
       "      <td>12.5</td>\n",
       "      <td>20.3</td>\n",
       "      <td>60.6</td>\n",
       "      <td>6.6</td>\n",
       "      <td>...</td>\n",
       "      <td>29.8</td>\n",
       "      <td>471.400807</td>\n",
       "      <td>KELAA SERAGHNA</td>\n",
       "      <td>3628.0</td>\n",
       "      <td>Tamallalt</td>\n",
       "      <td>191.01.09</td>\n",
       "      <td>16539</td>\n",
       "      <td>26.7</td>\n",
       "      <td>47.1</td>\n",
       "      <td>31</td>\n",
       "    </tr>\n",
       "    <tr>\n",
       "      <th>194</th>\n",
       "      <td>211</td>\n",
       "      <td>211.01.09</td>\n",
       "      <td>TAMANAR</td>\n",
       "      <td>Urbain</td>\n",
       "      <td>7001.79</td>\n",
       "      <td>9968</td>\n",
       "      <td>13.5</td>\n",
       "      <td>19.3</td>\n",
       "      <td>58.3</td>\n",
       "      <td>9.0</td>\n",
       "      <td>...</td>\n",
       "      <td>31.6</td>\n",
       "      <td>142.363596</td>\n",
       "      <td>ESSAOUIRA</td>\n",
       "      <td>3150.0</td>\n",
       "      <td>Tamanar</td>\n",
       "      <td>211.01.09</td>\n",
       "      <td>10572</td>\n",
       "      <td>27.1</td>\n",
       "      <td>42.3</td>\n",
       "      <td>40.2</td>\n",
       "    </tr>\n",
       "    <tr>\n",
       "      <th>195</th>\n",
       "      <td>041</td>\n",
       "      <td>041.03.19</td>\n",
       "      <td>TAMAZOUZTE</td>\n",
       "      <td>Rural</td>\n",
       "      <td>5804.11</td>\n",
       "      <td>12238</td>\n",
       "      <td>12.5</td>\n",
       "      <td>22.7</td>\n",
       "      <td>56.8</td>\n",
       "      <td>7.9</td>\n",
       "      <td>...</td>\n",
       "      <td>32.8</td>\n",
       "      <td>210.850587</td>\n",
       "      <td>AL HAOUZ</td>\n",
       "      <td>4014.0</td>\n",
       "      <td>Tamazouzte</td>\n",
       "      <td>041.03.19</td>\n",
       "      <td>15846</td>\n",
       "      <td>28</td>\n",
       "      <td>45.9</td>\n",
       "      <td>44.4</td>\n",
       "    </tr>\n",
       "    <tr>\n",
       "      <th>196</th>\n",
       "      <td>041</td>\n",
       "      <td>041.09.11</td>\n",
       "      <td>TAMESLOHTE</td>\n",
       "      <td>Rural</td>\n",
       "      <td>27439.67</td>\n",
       "      <td>21408</td>\n",
       "      <td>12.6</td>\n",
       "      <td>19.7</td>\n",
       "      <td>59.8</td>\n",
       "      <td>7.9</td>\n",
       "      <td>...</td>\n",
       "      <td>34.6</td>\n",
       "      <td>78.018431</td>\n",
       "      <td>AL HAOUZ</td>\n",
       "      <td>7407.0</td>\n",
       "      <td>Tameslohte</td>\n",
       "      <td>041.09.11</td>\n",
       "      <td>28977</td>\n",
       "      <td>26.2</td>\n",
       "      <td>49.4</td>\n",
       "      <td>34.3</td>\n",
       "    </tr>\n",
       "    <tr>\n",
       "      <th>197</th>\n",
       "      <td>161</td>\n",
       "      <td>161.09.13</td>\n",
       "      <td>TAOULOUKOULT</td>\n",
       "      <td>Rural</td>\n",
       "      <td>15387.50</td>\n",
       "      <td>10668</td>\n",
       "      <td>15.2</td>\n",
       "      <td>25.0</td>\n",
       "      <td>51.3</td>\n",
       "      <td>8.5</td>\n",
       "      <td>...</td>\n",
       "      <td>36.3</td>\n",
       "      <td>69.329001</td>\n",
       "      <td>CHICHAOUA</td>\n",
       "      <td>3872.0</td>\n",
       "      <td>Taouloukoult</td>\n",
       "      <td>161.09.13</td>\n",
       "      <td>10682</td>\n",
       "      <td>26</td>\n",
       "      <td>39.8</td>\n",
       "      <td>55.4</td>\n",
       "    </tr>\n",
       "    <tr>\n",
       "      <th>198</th>\n",
       "      <td>191</td>\n",
       "      <td>191.03.39</td>\n",
       "      <td>TAOUZINT</td>\n",
       "      <td>Rural</td>\n",
       "      <td>3281.93</td>\n",
       "      <td>5111</td>\n",
       "      <td>13.3</td>\n",
       "      <td>22.7</td>\n",
       "      <td>56.0</td>\n",
       "      <td>8.0</td>\n",
       "      <td>...</td>\n",
       "      <td>33.5</td>\n",
       "      <td>155.731536</td>\n",
       "      <td>KELAA SERAGHNA</td>\n",
       "      <td>1712.0</td>\n",
       "      <td>Taouzint</td>\n",
       "      <td>191.03.39</td>\n",
       "      <td>5651</td>\n",
       "      <td>25.3</td>\n",
       "      <td>49.1</td>\n",
       "      <td>53.7</td>\n",
       "    </tr>\n",
       "    <tr>\n",
       "      <th>199</th>\n",
       "      <td>211</td>\n",
       "      <td>211.05.47</td>\n",
       "      <td>TARGANTE</td>\n",
       "      <td>Rural</td>\n",
       "      <td>17462.61</td>\n",
       "      <td>7870</td>\n",
       "      <td>14.7</td>\n",
       "      <td>20.1</td>\n",
       "      <td>55.5</td>\n",
       "      <td>9.8</td>\n",
       "      <td>...</td>\n",
       "      <td>32.4</td>\n",
       "      <td>45.067719</td>\n",
       "      <td>ESSAOUIRA</td>\n",
       "      <td>2550.0</td>\n",
       "      <td>Targante</td>\n",
       "      <td>211.05.47</td>\n",
       "      <td>7605</td>\n",
       "      <td>28</td>\n",
       "      <td>42.7</td>\n",
       "      <td>52.5</td>\n",
       "    </tr>\n",
       "    <tr>\n",
       "      <th>200</th>\n",
       "      <td>351</td>\n",
       "      <td>351.05.13</td>\n",
       "      <td>TASSOULTANTE</td>\n",
       "      <td>Rural</td>\n",
       "      <td>9305.27</td>\n",
       "      <td>30137</td>\n",
       "      <td>14.0</td>\n",
       "      <td>19.6</td>\n",
       "      <td>60.1</td>\n",
       "      <td>6.3</td>\n",
       "      <td>...</td>\n",
       "      <td>33.7</td>\n",
       "      <td>323.870237</td>\n",
       "      <td>MARRAKECH</td>\n",
       "      <td>10156.0</td>\n",
       "      <td>Tassoultante</td>\n",
       "      <td>351.07.13</td>\n",
       "      <td>71086</td>\n",
       "      <td>25.2</td>\n",
       "      <td>49.7</td>\n",
       "      <td>30.5</td>\n",
       "    </tr>\n",
       "    <tr>\n",
       "      <th>201</th>\n",
       "      <td>041</td>\n",
       "      <td>041.03.21</td>\n",
       "      <td>TAZART</td>\n",
       "      <td>Rural</td>\n",
       "      <td>24181.05</td>\n",
       "      <td>14583</td>\n",
       "      <td>12.0</td>\n",
       "      <td>21.6</td>\n",
       "      <td>57.5</td>\n",
       "      <td>8.8</td>\n",
       "      <td>...</td>\n",
       "      <td>38.1</td>\n",
       "      <td>60.307555</td>\n",
       "      <td>AL HAOUZ</td>\n",
       "      <td>5556.0</td>\n",
       "      <td>Tazart</td>\n",
       "      <td>041.11.21</td>\n",
       "      <td>15237</td>\n",
       "      <td>28.3</td>\n",
       "      <td>44.9</td>\n",
       "      <td>52</td>\n",
       "    </tr>\n",
       "    <tr>\n",
       "      <th>202</th>\n",
       "      <td>041</td>\n",
       "      <td>041.03.23</td>\n",
       "      <td>TIDILI MESFIOUA</td>\n",
       "      <td>Rural</td>\n",
       "      <td>17045.64</td>\n",
       "      <td>21094</td>\n",
       "      <td>11.6</td>\n",
       "      <td>22.2</td>\n",
       "      <td>56.7</td>\n",
       "      <td>9.5</td>\n",
       "      <td>...</td>\n",
       "      <td>36.3</td>\n",
       "      <td>123.750120</td>\n",
       "      <td>AL HAOUZ</td>\n",
       "      <td>7657.0</td>\n",
       "      <td>Tidili Mesfioua</td>\n",
       "      <td>041.03.23</td>\n",
       "      <td>21706</td>\n",
       "      <td>28.7</td>\n",
       "      <td>49.8</td>\n",
       "      <td>54.5</td>\n",
       "    </tr>\n",
       "    <tr>\n",
       "      <th>203</th>\n",
       "      <td>211</td>\n",
       "      <td>211.05.49</td>\n",
       "      <td>TIDZI</td>\n",
       "      <td>Rural</td>\n",
       "      <td>10763.85</td>\n",
       "      <td>4769</td>\n",
       "      <td>11.8</td>\n",
       "      <td>22.5</td>\n",
       "      <td>53.8</td>\n",
       "      <td>11.9</td>\n",
       "      <td>...</td>\n",
       "      <td>34.1</td>\n",
       "      <td>44.305708</td>\n",
       "      <td>ESSAOUIRA</td>\n",
       "      <td>1626.0</td>\n",
       "      <td>Tidzi</td>\n",
       "      <td>211.05.49</td>\n",
       "      <td>4057</td>\n",
       "      <td>26.8</td>\n",
       "      <td>45.9</td>\n",
       "      <td>59.8</td>\n",
       "    </tr>\n",
       "    <tr>\n",
       "      <th>204</th>\n",
       "      <td>041</td>\n",
       "      <td>041.03.25</td>\n",
       "      <td>TIGHEDOUINE</td>\n",
       "      <td>Rural</td>\n",
       "      <td>36228.71</td>\n",
       "      <td>22347</td>\n",
       "      <td>14.3</td>\n",
       "      <td>25.0</td>\n",
       "      <td>53.6</td>\n",
       "      <td>7.1</td>\n",
       "      <td>...</td>\n",
       "      <td>41.2</td>\n",
       "      <td>61.683124</td>\n",
       "      <td>AL HAOUZ</td>\n",
       "      <td>9207.0</td>\n",
       "      <td>Tighedouine</td>\n",
       "      <td>041.11.25</td>\n",
       "      <td>22971</td>\n",
       "      <td>27.2</td>\n",
       "      <td>50</td>\n",
       "      <td>56.1</td>\n",
       "    </tr>\n",
       "    <tr>\n",
       "      <th>205</th>\n",
       "      <td>161</td>\n",
       "      <td>161.05.17</td>\n",
       "      <td>TIMEZGADIOUINE</td>\n",
       "      <td>Rural</td>\n",
       "      <td>33503.39</td>\n",
       "      <td>8673</td>\n",
       "      <td>13.5</td>\n",
       "      <td>22.9</td>\n",
       "      <td>54.3</td>\n",
       "      <td>9.4</td>\n",
       "      <td>...</td>\n",
       "      <td>43.2</td>\n",
       "      <td>25.886933</td>\n",
       "      <td>CHICHAOUA</td>\n",
       "      <td>3747.0</td>\n",
       "      <td>Timezgadiouine</td>\n",
       "      <td>161.05.17</td>\n",
       "      <td>7825</td>\n",
       "      <td>28</td>\n",
       "      <td>39</td>\n",
       "      <td>63.5</td>\n",
       "    </tr>\n",
       "    <tr>\n",
       "      <th>206</th>\n",
       "      <td>211</td>\n",
       "      <td>211.05.51</td>\n",
       "      <td>TIMIZGUIDA OUFTAS</td>\n",
       "      <td>Rural</td>\n",
       "      <td>7429.00</td>\n",
       "      <td>5218</td>\n",
       "      <td>15.2</td>\n",
       "      <td>20.9</td>\n",
       "      <td>54.1</td>\n",
       "      <td>9.8</td>\n",
       "      <td>...</td>\n",
       "      <td>33.8</td>\n",
       "      <td>70.238255</td>\n",
       "      <td>ESSAOUIRA</td>\n",
       "      <td>1764.0</td>\n",
       "      <td>Timizguida Ouftas</td>\n",
       "      <td>211.05.51</td>\n",
       "      <td>5181</td>\n",
       "      <td>26.3</td>\n",
       "      <td>40.8</td>\n",
       "      <td>44.1</td>\n",
       "    </tr>\n",
       "    <tr>\n",
       "      <th>207</th>\n",
       "      <td>161</td>\n",
       "      <td>161.09.15</td>\n",
       "      <td>TIMLILT</td>\n",
       "      <td>Rural</td>\n",
       "      <td>24948.94</td>\n",
       "      <td>7186</td>\n",
       "      <td>15.8</td>\n",
       "      <td>24.2</td>\n",
       "      <td>51.2</td>\n",
       "      <td>8.8</td>\n",
       "      <td>...</td>\n",
       "      <td>27.9</td>\n",
       "      <td>28.802827</td>\n",
       "      <td>CHICHAOUA</td>\n",
       "      <td>2005.0</td>\n",
       "      <td>Timlilt</td>\n",
       "      <td>161.09.15</td>\n",
       "      <td>7078</td>\n",
       "      <td>27.5</td>\n",
       "      <td>38.9</td>\n",
       "      <td>61.3</td>\n",
       "    </tr>\n",
       "    <tr>\n",
       "      <th>208</th>\n",
       "      <td>041</td>\n",
       "      <td>041.05.19</td>\n",
       "      <td>TIZGUINE</td>\n",
       "      <td>Rural</td>\n",
       "      <td>5216.43</td>\n",
       "      <td>3886</td>\n",
       "      <td>11.3</td>\n",
       "      <td>19.7</td>\n",
       "      <td>55.2</td>\n",
       "      <td>13.8</td>\n",
       "      <td>...</td>\n",
       "      <td>29.6</td>\n",
       "      <td>74.495392</td>\n",
       "      <td>AL HAOUZ</td>\n",
       "      <td>1150.0</td>\n",
       "      <td>Tizguine</td>\n",
       "      <td>041.05.19</td>\n",
       "      <td>4887</td>\n",
       "      <td>26.3</td>\n",
       "      <td>44.2</td>\n",
       "      <td>43</td>\n",
       "    </tr>\n",
       "    <tr>\n",
       "      <th>209</th>\n",
       "      <td>191</td>\n",
       "      <td>191.09.19</td>\n",
       "      <td>TLAUH</td>\n",
       "      <td>Rural</td>\n",
       "      <td>9412.40</td>\n",
       "      <td>9901</td>\n",
       "      <td>13.2</td>\n",
       "      <td>21.2</td>\n",
       "      <td>57.7</td>\n",
       "      <td>7.9</td>\n",
       "      <td>...</td>\n",
       "      <td>34.4</td>\n",
       "      <td>105.191025</td>\n",
       "      <td>KELAA SERAGHNA</td>\n",
       "      <td>3406.0</td>\n",
       "      <td>Tlauh</td>\n",
       "      <td>427.09.19</td>\n",
       "      <td>9932</td>\n",
       "      <td>26.6</td>\n",
       "      <td>45.7</td>\n",
       "      <td>46.9</td>\n",
       "    </tr>\n",
       "    <tr>\n",
       "      <th>210</th>\n",
       "      <td>041</td>\n",
       "      <td>041.03.27</td>\n",
       "      <td>TOUAMA</td>\n",
       "      <td>Rural</td>\n",
       "      <td>12115.52</td>\n",
       "      <td>11458</td>\n",
       "      <td>11.5</td>\n",
       "      <td>19.8</td>\n",
       "      <td>58.7</td>\n",
       "      <td>10.0</td>\n",
       "      <td>...</td>\n",
       "      <td>36.7</td>\n",
       "      <td>94.572911</td>\n",
       "      <td>AL HAOUZ</td>\n",
       "      <td>4205.0</td>\n",
       "      <td>Touama</td>\n",
       "      <td>041.11.27</td>\n",
       "      <td>11243</td>\n",
       "      <td>28.2</td>\n",
       "      <td>43.4</td>\n",
       "      <td>49.6</td>\n",
       "    </tr>\n",
       "    <tr>\n",
       "      <th>211</th>\n",
       "      <td>161</td>\n",
       "      <td>161.07.15</td>\n",
       "      <td>ZAOUIAT ANNAHLIA</td>\n",
       "      <td>Rural</td>\n",
       "      <td>16721.78</td>\n",
       "      <td>15942</td>\n",
       "      <td>15.1</td>\n",
       "      <td>23.7</td>\n",
       "      <td>54.1</td>\n",
       "      <td>7.1</td>\n",
       "      <td>...</td>\n",
       "      <td>35.2</td>\n",
       "      <td>95.336740</td>\n",
       "      <td>CHICHAOUA</td>\n",
       "      <td>5612.0</td>\n",
       "      <td>Zaouia Annahlia</td>\n",
       "      <td>161.07.15</td>\n",
       "      <td>10757</td>\n",
       "      <td>26.7</td>\n",
       "      <td>39.9</td>\n",
       "      <td>55.2</td>\n",
       "    </tr>\n",
       "    <tr>\n",
       "      <th>212</th>\n",
       "      <td>211</td>\n",
       "      <td>211.03.51</td>\n",
       "      <td>ZAOUIAT BEN HMIDA</td>\n",
       "      <td>Rural</td>\n",
       "      <td>6361.56</td>\n",
       "      <td>6395</td>\n",
       "      <td>13.3</td>\n",
       "      <td>20.2</td>\n",
       "      <td>55.9</td>\n",
       "      <td>10.6</td>\n",
       "      <td>...</td>\n",
       "      <td>32.5</td>\n",
       "      <td>100.525657</td>\n",
       "      <td>ESSAOUIRA</td>\n",
       "      <td>2078.0</td>\n",
       "      <td>Zaouiat Ben Hmida</td>\n",
       "      <td>211.03.51</td>\n",
       "      <td>6878</td>\n",
       "      <td>26.9</td>\n",
       "      <td>44.3</td>\n",
       "      <td>49.2</td>\n",
       "    </tr>\n",
       "    <tr>\n",
       "      <th>213</th>\n",
       "      <td>191</td>\n",
       "      <td>191.05.31</td>\n",
       "      <td>ZEMRANE</td>\n",
       "      <td>Rural</td>\n",
       "      <td>19353.68</td>\n",
       "      <td>15996</td>\n",
       "      <td>12.7</td>\n",
       "      <td>21.5</td>\n",
       "      <td>57.3</td>\n",
       "      <td>8.4</td>\n",
       "      <td>...</td>\n",
       "      <td>33.0</td>\n",
       "      <td>82.650948</td>\n",
       "      <td>KELAA SERAGHNA</td>\n",
       "      <td>5279.0</td>\n",
       "      <td>Zemrane</td>\n",
       "      <td>191.07.31</td>\n",
       "      <td>14338</td>\n",
       "      <td>26.3</td>\n",
       "      <td>43.9</td>\n",
       "      <td>49.3</td>\n",
       "    </tr>\n",
       "    <tr>\n",
       "      <th>214</th>\n",
       "      <td>191</td>\n",
       "      <td>191.05.33</td>\n",
       "      <td>ZEMRANE CHARQIA</td>\n",
       "      <td>Rural</td>\n",
       "      <td>21809.44</td>\n",
       "      <td>27408</td>\n",
       "      <td>11.4</td>\n",
       "      <td>21.0</td>\n",
       "      <td>59.0</td>\n",
       "      <td>8.5</td>\n",
       "      <td>...</td>\n",
       "      <td>34.5</td>\n",
       "      <td>125.670352</td>\n",
       "      <td>KELAA SERAGHNA</td>\n",
       "      <td>9456.0</td>\n",
       "      <td>Zemrane Charqia</td>\n",
       "      <td>191.07.33</td>\n",
       "      <td>29087</td>\n",
       "      <td>27.5</td>\n",
       "      <td>43.5</td>\n",
       "      <td>44.5</td>\n",
       "    </tr>\n",
       "    <tr>\n",
       "      <th>215</th>\n",
       "      <td>041</td>\n",
       "      <td>041.03.29</td>\n",
       "      <td>ZERKTEN</td>\n",
       "      <td>Rural</td>\n",
       "      <td>39117.49</td>\n",
       "      <td>19124</td>\n",
       "      <td>13.6</td>\n",
       "      <td>24.1</td>\n",
       "      <td>54.4</td>\n",
       "      <td>7.9</td>\n",
       "      <td>...</td>\n",
       "      <td>36.3</td>\n",
       "      <td>48.888617</td>\n",
       "      <td>AL HAOUZ</td>\n",
       "      <td>6942.0</td>\n",
       "      <td>Zerkten</td>\n",
       "      <td>041.11.29</td>\n",
       "      <td>19926</td>\n",
       "      <td>27.7</td>\n",
       "      <td>39.4</td>\n",
       "      <td>54.2</td>\n",
       "    </tr>\n",
       "    <tr>\n",
       "      <th>216</th>\n",
       "      <td>191</td>\n",
       "      <td>191.03.41</td>\n",
       "      <td>ZNADA</td>\n",
       "      <td>Rural</td>\n",
       "      <td>4625.65</td>\n",
       "      <td>8830</td>\n",
       "      <td>13.5</td>\n",
       "      <td>22.9</td>\n",
       "      <td>57.5</td>\n",
       "      <td>6.1</td>\n",
       "      <td>...</td>\n",
       "      <td>31.9</td>\n",
       "      <td>190.892091</td>\n",
       "      <td>KELAA SERAGHNA</td>\n",
       "      <td>2817.0</td>\n",
       "      <td>ZNADA</td>\n",
       "      <td>191.03.41</td>\n",
       "      <td>6712</td>\n",
       "      <td>24.9</td>\n",
       "      <td>45.5</td>\n",
       "      <td>45.3</td>\n",
       "    </tr>\n",
       "  </tbody>\n",
       "</table>\n",
       "<p>60 rows × 25 columns</p>\n",
       "</div>"
      ],
      "text/plain": [
       "    Code_Province Code_Commune             Nom_Commune Type_Commune  \\\n",
       "157           041    041.05.17             SIDI BADHAJ        Rural   \n",
       "158           191    191.09.17        SIDI BOU OTHMANE        Rural   \n",
       "159           191    191.09.15            SIDI BOUBKER        Rural   \n",
       "160           211    211.03.39          SIDI BOULAALAM        Rural   \n",
       "161           161    161.03.13  SIDI BOUZID ARRAGRAGUI        Rural   \n",
       "162           191    191.03.35          SIDI EL HATTAB        Rural   \n",
       "163           211    211.05.29         SIDI EL JAZOULI        Rural   \n",
       "164           191    191.07.19             SIDI GHANEM        Rural   \n",
       "165           211    211.05.31             SIDI GHANEM        Rural   \n",
       "166           161    161.05.15             SIDI GHANEM        Rural   \n",
       "167           211    211.05.35      SIDI HMAD OU HAMED        Rural   \n",
       "168           211    211.05.33     SIDI HMAD OU MBAREK        Rural   \n",
       "169           211    211.03.41              SIDI ISHAQ        Rural   \n",
       "170           211    211.05.37             SIDI KAOUKI        Rural   \n",
       "171           211    211.03.43          SIDI LAAROUSSI        Rural   \n",
       "172           191    191.07.21            SIDI MANSOUR        Rural   \n",
       "173           161    161.03.15       SIDI MHAMED DALIL        Rural   \n",
       "174           211    211.03.45  SIDI MHAMED OU MARZOUQ        Rural   \n",
       "175           191    191.03.37             SIDI MOUSSA        Rural   \n",
       "176           191    191.01.07             SIDI RAHHAL       Urbain   \n",
       "177           351    351.01.11    SIDI YOUSSEF BEN ALI       Urbain   \n",
       "178           191    191.07.23          SKHOUR REHAMNA        Rural   \n",
       "179           191    191.07.25           SKOURA LHADRA        Rural   \n",
       "180           211    211.05.39                  SMIMOU        Rural   \n",
       "181           351    351.05.11                 SOUIHLA        Rural   \n",
       "182           191    191.05.29             SOUR EL AAZ        Rural   \n",
       "183           041    041.09.07               STI FADMA        Rural   \n",
       "184           211    211.05.41                 TAFEDNA        Rural   \n",
       "185           211    211.03.47              TAFETACHTE        Rural   \n",
       "186           041    041.09.09              TAHANNAOUT        Rural   \n",
       "187           211    211.05.43             TAHELOUANTE        Rural   \n",
       "188           211    211.03.49                  TAKATE        Rural   \n",
       "189           211    211.05.45                TAKOUCHT        Rural   \n",
       "190           041    041.07.13          TALAT NYAAQOUB        Rural   \n",
       "191           211    211.01.07                 TALMEST       Urbain   \n",
       "192           041    041.03.17               TAMAGUERT        Rural   \n",
       "193           191    191.01.09               TAMALLALT       Urbain   \n",
       "194           211    211.01.09                 TAMANAR       Urbain   \n",
       "195           041    041.03.19              TAMAZOUZTE        Rural   \n",
       "196           041    041.09.11              TAMESLOHTE        Rural   \n",
       "197           161    161.09.13            TAOULOUKOULT        Rural   \n",
       "198           191    191.03.39                TAOUZINT        Rural   \n",
       "199           211    211.05.47                TARGANTE        Rural   \n",
       "200           351    351.05.13            TASSOULTANTE        Rural   \n",
       "201           041    041.03.21                  TAZART        Rural   \n",
       "202           041    041.03.23         TIDILI MESFIOUA        Rural   \n",
       "203           211    211.05.49                   TIDZI        Rural   \n",
       "204           041    041.03.25             TIGHEDOUINE        Rural   \n",
       "205           161    161.05.17          TIMEZGADIOUINE        Rural   \n",
       "206           211    211.05.51       TIMIZGUIDA OUFTAS        Rural   \n",
       "207           161    161.09.15                 TIMLILT        Rural   \n",
       "208           041    041.05.19                TIZGUINE        Rural   \n",
       "209           191    191.09.19                   TLAUH        Rural   \n",
       "210           041    041.03.27                  TOUAMA        Rural   \n",
       "211           161    161.07.15        ZAOUIAT ANNAHLIA        Rural   \n",
       "212           211    211.03.51       ZAOUIAT BEN HMIDA        Rural   \n",
       "213           191    191.05.31                 ZEMRANE        Rural   \n",
       "214           191    191.05.33         ZEMRANE CHARQIA        Rural   \n",
       "215           041    041.03.29                 ZERKTEN        Rural   \n",
       "216           191    191.03.41                   ZNADA        Rural   \n",
       "\n",
       "     Surface_ha  Population  Pop_inf6_pc  Pop_615_pc  Pop_1560_pc  \\\n",
       "157    13341.68        6485         10.8        20.9         56.5   \n",
       "158    44610.07       17492         13.3        20.7         57.9   \n",
       "159    21667.14        6398         12.0        21.5         57.2   \n",
       "160     6899.67        7880         15.3        23.4         51.0   \n",
       "161     7484.84        9348         12.5        19.7         59.0   \n",
       "162    21008.24        8183         14.3        22.6         55.4   \n",
       "163    14832.10        7360         12.4        21.9         54.6   \n",
       "164    31154.05       12159         13.5        24.6         53.2   \n",
       "165     8595.16        5081         12.8        21.5         55.3   \n",
       "166    14153.74        8665         16.1        22.8         52.8   \n",
       "167     9131.95        4301         12.2        19.5         54.5   \n",
       "168    11335.56        6178         14.4        21.6         52.7   \n",
       "169    11360.00        9553         13.2        22.6         54.2   \n",
       "170     7188.68        4335         12.6        18.7         57.3   \n",
       "171    24642.74       13203         14.8        24.4         51.2   \n",
       "172    15991.83        6318         12.6        22.9         55.8   \n",
       "173    21800.91        4749         13.4        23.0         54.8   \n",
       "174    17643.51        6088         13.9        22.9         53.8   \n",
       "175     7850.73        9260         15.8        22.3         54.0   \n",
       "176     1571.86        6352          9.9        18.9         61.7   \n",
       "177     1407.14      124928         10.5        15.9         65.0   \n",
       "178    29875.11       14341         12.5        21.1         57.5   \n",
       "179    30300.07        8942         13.6        24.2         54.2   \n",
       "180     5991.05        7090         13.9        22.6         54.2   \n",
       "181     9927.04       19295         13.7        19.9         59.0   \n",
       "182     4378.44        3910         12.7        20.0         57.8   \n",
       "183    32227.47       22275         16.0        23.8         52.9   \n",
       "184    10458.52        5234         13.0        21.8         56.6   \n",
       "185     6649.69        7110         13.7        21.9         55.6   \n",
       "186    26702.52       29552         12.2        21.8         58.4   \n",
       "187    12638.42        4552         15.6        22.5         50.9   \n",
       "188    14748.83       11479         12.2        21.4         54.4   \n",
       "189    11097.89        5129         14.5        24.1         49.4   \n",
       "190    21658.84        7702         12.5        22.2         55.3   \n",
       "191     1676.37        4133         10.6        19.2         61.7   \n",
       "192    10459.43       10325         11.6        20.8         57.2   \n",
       "193     2582.94       12176         12.5        20.3         60.6   \n",
       "194     7001.79        9968         13.5        19.3         58.3   \n",
       "195     5804.11       12238         12.5        22.7         56.8   \n",
       "196    27439.67       21408         12.6        19.7         59.8   \n",
       "197    15387.50       10668         15.2        25.0         51.3   \n",
       "198     3281.93        5111         13.3        22.7         56.0   \n",
       "199    17462.61        7870         14.7        20.1         55.5   \n",
       "200     9305.27       30137         14.0        19.6         60.1   \n",
       "201    24181.05       14583         12.0        21.6         57.5   \n",
       "202    17045.64       21094         11.6        22.2         56.7   \n",
       "203    10763.85        4769         11.8        22.5         53.8   \n",
       "204    36228.71       22347         14.3        25.0         53.6   \n",
       "205    33503.39        8673         13.5        22.9         54.3   \n",
       "206     7429.00        5218         15.2        20.9         54.1   \n",
       "207    24948.94        7186         15.8        24.2         51.2   \n",
       "208     5216.43        3886         11.3        19.7         55.2   \n",
       "209     9412.40        9901         13.2        21.2         57.7   \n",
       "210    12115.52       11458         11.5        19.8         58.7   \n",
       "211    16721.78       15942         15.1        23.7         54.1   \n",
       "212     6361.56        6395         13.3        20.2         55.9   \n",
       "213    19353.68       15996         12.7        21.5         57.3   \n",
       "214    21809.44       27408         11.4        21.0         59.0   \n",
       "215    39117.49       19124         13.6        24.1         54.4   \n",
       "216     4625.65        8830         13.5        22.9         57.5   \n",
       "\n",
       "     Pop_sup60_pc  ...  Taux_activite  densite_pop    Nom_Province  \\\n",
       "157          11.8  ...           32.4    48.607072        AL HAOUZ   \n",
       "158           8.1  ...           39.0    39.210878  KELAA SERAGHNA   \n",
       "159           9.3  ...           30.3    29.528586  KELAA SERAGHNA   \n",
       "160          10.3  ...           30.2   114.208361       ESSAOUIRA   \n",
       "161           8.8  ...           33.1   124.892449       CHICHAOUA   \n",
       "162           7.6  ...           33.7    38.951383  KELAA SERAGHNA   \n",
       "163          11.2  ...           30.6    49.622103       ESSAOUIRA   \n",
       "164           8.7  ...           48.6    39.028634  KELAA SERAGHNA   \n",
       "165          10.5  ...           29.9    59.114665       ESSAOUIRA   \n",
       "166           8.3  ...           35.2    61.220568       CHICHAOUA   \n",
       "167          13.9  ...           49.1    47.098374       ESSAOUIRA   \n",
       "168          11.3  ...           51.2    54.501057       ESSAOUIRA   \n",
       "169           9.9  ...           39.0    84.093310       ESSAOUIRA   \n",
       "170          11.4  ...           39.4    60.303143       ESSAOUIRA   \n",
       "171           9.6  ...           39.9    53.577646       ESSAOUIRA   \n",
       "172           8.7  ...           39.4    39.507674  KELAA SERAGHNA   \n",
       "173           8.9  ...           38.0    21.783494       CHICHAOUA   \n",
       "174           9.4  ...           37.5    34.505606       ESSAOUIRA   \n",
       "175           7.8  ...           35.3   117.950815  KELAA SERAGHNA   \n",
       "176           9.4  ...           30.9   404.107236  KELAA SERAGHNA   \n",
       "177           8.7  ...           37.5  8878.150006       MARRAKECH   \n",
       "178           8.9  ...           33.1    48.003171  KELAA SERAGHNA   \n",
       "179           8.0  ...           36.5    29.511483  KELAA SERAGHNA   \n",
       "180           9.3  ...           28.4   118.343195       ESSAOUIRA   \n",
       "181           7.3  ...           35.8   194.368110       MARRAKECH   \n",
       "182           9.5  ...           33.5    89.301212  KELAA SERAGHNA   \n",
       "183           7.2  ...           36.8    69.118054        AL HAOUZ   \n",
       "184           8.6  ...           38.7    50.045322       ESSAOUIRA   \n",
       "185           8.8  ...           32.6   106.922278       ESSAOUIRA   \n",
       "186           7.5  ...           34.2   110.671203        AL HAOUZ   \n",
       "187          11.0  ...           36.7    36.017160       ESSAOUIRA   \n",
       "188          12.1  ...           34.2    77.829902       ESSAOUIRA   \n",
       "189          12.1  ...           45.3    46.215992       ESSAOUIRA   \n",
       "190          10.1  ...           36.7    35.560538        AL HAOUZ   \n",
       "191           8.5  ...           35.3   246.544617       ESSAOUIRA   \n",
       "192          10.5  ...           33.5    98.714748        AL HAOUZ   \n",
       "193           6.6  ...           29.8   471.400807  KELAA SERAGHNA   \n",
       "194           9.0  ...           31.6   142.363596       ESSAOUIRA   \n",
       "195           7.9  ...           32.8   210.850587        AL HAOUZ   \n",
       "196           7.9  ...           34.6    78.018431        AL HAOUZ   \n",
       "197           8.5  ...           36.3    69.329001       CHICHAOUA   \n",
       "198           8.0  ...           33.5   155.731536  KELAA SERAGHNA   \n",
       "199           9.8  ...           32.4    45.067719       ESSAOUIRA   \n",
       "200           6.3  ...           33.7   323.870237       MARRAKECH   \n",
       "201           8.8  ...           38.1    60.307555        AL HAOUZ   \n",
       "202           9.5  ...           36.3   123.750120        AL HAOUZ   \n",
       "203          11.9  ...           34.1    44.305708       ESSAOUIRA   \n",
       "204           7.1  ...           41.2    61.683124        AL HAOUZ   \n",
       "205           9.4  ...           43.2    25.886933       CHICHAOUA   \n",
       "206           9.8  ...           33.8    70.238255       ESSAOUIRA   \n",
       "207           8.8  ...           27.9    28.802827       CHICHAOUA   \n",
       "208          13.8  ...           29.6    74.495392        AL HAOUZ   \n",
       "209           7.9  ...           34.4   105.191025  KELAA SERAGHNA   \n",
       "210          10.0  ...           36.7    94.572911        AL HAOUZ   \n",
       "211           7.1  ...           35.2    95.336740       CHICHAOUA   \n",
       "212          10.6  ...           32.5   100.525657       ESSAOUIRA   \n",
       "213           8.4  ...           33.0    82.650948  KELAA SERAGHNA   \n",
       "214           8.5  ...           34.5   125.670352  KELAA SERAGHNA   \n",
       "215           7.9  ...           36.3    48.888617        AL HAOUZ   \n",
       "216           6.1  ...           31.9   190.892091  KELAA SERAGHNA   \n",
       "\n",
       "     population_active         Nom_Commune_Site  Code_Commune_2014  \\\n",
       "157             2101.0              Sidi Badhaj          041.05.17   \n",
       "158             6822.0         Sidi Bou Othmane          427.01.17   \n",
       "159             1939.0             Sidi Boubker          427.09.15   \n",
       "160             2380.0           Sidi Boulaalam          211.03.39   \n",
       "161             3094.0   Sidi Bouzid Arragragui          161.03.13   \n",
       "162             2758.0           Sidi El Hattab          191.03.35   \n",
       "163             2252.0          Sidi El Jazouli          211.05.29   \n",
       "164             5909.0              Sidi Ghanem          427.07.19   \n",
       "165             1519.0              Sidi Ghanem          427.07.19   \n",
       "166             3050.0              Sidi Ghanem          427.07.19   \n",
       "167             2112.0       Sidi Hmad Ou Hamed          211.05.35   \n",
       "168             3163.0    Sidi H'Mad Ou M'Barek          211.05.33   \n",
       "169             3726.0               Sidi Ishaq          211.03.41   \n",
       "170             1708.0              Sidi Kaouki          211.05.37   \n",
       "171             5268.0           Sidi Laaroussi          211.03.43   \n",
       "172             2489.0             Sidi Mansour          427.07.21   \n",
       "173             1805.0       Sidi M'Hamed Dalil          161.03.15   \n",
       "174             2283.0  Sidi M'Hamed Ou Marzouq          211.03.45   \n",
       "175             3269.0              Sidi Moussa          191.03.37   \n",
       "176             1963.0               Sidi Rahal          191.01.07   \n",
       "177            46848.0     Sidi Youssef Ben Ali          351.01.11   \n",
       "178             4747.0           Skhour Rehamna          427.07.23   \n",
       "179             3264.0            Skoura Lhadra          427.07.25   \n",
       "180             2014.0                   Smimou          211.05.39   \n",
       "181             6908.0                  Souihla          351.07.11   \n",
       "182             1310.0              Sour El Aaz          191.05.29   \n",
       "183             8197.0                Sti Fadma          041.09.07   \n",
       "184             2026.0                  Tafedna          211.05.41   \n",
       "185             2318.0               Tafetachte          211.03.47   \n",
       "186            10107.0               Tahannaout          041.01.09   \n",
       "187             1671.0              Tahelouante          211.05.43   \n",
       "188             3926.0                   Takate          211.03.49   \n",
       "189             2323.0                 Takoucht          211.05.45   \n",
       "190             2827.0          Talat N'Yaaqoub          041.07.13   \n",
       "191             1459.0                  Talmest          211.01.07   \n",
       "192             3459.0                Tamaguert          041.11.17   \n",
       "193             3628.0                Tamallalt          191.01.09   \n",
       "194             3150.0                  Tamanar          211.01.09   \n",
       "195             4014.0               Tamazouzte          041.03.19   \n",
       "196             7407.0               Tameslohte          041.09.11   \n",
       "197             3872.0             Taouloukoult          161.09.13   \n",
       "198             1712.0                 Taouzint          191.03.39   \n",
       "199             2550.0                 Targante          211.05.47   \n",
       "200            10156.0             Tassoultante          351.07.13   \n",
       "201             5556.0                   Tazart          041.11.21   \n",
       "202             7657.0          Tidili Mesfioua          041.03.23   \n",
       "203             1626.0                    Tidzi          211.05.49   \n",
       "204             9207.0              Tighedouine          041.11.25   \n",
       "205             3747.0           Timezgadiouine          161.05.17   \n",
       "206             1764.0        Timizguida Ouftas          211.05.51   \n",
       "207             2005.0                  Timlilt          161.09.15   \n",
       "208             1150.0                 Tizguine          041.05.19   \n",
       "209             3406.0                    Tlauh          427.09.19   \n",
       "210             4205.0                   Touama          041.11.27   \n",
       "211             5612.0          Zaouia Annahlia          161.07.15   \n",
       "212             2078.0        Zaouiat Ben Hmida          211.03.51   \n",
       "213             5279.0                  Zemrane          191.07.31   \n",
       "214             9456.0          Zemrane Charqia          191.07.33   \n",
       "215             6942.0                  Zerkten          041.11.29   \n",
       "216             2817.0                    ZNADA          191.03.41   \n",
       "\n",
       "     Population_2014 Age_Mariage_2014  Taux_Activite_2014  \\\n",
       "157             5391             27.5                43.6   \n",
       "158             9181             26.7                45.6   \n",
       "159             6145             25.7                44.6   \n",
       "160             8142             24.8                  51   \n",
       "161             8935             27.4                43.9   \n",
       "162             9421             24.4                48.7   \n",
       "163             6462             26.7                  41   \n",
       "164            10099             26.1                53.5   \n",
       "165            10099             26.1                53.5   \n",
       "166            10099             26.1                53.5   \n",
       "167             4034             27.2                  41   \n",
       "168             5463             27.2                36.9   \n",
       "169             9773             26.3                47.8   \n",
       "170             4625             28.1                45.6   \n",
       "171            12357             26.4                48.2   \n",
       "172             5488               27                  49   \n",
       "173             5636             27.1                44.5   \n",
       "174             5341               26                50.9   \n",
       "175             9684               25                40.2   \n",
       "176             9857             28.5                44.1   \n",
       "177           122866             29.8                49.5   \n",
       "178            15453             26.9                  47   \n",
       "179             8865             24.7                50.9   \n",
       "180             8026               26                40.7   \n",
       "181            28164               26                47.2   \n",
       "182             3850             26.7                42.4   \n",
       "183            24120             26.2                44.3   \n",
       "184             5617             26.8                44.9   \n",
       "185             7293             26.1                47.7   \n",
       "186            11623             26.8                47.8   \n",
       "187             3919             25.5                39.3   \n",
       "188            10968             27.4                42.7   \n",
       "189             4312             26.3                39.9   \n",
       "190             7859             26.4                46.2   \n",
       "191             4328             27.4                46.9   \n",
       "192            10540             28.7                46.7   \n",
       "193            16539             26.7                47.1   \n",
       "194            10572             27.1                42.3   \n",
       "195            15846               28                45.9   \n",
       "196            28977             26.2                49.4   \n",
       "197            10682               26                39.8   \n",
       "198             5651             25.3                49.1   \n",
       "199             7605               28                42.7   \n",
       "200            71086             25.2                49.7   \n",
       "201            15237             28.3                44.9   \n",
       "202            21706             28.7                49.8   \n",
       "203             4057             26.8                45.9   \n",
       "204            22971             27.2                  50   \n",
       "205             7825               28                  39   \n",
       "206             5181             26.3                40.8   \n",
       "207             7078             27.5                38.9   \n",
       "208             4887             26.3                44.2   \n",
       "209             9932             26.6                45.7   \n",
       "210            11243             28.2                43.4   \n",
       "211            10757             26.7                39.9   \n",
       "212             6878             26.9                44.3   \n",
       "213            14338             26.3                43.9   \n",
       "214            29087             27.5                43.5   \n",
       "215            19926             27.7                39.4   \n",
       "216             6712             24.9                45.5   \n",
       "\n",
       "    Taux_Analphabetisme_2014  \n",
       "157                     41.6  \n",
       "158                     32.6  \n",
       "159                       52  \n",
       "160                       56  \n",
       "161                     45.4  \n",
       "162                     53.3  \n",
       "163                     62.4  \n",
       "164                       68  \n",
       "165                       68  \n",
       "166                       68  \n",
       "167                     60.1  \n",
       "168                     51.6  \n",
       "169                     56.7  \n",
       "170                     49.1  \n",
       "171                     59.7  \n",
       "172                     62.6  \n",
       "173                     49.9  \n",
       "174                     58.3  \n",
       "175                     44.3  \n",
       "176                     36.2  \n",
       "177                     27.4  \n",
       "178                     46.2  \n",
       "179                     60.6  \n",
       "180                     45.2  \n",
       "181                     37.4  \n",
       "182                     39.4  \n",
       "183                     51.6  \n",
       "184                     49.8  \n",
       "185                     48.2  \n",
       "186                     21.7  \n",
       "187                     70.2  \n",
       "188                     53.3  \n",
       "189                     61.3  \n",
       "190                     43.5  \n",
       "191                       37  \n",
       "192                     52.3  \n",
       "193                       31  \n",
       "194                     40.2  \n",
       "195                     44.4  \n",
       "196                     34.3  \n",
       "197                     55.4  \n",
       "198                     53.7  \n",
       "199                     52.5  \n",
       "200                     30.5  \n",
       "201                       52  \n",
       "202                     54.5  \n",
       "203                     59.8  \n",
       "204                     56.1  \n",
       "205                     63.5  \n",
       "206                     44.1  \n",
       "207                     61.3  \n",
       "208                       43  \n",
       "209                     46.9  \n",
       "210                     49.6  \n",
       "211                     55.2  \n",
       "212                     49.2  \n",
       "213                     49.3  \n",
       "214                     44.5  \n",
       "215                     54.2  \n",
       "216                     45.3  \n",
       "\n",
       "[60 rows x 25 columns]"
      ]
     },
     "execution_count": 89,
     "metadata": {},
     "output_type": "execute_result"
    }
   ],
   "source": [
    "dfc2.tail(60)"
   ]
  },
  {
   "cell_type": "code",
   "execution_count": null,
   "metadata": {},
   "outputs": [],
   "source": [
    "dfc2.to_excel('RGPH2004_2014_requests.xlsx')"
   ]
  },
  {
   "cell_type": "markdown",
   "metadata": {},
   "source": [
    "#### Method 2 : Selenium "
   ]
  },
  {
   "cell_type": "markdown",
   "metadata": {},
   "source": [
    "Note : 'dfc2' in requests (method1) and 'dfc3' in selenium(method2). "
   ]
  },
  {
   "cell_type": "markdown",
   "metadata": {},
   "source": [
    "#### Identification of the pattern to automate : \n",
    "\n",
    "1. Get the website http://rgphentableaux.hcp.ma/Default1/\n",
    "2. Click on 'démographie' button.\n",
    "3. Click on 'communes' button.\n",
    "4. Write the name of the commune.\n",
    "5. Select it.\n",
    "6. Click on 'Afficher' button to show the data.\n",
    "7. get the data we want.\n",
    "8. Click on 'Education' button.\n",
    "9. Click on 'Afficher' button to retrieve the second information we want.\n",
    "10. get the data we want.\n",
    "11. Click on 'Activité' button.\n",
    "12. Get the data we want.\n",
    "13. Clear the search text box.\n"
   ]
  },
  {
   "cell_type": "code",
   "execution_count": 87,
   "metadata": {},
   "outputs": [],
   "source": [
    "dfc3 = dfc2.drop(['Population_2014', 'Taux_Activite_2014','Taux_Analphabetisme_2014','Age_Mariage_2014'], axis=1)\n",
    "dfc3['Population_2014'] = dfc3['Nom_Commune'] \n",
    "dfc3['Age_Mariage_2014'] = dfc3['Nom_Commune'] \n",
    "dfc3['Analphabetisme_2014'] = dfc3['Nom_Commune'] \n",
    "dfc3['Activite_2014'] = dfc3['Nom_Commune'] "
   ]
  },
  {
   "cell_type": "markdown",
   "metadata": {},
   "source": [
    "In this method, we inspect directly the code source. Selenium gives us many options to find the elements we want : \n",
    "    - by ID \n",
    "    - by class name\n",
    "    - by tag name (div, input, li, td...)\n",
    "    - by name\n",
    "    - by xpath (div/div/li.input...) \n",
    "\n",
    "This return a web element selenium or a list of web element selenium, the functions allowed with, are : \n",
    "    - element.click()\n",
    "    - element.send_keys()\n",
    "    - element.text\n",
    "    - element.size \n",
    "    ..."
   ]
  },
  {
   "cell_type": "markdown",
   "metadata": {},
   "source": [
    "Note : time.sleep() allows us to stop the process for some seconds while the hidden source code charging. 8s is the optimal time for my connection's speed, I tried 10 s it didn't get the correct data. <br>\n",
    "The automation code below last 25min-45min, it depends on connexion's speed, to extract 217 commune's characteristics, so I exported the results in a new dataframe 'RGPH2004_2014_selenium' in case you want to reduce the range of the loop for testing."
   ]
  },
  {
   "cell_type": "code",
   "execution_count": null,
   "metadata": {},
   "outputs": [],
   "source": [
    "browser = webdriver.Chrome()\n",
    "browser.get(\"http://rgphentableaux.hcp.ma/Default1/\")"
   ]
  },
  {
   "cell_type": "code",
   "execution_count": 227,
   "metadata": {},
   "outputs": [],
   "source": [
    "for i in range(0,217) :\n",
    "    \n",
    "    ## the buttons's tag name is 'input', so we will find them all\n",
    "    buttons = browser.find_elements_by_tag_name('input')\n",
    "     ## 'démographie' button\n",
    "    buttons[1].click()\n",
    "     ## 'communes' button \n",
    "    buttons[10].click() \n",
    "    time.sleep(2)\n",
    "     ## get the search text box which class name is 'default'  \n",
    "    search= browser.find_elements_by_class_name('default')\n",
    "    search[2].click()\n",
    "    time.sleep(1)\n",
    "     ## send each of the commune's website name in dfc\n",
    "    search[2].send_keys(dfc3.loc[i, 'Nom_Commune_Site'])\n",
    "     ## select the first result highlighted, after sending the text\n",
    "    browser.find_element_by_xpath(\"//li[@class='active-result highlighted']\").click()\n",
    "    buttons = browser.find_elements_by_tag_name('input')\n",
    "     ## for the result above, click on 'afficher'\n",
    "    browser.execute_script(\"arguments[0].click();\", buttons[14])\n",
    "    time.sleep(8)\n",
    "     ## data extraction \n",
    "    population = browser.find_elements_by_tag_name('td')\n",
    "    dfc3.loc[i, 'Population_2014'] = population[3].text\n",
    "    dfc3.loc[i, 'Age_Mariage_2014'] = population[106].text\n",
    "    time.sleep(2)\n",
    "    buttons[3].click()\n",
    "    time.sleep(2)\n",
    "    buttons = browser.find_elements_by_tag_name('input')\n",
    "    browser.execute_script(\"arguments[0].click();\", buttons[14])\n",
    "    time.sleep(8)\n",
    "    analphabetisme = browser.find_elements_by_tag_name('td')\n",
    "    dfc3.loc[i, 'Analphabetisme_2014'] = analphabetisme[3].text\n",
    "    time.sleep(2)\n",
    "    buttons[5].click()\n",
    "    browser.execute_script(\"arguments[0].click();\", buttons[14])\n",
    "    time.sleep(8)\n",
    "    activite = browser.find_elements_by_tag_name('td')\n",
    "    dfc3.loc[i, 'Activite_2014'] = activite[12].text\n",
    "     ## clear the search text box\n",
    "    close = browser.find_element_by_class_name('search-choice-close')\n",
    "    time.sleep(2)\n",
    "    close.click()"
   ]
  },
  {
   "cell_type": "markdown",
   "metadata": {},
   "source": [
    "Note : If you reduced the range of the loop above, data,out of the range, will be lost. the code above is already saved in an excel file 'RGPH2004_2014_selenium' so you don't have to re-execute all of it. "
   ]
  },
  {
   "cell_type": "code",
   "execution_count": 95,
   "metadata": {},
   "outputs": [],
   "source": [
    "dfc3.to_excel('RGPH2004_2014_selenium.xlsx')"
   ]
  },
  {
   "cell_type": "markdown",
   "metadata": {},
   "source": [
    "Charge the complete datafame exported by the code above ('RGPH2004_2014_selenium.xlsx') in case you reduced the loop and you don't have all the data about all the comunes. <br>\n",
    "- Compare dfc3 and dfc2. "
   ]
  },
  {
   "cell_type": "code",
   "execution_count": 132,
   "metadata": {},
   "outputs": [],
   "source": [
    "dfc3 = pd.read_excel('RGPH2004_2014_selenium.xlsx')"
   ]
  },
  {
   "cell_type": "code",
   "execution_count": 144,
   "metadata": {},
   "outputs": [
    {
     "data": {
      "text/html": [
       "<div>\n",
       "<style scoped>\n",
       "    .dataframe tbody tr th:only-of-type {\n",
       "        vertical-align: middle;\n",
       "    }\n",
       "\n",
       "    .dataframe tbody tr th {\n",
       "        vertical-align: top;\n",
       "    }\n",
       "\n",
       "    .dataframe thead th {\n",
       "        text-align: right;\n",
       "    }\n",
       "</style>\n",
       "<table border=\"1\" class=\"dataframe\">\n",
       "  <thead>\n",
       "    <tr style=\"text-align: right;\">\n",
       "      <th></th>\n",
       "      <th>Unnamed: 0</th>\n",
       "      <th>Code_Province</th>\n",
       "      <th>Code_Commune</th>\n",
       "      <th>Nom_Commune</th>\n",
       "      <th>Type_Commune</th>\n",
       "      <th>Surface_ha</th>\n",
       "      <th>Population</th>\n",
       "      <th>Pop_inf6_pc</th>\n",
       "      <th>Pop_615_pc</th>\n",
       "      <th>Pop_1560_pc</th>\n",
       "      <th>...</th>\n",
       "      <th>population_active</th>\n",
       "      <th>Population_analphabete</th>\n",
       "      <th>Population_inf6</th>\n",
       "      <th>Population_615</th>\n",
       "      <th>Population_1560</th>\n",
       "      <th>Population_sup60</th>\n",
       "      <th>Population_2014</th>\n",
       "      <th>Age_Mariage_2014</th>\n",
       "      <th>Analphabetisme_2014</th>\n",
       "      <th>Activite_2014</th>\n",
       "    </tr>\n",
       "  </thead>\n",
       "  <tbody>\n",
       "    <tr>\n",
       "      <th>0</th>\n",
       "      <td>0</td>\n",
       "      <td>41</td>\n",
       "      <td>041.03.01</td>\n",
       "      <td>ABADOU</td>\n",
       "      <td>Rural</td>\n",
       "      <td>9504.74</td>\n",
       "      <td>9905</td>\n",
       "      <td>13.6</td>\n",
       "      <td>24.1</td>\n",
       "      <td>53.7</td>\n",
       "      <td>...</td>\n",
       "      <td>4021</td>\n",
       "      <td>5774.615</td>\n",
       "      <td>1347.080</td>\n",
       "      <td>2387.105</td>\n",
       "      <td>5318.985</td>\n",
       "      <td>851.830</td>\n",
       "      <td>10 602</td>\n",
       "      <td>26.8</td>\n",
       "      <td>44.2</td>\n",
       "      <td>48.8</td>\n",
       "    </tr>\n",
       "    <tr>\n",
       "      <th>1</th>\n",
       "      <td>1</td>\n",
       "      <td>211</td>\n",
       "      <td>211.05.01</td>\n",
       "      <td>ADAGHAS</td>\n",
       "      <td>Rural</td>\n",
       "      <td>9266.43</td>\n",
       "      <td>3321</td>\n",
       "      <td>17.2</td>\n",
       "      <td>24.3</td>\n",
       "      <td>48.5</td>\n",
       "      <td>...</td>\n",
       "      <td>1249</td>\n",
       "      <td>2261.601</td>\n",
       "      <td>571.212</td>\n",
       "      <td>807.003</td>\n",
       "      <td>1610.685</td>\n",
       "      <td>332.100</td>\n",
       "      <td>2 811</td>\n",
       "      <td>28.3</td>\n",
       "      <td>63.0</td>\n",
       "      <td>40.2</td>\n",
       "    </tr>\n",
       "    <tr>\n",
       "      <th>2</th>\n",
       "      <td>2</td>\n",
       "      <td>161</td>\n",
       "      <td>161.07.01</td>\n",
       "      <td>ADASSIL</td>\n",
       "      <td>Rural</td>\n",
       "      <td>14560.61</td>\n",
       "      <td>7212</td>\n",
       "      <td>15.4</td>\n",
       "      <td>26.9</td>\n",
       "      <td>49.8</td>\n",
       "      <td>...</td>\n",
       "      <td>3462</td>\n",
       "      <td>5639.784</td>\n",
       "      <td>1110.648</td>\n",
       "      <td>1940.028</td>\n",
       "      <td>3591.576</td>\n",
       "      <td>569.748</td>\n",
       "      <td>7 454</td>\n",
       "      <td>25.8</td>\n",
       "      <td>62.6</td>\n",
       "      <td>51.6</td>\n",
       "    </tr>\n",
       "    <tr>\n",
       "      <th>3</th>\n",
       "      <td>3</td>\n",
       "      <td>161</td>\n",
       "      <td>161.05.01</td>\n",
       "      <td>AFALLA ISSEN</td>\n",
       "      <td>Rural</td>\n",
       "      <td>12295.32</td>\n",
       "      <td>7961</td>\n",
       "      <td>15.4</td>\n",
       "      <td>25.5</td>\n",
       "      <td>51.5</td>\n",
       "      <td>...</td>\n",
       "      <td>2802</td>\n",
       "      <td>6790.733</td>\n",
       "      <td>1225.994</td>\n",
       "      <td>2030.055</td>\n",
       "      <td>4099.915</td>\n",
       "      <td>605.036</td>\n",
       "      <td>8 129</td>\n",
       "      <td>27.3</td>\n",
       "      <td>60.6</td>\n",
       "      <td>38.1</td>\n",
       "    </tr>\n",
       "    <tr>\n",
       "      <th>4</th>\n",
       "      <td>4</td>\n",
       "      <td>351</td>\n",
       "      <td>351.05.01</td>\n",
       "      <td>AGAFAY</td>\n",
       "      <td>Rural</td>\n",
       "      <td>18889.36</td>\n",
       "      <td>11079</td>\n",
       "      <td>12.7</td>\n",
       "      <td>20.8</td>\n",
       "      <td>59.3</td>\n",
       "      <td>...</td>\n",
       "      <td>3556</td>\n",
       "      <td>6580.926</td>\n",
       "      <td>1407.033</td>\n",
       "      <td>2304.432</td>\n",
       "      <td>6569.847</td>\n",
       "      <td>797.688</td>\n",
       "      <td>15 452</td>\n",
       "      <td>26.1</td>\n",
       "      <td>43.9</td>\n",
       "      <td>43.7</td>\n",
       "    </tr>\n",
       "  </tbody>\n",
       "</table>\n",
       "<p>5 rows × 29 columns</p>\n",
       "</div>"
      ],
      "text/plain": [
       "   Unnamed: 0  Code_Province Code_Commune   Nom_Commune Type_Commune  \\\n",
       "0           0             41    041.03.01        ABADOU        Rural   \n",
       "1           1            211    211.05.01       ADAGHAS        Rural   \n",
       "2           2            161    161.07.01       ADASSIL        Rural   \n",
       "3           3            161    161.05.01  AFALLA ISSEN        Rural   \n",
       "4           4            351    351.05.01        AGAFAY        Rural   \n",
       "\n",
       "   Surface_ha  Population  Pop_inf6_pc  Pop_615_pc  Pop_1560_pc  ...  \\\n",
       "0     9504.74        9905         13.6        24.1         53.7  ...   \n",
       "1     9266.43        3321         17.2        24.3         48.5  ...   \n",
       "2    14560.61        7212         15.4        26.9         49.8  ...   \n",
       "3    12295.32        7961         15.4        25.5         51.5  ...   \n",
       "4    18889.36       11079         12.7        20.8         59.3  ...   \n",
       "\n",
       "   population_active  Population_analphabete  Population_inf6  Population_615  \\\n",
       "0               4021                5774.615         1347.080        2387.105   \n",
       "1               1249                2261.601          571.212         807.003   \n",
       "2               3462                5639.784         1110.648        1940.028   \n",
       "3               2802                6790.733         1225.994        2030.055   \n",
       "4               3556                6580.926         1407.033        2304.432   \n",
       "\n",
       "   Population_1560  Population_sup60  Population_2014  Age_Mariage_2014  \\\n",
       "0         5318.985           851.830           10 602              26.8   \n",
       "1         1610.685           332.100            2 811              28.3   \n",
       "2         3591.576           569.748            7 454              25.8   \n",
       "3         4099.915           605.036            8 129              27.3   \n",
       "4         6569.847           797.688           15 452              26.1   \n",
       "\n",
       "  Analphabetisme_2014  Activite_2014  \n",
       "0                44.2           48.8  \n",
       "1                63.0           40.2  \n",
       "2                62.6           51.6  \n",
       "3                60.6           38.1  \n",
       "4                43.9           43.7  \n",
       "\n",
       "[5 rows x 29 columns]"
      ]
     },
     "execution_count": 144,
     "metadata": {},
     "output_type": "execute_result"
    }
   ],
   "source": [
    "dfc3.head()"
   ]
  },
  {
   "cell_type": "code",
   "execution_count": 94,
   "metadata": {},
   "outputs": [
    {
     "data": {
      "text/html": [
       "<div>\n",
       "<style scoped>\n",
       "    .dataframe tbody tr th:only-of-type {\n",
       "        vertical-align: middle;\n",
       "    }\n",
       "\n",
       "    .dataframe tbody tr th {\n",
       "        vertical-align: top;\n",
       "    }\n",
       "\n",
       "    .dataframe thead th {\n",
       "        text-align: right;\n",
       "    }\n",
       "</style>\n",
       "<table border=\"1\" class=\"dataframe\">\n",
       "  <thead>\n",
       "    <tr style=\"text-align: right;\">\n",
       "      <th></th>\n",
       "      <th>Code_Province</th>\n",
       "      <th>Code_Commune</th>\n",
       "      <th>Nom_Commune</th>\n",
       "      <th>Type_Commune</th>\n",
       "      <th>Surface_ha</th>\n",
       "      <th>Population</th>\n",
       "      <th>Pop_inf6_pc</th>\n",
       "      <th>Pop_615_pc</th>\n",
       "      <th>Pop_1560_pc</th>\n",
       "      <th>Pop_sup60_pc</th>\n",
       "      <th>...</th>\n",
       "      <th>Taux_activite</th>\n",
       "      <th>densite_pop</th>\n",
       "      <th>Nom_Province</th>\n",
       "      <th>population_active</th>\n",
       "      <th>Nom_Commune_Site</th>\n",
       "      <th>Code_Commune_2014</th>\n",
       "      <th>Population_2014</th>\n",
       "      <th>Age_Mariage_2014</th>\n",
       "      <th>Taux_Activite_2014</th>\n",
       "      <th>Taux_Analphabetisme_2014</th>\n",
       "    </tr>\n",
       "  </thead>\n",
       "  <tbody>\n",
       "    <tr>\n",
       "      <th>0</th>\n",
       "      <td>041</td>\n",
       "      <td>041.03.01</td>\n",
       "      <td>ABADOU</td>\n",
       "      <td>Rural</td>\n",
       "      <td>9504.74</td>\n",
       "      <td>9905</td>\n",
       "      <td>13.6</td>\n",
       "      <td>24.1</td>\n",
       "      <td>53.7</td>\n",
       "      <td>8.6</td>\n",
       "      <td>...</td>\n",
       "      <td>40.6</td>\n",
       "      <td>104.211162</td>\n",
       "      <td>AL HAOUZ</td>\n",
       "      <td>4021.0</td>\n",
       "      <td>Abadou</td>\n",
       "      <td>041.11.01</td>\n",
       "      <td>10602</td>\n",
       "      <td>26.8</td>\n",
       "      <td>48.8</td>\n",
       "      <td>44.2</td>\n",
       "    </tr>\n",
       "    <tr>\n",
       "      <th>1</th>\n",
       "      <td>211</td>\n",
       "      <td>211.05.01</td>\n",
       "      <td>ADAGHAS</td>\n",
       "      <td>Rural</td>\n",
       "      <td>9266.43</td>\n",
       "      <td>3321</td>\n",
       "      <td>17.2</td>\n",
       "      <td>24.3</td>\n",
       "      <td>48.5</td>\n",
       "      <td>10.0</td>\n",
       "      <td>...</td>\n",
       "      <td>37.6</td>\n",
       "      <td>35.839045</td>\n",
       "      <td>ESSAOUIRA</td>\n",
       "      <td>1249.0</td>\n",
       "      <td>Adaghas</td>\n",
       "      <td>211.05.01</td>\n",
       "      <td>2811</td>\n",
       "      <td>28.3</td>\n",
       "      <td>40.2</td>\n",
       "      <td>63</td>\n",
       "    </tr>\n",
       "    <tr>\n",
       "      <th>2</th>\n",
       "      <td>161</td>\n",
       "      <td>161.07.01</td>\n",
       "      <td>ADASSIL</td>\n",
       "      <td>Rural</td>\n",
       "      <td>14560.61</td>\n",
       "      <td>7212</td>\n",
       "      <td>15.4</td>\n",
       "      <td>26.9</td>\n",
       "      <td>49.8</td>\n",
       "      <td>7.9</td>\n",
       "      <td>...</td>\n",
       "      <td>48.0</td>\n",
       "      <td>49.530892</td>\n",
       "      <td>CHICHAOUA</td>\n",
       "      <td>3462.0</td>\n",
       "      <td>Adassil</td>\n",
       "      <td>161.07.01</td>\n",
       "      <td>7454</td>\n",
       "      <td>25.8</td>\n",
       "      <td>51.6</td>\n",
       "      <td>62.6</td>\n",
       "    </tr>\n",
       "    <tr>\n",
       "      <th>3</th>\n",
       "      <td>161</td>\n",
       "      <td>161.05.01</td>\n",
       "      <td>AFALLA ISSEN</td>\n",
       "      <td>Rural</td>\n",
       "      <td>12295.32</td>\n",
       "      <td>7961</td>\n",
       "      <td>15.4</td>\n",
       "      <td>25.5</td>\n",
       "      <td>51.5</td>\n",
       "      <td>7.6</td>\n",
       "      <td>...</td>\n",
       "      <td>35.2</td>\n",
       "      <td>64.748213</td>\n",
       "      <td>CHICHAOUA</td>\n",
       "      <td>2802.0</td>\n",
       "      <td>Afalla Issen</td>\n",
       "      <td>161.05.01</td>\n",
       "      <td>8129</td>\n",
       "      <td>27.3</td>\n",
       "      <td>38.1</td>\n",
       "      <td>60.6</td>\n",
       "    </tr>\n",
       "    <tr>\n",
       "      <th>4</th>\n",
       "      <td>351</td>\n",
       "      <td>351.05.01</td>\n",
       "      <td>AGAFAY</td>\n",
       "      <td>Rural</td>\n",
       "      <td>18889.36</td>\n",
       "      <td>11079</td>\n",
       "      <td>12.7</td>\n",
       "      <td>20.8</td>\n",
       "      <td>59.3</td>\n",
       "      <td>7.2</td>\n",
       "      <td>...</td>\n",
       "      <td>32.1</td>\n",
       "      <td>58.652067</td>\n",
       "      <td>MARRAKECH</td>\n",
       "      <td>3556.0</td>\n",
       "      <td>Agafay</td>\n",
       "      <td>351.05.01</td>\n",
       "      <td>15452</td>\n",
       "      <td>26.1</td>\n",
       "      <td>43.7</td>\n",
       "      <td>43.9</td>\n",
       "    </tr>\n",
       "  </tbody>\n",
       "</table>\n",
       "<p>5 rows × 25 columns</p>\n",
       "</div>"
      ],
      "text/plain": [
       "  Code_Province Code_Commune   Nom_Commune Type_Commune  Surface_ha  \\\n",
       "0           041    041.03.01        ABADOU        Rural     9504.74   \n",
       "1           211    211.05.01       ADAGHAS        Rural     9266.43   \n",
       "2           161    161.07.01       ADASSIL        Rural    14560.61   \n",
       "3           161    161.05.01  AFALLA ISSEN        Rural    12295.32   \n",
       "4           351    351.05.01        AGAFAY        Rural    18889.36   \n",
       "\n",
       "   Population  Pop_inf6_pc  Pop_615_pc  Pop_1560_pc  Pop_sup60_pc  ...  \\\n",
       "0        9905         13.6        24.1         53.7           8.6  ...   \n",
       "1        3321         17.2        24.3         48.5          10.0  ...   \n",
       "2        7212         15.4        26.9         49.8           7.9  ...   \n",
       "3        7961         15.4        25.5         51.5           7.6  ...   \n",
       "4       11079         12.7        20.8         59.3           7.2  ...   \n",
       "\n",
       "   Taux_activite  densite_pop  Nom_Province  population_active  \\\n",
       "0           40.6   104.211162      AL HAOUZ             4021.0   \n",
       "1           37.6    35.839045     ESSAOUIRA             1249.0   \n",
       "2           48.0    49.530892     CHICHAOUA             3462.0   \n",
       "3           35.2    64.748213     CHICHAOUA             2802.0   \n",
       "4           32.1    58.652067     MARRAKECH             3556.0   \n",
       "\n",
       "   Nom_Commune_Site  Code_Commune_2014  Population_2014 Age_Mariage_2014  \\\n",
       "0            Abadou          041.11.01            10602             26.8   \n",
       "1           Adaghas          211.05.01             2811             28.3   \n",
       "2           Adassil          161.07.01             7454             25.8   \n",
       "3      Afalla Issen          161.05.01             8129             27.3   \n",
       "4            Agafay          351.05.01            15452             26.1   \n",
       "\n",
       "   Taux_Activite_2014 Taux_Analphabetisme_2014  \n",
       "0                48.8                     44.2  \n",
       "1                40.2                       63  \n",
       "2                51.6                     62.6  \n",
       "3                38.1                     60.6  \n",
       "4                43.7                     43.9  \n",
       "\n",
       "[5 rows x 25 columns]"
      ]
     },
     "execution_count": 94,
     "metadata": {},
     "output_type": "execute_result"
    }
   ],
   "source": [
    "dfc2.head()"
   ]
  },
  {
   "cell_type": "markdown",
   "metadata": {},
   "source": [
    "## Question 26"
   ]
  },
  {
   "cell_type": "markdown",
   "metadata": {},
   "source": [
    "Calculate the population growth rate of each commune ((population 2014- Population 2004) / population 2004)"
   ]
  },
  {
   "cell_type": "markdown",
   "metadata": {},
   "source": [
    "First we should remove spaces in the column 'Population_2014' in order to convert it from string to integer. (e.g '10 345' --> '10345')"
   ]
  },
  {
   "cell_type": "code",
   "execution_count": 71,
   "metadata": {},
   "outputs": [],
   "source": [
    "dfc2['Population_2014'] = dfc2['Population_2014'].str.replace(\" \",\"\")"
   ]
  },
  {
   "cell_type": "code",
   "execution_count": 96,
   "metadata": {},
   "outputs": [],
   "source": [
    "dfc2['Population_2014'] = dfc2['Population_2014'].astype(int)"
   ]
  },
  {
   "cell_type": "code",
   "execution_count": 97,
   "metadata": {},
   "outputs": [],
   "source": [
    "dfc2['Taux_Accroissement'] = round(((dfc2['Population_2014'] - dfc2['Population'])/dfc2['Population'])*100,2)"
   ]
  },
  {
   "cell_type": "code",
   "execution_count": 98,
   "metadata": {},
   "outputs": [
    {
     "data": {
      "text/html": [
       "<div>\n",
       "<style scoped>\n",
       "    .dataframe tbody tr th:only-of-type {\n",
       "        vertical-align: middle;\n",
       "    }\n",
       "\n",
       "    .dataframe tbody tr th {\n",
       "        vertical-align: top;\n",
       "    }\n",
       "\n",
       "    .dataframe thead th {\n",
       "        text-align: right;\n",
       "    }\n",
       "</style>\n",
       "<table border=\"1\" class=\"dataframe\">\n",
       "  <thead>\n",
       "    <tr style=\"text-align: right;\">\n",
       "      <th></th>\n",
       "      <th>Nom_Commune</th>\n",
       "      <th>Taux_Accroissement</th>\n",
       "    </tr>\n",
       "  </thead>\n",
       "  <tbody>\n",
       "    <tr>\n",
       "      <th>0</th>\n",
       "      <td>ABADOU</td>\n",
       "      <td>7.04</td>\n",
       "    </tr>\n",
       "    <tr>\n",
       "      <th>1</th>\n",
       "      <td>ADAGHAS</td>\n",
       "      <td>-15.36</td>\n",
       "    </tr>\n",
       "    <tr>\n",
       "      <th>2</th>\n",
       "      <td>ADASSIL</td>\n",
       "      <td>3.36</td>\n",
       "    </tr>\n",
       "    <tr>\n",
       "      <th>3</th>\n",
       "      <td>AFALLA ISSEN</td>\n",
       "      <td>2.11</td>\n",
       "    </tr>\n",
       "    <tr>\n",
       "      <th>4</th>\n",
       "      <td>AGAFAY</td>\n",
       "      <td>39.47</td>\n",
       "    </tr>\n",
       "    <tr>\n",
       "      <th>5</th>\n",
       "      <td>AGHBAR</td>\n",
       "      <td>12.46</td>\n",
       "    </tr>\n",
       "    <tr>\n",
       "      <th>6</th>\n",
       "      <td>AGLIF</td>\n",
       "      <td>-10.14</td>\n",
       "    </tr>\n",
       "    <tr>\n",
       "      <th>7</th>\n",
       "      <td>AGUERD</td>\n",
       "      <td>9.38</td>\n",
       "    </tr>\n",
       "    <tr>\n",
       "      <th>8</th>\n",
       "      <td>AHDIL</td>\n",
       "      <td>-2.77</td>\n",
       "    </tr>\n",
       "    <tr>\n",
       "      <th>9</th>\n",
       "      <td>AIN TAZITOUNTE</td>\n",
       "      <td>-7.37</td>\n",
       "    </tr>\n",
       "  </tbody>\n",
       "</table>\n",
       "</div>"
      ],
      "text/plain": [
       "      Nom_Commune  Taux_Accroissement\n",
       "0          ABADOU                7.04\n",
       "1         ADAGHAS              -15.36\n",
       "2         ADASSIL                3.36\n",
       "3    AFALLA ISSEN                2.11\n",
       "4          AGAFAY               39.47\n",
       "5          AGHBAR               12.46\n",
       "6           AGLIF              -10.14\n",
       "7          AGUERD                9.38\n",
       "8           AHDIL               -2.77\n",
       "9  AIN TAZITOUNTE               -7.37"
      ]
     },
     "execution_count": 98,
     "metadata": {},
     "output_type": "execute_result"
    }
   ],
   "source": [
    "dfc2[['Nom_Commune','Taux_Accroissement']].head(10)"
   ]
  },
  {
   "cell_type": "markdown",
   "metadata": {},
   "source": [
    "## Question 27"
   ]
  },
  {
   "cell_type": "markdown",
   "metadata": {},
   "source": [
    "Calculate the population growth rate of each province."
   ]
  },
  {
   "cell_type": "code",
   "execution_count": 104,
   "metadata": {},
   "outputs": [],
   "source": [
    "dfp2 = round((((dfc2.groupby('Nom_Province')['Population_2014'].sum()) - (dfc2.groupby('Nom_Province')['Population'].sum()))/(dfc2.groupby('Nom_Province')['Population'].sum()))*100,2).to_frame('Taux_accroissement_provinces_%')"
   ]
  },
  {
   "cell_type": "code",
   "execution_count": 105,
   "metadata": {},
   "outputs": [],
   "source": [
    "dfp2['Population_2004'] = dfp['Population']"
   ]
  },
  {
   "cell_type": "code",
   "execution_count": 106,
   "metadata": {},
   "outputs": [],
   "source": [
    "dfp2['Population_2014'] = dfc2.groupby('Nom_Province')['Population_2014'].sum()"
   ]
  },
  {
   "cell_type": "code",
   "execution_count": 107,
   "metadata": {},
   "outputs": [
    {
     "data": {
      "text/html": [
       "<div>\n",
       "<style scoped>\n",
       "    .dataframe tbody tr th:only-of-type {\n",
       "        vertical-align: middle;\n",
       "    }\n",
       "\n",
       "    .dataframe tbody tr th {\n",
       "        vertical-align: top;\n",
       "    }\n",
       "\n",
       "    .dataframe thead th {\n",
       "        text-align: right;\n",
       "    }\n",
       "</style>\n",
       "<table border=\"1\" class=\"dataframe\">\n",
       "  <thead>\n",
       "    <tr style=\"text-align: right;\">\n",
       "      <th></th>\n",
       "      <th>Taux_accroissement_provinces_%</th>\n",
       "      <th>Population_2004</th>\n",
       "      <th>Population_2014</th>\n",
       "    </tr>\n",
       "    <tr>\n",
       "      <th>Nom_Province</th>\n",
       "      <th></th>\n",
       "      <th></th>\n",
       "      <th></th>\n",
       "    </tr>\n",
       "  </thead>\n",
       "  <tbody>\n",
       "    <tr>\n",
       "      <th>AL HAOUZ</th>\n",
       "      <td>11.89</td>\n",
       "      <td>483741</td>\n",
       "      <td>541254</td>\n",
       "    </tr>\n",
       "    <tr>\n",
       "      <th>CHICHAOUA</th>\n",
       "      <td>9.06</td>\n",
       "      <td>339510</td>\n",
       "      <td>370267</td>\n",
       "    </tr>\n",
       "    <tr>\n",
       "      <th>ESSAOUIRA</th>\n",
       "      <td>0.55</td>\n",
       "      <td>452040</td>\n",
       "      <td>454514</td>\n",
       "    </tr>\n",
       "    <tr>\n",
       "      <th>KELAA SERAGHNA</th>\n",
       "      <td>11.52</td>\n",
       "      <td>749632</td>\n",
       "      <td>835976</td>\n",
       "    </tr>\n",
       "    <tr>\n",
       "      <th>MARRAKECH</th>\n",
       "      <td>24.41</td>\n",
       "      <td>1063415</td>\n",
       "      <td>1323005</td>\n",
       "    </tr>\n",
       "  </tbody>\n",
       "</table>\n",
       "</div>"
      ],
      "text/plain": [
       "                Taux_accroissement_provinces_%  Population_2004  \\\n",
       "Nom_Province                                                      \n",
       "AL HAOUZ                                 11.89           483741   \n",
       "CHICHAOUA                                 9.06           339510   \n",
       "ESSAOUIRA                                 0.55           452040   \n",
       "KELAA SERAGHNA                           11.52           749632   \n",
       "MARRAKECH                                24.41          1063415   \n",
       "\n",
       "                Population_2014  \n",
       "Nom_Province                     \n",
       "AL HAOUZ                 541254  \n",
       "CHICHAOUA                370267  \n",
       "ESSAOUIRA                454514  \n",
       "KELAA SERAGHNA           835976  \n",
       "MARRAKECH               1323005  "
      ]
     },
     "execution_count": 107,
     "metadata": {},
     "output_type": "execute_result"
    }
   ],
   "source": [
    "dfp2"
   ]
  },
  {
   "cell_type": "markdown",
   "metadata": {},
   "source": [
    "## Question 28"
   ]
  },
  {
   "cell_type": "markdown",
   "metadata": {},
   "source": [
    "Draw a graph highlighting the change in the population of each province between 2004 and 2014."
   ]
  },
  {
   "cell_type": "code",
   "execution_count": 108,
   "metadata": {},
   "outputs": [
    {
     "data": {
      "text/plain": [
       "<matplotlib.axes._subplots.AxesSubplot at 0x1c24a51dd8>"
      ]
     },
     "execution_count": 108,
     "metadata": {},
     "output_type": "execute_result"
    },
    {
     "data": {
      "image/png": "[encoded data removed]",
      "text/plain": [
       "<Figure size 648x432 with 1 Axes>"
      ]
     },
     "metadata": {},
     "output_type": "display_data"
    }
   ],
   "source": [
    "dfp2[['Population_2004', 'Population_2014']].plot(kind='bar', figsize=(9,6), colormap='Greens', title='La variation de la population des provinces de la région de Marrakech-Tansift de 2004 à 2014')\n"
   ]
  },
  {
   "cell_type": "code",
   "execution_count": 109,
   "metadata": {},
   "outputs": [
    {
     "data": {
      "application/vnd.plotly.v1+json": {
       "config": {
        "linkText": "Export to plot.ly",
        "plotlyServerURL": "https://plot.ly",
        "showLink": true
       },
       "data": [
        {
         "marker": {
          "color": "rgba(224, 243, 219, 0.6)",
          "line": {
           "color": "rgba(224, 243, 219, 1.0)",
           "width": 1
          }
         },
         "name": "Population_2004",
         "orientation": "h",
         "text": "",
         "type": "bar",
         "x": [
          483741,
          339510,
          452040,
          749632,
          1063415
         ],
         "y": [
          "AL HAOUZ",
          "CHICHAOUA",
          "ESSAOUIRA",
          "KELAA SERAGHNA",
          "MARRAKECH"
         ]
        },
        {
         "marker": {
          "color": "rgba(168, 221, 181, 0.6)",
          "line": {
           "color": "rgba(168, 221, 181, 1.0)",
           "width": 1
          }
         },
         "name": "Population_2014",
         "orientation": "h",
         "text": "",
         "type": "bar",
         "x": [
          541254,
          370267,
          454514,
          835976,
          1323005
         ],
         "y": [
          "AL HAOUZ",
          "CHICHAOUA",
          "ESSAOUIRA",
          "KELAA SERAGHNA",
          "MARRAKECH"
         ]
        }
       ],
       "layout": {
        "barmode": "overlay",
        "legend": {
         "bgcolor": "#151516",
         "font": {
          "color": "#D9D9D9"
         }
        },
        "paper_bgcolor": "#151516",
        "plot_bgcolor": "#151516",
        "template": {
         "data": {
          "bar": [
           {
            "error_x": {
             "color": "#2a3f5f"
            },
            "error_y": {
             "color": "#2a3f5f"
            },
            "marker": {
             "line": {
              "color": "#E5ECF6",
              "width": 0.5
             }
            },
            "type": "bar"
           }
          ],
          "barpolar": [
           {
            "marker": {
             "line": {
              "color": "#E5ECF6",
              "width": 0.5
             }
            },
            "type": "barpolar"
           }
          ],
          "carpet": [
           {
            "aaxis": {
             "endlinecolor": "#2a3f5f",
             "gridcolor": "white",
             "linecolor": "white",
             "minorgridcolor": "white",
             "startlinecolor": "#2a3f5f"
            },
            "baxis": {
             "endlinecolor": "#2a3f5f",
             "gridcolor": "white",
             "linecolor": "white",
             "minorgridcolor": "white",
             "startlinecolor": "#2a3f5f"
            },
            "type": "carpet"
           }
          ],
          "choropleth": [
           {
            "colorbar": {
             "outlinewidth": 0,
             "ticks": ""
            },
            "type": "choropleth"
           }
          ],
          "contour": [
           {
            "colorbar": {
             "outlinewidth": 0,
             "ticks": ""
            },
            "colorscale": [
             [
              0,
              "#0d0887"
             ],
             [
              0.1111111111111111,
              "#46039f"
             ],
             [
              0.2222222222222222,
              "#7201a8"
             ],
             [
              0.3333333333333333,
              "#9c179e"
             ],
             [
              0.4444444444444444,
              "#bd3786"
             ],
             [
              0.5555555555555556,
              "#d8576b"
             ],
             [
              0.6666666666666666,
              "#ed7953"
             ],
             [
              0.7777777777777778,
              "#fb9f3a"
             ],
             [
              0.8888888888888888,
              "#fdca26"
             ],
             [
              1,
              "#f0f921"
             ]
            ],
            "type": "contour"
           }
          ],
          "contourcarpet": [
           {
            "colorbar": {
             "outlinewidth": 0,
             "ticks": ""
            },
            "type": "contourcarpet"
           }
          ],
          "heatmap": [
           {
            "colorbar": {
             "outlinewidth": 0,
             "ticks": ""
            },
            "colorscale": [
             [
              0,
              "#0d0887"
             ],
             [
              0.1111111111111111,
              "#46039f"
             ],
             [
              0.2222222222222222,
              "#7201a8"
             ],
             [
              0.3333333333333333,
              "#9c179e"
             ],
             [
              0.4444444444444444,
              "#bd3786"
             ],
             [
              0.5555555555555556,
              "#d8576b"
             ],
             [
              0.6666666666666666,
              "#ed7953"
             ],
             [
              0.7777777777777778,
              "#fb9f3a"
             ],
             [
              0.8888888888888888,
              "#fdca26"
             ],
             [
              1,
              "#f0f921"
             ]
            ],
            "type": "heatmap"
           }
          ],
          "heatmapgl": [
           {
            "colorbar": {
             "outlinewidth": 0,
             "ticks": ""
            },
            "colorscale": [
             [
              0,
              "#0d0887"
             ],
             [
              0.1111111111111111,
              "#46039f"
             ],
             [
              0.2222222222222222,
              "#7201a8"
             ],
             [
              0.3333333333333333,
              "#9c179e"
             ],
             [
              0.4444444444444444,
              "#bd3786"
             ],
             [
              0.5555555555555556,
              "#d8576b"
             ],
             [
              0.6666666666666666,
              "#ed7953"
             ],
             [
              0.7777777777777778,
              "#fb9f3a"
             ],
             [
              0.8888888888888888,
              "#fdca26"
             ],
             [
              1,
              "#f0f921"
             ]
            ],
            "type": "heatmapgl"
           }
          ],
          "histogram": [
           {
            "marker": {
             "colorbar": {
              "outlinewidth": 0,
              "ticks": ""
             }
            },
            "type": "histogram"
           }
          ],
          "histogram2d": [
           {
            "colorbar": {
             "outlinewidth": 0,
             "ticks": ""
            },
            "colorscale": [
             [
              0,
              "#0d0887"
             ],
             [
              0.1111111111111111,
              "#46039f"
             ],
             [
              0.2222222222222222,
              "#7201a8"
             ],
             [
              0.3333333333333333,
              "#9c179e"
             ],
             [
              0.4444444444444444,
              "#bd3786"
             ],
             [
              0.5555555555555556,
              "#d8576b"
             ],
             [
              0.6666666666666666,
              "#ed7953"
             ],
             [
              0.7777777777777778,
              "#fb9f3a"
             ],
             [
              0.8888888888888888,
              "#fdca26"
             ],
             [
              1,
              "#f0f921"
             ]
            ],
            "type": "histogram2d"
           }
          ],
          "histogram2dcontour": [
           {
            "colorbar": {
             "outlinewidth": 0,
             "ticks": ""
            },
            "colorscale": [
             [
              0,
              "#0d0887"
             ],
             [
              0.1111111111111111,
              "#46039f"
             ],
             [
              0.2222222222222222,
              "#7201a8"
             ],
             [
              0.3333333333333333,
              "#9c179e"
             ],
             [
              0.4444444444444444,
              "#bd3786"
             ],
             [
              0.5555555555555556,
              "#d8576b"
             ],
             [
              0.6666666666666666,
              "#ed7953"
             ],
             [
              0.7777777777777778,
              "#fb9f3a"
             ],
             [
              0.8888888888888888,
              "#fdca26"
             ],
             [
              1,
              "#f0f921"
             ]
            ],
            "type": "histogram2dcontour"
           }
          ],
          "mesh3d": [
           {
            "colorbar": {
             "outlinewidth": 0,
             "ticks": ""
            },
            "type": "mesh3d"
           }
          ],
          "parcoords": [
           {
            "line": {
             "colorbar": {
              "outlinewidth": 0,
              "ticks": ""
             }
            },
            "type": "parcoords"
           }
          ],
          "pie": [
           {
            "automargin": true,
            "type": "pie"
           }
          ],
          "scatter": [
           {
            "marker": {
             "colorbar": {
              "outlinewidth": 0,
              "ticks": ""
             }
            },
            "type": "scatter"
           }
          ],
          "scatter3d": [
           {
            "line": {
             "colorbar": {
              "outlinewidth": 0,
              "ticks": ""
             }
            },
            "marker": {
             "colorbar": {
              "outlinewidth": 0,
              "ticks": ""
             }
            },
            "type": "scatter3d"
           }
          ],
          "scattercarpet": [
           {
            "marker": {
             "colorbar": {
              "outlinewidth": 0,
              "ticks": ""
             }
            },
            "type": "scattercarpet"
           }
          ],
          "scattergeo": [
           {
            "marker": {
             "colorbar": {
              "outlinewidth": 0,
              "ticks": ""
             }
            },
            "type": "scattergeo"
           }
          ],
          "scattergl": [
           {
            "marker": {
             "colorbar": {
              "outlinewidth": 0,
              "ticks": ""
             }
            },
            "type": "scattergl"
           }
          ],
          "scattermapbox": [
           {
            "marker": {
             "colorbar": {
              "outlinewidth": 0,
              "ticks": ""
             }
            },
            "type": "scattermapbox"
           }
          ],
          "scatterpolar": [
           {
            "marker": {
             "colorbar": {
              "outlinewidth": 0,
              "ticks": ""
             }
            },
            "type": "scatterpolar"
           }
          ],
          "scatterpolargl": [
           {
            "marker": {
             "colorbar": {
              "outlinewidth": 0,
              "ticks": ""
             }
            },
            "type": "scatterpolargl"
           }
          ],
          "scatterternary": [
           {
            "marker": {
             "colorbar": {
              "outlinewidth": 0,
              "ticks": ""
             }
            },
            "type": "scatterternary"
           }
          ],
          "surface": [
           {
            "colorbar": {
             "outlinewidth": 0,
             "ticks": ""
            },
            "colorscale": [
             [
              0,
              "#0d0887"
             ],
             [
              0.1111111111111111,
              "#46039f"
             ],
             [
              0.2222222222222222,
              "#7201a8"
             ],
             [
              0.3333333333333333,
              "#9c179e"
             ],
             [
              0.4444444444444444,
              "#bd3786"
             ],
             [
              0.5555555555555556,
              "#d8576b"
             ],
             [
              0.6666666666666666,
              "#ed7953"
             ],
             [
              0.7777777777777778,
              "#fb9f3a"
             ],
             [
              0.8888888888888888,
              "#fdca26"
             ],
             [
              1,
              "#f0f921"
             ]
            ],
            "type": "surface"
           }
          ],
          "table": [
           {
            "cells": {
             "fill": {
              "color": "#EBF0F8"
             },
             "line": {
              "color": "white"
             }
            },
            "header": {
             "fill": {
              "color": "#C8D4E3"
             },
             "line": {
              "color": "white"
             }
            },
            "type": "table"
           }
          ]
         },
         "layout": {
          "annotationdefaults": {
           "arrowcolor": "#2a3f5f",
           "arrowhead": 0,
           "arrowwidth": 1
          },
          "coloraxis": {
           "colorbar": {
            "outlinewidth": 0,
            "ticks": ""
           }
          },
          "colorscale": {
           "diverging": [
            [
             0,
             "#8e0152"
            ],
            [
             0.1,
             "#c51b7d"
            ],
            [
             0.2,
             "#de77ae"
            ],
            [
             0.3,
             "#f1b6da"
            ],
            [
             0.4,
             "#fde0ef"
            ],
            [
             0.5,
             "#f7f7f7"
            ],
            [
             0.6,
             "#e6f5d0"
            ],
            [
             0.7,
             "#b8e186"
            ],
            [
             0.8,
             "#7fbc41"
            ],
            [
             0.9,
             "#4d9221"
            ],
            [
             1,
             "#276419"
            ]
           ],
           "sequential": [
            [
             0,
             "#0d0887"
            ],
            [
             0.1111111111111111,
             "#46039f"
            ],
            [
             0.2222222222222222,
             "#7201a8"
            ],
            [
             0.3333333333333333,
             "#9c179e"
            ],
            [
             0.4444444444444444,
             "#bd3786"
            ],
            [
             0.5555555555555556,
             "#d8576b"
            ],
            [
             0.6666666666666666,
             "#ed7953"
            ],
            [
             0.7777777777777778,
             "#fb9f3a"
            ],
            [
             0.8888888888888888,
             "#fdca26"
            ],
            [
             1,
             "#f0f921"
            ]
           ],
           "sequentialminus": [
            [
             0,
             "#0d0887"
            ],
            [
             0.1111111111111111,
             "#46039f"
            ],
            [
             0.2222222222222222,
             "#7201a8"
            ],
            [
             0.3333333333333333,
             "#9c179e"
            ],
            [
             0.4444444444444444,
             "#bd3786"
            ],
            [
             0.5555555555555556,
             "#d8576b"
            ],
            [
             0.6666666666666666,
             "#ed7953"
            ],
            [
             0.7777777777777778,
             "#fb9f3a"
            ],
            [
             0.8888888888888888,
             "#fdca26"
            ],
            [
             1,
             "#f0f921"
            ]
           ]
          },
          "colorway": [
           "#636efa",
           "#EF553B",
           "#00cc96",
           "#ab63fa",
           "#FFA15A",
           "#19d3f3",
           "#FF6692",
           "#B6E880",
           "#FF97FF",
           "#FECB52"
          ],
          "font": {
           "color": "#2a3f5f"
          },
          "geo": {
           "bgcolor": "white",
           "lakecolor": "white",
           "landcolor": "#E5ECF6",
           "showlakes": true,
           "showland": true,
           "subunitcolor": "white"
          },
          "hoverlabel": {
           "align": "left"
          },
          "hovermode": "closest",
          "mapbox": {
           "style": "light"
          },
          "paper_bgcolor": "white",
          "plot_bgcolor": "#E5ECF6",
          "polar": {
           "angularaxis": {
            "gridcolor": "white",
            "linecolor": "white",
            "ticks": ""
           },
           "bgcolor": "#E5ECF6",
           "radialaxis": {
            "gridcolor": "white",
            "linecolor": "white",
            "ticks": ""
           }
          },
          "scene": {
           "xaxis": {
            "backgroundcolor": "#E5ECF6",
            "gridcolor": "white",
            "gridwidth": 2,
            "linecolor": "white",
            "showbackground": true,
            "ticks": "",
            "zerolinecolor": "white"
           },
           "yaxis": {
            "backgroundcolor": "#E5ECF6",
            "gridcolor": "white",
            "gridwidth": 2,
            "linecolor": "white",
            "showbackground": true,
            "ticks": "",
            "zerolinecolor": "white"
           },
           "zaxis": {
            "backgroundcolor": "#E5ECF6",
            "gridcolor": "white",
            "gridwidth": 2,
            "linecolor": "white",
            "showbackground": true,
            "ticks": "",
            "zerolinecolor": "white"
           }
          },
          "shapedefaults": {
           "line": {
            "color": "#2a3f5f"
           }
          },
          "ternary": {
           "aaxis": {
            "gridcolor": "white",
            "linecolor": "white",
            "ticks": ""
           },
           "baxis": {
            "gridcolor": "white",
            "linecolor": "white",
            "ticks": ""
           },
           "bgcolor": "#E5ECF6",
           "caxis": {
            "gridcolor": "white",
            "linecolor": "white",
            "ticks": ""
           }
          },
          "title": {
           "x": 0.05
          },
          "xaxis": {
           "automargin": true,
           "gridcolor": "white",
           "linecolor": "white",
           "ticks": "",
           "title": {
            "standoff": 15
           },
           "zerolinecolor": "white",
           "zerolinewidth": 2
          },
          "yaxis": {
           "automargin": true,
           "gridcolor": "white",
           "linecolor": "white",
           "ticks": "",
           "title": {
            "standoff": 15
           },
           "zerolinecolor": "white",
           "zerolinewidth": 2
          }
         }
        },
        "title": {
         "font": {
          "color": "#D9D9D9"
         },
         "text": "La variation de la population des provinces de la région de Marrakech-Tansift de 2004 à 2014"
        },
        "xaxis": {
         "gridcolor": "#434343",
         "showgrid": true,
         "tickfont": {
          "color": "#C2C2C2"
         },
         "title": {
          "font": {
           "color": "#D9D9D9"
          },
          "text": ""
         },
         "zerolinecolor": "#666570"
        },
        "yaxis": {
         "gridcolor": "#434343",
         "showgrid": true,
         "tickfont": {
          "color": "#C2C2C2"
         },
         "title": {
          "font": {
           "color": "#D9D9D9"
          },
          "text": ""
         },
         "zerolinecolor": "#666570"
        }
       }
      },
      "text/html": [
       "<div>\n",
       "        \n",
       "        \n",
       "            <div id=\"12d20ce4-2c25-4e09-8ec2-25670330ffaa\" class=\"plotly-graph-div\" style=\"height:525px; width:100%;\"></div>\n",
       "            <script type=\"text/javascript\">\n",
       "                require([\"plotly\"], function(Plotly) {\n",
       "                    window.PLOTLYENV=window.PLOTLYENV || {};\n",
       "                    window.PLOTLYENV.BASE_URL='https://plot.ly';\n",
       "                    \n",
       "                if (document.getElementById(\"12d20ce4-2c25-4e09-8ec2-25670330ffaa\")) {\n",
       "                    Plotly.newPlot(\n",
       "                        '12d20ce4-2c25-4e09-8ec2-25670330ffaa',\n",
       "                        [{\"marker\": {\"color\": \"rgba(224, 243, 219, 0.6)\", \"line\": {\"color\": \"rgba(224, 243, 219, 1.0)\", \"width\": 1}}, \"name\": \"Population_2004\", \"orientation\": \"h\", \"text\": \"\", \"type\": \"bar\", \"x\": [483741, 339510, 452040, 749632, 1063415], \"y\": [\"AL HAOUZ\", \"CHICHAOUA\", \"ESSAOUIRA\", \"KELAA SERAGHNA\", \"MARRAKECH\"]}, {\"marker\": {\"color\": \"rgba(168, 221, 181, 0.6)\", \"line\": {\"color\": \"rgba(168, 221, 181, 1.0)\", \"width\": 1}}, \"name\": \"Population_2014\", \"orientation\": \"h\", \"text\": \"\", \"type\": \"bar\", \"x\": [541254, 370267, 454514, 835976, 1323005], \"y\": [\"AL HAOUZ\", \"CHICHAOUA\", \"ESSAOUIRA\", \"KELAA SERAGHNA\", \"MARRAKECH\"]}],\n",
       "                        {\"barmode\": \"overlay\", \"legend\": {\"bgcolor\": \"#151516\", \"font\": {\"color\": \"#D9D9D9\"}}, \"paper_bgcolor\": \"#151516\", \"plot_bgcolor\": \"#151516\", \"template\": {\"data\": {\"bar\": [{\"error_x\": {\"color\": \"#2a3f5f\"}, \"error_y\": {\"color\": \"#2a3f5f\"}, \"marker\": {\"line\": {\"color\": \"#E5ECF6\", \"width\": 0.5}}, \"type\": \"bar\"}], \"barpolar\": [{\"marker\": {\"line\": {\"color\": \"#E5ECF6\", \"width\": 0.5}}, \"type\": \"barpolar\"}], \"carpet\": [{\"aaxis\": {\"endlinecolor\": \"#2a3f5f\", \"gridcolor\": \"white\", \"linecolor\": \"white\", \"minorgridcolor\": \"white\", \"startlinecolor\": \"#2a3f5f\"}, \"baxis\": {\"endlinecolor\": \"#2a3f5f\", \"gridcolor\": \"white\", \"linecolor\": \"white\", \"minorgridcolor\": \"white\", \"startlinecolor\": \"#2a3f5f\"}, \"type\": \"carpet\"}], \"choropleth\": [{\"colorbar\": {\"outlinewidth\": 0, \"ticks\": \"\"}, \"type\": \"choropleth\"}], \"contour\": [{\"colorbar\": {\"outlinewidth\": 0, \"ticks\": \"\"}, \"colorscale\": [[0.0, \"#0d0887\"], [0.1111111111111111, \"#46039f\"], [0.2222222222222222, \"#7201a8\"], [0.3333333333333333, \"#9c179e\"], [0.4444444444444444, \"#bd3786\"], [0.5555555555555556, \"#d8576b\"], [0.6666666666666666, \"#ed7953\"], [0.7777777777777778, \"#fb9f3a\"], [0.8888888888888888, \"#fdca26\"], [1.0, \"#f0f921\"]], \"type\": \"contour\"}], \"contourcarpet\": [{\"colorbar\": {\"outlinewidth\": 0, \"ticks\": \"\"}, \"type\": \"contourcarpet\"}], \"heatmap\": [{\"colorbar\": {\"outlinewidth\": 0, \"ticks\": \"\"}, \"colorscale\": [[0.0, \"#0d0887\"], [0.1111111111111111, \"#46039f\"], [0.2222222222222222, \"#7201a8\"], [0.3333333333333333, \"#9c179e\"], [0.4444444444444444, \"#bd3786\"], [0.5555555555555556, \"#d8576b\"], [0.6666666666666666, \"#ed7953\"], [0.7777777777777778, \"#fb9f3a\"], [0.8888888888888888, \"#fdca26\"], [1.0, \"#f0f921\"]], \"type\": \"heatmap\"}], \"heatmapgl\": [{\"colorbar\": {\"outlinewidth\": 0, \"ticks\": \"\"}, \"colorscale\": [[0.0, \"#0d0887\"], [0.1111111111111111, \"#46039f\"], [0.2222222222222222, \"#7201a8\"], [0.3333333333333333, \"#9c179e\"], [0.4444444444444444, \"#bd3786\"], [0.5555555555555556, \"#d8576b\"], [0.6666666666666666, \"#ed7953\"], [0.7777777777777778, \"#fb9f3a\"], [0.8888888888888888, \"#fdca26\"], [1.0, \"#f0f921\"]], \"type\": \"heatmapgl\"}], \"histogram\": [{\"marker\": {\"colorbar\": {\"outlinewidth\": 0, \"ticks\": \"\"}}, \"type\": \"histogram\"}], \"histogram2d\": [{\"colorbar\": {\"outlinewidth\": 0, \"ticks\": \"\"}, \"colorscale\": [[0.0, \"#0d0887\"], [0.1111111111111111, \"#46039f\"], [0.2222222222222222, \"#7201a8\"], [0.3333333333333333, \"#9c179e\"], [0.4444444444444444, \"#bd3786\"], [0.5555555555555556, \"#d8576b\"], [0.6666666666666666, \"#ed7953\"], [0.7777777777777778, \"#fb9f3a\"], [0.8888888888888888, \"#fdca26\"], [1.0, \"#f0f921\"]], \"type\": \"histogram2d\"}], \"histogram2dcontour\": [{\"colorbar\": {\"outlinewidth\": 0, \"ticks\": \"\"}, \"colorscale\": [[0.0, \"#0d0887\"], [0.1111111111111111, \"#46039f\"], [0.2222222222222222, \"#7201a8\"], [0.3333333333333333, \"#9c179e\"], [0.4444444444444444, \"#bd3786\"], [0.5555555555555556, \"#d8576b\"], [0.6666666666666666, \"#ed7953\"], [0.7777777777777778, \"#fb9f3a\"], [0.8888888888888888, \"#fdca26\"], [1.0, \"#f0f921\"]], \"type\": \"histogram2dcontour\"}], \"mesh3d\": [{\"colorbar\": {\"outlinewidth\": 0, \"ticks\": \"\"}, \"type\": \"mesh3d\"}], \"parcoords\": [{\"line\": {\"colorbar\": {\"outlinewidth\": 0, \"ticks\": \"\"}}, \"type\": \"parcoords\"}], \"pie\": [{\"automargin\": true, \"type\": \"pie\"}], \"scatter\": [{\"marker\": {\"colorbar\": {\"outlinewidth\": 0, \"ticks\": \"\"}}, \"type\": \"scatter\"}], \"scatter3d\": [{\"line\": {\"colorbar\": {\"outlinewidth\": 0, \"ticks\": \"\"}}, \"marker\": {\"colorbar\": {\"outlinewidth\": 0, \"ticks\": \"\"}}, \"type\": \"scatter3d\"}], \"scattercarpet\": [{\"marker\": {\"colorbar\": {\"outlinewidth\": 0, \"ticks\": \"\"}}, \"type\": \"scattercarpet\"}], \"scattergeo\": [{\"marker\": {\"colorbar\": {\"outlinewidth\": 0, \"ticks\": \"\"}}, \"type\": \"scattergeo\"}], \"scattergl\": [{\"marker\": {\"colorbar\": {\"outlinewidth\": 0, \"ticks\": \"\"}}, \"type\": \"scattergl\"}], \"scattermapbox\": [{\"marker\": {\"colorbar\": {\"outlinewidth\": 0, \"ticks\": \"\"}}, \"type\": \"scattermapbox\"}], \"scatterpolar\": [{\"marker\": {\"colorbar\": {\"outlinewidth\": 0, \"ticks\": \"\"}}, \"type\": \"scatterpolar\"}], \"scatterpolargl\": [{\"marker\": {\"colorbar\": {\"outlinewidth\": 0, \"ticks\": \"\"}}, \"type\": \"scatterpolargl\"}], \"scatterternary\": [{\"marker\": {\"colorbar\": {\"outlinewidth\": 0, \"ticks\": \"\"}}, \"type\": \"scatterternary\"}], \"surface\": [{\"colorbar\": {\"outlinewidth\": 0, \"ticks\": \"\"}, \"colorscale\": [[0.0, \"#0d0887\"], [0.1111111111111111, \"#46039f\"], [0.2222222222222222, \"#7201a8\"], [0.3333333333333333, \"#9c179e\"], [0.4444444444444444, \"#bd3786\"], [0.5555555555555556, \"#d8576b\"], [0.6666666666666666, \"#ed7953\"], [0.7777777777777778, \"#fb9f3a\"], [0.8888888888888888, \"#fdca26\"], [1.0, \"#f0f921\"]], \"type\": \"surface\"}], \"table\": [{\"cells\": {\"fill\": {\"color\": \"#EBF0F8\"}, \"line\": {\"color\": \"white\"}}, \"header\": {\"fill\": {\"color\": \"#C8D4E3\"}, \"line\": {\"color\": \"white\"}}, \"type\": \"table\"}]}, \"layout\": {\"annotationdefaults\": {\"arrowcolor\": \"#2a3f5f\", \"arrowhead\": 0, \"arrowwidth\": 1}, \"coloraxis\": {\"colorbar\": {\"outlinewidth\": 0, \"ticks\": \"\"}}, \"colorscale\": {\"diverging\": [[0, \"#8e0152\"], [0.1, \"#c51b7d\"], [0.2, \"#de77ae\"], [0.3, \"#f1b6da\"], [0.4, \"#fde0ef\"], [0.5, \"#f7f7f7\"], [0.6, \"#e6f5d0\"], [0.7, \"#b8e186\"], [0.8, \"#7fbc41\"], [0.9, \"#4d9221\"], [1, \"#276419\"]], \"sequential\": [[0.0, \"#0d0887\"], [0.1111111111111111, \"#46039f\"], [0.2222222222222222, \"#7201a8\"], [0.3333333333333333, \"#9c179e\"], [0.4444444444444444, \"#bd3786\"], [0.5555555555555556, \"#d8576b\"], [0.6666666666666666, \"#ed7953\"], [0.7777777777777778, \"#fb9f3a\"], [0.8888888888888888, \"#fdca26\"], [1.0, \"#f0f921\"]], \"sequentialminus\": [[0.0, \"#0d0887\"], [0.1111111111111111, \"#46039f\"], [0.2222222222222222, \"#7201a8\"], [0.3333333333333333, \"#9c179e\"], [0.4444444444444444, \"#bd3786\"], [0.5555555555555556, \"#d8576b\"], [0.6666666666666666, \"#ed7953\"], [0.7777777777777778, \"#fb9f3a\"], [0.8888888888888888, \"#fdca26\"], [1.0, \"#f0f921\"]]}, \"colorway\": [\"#636efa\", \"#EF553B\", \"#00cc96\", \"#ab63fa\", \"#FFA15A\", \"#19d3f3\", \"#FF6692\", \"#B6E880\", \"#FF97FF\", \"#FECB52\"], \"font\": {\"color\": \"#2a3f5f\"}, \"geo\": {\"bgcolor\": \"white\", \"lakecolor\": \"white\", \"landcolor\": \"#E5ECF6\", \"showlakes\": true, \"showland\": true, \"subunitcolor\": \"white\"}, \"hoverlabel\": {\"align\": \"left\"}, \"hovermode\": \"closest\", \"mapbox\": {\"style\": \"light\"}, \"paper_bgcolor\": \"white\", \"plot_bgcolor\": \"#E5ECF6\", \"polar\": {\"angularaxis\": {\"gridcolor\": \"white\", \"linecolor\": \"white\", \"ticks\": \"\"}, \"bgcolor\": \"#E5ECF6\", \"radialaxis\": {\"gridcolor\": \"white\", \"linecolor\": \"white\", \"ticks\": \"\"}}, \"scene\": {\"xaxis\": {\"backgroundcolor\": \"#E5ECF6\", \"gridcolor\": \"white\", \"gridwidth\": 2, \"linecolor\": \"white\", \"showbackground\": true, \"ticks\": \"\", \"zerolinecolor\": \"white\"}, \"yaxis\": {\"backgroundcolor\": \"#E5ECF6\", \"gridcolor\": \"white\", \"gridwidth\": 2, \"linecolor\": \"white\", \"showbackground\": true, \"ticks\": \"\", \"zerolinecolor\": \"white\"}, \"zaxis\": {\"backgroundcolor\": \"#E5ECF6\", \"gridcolor\": \"white\", \"gridwidth\": 2, \"linecolor\": \"white\", \"showbackground\": true, \"ticks\": \"\", \"zerolinecolor\": \"white\"}}, \"shapedefaults\": {\"line\": {\"color\": \"#2a3f5f\"}}, \"ternary\": {\"aaxis\": {\"gridcolor\": \"white\", \"linecolor\": \"white\", \"ticks\": \"\"}, \"baxis\": {\"gridcolor\": \"white\", \"linecolor\": \"white\", \"ticks\": \"\"}, \"bgcolor\": \"#E5ECF6\", \"caxis\": {\"gridcolor\": \"white\", \"linecolor\": \"white\", \"ticks\": \"\"}}, \"title\": {\"x\": 0.05}, \"xaxis\": {\"automargin\": true, \"gridcolor\": \"white\", \"linecolor\": \"white\", \"ticks\": \"\", \"title\": {\"standoff\": 15}, \"zerolinecolor\": \"white\", \"zerolinewidth\": 2}, \"yaxis\": {\"automargin\": true, \"gridcolor\": \"white\", \"linecolor\": \"white\", \"ticks\": \"\", \"title\": {\"standoff\": 15}, \"zerolinecolor\": \"white\", \"zerolinewidth\": 2}}}, \"title\": {\"font\": {\"color\": \"#D9D9D9\"}, \"text\": \"La variation de la population des provinces de la r\\u00e9gion de Marrakech-Tansift de 2004 \\u00e0 2014\"}, \"xaxis\": {\"gridcolor\": \"#434343\", \"showgrid\": true, \"tickfont\": {\"color\": \"#C2C2C2\"}, \"title\": {\"font\": {\"color\": \"#D9D9D9\"}, \"text\": \"\"}, \"zerolinecolor\": \"#666570\"}, \"yaxis\": {\"gridcolor\": \"#434343\", \"showgrid\": true, \"tickfont\": {\"color\": \"#C2C2C2\"}, \"title\": {\"font\": {\"color\": \"#D9D9D9\"}, \"text\": \"\"}, \"zerolinecolor\": \"#666570\"}},\n",
       "                        {\"showLink\": true, \"linkText\": \"Export to plot.ly\", \"plotlyServerURL\": \"https://plot.ly\", \"responsive\": true}\n",
       "                    ).then(function(){\n",
       "                            \n",
       "var gd = document.getElementById('12d20ce4-2c25-4e09-8ec2-25670330ffaa');\n",
       "var x = new MutationObserver(function (mutations, observer) {{\n",
       "        var display = window.getComputedStyle(gd).display;\n",
       "        if (!display || display === 'none') {{\n",
       "            console.log([gd, 'removed!']);\n",
       "            Plotly.purge(gd);\n",
       "            observer.disconnect();\n",
       "        }}\n",
       "}});\n",
       "\n",
       "// Listen for the removal of the full notebook cells\n",
       "var notebookContainer = gd.closest('#notebook-container');\n",
       "if (notebookContainer) {{\n",
       "    x.observe(notebookContainer, {childList: true});\n",
       "}}\n",
       "\n",
       "// Listen for the clearing of the current output cell\n",
       "var outputEl = gd.closest('.output');\n",
       "if (outputEl) {{\n",
       "    x.observe(outputEl, {childList: true});\n",
       "}}\n",
       "\n",
       "                        })\n",
       "                };\n",
       "                });\n",
       "            </script>\n",
       "        </div>"
      ]
     },
     "metadata": {},
     "output_type": "display_data"
    }
   ],
   "source": [
    "dfp2[['Population_2004', 'Population_2014']].iplot(kind='bar', title='La variation de la population des provinces de la région de Marrakech-Tansift de 2004 à 2014', barmode='overlay', orientation='h', colorscale='GnBu', theme='solar' )"
   ]
  },
  {
   "cell_type": "markdown",
   "metadata": {},
   "source": [
    "## Question 29"
   ]
  },
  {
   "cell_type": "markdown",
   "metadata": {},
   "source": [
    "Export the dataframe 'dfc2' to an excel file marked 'dfc2_ElMissaoui'. "
   ]
  },
  {
   "cell_type": "code",
   "execution_count": 112,
   "metadata": {},
   "outputs": [],
   "source": [
    "dfc2.to_excel('dfc2_ElMissaoui.xlsx', sheet_name='dfc2004_2014')"
   ]
  },
  {
   "cell_type": "code",
   "execution_count": 113,
   "metadata": {},
   "outputs": [],
   "source": [
    "dfp2.to_excel('dfp2_ElMissaoui.xlsx', sheet_name='dfp2004_2014')"
   ]
  },
  {
   "cell_type": "code",
   "execution_count": null,
   "metadata": {},
   "outputs": [],
   "source": []
  },
  {
   "cell_type": "code",
   "execution_count": null,
   "metadata": {},
   "outputs": [],
   "source": []
  }
 ],
 "metadata": {
  "kernelspec": {
   "display_name": "Python 3",
   "language": "python",
   "name": "python3"
  },
  "language_info": {
   "codemirror_mode": {
    "name": "ipython",
    "version": 3
   },
   "file_extension": ".py",
   "mimetype": "text/x-python",
   "name": "python",
   "nbconvert_exporter": "python",
   "pygments_lexer": "ipython3",
   "version": "3.7.3"
  }
 },
 "nbformat": 4,
 "nbformat_minor": 2
}
